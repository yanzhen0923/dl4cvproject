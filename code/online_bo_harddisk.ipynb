{
 "cells": [
  {
   "cell_type": "markdown",
   "metadata": {},
   "source": [
    "Image classification with CNNs\n",
    "================\n",
    "\n",
    "The goal of this exercise is to implement a specific CNN architecture with PyTorch and train it on the CIFAR-10 image classification dataset. We will start by introducing the dataset and then implement a `nn.Module` and a useful `Solver` class. Seperating the model from the actual training has proven itself as a sensible design decision. By the end of this exercise you should have succesfully trained your (possible) first CNN model and have a boilerplate `Solver` class which you can reuse for the next exercise and your future research projects.\n",
    "\n",
    "For an inspiration on how to implement a model or the solver class you can have a look at [these](https://github.com/pytorch/examples) PyTorch examples."
   ]
  },
  {
   "cell_type": "code",
   "execution_count": 14,
   "metadata": {},
   "outputs": [
    {
     "name": "stdout",
     "output_type": "stream",
     "text": [
      "The autoreload extension is already loaded. To reload it, use:\n",
      "  %reload_ext autoreload\n"
     ]
    }
   ],
   "source": [
    "import numpy as np\n",
    "import os\n",
    "from random import choice\n",
    "from string import ascii_uppercase\n",
    "import torch\n",
    "from torch.autograd import Variable\n",
    "from yz.data_utils_harddisk import get_Cancer_datasets\n",
    "from yz.solver import Solver\n",
    "from yz.data_utils_harddisk import get_balanced_weights\n",
    "from torchvision import models\n",
    "import torch.nn as nn\n",
    "import pandas as pd\n",
    "from bayes_opt import BayesianOptimization\n",
    "from tqdm import tqdm\n",
    "\n",
    "csv_full_name = '~/dl4cvproject/data/train.csv'\n",
    "img_folder_full_name = '~/dl4cvproject/data/train256'\n",
    "csv_full_name = os.path.expanduser(csv_full_name)\n",
    "img_folder_full_name = os.path.expanduser(img_folder_full_name)\n",
    "\n",
    "csv_full_name_test = '~/dl4cvproject/data/test.csv'\n",
    "img_folder_full_name_test = '~/dl4cvproject/data/test256'\n",
    "csv_full_name_test = os.path.expanduser(csv_full_name_test)\n",
    "img_folder_full_name_test = os.path.expanduser(img_folder_full_name_test)\n",
    "\n",
    "#%matplotlib inline\n",
    "#plt.rcParams['figure.figsize'] = (10.0, 8.0) # set default size of plots\n",
    "#plt.rcParams['image.interpolation'] = 'nearest'\n",
    "#plt.rcParams['image.cmap'] = 'gray'\n",
    "\n",
    "# for auto-reloading external modules\n",
    "# see http://stackoverflow.com/questions/1907993/autoreload-of-modules-in-ipython\n",
    "%load_ext autoreload\n",
    "%autoreload 2"
   ]
  },
  {
   "cell_type": "code",
   "execution_count": 15,
   "metadata": {
    "scrolled": true
   },
   "outputs": [
    {
     "name": "stderr",
     "output_type": "stream",
     "text": [
      "\n",
      "  0%|          | 0/18577 [00:00<?, ?it/s]\u001b[A\n",
      "100%|██████████| 18577/18577 [00:00<00:00, 916925.58it/s]\u001b[A"
     ]
    },
    {
     "name": "stdout",
     "output_type": "stream",
     "text": [
      "num_training:13000\n",
      "num_validation:1857\n",
      "num_test:3720\n",
      "OK...\n",
      "Train size: 13000\n",
      "Val size: 1857\n",
      "Test size: 3719\n",
      "upload size: 12386\n"
     ]
    }
   ],
   "source": [
    "train_data, val_data, test_data, train_label_list = get_Cancer_datasets(csv_full_name=csv_full_name,img_folder_full_name=img_folder_full_name)\n",
    "test_X, csv_test = get_Cancer_datasets(csv_full_name=csv_full_name_test,img_folder_full_name=img_folder_full_name_test, mode='upload')\n",
    "print(\"Train size: %i\" % len(train_data))\n",
    "print(\"Val size: %i\" % len(val_data))\n",
    "print(\"Test size: %i\" % len(test_data))\n",
    "print(\"upload size: {}\".format(len(test_X)))"
   ]
  },
  {
   "cell_type": "code",
   "execution_count": 16,
   "metadata": {},
   "outputs": [
    {
     "name": "stdout",
     "output_type": "stream",
     "text": [
      "Cuda available\n"
     ]
    }
   ],
   "source": [
    "if torch.cuda.is_available():\n",
    "    print('Cuda available')\n",
    "else:\n",
    "    print('Cuda not available :(---(')"
   ]
  },
  {
   "cell_type": "code",
   "execution_count": 17,
   "metadata": {
    "collapsed": true,
    "scrolled": true
   },
   "outputs": [],
   "source": [
    "def target(factor, batch_size, lr_const, lr_exp, weight_decay_const, weight_decay_exp, num_epochs):\n",
    "\n",
    "    batch_size = int(batch_size)\n",
    "    num_epochs = int(num_epochs)\n",
    "    lr_const = int(lr_const)\n",
    "    weight_decay_const = int(weight_decay_const)\n",
    "    \n",
    "    #training\n",
    "    weights = get_balanced_weights(label_list=train_label_list, num_classes=14, factor=factor)\n",
    "    sampler = torch.utils.data.sampler.WeightedRandomSampler(weights, len(weights))\n",
    "    train_loader = torch.utils.data.DataLoader(train_data, batch_size=batch_size, shuffle=False, sampler=sampler, num_workers=8)\n",
    "    val_loader = torch.utils.data.DataLoader(val_data, batch_size=20, shuffle=False, num_workers=8)\n",
    "    \n",
    "    model = models.resnet34(pretrained=True)\n",
    "    in_features = model.fc.in_features\n",
    "    model.fc = nn.Linear(in_features, 14)\n",
    "\n",
    "    lr = lr_const * np.power(10, lr_exp)\n",
    "    weigth_decay = weight_decay_const * np.power(10, weight_decay_exp)    \n",
    "    solver = Solver(optim_args={\"lr\":lr, \"weight_decay\":weigth_decay})\n",
    "    solver.train(model, train_loader, val_loader, log_nth=50, num_epochs=num_epochs)\n",
    "    \n",
    "    #compute local prediction acc\n",
    "    test_loader = torch.utils.data.DataLoader(test_data, batch_size=30, shuffle=False, num_workers=8)\n",
    "    scores = []\n",
    "    for inputs, target in tqdm(test_loader):\n",
    "        inputs, targets = Variable(inputs), Variable(target)\n",
    "        if torch.cuda.is_available:\n",
    "            inputs, targets = inputs.cuda(), targets.cuda()\n",
    "        outputs = model(inputs)\n",
    "        _, preds = torch.max(outputs, 1)\n",
    "        scores.extend((preds == targets).data.cpu().numpy())\n",
    "        \n",
    "    test_acc = np.mean(scores)\n",
    "    print(test_acc)\n",
    "    \n",
    "    ## generate submission file: submissions/res18_acc_randomsuffix.csv\n",
    "    if test_acc >= 0.32:\n",
    "        \n",
    "        file_name = 'submissions/res18_' + '{:.5f}'.format(test_acc) + '_' + ''.join(choice(ascii_uppercase) for i in range(7)) + '.csv'\n",
    "        print(file_name)\n",
    "        \n",
    "        try:\n",
    "            del csv_test['age']\n",
    "        except KeyError as e:\n",
    "            print(e)\n",
    "        try:\n",
    "            del csv_test['gender']\n",
    "        except KeyError as e:\n",
    "            print(e)\n",
    "        try:\n",
    "            del csv_test['view_position']\n",
    "        except KeyError as e:\n",
    "            print(e)\n",
    "        try:\n",
    "            del csv_test['image_name']\n",
    "        except KeyError as e:\n",
    "            print(e)\n",
    "        try:\n",
    "            del csv_test['detected']\n",
    "        except KeyError as e:\n",
    "            print(e)\n",
    "\n",
    "        pred_set = set()\n",
    "        detected = []\n",
    "        for i in tqdm(range(len(test_X))):\n",
    "            tmp_pred_list = [0] * 14\n",
    "            inputs = test_X[i]\n",
    "            inputs = Variable(inputs.unsqueeze(0))\n",
    "            if torch.cuda.is_available:\n",
    "                inputs = inputs.cuda()\n",
    "            for trial in range(1):\n",
    "                outputs = model(inputs)\n",
    "                _, preds = torch.max(outputs, 1)\n",
    "                int_label = preds.data.cpu().numpy().tolist()[0]\n",
    "                tmp_pred_list[int_label] += 1\n",
    "\n",
    "            pred = tmp_pred_list.index(max(tmp_pred_list))\n",
    "            str_pred = 'class_' + str(pred + 1)\n",
    "            detected.append(str_pred)\n",
    "\n",
    "        csv_test['detected'] = pd.Series(detected)\n",
    "        csv_test.to_csv(file_name, index=False)\n",
    "    \n",
    "    return test_acc\n",
    "\n",
    "    "
   ]
  },
  {
   "cell_type": "markdown",
   "metadata": {},
   "source": [
    "## Bayesian Optimization"
   ]
  },
  {
   "cell_type": "code",
   "execution_count": 18,
   "metadata": {
    "collapsed": true
   },
   "outputs": [],
   "source": [
    "bo = BayesianOptimization(target, {'factor':(0.5, 1), 'batch_size':(48, 48),\n",
    "                                   'lr_const':(1, 10), 'lr_exp':(-7, -3),\n",
    "                                   'weight_decay_const':(1, 10), 'weight_decay_exp':(-3, 0),\n",
    "                                   'num_epochs':(6, 12)})"
   ]
  },
  {
   "cell_type": "code",
   "execution_count": null,
   "metadata": {
    "scrolled": true
   },
   "outputs": [
    {
     "name": "stdout",
     "output_type": "stream",
     "text": [
      "\u001b[31mInitialization\u001b[0m\n",
      "\u001b[94m--------------------------------------------------------------------------------------------------------------------------------------------\u001b[0m\n",
      " Step |   Time |      Value |   batch_size |    factor |   lr_const |    lr_exp |   num_epochs |   weight_decay_const |   weight_decay_exp | \n",
      "weights: [0.035190068364805649, 0.026902012132507265, 0.0067017071831152551, 0.017723868297630941, 0.011870579412525737, 0.017140457632990248, 0.011427364695711222, 0.037809570653116131, 0.11360786557948216, 0.057561333003794839, 0.023814003249156845, 0.01465198545619238, 0.026140473790401037, 0.030627831927392719]\n",
      "equivalent_num:\n",
      "10.6625907145\n",
      "12.374925581\n",
      "26.7465133678\n",
      "15.5970041019\n",
      "19.479620816\n",
      "15.8892042258\n",
      "19.8950419352\n",
      "10.246393647\n",
      "5.56678541339\n",
      "8.11614795354\n",
      "13.2405858065\n",
      "17.3332987947\n",
      "12.5735678932\n",
      "11.5160648047\n"
     ]
    },
    {
     "name": "stderr",
     "output_type": "stream",
     "text": [
      "\n",
      "  0%|          | 0/9 [00:00<?, ?it/s]\u001b[A"
     ]
    },
    {
     "name": "stdout",
     "output_type": "stream",
     "text": [
      "START TRAIN.\n"
     ]
    },
    {
     "name": "stderr",
     "output_type": "stream",
     "text": [
      "\n",
      "\n",
      "\n",
      "\n",
      "\n",
      "\n",
      "\n",
      "\n",
      "\n",
      "Exception in thread Thread-181:\n",
      "Traceback (most recent call last):\n",
      "  File \"/home/ubuntu/anaconda3/lib/python3.6/threading.py\", line 916, in _bootstrap_inner\n",
      "    self.run()\n",
      "  File \"/home/ubuntu/anaconda3/lib/python3.6/site-packages/tqdm/_tqdm.py\", line 144, in run\n",
      "    for instance in self.tqdm_cls._instances:\n",
      "  File \"/home/ubuntu/anaconda3/lib/python3.6/_weakrefset.py\", line 60, in __iter__\n",
      "    for itemref in self.data:\n",
      "RuntimeError: Set changed size during iteration\n",
      "\n"
     ]
    },
    {
     "name": "stdout",
     "output_type": "stream",
     "text": [
      "[Iteration 1 / 2439] TRAIN loss: 2.774244\n",
      "[Iteration 51 / 2439] TRAIN loss: 2.832072\n",
      "[Iteration 101 / 2439] TRAIN loss: 2.617461\n",
      "[Iteration 151 / 2439] TRAIN loss: 2.869205\n",
      "[Iteration 201 / 2439] TRAIN loss: 2.725836\n",
      "[Iteration 251 / 2439] TRAIN loss: 2.670400\n",
      "[Epoch 1 / 9] TRAIN acc: 3.243542\n"
     ]
    },
    {
     "name": "stderr",
     "output_type": "stream",
     "text": [
      "\r",
      " 11%|█         | 1/9 [03:28<27:51, 208.92s/it]"
     ]
    },
    {
     "name": "stdout",
     "output_type": "stream",
     "text": [
      "[Epoch 1 / 9] VAL acc: 1.182796\n",
      "[Iteration 301 / 2439] TRAIN loss: 2.711226\n",
      "[Iteration 351 / 2439] TRAIN loss: 2.631422\n",
      "[Iteration 401 / 2439] TRAIN loss: 2.596702\n",
      "[Iteration 451 / 2439] TRAIN loss: 2.570382\n",
      "[Iteration 501 / 2439] TRAIN loss: 2.711424\n",
      "[Epoch 2 / 9] TRAIN acc: 3.656827\n"
     ]
    },
    {
     "name": "stderr",
     "output_type": "stream",
     "text": [
      "\r",
      " 22%|██▏       | 2/9 [06:58<24:23, 209.05s/it]"
     ]
    },
    {
     "name": "stdout",
     "output_type": "stream",
     "text": [
      "[Epoch 2 / 9] VAL acc: 1.526882\n",
      "[Iteration 551 / 2439] TRAIN loss: 2.680192\n",
      "[Iteration 601 / 2439] TRAIN loss: 2.592121\n",
      "[Iteration 651 / 2439] TRAIN loss: 2.679035\n",
      "[Iteration 701 / 2439] TRAIN loss: 2.667041\n",
      "[Iteration 751 / 2439] TRAIN loss: 2.645036\n",
      "[Iteration 801 / 2439] TRAIN loss: 2.749957\n",
      "[Epoch 3 / 9] TRAIN acc: 4.549815\n"
     ]
    },
    {
     "name": "stderr",
     "output_type": "stream",
     "text": [
      "\r",
      " 33%|███▎      | 3/9 [10:27<20:54, 209.14s/it]"
     ]
    },
    {
     "name": "stdout",
     "output_type": "stream",
     "text": [
      "[Epoch 3 / 9] VAL acc: 2.258065\n",
      "[Iteration 851 / 2439] TRAIN loss: 2.566636\n",
      "[Iteration 901 / 2439] TRAIN loss: 2.616439\n",
      "[Iteration 951 / 2439] TRAIN loss: 2.653938\n",
      "[Iteration 1001 / 2439] TRAIN loss: 2.576328\n",
      "[Iteration 1051 / 2439] TRAIN loss: 2.643422\n",
      "[Epoch 4 / 9] TRAIN acc: 5.461255\n"
     ]
    },
    {
     "name": "stderr",
     "output_type": "stream",
     "text": [
      "\r",
      " 44%|████▍     | 4/9 [13:56<17:25, 209.09s/it]"
     ]
    },
    {
     "name": "stdout",
     "output_type": "stream",
     "text": [
      "[Epoch 4 / 9] VAL acc: 2.860215\n",
      "[Iteration 1101 / 2439] TRAIN loss: 2.527529\n",
      "[Iteration 1151 / 2439] TRAIN loss: 2.440924\n",
      "[Iteration 1201 / 2439] TRAIN loss: 2.587558\n",
      "[Iteration 1251 / 2439] TRAIN loss: 2.567517\n",
      "[Iteration 1301 / 2439] TRAIN loss: 2.489555\n",
      "[Iteration 1351 / 2439] TRAIN loss: 2.433880\n",
      "[Epoch 5 / 9] TRAIN acc: 6.287823\n"
     ]
    },
    {
     "name": "stderr",
     "output_type": "stream",
     "text": [
      "\r",
      " 56%|█████▌    | 5/9 [17:25<13:56, 209.13s/it]"
     ]
    },
    {
     "name": "stdout",
     "output_type": "stream",
     "text": [
      "[Epoch 5 / 9] VAL acc: 3.258065\n",
      "[Iteration 1401 / 2439] TRAIN loss: 2.417432\n",
      "[Iteration 1451 / 2439] TRAIN loss: 2.613736\n",
      "[Iteration 1501 / 2439] TRAIN loss: 2.454983\n",
      "[Iteration 1551 / 2439] TRAIN loss: 2.507135\n",
      "[Iteration 1601 / 2439] TRAIN loss: 2.406951\n",
      "[Epoch 6 / 9] TRAIN acc: 7.339483\n"
     ]
    },
    {
     "name": "stderr",
     "output_type": "stream",
     "text": [
      "\r",
      " 67%|██████▋   | 6/9 [20:54<10:27, 209.13s/it]"
     ]
    },
    {
     "name": "stdout",
     "output_type": "stream",
     "text": [
      "[Epoch 6 / 9] VAL acc: 3.688172\n",
      "[Iteration 1651 / 2439] TRAIN loss: 2.430650\n",
      "[Iteration 1701 / 2439] TRAIN loss: 2.464449\n",
      "[Iteration 1751 / 2439] TRAIN loss: 2.425765\n",
      "[Iteration 1801 / 2439] TRAIN loss: 2.508587\n",
      "[Iteration 1851 / 2439] TRAIN loss: 2.575848\n",
      "[Epoch 7 / 9] TRAIN acc: 7.789668\n"
     ]
    },
    {
     "name": "stderr",
     "output_type": "stream",
     "text": [
      "\r",
      " 78%|███████▊  | 7/9 [24:24<06:58, 209.15s/it]"
     ]
    },
    {
     "name": "stdout",
     "output_type": "stream",
     "text": [
      "[Epoch 7 / 9] VAL acc: 4.150538\n",
      "[Iteration 1901 / 2439] TRAIN loss: 2.391779\n",
      "[Iteration 1951 / 2439] TRAIN loss: 2.498031\n",
      "[Iteration 2001 / 2439] TRAIN loss: 2.495864\n",
      "[Iteration 2051 / 2439] TRAIN loss: 2.384451\n",
      "[Iteration 2101 / 2439] TRAIN loss: 2.366378\n",
      "[Iteration 2151 / 2439] TRAIN loss: 2.509286\n",
      "[Epoch 8 / 9] TRAIN acc: 8.490775\n"
     ]
    },
    {
     "name": "stderr",
     "output_type": "stream",
     "text": [
      "\r",
      " 89%|████████▉ | 8/9 [27:53<03:29, 209.16s/it]"
     ]
    },
    {
     "name": "stdout",
     "output_type": "stream",
     "text": [
      "[Epoch 8 / 9] VAL acc: 4.602151\n",
      "[Iteration 2201 / 2439] TRAIN loss: 2.361760\n",
      "[Iteration 2251 / 2439] TRAIN loss: 2.344215\n",
      "[Iteration 2301 / 2439] TRAIN loss: 2.506711\n",
      "[Iteration 2351 / 2439] TRAIN loss: 2.267517\n",
      "[Iteration 2401 / 2439] TRAIN loss: 2.337357\n",
      "[Epoch 9 / 9] TRAIN acc: 8.848708\n"
     ]
    },
    {
     "name": "stderr",
     "output_type": "stream",
     "text": [
      "100%|██████████| 9/9 [31:22<00:00, 209.17s/it]\n",
      "  0%|          | 0/124 [00:00<?, ?it/s]"
     ]
    },
    {
     "name": "stdout",
     "output_type": "stream",
     "text": [
      "[Epoch 9 / 9] VAL acc: 4.688172\n",
      "Trained in 1882 seconds.\n",
      "FINISH.\n"
     ]
    },
    {
     "name": "stderr",
     "output_type": "stream",
     "text": [
      "100%|██████████| 124/124 [00:19<00:00,  6.31it/s]\n"
     ]
    },
    {
     "name": "stdout",
     "output_type": "stream",
     "text": [
      "0.237698305996\n",
      "    1 | 31m44s | \u001b[35m   0.23770\u001b[0m | \u001b[32m     48.0000\u001b[0m | \u001b[32m   0.6433\u001b[0m | \u001b[32m    6.0521\u001b[0m | \u001b[32m  -6.9209\u001b[0m | \u001b[32m      9.3648\u001b[0m | \u001b[32m              3.7961\u001b[0m | \u001b[32m           -2.8763\u001b[0m | \n",
      "weights: [0.034035243232610708, 0.025955814324824151, 0.0063849231206261981, 0.017035825310139831, 0.011368316784429884, 0.016470057423504485, 0.010940075272486416, 0.036592625487872177, 0.11105494708963799, 0.055921617705922778, 0.022950998491632797, 0.014058879544863092, 0.025214486657208254, 0.029585406806847462]\n",
      "equivalent_num:\n",
      "10.3126786995\n",
      "11.9396745894\n",
      "25.4822281744\n",
      "14.9915262729\n",
      "18.6554078432\n",
      "15.2677432316\n",
      "19.0466710494\n",
      "9.91660150721\n",
      "5.44169240739\n",
      "7.88494809654\n",
      "12.7607551613\n",
      "16.6316545016\n",
      "12.1281680821\n",
      "11.1241129594\n"
     ]
    },
    {
     "name": "stderr",
     "output_type": "stream",
     "text": [
      "\r",
      "  0%|          | 0/8 [00:00<?, ?it/s]"
     ]
    },
    {
     "name": "stdout",
     "output_type": "stream",
     "text": [
      "START TRAIN.\n",
      "[Iteration 1 / 2168] TRAIN loss: 2.731126\n",
      "[Iteration 51 / 2168] TRAIN loss: 2.863393\n",
      "[Iteration 101 / 2168] TRAIN loss: 2.828435\n",
      "[Iteration 151 / 2168] TRAIN loss: 2.836199\n",
      "[Iteration 201 / 2168] TRAIN loss: 2.621976\n",
      "[Iteration 251 / 2168] TRAIN loss: 2.764693\n",
      "[Epoch 1 / 8] TRAIN acc: 3.431734\n"
     ]
    },
    {
     "name": "stderr",
     "output_type": "stream",
     "text": [
      "\r",
      " 12%|█▎        | 1/8 [03:29<24:24, 209.19s/it]"
     ]
    },
    {
     "name": "stdout",
     "output_type": "stream",
     "text": [
      "[Epoch 1 / 8] VAL acc: 1.720430\n",
      "[Iteration 301 / 2168] TRAIN loss: 2.742191\n",
      "[Iteration 351 / 2168] TRAIN loss: 2.770057\n",
      "[Iteration 401 / 2168] TRAIN loss: 2.832194\n",
      "[Iteration 451 / 2168] TRAIN loss: 2.660959\n",
      "[Iteration 501 / 2168] TRAIN loss: 2.770897\n",
      "[Epoch 2 / 8] TRAIN acc: 3.944649\n"
     ]
    },
    {
     "name": "stderr",
     "output_type": "stream",
     "text": [
      "\r",
      " 25%|██▌       | 2/8 [06:58<20:54, 209.14s/it]"
     ]
    },
    {
     "name": "stdout",
     "output_type": "stream",
     "text": [
      "[Epoch 2 / 8] VAL acc: 2.032258\n",
      "[Iteration 551 / 2168] TRAIN loss: 2.629653\n",
      "[Iteration 601 / 2168] TRAIN loss: 2.821054\n",
      "[Iteration 651 / 2168] TRAIN loss: 2.915834\n",
      "[Iteration 701 / 2168] TRAIN loss: 2.701134\n",
      "[Iteration 751 / 2168] TRAIN loss: 2.684195\n",
      "[Iteration 801 / 2168] TRAIN loss: 2.614890\n",
      "[Epoch 3 / 8] TRAIN acc: 4.121771\n"
     ]
    },
    {
     "name": "stderr",
     "output_type": "stream",
     "text": [
      "\r",
      " 38%|███▊      | 3/8 [10:27<17:25, 209.14s/it]"
     ]
    },
    {
     "name": "stdout",
     "output_type": "stream",
     "text": [
      "[Epoch 3 / 8] VAL acc: 2.602151\n",
      "[Iteration 851 / 2168] TRAIN loss: 2.578967\n",
      "[Iteration 901 / 2168] TRAIN loss: 2.684273\n",
      "[Iteration 951 / 2168] TRAIN loss: 2.697141\n",
      "[Iteration 1001 / 2168] TRAIN loss: 2.633531\n",
      "[Iteration 1051 / 2168] TRAIN loss: 2.478470\n",
      "[Epoch 4 / 8] TRAIN acc: 4.745387\n"
     ]
    },
    {
     "name": "stderr",
     "output_type": "stream",
     "text": [
      "\r",
      " 50%|█████     | 4/8 [13:56<13:56, 209.07s/it]"
     ]
    },
    {
     "name": "stdout",
     "output_type": "stream",
     "text": [
      "[Epoch 4 / 8] VAL acc: 2.913978\n",
      "[Iteration 1101 / 2168] TRAIN loss: 2.686847\n",
      "[Iteration 1151 / 2168] TRAIN loss: 2.532323\n",
      "[Iteration 1201 / 2168] TRAIN loss: 2.654807\n",
      "[Iteration 1251 / 2168] TRAIN loss: 2.716253\n",
      "[Iteration 1301 / 2168] TRAIN loss: 2.609263\n",
      "[Iteration 1351 / 2168] TRAIN loss: 2.652805\n",
      "[Epoch 5 / 8] TRAIN acc: 5.000000\n"
     ]
    },
    {
     "name": "stderr",
     "output_type": "stream",
     "text": [
      "\r",
      " 62%|██████▎   | 5/8 [17:25<10:27, 209.06s/it]"
     ]
    },
    {
     "name": "stdout",
     "output_type": "stream",
     "text": [
      "[Epoch 5 / 8] VAL acc: 3.419355\n",
      "[Iteration 1401 / 2168] TRAIN loss: 2.730583\n",
      "[Iteration 1451 / 2168] TRAIN loss: 2.490625\n",
      "[Iteration 1501 / 2168] TRAIN loss: 2.684181\n",
      "[Iteration 1551 / 2168] TRAIN loss: 2.581713\n",
      "[Iteration 1601 / 2168] TRAIN loss: 2.662323\n",
      "[Epoch 6 / 8] TRAIN acc: 5.601476\n"
     ]
    },
    {
     "name": "stderr",
     "output_type": "stream",
     "text": [
      "\r",
      " 75%|███████▌  | 6/8 [20:54<06:58, 209.01s/it]"
     ]
    },
    {
     "name": "stdout",
     "output_type": "stream",
     "text": [
      "[Epoch 6 / 8] VAL acc: 3.731183\n",
      "[Iteration 1651 / 2168] TRAIN loss: 2.714448\n",
      "[Iteration 1701 / 2168] TRAIN loss: 2.547273\n",
      "[Iteration 1751 / 2168] TRAIN loss: 2.400425\n",
      "[Iteration 1801 / 2168] TRAIN loss: 2.588274\n",
      "[Iteration 1851 / 2168] TRAIN loss: 2.621603\n",
      "[Epoch 7 / 8] TRAIN acc: 5.763838\n"
     ]
    },
    {
     "name": "stderr",
     "output_type": "stream",
     "text": [
      "\r",
      " 88%|████████▊ | 7/8 [24:23<03:29, 209.01s/it]"
     ]
    },
    {
     "name": "stdout",
     "output_type": "stream",
     "text": [
      "[Epoch 7 / 8] VAL acc: 4.021505\n",
      "[Iteration 1901 / 2168] TRAIN loss: 2.478983\n",
      "[Iteration 1951 / 2168] TRAIN loss: 2.611291\n",
      "[Iteration 2001 / 2168] TRAIN loss: 2.455074\n",
      "[Iteration 2051 / 2168] TRAIN loss: 2.640647\n",
      "[Iteration 2101 / 2168] TRAIN loss: 2.450337\n",
      "[Iteration 2151 / 2168] TRAIN loss: 2.431540\n",
      "[Epoch 8 / 8] TRAIN acc: 6.424354\n"
     ]
    },
    {
     "name": "stderr",
     "output_type": "stream",
     "text": [
      "100%|██████████| 8/8 [27:52<00:00, 209.01s/it]\n",
      "  0%|          | 0/124 [00:00<?, ?it/s]"
     ]
    },
    {
     "name": "stdout",
     "output_type": "stream",
     "text": [
      "[Epoch 8 / 8] VAL acc: 4.387097\n",
      "Trained in 1672 seconds.\n",
      "FINISH.\n"
     ]
    },
    {
     "name": "stderr",
     "output_type": "stream",
     "text": [
      "100%|██████████| 124/124 [00:19<00:00,  6.32it/s]\n"
     ]
    },
    {
     "name": "stdout",
     "output_type": "stream",
     "text": [
      "0.206507125571\n",
      "    2 | 28m13s |    0.20651 |      48.0000 |    0.6491 |     3.5702 |   -6.8543 |       8.2517 |               5.5905 |            -2.7806 | \n",
      "\u001b[31mBayesian Optimization\u001b[0m\n",
      "\u001b[94m--------------------------------------------------------------------------------------------------------------------------------------------\u001b[0m\n",
      " Step |   Time |      Value |   batch_size |    factor |   lr_const |    lr_exp |   num_epochs |   weight_decay_const |   weight_decay_exp | \n",
      "weights: [0.0045837917125045834, 0.0030193236714975845, 0.00034800523399871935, 0.0015782828282828283, 0.00084636739115715354, 0.0014982620160613688, 0.00079775352607058521, 0.0051250512505125051, 0.02834467120181406, 0.0098502758077226166, 0.002498001598721023, 0.0011740396355780971, 0.0028875028875028877, 0.0036938534278959812]\n",
      "equivalent_num:\n",
      "1.38888888889\n",
      "1.38888888889\n",
      "1.38888888889\n",
      "1.38888888889\n",
      "1.38888888889\n",
      "1.38888888889\n",
      "1.38888888889\n",
      "1.38888888889\n",
      "1.38888888889\n",
      "1.38888888889\n",
      "1.38888888889\n",
      "1.38888888889\n",
      "1.38888888889\n",
      "1.38888888889\n"
     ]
    },
    {
     "name": "stderr",
     "output_type": "stream",
     "text": [
      "\r",
      "  0%|          | 0/12 [00:00<?, ?it/s]"
     ]
    },
    {
     "name": "stdout",
     "output_type": "stream",
     "text": [
      "START TRAIN.\n",
      "[Iteration 1 / 3252] TRAIN loss: 2.900149\n",
      "[Iteration 51 / 3252] TRAIN loss: 2.638853\n",
      "[Iteration 101 / 3252] TRAIN loss: 2.639567\n",
      "[Iteration 151 / 3252] TRAIN loss: 2.638970\n",
      "[Iteration 201 / 3252] TRAIN loss: 2.639516\n",
      "[Iteration 251 / 3252] TRAIN loss: 2.638104\n",
      "[Epoch 1 / 12] TRAIN acc: 3.309963\n"
     ]
    },
    {
     "name": "stderr",
     "output_type": "stream",
     "text": [
      "\r",
      "  8%|▊         | 1/12 [03:23<37:21, 203.81s/it]"
     ]
    },
    {
     "name": "stdout",
     "output_type": "stream",
     "text": [
      "[Epoch 1 / 12] VAL acc: 0.430108\n",
      "[Iteration 301 / 3252] TRAIN loss: 2.639859\n",
      "[Iteration 351 / 3252] TRAIN loss: 2.640190\n",
      "[Iteration 401 / 3252] TRAIN loss: 2.638982\n",
      "[Iteration 451 / 3252] TRAIN loss: 2.638531\n",
      "[Iteration 501 / 3252] TRAIN loss: 2.639680\n",
      "[Epoch 2 / 12] TRAIN acc: 3.505535\n"
     ]
    },
    {
     "name": "stderr",
     "output_type": "stream",
     "text": [
      "\r",
      " 17%|█▋        | 2/12 [06:41<33:26, 200.69s/it]"
     ]
    },
    {
     "name": "stdout",
     "output_type": "stream",
     "text": [
      "[Epoch 2 / 12] VAL acc: 1.408602\n",
      "[Iteration 551 / 3252] TRAIN loss: 2.639446\n",
      "[Iteration 601 / 3252] TRAIN loss: 2.639707\n",
      "[Iteration 651 / 3252] TRAIN loss: 2.638667\n",
      "[Iteration 701 / 3252] TRAIN loss: 2.639302\n",
      "[Iteration 751 / 3252] TRAIN loss: 2.639257\n",
      "[Iteration 801 / 3252] TRAIN loss: 2.639974\n",
      "[Epoch 3 / 12] TRAIN acc: 3.361624\n"
     ]
    },
    {
     "name": "stderr",
     "output_type": "stream",
     "text": [
      "\r",
      " 25%|██▌       | 3/12 [09:57<29:51, 199.01s/it]"
     ]
    },
    {
     "name": "stdout",
     "output_type": "stream",
     "text": [
      "[Epoch 3 / 12] VAL acc: 1.440860\n",
      "[Iteration 851 / 3252] TRAIN loss: 2.638893\n",
      "[Iteration 901 / 3252] TRAIN loss: 2.638648\n",
      "[Iteration 951 / 3252] TRAIN loss: 2.638800\n",
      "[Iteration 1001 / 3252] TRAIN loss: 2.639273\n",
      "[Iteration 1051 / 3252] TRAIN loss: 2.638237\n",
      "[Epoch 4 / 12] TRAIN acc: 3.494465\n"
     ]
    },
    {
     "name": "stderr",
     "output_type": "stream",
     "text": [
      "\r",
      " 33%|███▎      | 4/12 [13:11<26:22, 197.76s/it]"
     ]
    },
    {
     "name": "stdout",
     "output_type": "stream",
     "text": [
      "[Epoch 4 / 12] VAL acc: 2.720430\n",
      "[Iteration 1101 / 3252] TRAIN loss: 2.638623\n",
      "[Iteration 1151 / 3252] TRAIN loss: 2.638505\n",
      "[Iteration 1201 / 3252] TRAIN loss: 2.638234\n",
      "[Iteration 1251 / 3252] TRAIN loss: 2.638744\n",
      "[Iteration 1301 / 3252] TRAIN loss: 2.638865\n",
      "[Iteration 1351 / 3252] TRAIN loss: 2.640034\n",
      "[Epoch 5 / 12] TRAIN acc: 3.269373\n"
     ]
    },
    {
     "name": "stderr",
     "output_type": "stream",
     "text": [
      "\r",
      " 42%|████▏     | 5/12 [16:25<22:59, 197.07s/it]"
     ]
    },
    {
     "name": "stdout",
     "output_type": "stream",
     "text": [
      "[Epoch 5 / 12] VAL acc: 6.053763\n",
      "[Iteration 1401 / 3252] TRAIN loss: 2.639777\n",
      "[Iteration 1451 / 3252] TRAIN loss: 2.639097\n",
      "[Iteration 1501 / 3252] TRAIN loss: 2.638701\n",
      "[Iteration 1551 / 3252] TRAIN loss: 2.639503\n",
      "[Iteration 1601 / 3252] TRAIN loss: 2.639024\n",
      "[Epoch 6 / 12] TRAIN acc: 3.420664\n"
     ]
    },
    {
     "name": "stderr",
     "output_type": "stream",
     "text": [
      "\r",
      " 50%|█████     | 6/12 [19:40<19:40, 196.74s/it]"
     ]
    },
    {
     "name": "stdout",
     "output_type": "stream",
     "text": [
      "[Epoch 6 / 12] VAL acc: 0.408602\n",
      "[Iteration 1651 / 3252] TRAIN loss: 2.638920\n",
      "[Iteration 1701 / 3252] TRAIN loss: 2.638993\n",
      "[Iteration 1751 / 3252] TRAIN loss: 2.639137\n",
      "[Iteration 1801 / 3252] TRAIN loss: 2.638853\n",
      "[Iteration 1851 / 3252] TRAIN loss: 2.639082\n",
      "[Epoch 7 / 12] TRAIN acc: 3.295203\n"
     ]
    },
    {
     "name": "stderr",
     "output_type": "stream",
     "text": [
      "\r",
      " 58%|█████▊    | 7/12 [22:53<16:21, 196.22s/it]"
     ]
    },
    {
     "name": "stdout",
     "output_type": "stream",
     "text": [
      "[Epoch 7 / 12] VAL acc: 1.440860\n",
      "[Iteration 1901 / 3252] TRAIN loss: 2.639269\n",
      "[Iteration 1951 / 3252] TRAIN loss: 2.639458\n",
      "[Iteration 2001 / 3252] TRAIN loss: 2.639257\n",
      "[Iteration 2051 / 3252] TRAIN loss: 2.638795\n",
      "[Iteration 2101 / 3252] TRAIN loss: 2.639951\n",
      "[Iteration 2151 / 3252] TRAIN loss: 2.638628\n",
      "[Epoch 8 / 12] TRAIN acc: 3.553506\n"
     ]
    },
    {
     "name": "stderr",
     "output_type": "stream",
     "text": [
      "\r",
      " 67%|██████▋   | 8/12 [26:05<13:02, 195.74s/it]"
     ]
    },
    {
     "name": "stdout",
     "output_type": "stream",
     "text": [
      "[Epoch 8 / 12] VAL acc: 0.430108\n",
      "[Iteration 2201 / 3252] TRAIN loss: 2.640524\n",
      "[Iteration 2251 / 3252] TRAIN loss: 2.638930\n",
      "[Iteration 2301 / 3252] TRAIN loss: 2.638929\n",
      "[Iteration 2351 / 3252] TRAIN loss: 2.638852\n",
      "[Iteration 2401 / 3252] TRAIN loss: 2.637943\n",
      "[Epoch 9 / 12] TRAIN acc: 3.416974\n"
     ]
    },
    {
     "name": "stderr",
     "output_type": "stream",
     "text": [
      "\r",
      " 75%|███████▌  | 9/12 [29:18<09:46, 195.39s/it]"
     ]
    },
    {
     "name": "stdout",
     "output_type": "stream",
     "text": [
      "[Epoch 9 / 12] VAL acc: 0.655914\n",
      "[Iteration 2451 / 3252] TRAIN loss: 2.638630\n",
      "[Iteration 2501 / 3252] TRAIN loss: 2.638773\n",
      "[Iteration 2551 / 3252] TRAIN loss: 2.639322\n",
      "[Iteration 2601 / 3252] TRAIN loss: 2.638795\n",
      "[Iteration 2651 / 3252] TRAIN loss: 2.640273\n",
      "[Iteration 2701 / 3252] TRAIN loss: 2.639556\n",
      "[Epoch 10 / 12] TRAIN acc: 3.498155\n"
     ]
    },
    {
     "name": "stderr",
     "output_type": "stream",
     "text": [
      "\r",
      " 83%|████████▎ | 10/12 [32:32<06:30, 195.22s/it]"
     ]
    },
    {
     "name": "stdout",
     "output_type": "stream",
     "text": [
      "[Epoch 10 / 12] VAL acc: 0.193548\n",
      "[Iteration 2751 / 3252] TRAIN loss: 2.639233\n",
      "[Iteration 2801 / 3252] TRAIN loss: 2.639205\n",
      "[Iteration 2851 / 3252] TRAIN loss: 2.639158\n",
      "[Iteration 2901 / 3252] TRAIN loss: 2.638716\n",
      "[Iteration 2951 / 3252] TRAIN loss: 2.639803\n",
      "[Epoch 11 / 12] TRAIN acc: 3.287823\n"
     ]
    },
    {
     "name": "stderr",
     "output_type": "stream",
     "text": [
      "\r",
      " 92%|█████████▏| 11/12 [35:46<03:15, 195.11s/it]"
     ]
    },
    {
     "name": "stdout",
     "output_type": "stream",
     "text": [
      "[Epoch 11 / 12] VAL acc: 1.440860\n",
      "[Iteration 3001 / 3252] TRAIN loss: 2.639557\n",
      "[Iteration 3051 / 3252] TRAIN loss: 2.639217\n",
      "[Iteration 3101 / 3252] TRAIN loss: 2.639006\n",
      "[Iteration 3151 / 3252] TRAIN loss: 2.639441\n",
      "[Iteration 3201 / 3252] TRAIN loss: 2.638898\n",
      "[Iteration 3251 / 3252] TRAIN loss: 2.639156\n",
      "[Epoch 12 / 12] TRAIN acc: 3.206642\n"
     ]
    },
    {
     "name": "stderr",
     "output_type": "stream",
     "text": [
      "100%|██████████| 12/12 [39:00<00:00, 195.07s/it]\n",
      "  0%|          | 0/124 [00:00<?, ?it/s]"
     ]
    },
    {
     "name": "stdout",
     "output_type": "stream",
     "text": [
      "[Epoch 12 / 12] VAL acc: 0.408602\n",
      "Trained in 2340 seconds.\n",
      "FINISH.\n"
     ]
    },
    {
     "name": "stderr",
     "output_type": "stream",
     "text": [
      "100%|██████████| 124/124 [00:18<00:00,  6.60it/s]\n"
     ]
    },
    {
     "name": "stdout",
     "output_type": "stream",
     "text": [
      "0.0182844850766\n",
      "    3 | 39m26s |    0.01828 |      48.0000 |    1.0000 |    10.0000 |   -3.0000 |      12.0000 |              10.0000 |             0.0000 | \n",
      "weights: [0.0045837917125045834, 0.0030193236714975845, 0.00034800523399871935, 0.0015782828282828283, 0.00084636739115715354, 0.0014982620160613688, 0.00079775352607058521, 0.0051250512505125051, 0.02834467120181406, 0.0098502758077226166, 0.002498001598721023, 0.0011740396355780971, 0.0028875028875028877, 0.0036938534278959812]\n",
      "equivalent_num:\n",
      "1.38888888889\n",
      "1.38888888889\n",
      "1.38888888889\n",
      "1.38888888889\n",
      "1.38888888889\n",
      "1.38888888889\n",
      "1.38888888889\n",
      "1.38888888889\n",
      "1.38888888889\n",
      "1.38888888889\n",
      "1.38888888889\n",
      "1.38888888889\n",
      "1.38888888889\n",
      "1.38888888889\n"
     ]
    },
    {
     "name": "stderr",
     "output_type": "stream",
     "text": [
      "\r",
      "  0%|          | 0/12 [00:00<?, ?it/s]"
     ]
    },
    {
     "name": "stdout",
     "output_type": "stream",
     "text": [
      "START TRAIN.\n",
      "[Iteration 1 / 3252] TRAIN loss: 2.794106\n",
      "[Iteration 51 / 3252] TRAIN loss: 2.669916\n",
      "[Iteration 101 / 3252] TRAIN loss: 2.643881\n",
      "[Iteration 151 / 3252] TRAIN loss: 2.634821\n",
      "[Iteration 201 / 3252] TRAIN loss: 2.637615\n",
      "[Iteration 251 / 3252] TRAIN loss: 2.620676\n",
      "[Epoch 1 / 12] TRAIN acc: 3.594096\n"
     ]
    },
    {
     "name": "stderr",
     "output_type": "stream",
     "text": [
      "\r",
      "  8%|▊         | 1/12 [03:27<38:06, 207.88s/it]"
     ]
    },
    {
     "name": "stdout",
     "output_type": "stream",
     "text": [
      "[Epoch 1 / 12] VAL acc: 2.204301\n",
      "[Iteration 301 / 3252] TRAIN loss: 2.606734\n",
      "[Iteration 351 / 3252] TRAIN loss: 2.659329\n",
      "[Iteration 401 / 3252] TRAIN loss: 2.639524\n",
      "[Iteration 451 / 3252] TRAIN loss: 2.639240\n",
      "[Iteration 501 / 3252] TRAIN loss: 2.639211\n",
      "[Epoch 2 / 12] TRAIN acc: 3.542435\n"
     ]
    },
    {
     "name": "stderr",
     "output_type": "stream",
     "text": [
      "\r",
      " 17%|█▋        | 2/12 [06:51<34:15, 205.57s/it]"
     ]
    },
    {
     "name": "stdout",
     "output_type": "stream",
     "text": [
      "[Epoch 2 / 12] VAL acc: 2.774194\n",
      "[Iteration 551 / 3252] TRAIN loss: 2.639596\n",
      "[Iteration 601 / 3252] TRAIN loss: 2.639289\n",
      "[Iteration 651 / 3252] TRAIN loss: 2.638944\n",
      "[Iteration 701 / 3252] TRAIN loss: 2.638676\n",
      "[Iteration 751 / 3252] TRAIN loss: 2.640236\n",
      "[Iteration 801 / 3252] TRAIN loss: 2.638976\n",
      "[Epoch 3 / 12] TRAIN acc: 3.291513\n"
     ]
    },
    {
     "name": "stderr",
     "output_type": "stream",
     "text": [
      "\r",
      " 25%|██▌       | 3/12 [10:10<30:32, 203.66s/it]"
     ]
    },
    {
     "name": "stdout",
     "output_type": "stream",
     "text": [
      "[Epoch 3 / 12] VAL acc: 0.408602\n",
      "[Iteration 851 / 3252] TRAIN loss: 2.638572\n",
      "[Iteration 901 / 3252] TRAIN loss: 2.639389\n",
      "[Iteration 951 / 3252] TRAIN loss: 2.638816\n",
      "[Iteration 1001 / 3252] TRAIN loss: 2.639112\n",
      "[Iteration 1051 / 3252] TRAIN loss: 2.637876\n",
      "[Epoch 4 / 12] TRAIN acc: 3.435424\n"
     ]
    },
    {
     "name": "stderr",
     "output_type": "stream",
     "text": [
      "\r",
      " 33%|███▎      | 4/12 [13:27<26:55, 201.95s/it]"
     ]
    },
    {
     "name": "stdout",
     "output_type": "stream",
     "text": [
      "[Epoch 4 / 12] VAL acc: 0.193548\n",
      "[Iteration 1101 / 3252] TRAIN loss: 2.638606\n",
      "[Iteration 1151 / 3252] TRAIN loss: 2.638122\n",
      "[Iteration 1201 / 3252] TRAIN loss: 2.639712\n",
      "[Iteration 1251 / 3252] TRAIN loss: 2.639114\n",
      "[Iteration 1301 / 3252] TRAIN loss: 2.638077\n",
      "[Iteration 1351 / 3252] TRAIN loss: 2.639590\n",
      "[Epoch 5 / 12] TRAIN acc: 3.361624\n"
     ]
    },
    {
     "name": "stderr",
     "output_type": "stream",
     "text": [
      "\r",
      " 42%|████▏     | 5/12 [16:43<23:24, 200.64s/it]"
     ]
    },
    {
     "name": "stdout",
     "output_type": "stream",
     "text": [
      "[Epoch 5 / 12] VAL acc: 1.677419\n",
      "[Iteration 1401 / 3252] TRAIN loss: 2.638029\n",
      "[Iteration 1451 / 3252] TRAIN loss: 2.638431\n",
      "[Iteration 1501 / 3252] TRAIN loss: 2.639241\n",
      "[Iteration 1551 / 3252] TRAIN loss: 2.639166\n",
      "[Iteration 1601 / 3252] TRAIN loss: 2.639348\n",
      "[Epoch 6 / 12] TRAIN acc: 3.719557\n"
     ]
    },
    {
     "name": "stderr",
     "output_type": "stream",
     "text": [
      "\r",
      " 50%|█████     | 6/12 [19:56<19:56, 199.50s/it]"
     ]
    },
    {
     "name": "stdout",
     "output_type": "stream",
     "text": [
      "[Epoch 6 / 12] VAL acc: 0.408602\n",
      "[Iteration 1651 / 3252] TRAIN loss: 2.638804\n",
      "[Iteration 1701 / 3252] TRAIN loss: 2.638700\n",
      "[Iteration 1751 / 3252] TRAIN loss: 2.639604\n",
      "[Iteration 1801 / 3252] TRAIN loss: 2.639288\n",
      "[Iteration 1851 / 3252] TRAIN loss: 2.639791\n",
      "[Epoch 7 / 12] TRAIN acc: 3.328413\n"
     ]
    },
    {
     "name": "stderr",
     "output_type": "stream",
     "text": [
      "\r",
      " 58%|█████▊    | 7/12 [23:08<16:31, 198.38s/it]"
     ]
    },
    {
     "name": "stdout",
     "output_type": "stream",
     "text": [
      "[Epoch 7 / 12] VAL acc: 1.408602\n",
      "[Iteration 1901 / 3252] TRAIN loss: 2.638790\n",
      "[Iteration 1951 / 3252] TRAIN loss: 2.639019\n",
      "[Iteration 2001 / 3252] TRAIN loss: 2.639247\n",
      "[Iteration 2051 / 3252] TRAIN loss: 2.639259\n",
      "[Iteration 2101 / 3252] TRAIN loss: 2.639228\n",
      "[Iteration 2151 / 3252] TRAIN loss: 2.638951\n",
      "[Epoch 8 / 12] TRAIN acc: 3.431734\n"
     ]
    },
    {
     "name": "stderr",
     "output_type": "stream",
     "text": [
      "\r",
      " 67%|██████▋   | 8/12 [26:16<13:08, 197.12s/it]"
     ]
    },
    {
     "name": "stdout",
     "output_type": "stream",
     "text": [
      "[Epoch 8 / 12] VAL acc: 2.774194\n",
      "[Iteration 2201 / 3252] TRAIN loss: 2.639027\n",
      "[Iteration 2251 / 3252] TRAIN loss: 2.638966\n",
      "[Iteration 2301 / 3252] TRAIN loss: 2.638410\n",
      "[Iteration 2351 / 3252] TRAIN loss: 2.639271\n",
      "[Iteration 2401 / 3252] TRAIN loss: 2.639666\n",
      "[Epoch 9 / 12] TRAIN acc: 3.416974\n"
     ]
    },
    {
     "name": "stderr",
     "output_type": "stream",
     "text": [
      "\r",
      " 75%|███████▌  | 9/12 [29:24<09:48, 196.07s/it]"
     ]
    },
    {
     "name": "stdout",
     "output_type": "stream",
     "text": [
      "[Epoch 9 / 12] VAL acc: 0.075269\n",
      "[Iteration 2451 / 3252] TRAIN loss: 2.640054\n",
      "[Iteration 2501 / 3252] TRAIN loss: 2.639237\n",
      "[Iteration 2551 / 3252] TRAIN loss: 2.638944\n",
      "[Iteration 2601 / 3252] TRAIN loss: 2.639220\n",
      "[Iteration 2651 / 3252] TRAIN loss: 2.638875\n",
      "[Iteration 2701 / 3252] TRAIN loss: 2.638827\n",
      "[Epoch 10 / 12] TRAIN acc: 3.520295\n"
     ]
    },
    {
     "name": "stderr",
     "output_type": "stream",
     "text": [
      "\r",
      " 83%|████████▎ | 10/12 [32:31<06:30, 195.19s/it]"
     ]
    },
    {
     "name": "stdout",
     "output_type": "stream",
     "text": [
      "[Epoch 10 / 12] VAL acc: 0.860215\n",
      "[Iteration 2751 / 3252] TRAIN loss: 2.638487\n",
      "[Iteration 2801 / 3252] TRAIN loss: 2.639238\n",
      "[Iteration 2851 / 3252] TRAIN loss: 2.639681\n",
      "[Iteration 2901 / 3252] TRAIN loss: 2.641063\n",
      "[Iteration 2951 / 3252] TRAIN loss: 2.638193\n",
      "[Epoch 11 / 12] TRAIN acc: 3.420664\n"
     ]
    },
    {
     "name": "stderr",
     "output_type": "stream",
     "text": [
      "\r",
      " 92%|█████████▏| 11/12 [35:38<03:14, 194.42s/it]"
     ]
    },
    {
     "name": "stdout",
     "output_type": "stream",
     "text": [
      "[Epoch 11 / 12] VAL acc: 2.720430\n",
      "[Iteration 3001 / 3252] TRAIN loss: 2.639463\n",
      "[Iteration 3051 / 3252] TRAIN loss: 2.639657\n",
      "[Iteration 3101 / 3252] TRAIN loss: 2.639034\n",
      "[Iteration 3151 / 3252] TRAIN loss: 2.638556\n",
      "[Iteration 3201 / 3252] TRAIN loss: 2.639417\n",
      "[Iteration 3251 / 3252] TRAIN loss: 2.639265\n",
      "[Epoch 12 / 12] TRAIN acc: 3.435424\n"
     ]
    },
    {
     "name": "stderr",
     "output_type": "stream",
     "text": [
      "100%|██████████| 12/12 [38:45<00:00, 193.78s/it]\n",
      "  0%|          | 0/124 [00:00<?, ?it/s]"
     ]
    },
    {
     "name": "stdout",
     "output_type": "stream",
     "text": [
      "[Epoch 12 / 12] VAL acc: 2.720430\n",
      "Trained in 2325 seconds.\n",
      "FINISH.\n"
     ]
    },
    {
     "name": "stderr",
     "output_type": "stream",
     "text": [
      "100%|██████████| 124/124 [00:17<00:00,  6.93it/s]\n"
     ]
    },
    {
     "name": "stdout",
     "output_type": "stream",
     "text": [
      "0.128798063996\n",
      "    4 | 39m11s |    0.12880 |      48.0000 |    1.0000 |     1.0000 |   -3.0000 |      12.0000 |               1.0000 |             0.0000 | \n",
      "weights: [0.079789581891864733, 0.064757278350021791, 0.021985008591674442, 0.046819434893280693, 0.034285715181341145, 0.045617096211309868, 0.033286498891162593, 0.084368991559831519, 0.1984126984126984, 0.11696554459257208, 0.058902009005553535, 0.040380819765943078, 0.063327882303826827, 0.071626475434638417]\n",
      "equivalent_num:\n",
      "24.1762433132\n",
      "29.788348041\n",
      "87.7421692894\n",
      "41.2011027061\n",
      "56.2628586126\n",
      "42.2870481879\n",
      "57.9517945695\n",
      "22.8639967127\n",
      "9.72222222222\n",
      "16.4921417876\n",
      "32.7495170071\n",
      "47.7705097831\n",
      "30.4607113881\n",
      "26.9315547634\n"
     ]
    },
    {
     "name": "stderr",
     "output_type": "stream",
     "text": [
      "\r",
      "  0%|          | 0/6 [00:00<?, ?it/s]"
     ]
    },
    {
     "name": "stdout",
     "output_type": "stream",
     "text": [
      "START TRAIN.\n",
      "[Iteration 1 / 1626] TRAIN loss: 2.828593\n",
      "[Iteration 51 / 1626] TRAIN loss: 2.441604\n",
      "[Iteration 101 / 1626] TRAIN loss: 2.568187\n",
      "[Iteration 151 / 1626] TRAIN loss: 2.625109\n",
      "[Iteration 201 / 1626] TRAIN loss: 2.618518\n",
      "[Iteration 251 / 1626] TRAIN loss: 2.633550\n",
      "[Epoch 1 / 6] TRAIN acc: 7.365314\n"
     ]
    },
    {
     "name": "stderr",
     "output_type": "stream",
     "text": [
      "\r",
      " 17%|█▋        | 1/6 [03:24<17:02, 204.40s/it]"
     ]
    },
    {
     "name": "stdout",
     "output_type": "stream",
     "text": [
      "[Epoch 1 / 6] VAL acc: 6.053763\n",
      "[Iteration 301 / 1626] TRAIN loss: 2.612966\n",
      "[Iteration 351 / 1626] TRAIN loss: 2.624996\n",
      "[Iteration 401 / 1626] TRAIN loss: 2.626835\n",
      "[Iteration 451 / 1626] TRAIN loss: 2.615723\n",
      "[Iteration 501 / 1626] TRAIN loss: 2.616658\n",
      "[Epoch 2 / 6] TRAIN acc: 7.667897\n"
     ]
    },
    {
     "name": "stderr",
     "output_type": "stream",
     "text": [
      "\r",
      " 33%|███▎      | 2/6 [06:42<13:24, 201.18s/it]"
     ]
    },
    {
     "name": "stdout",
     "output_type": "stream",
     "text": [
      "[Epoch 2 / 6] VAL acc: 6.053763\n",
      "[Iteration 551 / 1626] TRAIN loss: 2.632069\n",
      "[Iteration 601 / 1626] TRAIN loss: 2.604010\n",
      "[Iteration 651 / 1626] TRAIN loss: 2.624110\n",
      "[Iteration 701 / 1626] TRAIN loss: 2.628475\n",
      "[Iteration 751 / 1626] TRAIN loss: 2.623474\n",
      "[Iteration 801 / 1626] TRAIN loss: 2.619588\n",
      "[Epoch 3 / 6] TRAIN acc: 8.014760\n"
     ]
    },
    {
     "name": "stderr",
     "output_type": "stream",
     "text": [
      "\r",
      " 50%|█████     | 3/6 [09:58<09:58, 199.43s/it]"
     ]
    },
    {
     "name": "stdout",
     "output_type": "stream",
     "text": [
      "[Epoch 3 / 6] VAL acc: 6.053763\n",
      "[Iteration 851 / 1626] TRAIN loss: 2.626947\n",
      "[Iteration 901 / 1626] TRAIN loss: 2.627779\n",
      "[Iteration 951 / 1626] TRAIN loss: 2.622227\n",
      "[Iteration 1001 / 1626] TRAIN loss: 2.614790\n",
      "[Iteration 1051 / 1626] TRAIN loss: 2.622230\n",
      "[Epoch 4 / 6] TRAIN acc: 7.785978\n"
     ]
    },
    {
     "name": "stderr",
     "output_type": "stream",
     "text": [
      "\r",
      " 67%|██████▋   | 4/6 [13:12<06:36, 198.11s/it]"
     ]
    },
    {
     "name": "stdout",
     "output_type": "stream",
     "text": [
      "[Epoch 4 / 6] VAL acc: 6.053763\n",
      "[Iteration 1101 / 1626] TRAIN loss: 2.611815\n",
      "[Iteration 1151 / 1626] TRAIN loss: 2.632641\n",
      "[Iteration 1201 / 1626] TRAIN loss: 2.617234\n",
      "[Iteration 1251 / 1626] TRAIN loss: 2.615423\n",
      "[Iteration 1301 / 1626] TRAIN loss: 2.613386\n",
      "[Iteration 1351 / 1626] TRAIN loss: 2.622118\n",
      "[Epoch 5 / 6] TRAIN acc: 7.826568\n"
     ]
    },
    {
     "name": "stderr",
     "output_type": "stream",
     "text": [
      "\r",
      " 83%|████████▎ | 5/6 [16:26<03:17, 197.25s/it]"
     ]
    },
    {
     "name": "stdout",
     "output_type": "stream",
     "text": [
      "[Epoch 5 / 6] VAL acc: 6.053763\n",
      "[Iteration 1401 / 1626] TRAIN loss: 2.621911\n",
      "[Iteration 1451 / 1626] TRAIN loss: 2.622070\n",
      "[Iteration 1501 / 1626] TRAIN loss: 2.623898\n",
      "[Iteration 1551 / 1626] TRAIN loss: 2.631276\n",
      "[Iteration 1601 / 1626] TRAIN loss: 2.626199\n",
      "[Epoch 6 / 6] TRAIN acc: 7.856089\n"
     ]
    },
    {
     "name": "stderr",
     "output_type": "stream",
     "text": [
      "100%|██████████| 6/6 [19:39<00:00, 196.65s/it]\n",
      "  0%|          | 0/124 [00:00<?, ?it/s]"
     ]
    },
    {
     "name": "stdout",
     "output_type": "stream",
     "text": [
      "[Epoch 6 / 6] VAL acc: 6.053763\n",
      "Trained in 1179 seconds.\n",
      "FINISH.\n"
     ]
    },
    {
     "name": "stderr",
     "output_type": "stream",
     "text": [
      "100%|██████████| 124/124 [00:18<00:00,  6.61it/s]\n"
     ]
    },
    {
     "name": "stdout",
     "output_type": "stream",
     "text": [
      "0.315676257058\n",
      "    5 | 20m07s | \u001b[35m   0.31568\u001b[0m | \u001b[32m     48.0000\u001b[0m | \u001b[32m   0.5000\u001b[0m | \u001b[32m   10.0000\u001b[0m | \u001b[32m  -3.0000\u001b[0m | \u001b[32m      6.0000\u001b[0m | \u001b[32m              1.0000\u001b[0m | \u001b[32m            0.0000\u001b[0m | \n",
      "weights: [0.0045837917125045834, 0.0030193236714975845, 0.00034800523399871935, 0.0015782828282828283, 0.00084636739115715354, 0.0014982620160613688, 0.00079775352607058521, 0.0051250512505125051, 0.02834467120181406, 0.0098502758077226166, 0.002498001598721023, 0.0011740396355780971, 0.0028875028875028877, 0.0036938534278959812]\n",
      "equivalent_num:\n",
      "1.38888888889\n",
      "1.38888888889\n",
      "1.38888888889\n",
      "1.38888888889\n",
      "1.38888888889\n",
      "1.38888888889\n",
      "1.38888888889\n",
      "1.38888888889\n",
      "1.38888888889\n",
      "1.38888888889\n",
      "1.38888888889\n",
      "1.38888888889\n",
      "1.38888888889\n",
      "1.38888888889\n"
     ]
    },
    {
     "name": "stderr",
     "output_type": "stream",
     "text": [
      "\r",
      "  0%|          | 0/6 [00:00<?, ?it/s]"
     ]
    },
    {
     "name": "stdout",
     "output_type": "stream",
     "text": [
      "START TRAIN.\n",
      "[Iteration 1 / 1626] TRAIN loss: 2.821530\n",
      "[Iteration 51 / 1626] TRAIN loss: 3.075084\n",
      "[Iteration 101 / 1626] TRAIN loss: 2.850065\n",
      "[Iteration 151 / 1626] TRAIN loss: 2.716490\n",
      "[Iteration 201 / 1626] TRAIN loss: 2.671142\n",
      "[Iteration 251 / 1626] TRAIN loss: 2.930033\n",
      "[Epoch 1 / 6] TRAIN acc: 3.121771\n"
     ]
    },
    {
     "name": "stderr",
     "output_type": "stream",
     "text": [
      "\r",
      " 17%|█▋        | 1/6 [03:29<17:25, 209.04s/it]"
     ]
    },
    {
     "name": "stdout",
     "output_type": "stream",
     "text": [
      "[Epoch 1 / 6] VAL acc: 0.903226\n",
      "[Iteration 301 / 1626] TRAIN loss: 2.662065\n",
      "[Iteration 351 / 1626] TRAIN loss: 2.871123\n",
      "[Iteration 401 / 1626] TRAIN loss: 2.773322\n",
      "[Iteration 451 / 1626] TRAIN loss: 2.713240\n",
      "[Iteration 501 / 1626] TRAIN loss: 2.737509\n",
      "[Epoch 2 / 6] TRAIN acc: 3.210332\n"
     ]
    },
    {
     "name": "stderr",
     "output_type": "stream",
     "text": [
      "\r",
      " 33%|███▎      | 2/6 [06:57<13:55, 208.98s/it]"
     ]
    },
    {
     "name": "stdout",
     "output_type": "stream",
     "text": [
      "[Epoch 2 / 6] VAL acc: 1.053763\n",
      "[Iteration 551 / 1626] TRAIN loss: 2.800704\n",
      "[Iteration 601 / 1626] TRAIN loss: 2.771772\n",
      "[Iteration 651 / 1626] TRAIN loss: 2.914744\n",
      "[Iteration 701 / 1626] TRAIN loss: 2.756418\n",
      "[Iteration 751 / 1626] TRAIN loss: 2.716642\n",
      "[Iteration 801 / 1626] TRAIN loss: 2.709504\n",
      "[Epoch 3 / 6] TRAIN acc: 3.317343\n"
     ]
    },
    {
     "name": "stderr",
     "output_type": "stream",
     "text": [
      "\r",
      " 50%|█████     | 3/6 [10:26<10:26, 208.87s/it]"
     ]
    },
    {
     "name": "stdout",
     "output_type": "stream",
     "text": [
      "[Epoch 3 / 6] VAL acc: 1.032258\n",
      "[Iteration 851 / 1626] TRAIN loss: 2.779954\n",
      "[Iteration 901 / 1626] TRAIN loss: 2.685769\n",
      "[Iteration 951 / 1626] TRAIN loss: 2.727430\n",
      "[Iteration 1001 / 1626] TRAIN loss: 2.698943\n",
      "[Iteration 1051 / 1626] TRAIN loss: 2.707361\n",
      "[Epoch 4 / 6] TRAIN acc: 3.601476\n"
     ]
    },
    {
     "name": "stderr",
     "output_type": "stream",
     "text": [
      "\r",
      " 67%|██████▋   | 4/6 [13:55<06:57, 208.85s/it]"
     ]
    },
    {
     "name": "stdout",
     "output_type": "stream",
     "text": [
      "[Epoch 4 / 6] VAL acc: 1.053763\n",
      "[Iteration 1101 / 1626] TRAIN loss: 2.716732\n",
      "[Iteration 1151 / 1626] TRAIN loss: 2.761478\n",
      "[Iteration 1201 / 1626] TRAIN loss: 2.809674\n",
      "[Iteration 1251 / 1626] TRAIN loss: 2.702277\n",
      "[Iteration 1301 / 1626] TRAIN loss: 2.705894\n",
      "[Iteration 1351 / 1626] TRAIN loss: 2.727786\n",
      "[Epoch 5 / 6] TRAIN acc: 3.560886\n"
     ]
    },
    {
     "name": "stderr",
     "output_type": "stream",
     "text": [
      "\r",
      " 83%|████████▎ | 5/6 [17:24<03:28, 208.91s/it]"
     ]
    },
    {
     "name": "stdout",
     "output_type": "stream",
     "text": [
      "[Epoch 5 / 6] VAL acc: 1.129032\n",
      "[Iteration 1401 / 1626] TRAIN loss: 2.723222\n",
      "[Iteration 1451 / 1626] TRAIN loss: 2.718734\n",
      "[Iteration 1501 / 1626] TRAIN loss: 2.651887\n",
      "[Iteration 1551 / 1626] TRAIN loss: 2.602801\n",
      "[Iteration 1601 / 1626] TRAIN loss: 2.703654\n",
      "[Epoch 6 / 6] TRAIN acc: 4.081181\n"
     ]
    },
    {
     "name": "stderr",
     "output_type": "stream",
     "text": [
      "100%|██████████| 6/6 [20:53<00:00, 208.96s/it]\n",
      "  0%|          | 0/124 [00:00<?, ?it/s]"
     ]
    },
    {
     "name": "stdout",
     "output_type": "stream",
     "text": [
      "[Epoch 6 / 6] VAL acc: 1.161290\n",
      "Trained in 1253 seconds.\n",
      "FINISH.\n"
     ]
    },
    {
     "name": "stderr",
     "output_type": "stream",
     "text": [
      "100%|██████████| 124/124 [00:19<00:00,  6.27it/s]\n"
     ]
    },
    {
     "name": "stdout",
     "output_type": "stream",
     "text": [
      "0.0527023393385\n",
      "    6 | 21m24s |    0.05270 |      48.0000 |    1.0000 |    10.0000 |   -7.0000 |       6.0000 |               1.0000 |             0.0000 | \n",
      "weights: [0.0045837917125045834, 0.0030193236714975845, 0.00034800523399871935, 0.0015782828282828283, 0.00084636739115715354, 0.0014982620160613688, 0.00079775352607058521, 0.0051250512505125051, 0.02834467120181406, 0.0098502758077226166, 0.002498001598721023, 0.0011740396355780971, 0.0028875028875028877, 0.0036938534278959812]\n",
      "equivalent_num:\n",
      "1.38888888889\n",
      "1.38888888889\n",
      "1.38888888889\n",
      "1.38888888889\n",
      "1.38888888889\n",
      "1.38888888889\n",
      "1.38888888889\n",
      "1.38888888889\n",
      "1.38888888889\n",
      "1.38888888889\n",
      "1.38888888889\n",
      "1.38888888889\n",
      "1.38888888889\n",
      "1.38888888889\n"
     ]
    },
    {
     "name": "stderr",
     "output_type": "stream",
     "text": [
      "\r",
      "  0%|          | 0/6 [00:00<?, ?it/s]"
     ]
    },
    {
     "name": "stdout",
     "output_type": "stream",
     "text": [
      "START TRAIN.\n",
      "[Iteration 1 / 1626] TRAIN loss: 2.770631\n",
      "[Iteration 51 / 1626] TRAIN loss: 2.452555\n",
      "[Iteration 101 / 1626] TRAIN loss: 2.416419\n",
      "[Iteration 151 / 1626] TRAIN loss: 2.298679\n",
      "[Iteration 201 / 1626] TRAIN loss: 2.389053\n",
      "[Iteration 251 / 1626] TRAIN loss: 2.415143\n",
      "[Epoch 1 / 6] TRAIN acc: 7.904059\n"
     ]
    },
    {
     "name": "stderr",
     "output_type": "stream",
     "text": [
      "\r",
      " 17%|█▋        | 1/6 [03:28<17:24, 208.96s/it]"
     ]
    },
    {
     "name": "stdout",
     "output_type": "stream",
     "text": [
      "[Epoch 1 / 6] VAL acc: 2.193548\n",
      "[Iteration 301 / 1626] TRAIN loss: 2.292482\n",
      "[Iteration 351 / 1626] TRAIN loss: 2.326234\n",
      "[Iteration 401 / 1626] TRAIN loss: 2.455279\n",
      "[Iteration 451 / 1626] TRAIN loss: 2.121659\n",
      "[Iteration 501 / 1626] TRAIN loss: 2.311714\n",
      "[Epoch 2 / 6] TRAIN acc: 9.963100\n"
     ]
    },
    {
     "name": "stderr",
     "output_type": "stream",
     "text": [
      "\r",
      " 33%|███▎      | 2/6 [06:57<13:55, 208.95s/it]"
     ]
    },
    {
     "name": "stdout",
     "output_type": "stream",
     "text": [
      "[Epoch 2 / 6] VAL acc: 2.096774\n",
      "[Iteration 551 / 1626] TRAIN loss: 2.170400\n",
      "[Iteration 601 / 1626] TRAIN loss: 2.336769\n",
      "[Iteration 651 / 1626] TRAIN loss: 2.283432\n",
      "[Iteration 701 / 1626] TRAIN loss: 2.195535\n",
      "[Iteration 751 / 1626] TRAIN loss: 2.334190\n",
      "[Iteration 801 / 1626] TRAIN loss: 2.322368\n",
      "[Epoch 3 / 6] TRAIN acc: 11.317343\n"
     ]
    },
    {
     "name": "stderr",
     "output_type": "stream",
     "text": [
      "\r",
      " 50%|█████     | 3/6 [10:26<10:26, 208.85s/it]"
     ]
    },
    {
     "name": "stdout",
     "output_type": "stream",
     "text": [
      "[Epoch 3 / 6] VAL acc: 2.559140\n",
      "[Iteration 851 / 1626] TRAIN loss: 2.211241\n",
      "[Iteration 901 / 1626] TRAIN loss: 2.045639\n",
      "[Iteration 951 / 1626] TRAIN loss: 2.111629\n",
      "[Iteration 1001 / 1626] TRAIN loss: 2.204322\n",
      "[Iteration 1051 / 1626] TRAIN loss: 2.122533\n",
      "[Epoch 4 / 6] TRAIN acc: 11.752768\n"
     ]
    },
    {
     "name": "stderr",
     "output_type": "stream",
     "text": [
      "\r",
      " 67%|██████▋   | 4/6 [13:55<06:57, 208.86s/it]"
     ]
    },
    {
     "name": "stdout",
     "output_type": "stream",
     "text": [
      "[Epoch 4 / 6] VAL acc: 2.827957\n",
      "[Iteration 1101 / 1626] TRAIN loss: 2.180739\n",
      "[Iteration 1151 / 1626] TRAIN loss: 2.001853\n",
      "[Iteration 1201 / 1626] TRAIN loss: 1.998531\n",
      "[Iteration 1251 / 1626] TRAIN loss: 2.267031\n",
      "[Iteration 1301 / 1626] TRAIN loss: 2.179884\n",
      "[Iteration 1351 / 1626] TRAIN loss: 1.985733\n",
      "[Epoch 5 / 6] TRAIN acc: 12.321033\n"
     ]
    },
    {
     "name": "stderr",
     "output_type": "stream",
     "text": [
      "\r",
      " 83%|████████▎ | 5/6 [17:23<03:28, 208.73s/it]"
     ]
    },
    {
     "name": "stdout",
     "output_type": "stream",
     "text": [
      "[Epoch 5 / 6] VAL acc: 2.086022\n",
      "[Iteration 1401 / 1626] TRAIN loss: 2.096483\n",
      "[Iteration 1451 / 1626] TRAIN loss: 2.144119\n",
      "[Iteration 1501 / 1626] TRAIN loss: 2.206710\n",
      "[Iteration 1551 / 1626] TRAIN loss: 2.053389\n",
      "[Iteration 1601 / 1626] TRAIN loss: 2.231654\n",
      "[Epoch 6 / 6] TRAIN acc: 12.981550\n"
     ]
    },
    {
     "name": "stderr",
     "output_type": "stream",
     "text": [
      "100%|██████████| 6/6 [20:52<00:00, 208.67s/it]\n",
      "  0%|          | 0/124 [00:00<?, ?it/s]"
     ]
    },
    {
     "name": "stdout",
     "output_type": "stream",
     "text": [
      "[Epoch 6 / 6] VAL acc: 1.924731\n",
      "Trained in 1252 seconds.\n",
      "FINISH.\n"
     ]
    },
    {
     "name": "stderr",
     "output_type": "stream",
     "text": [
      "100%|██████████| 124/124 [00:19<00:00,  6.36it/s]\n"
     ]
    },
    {
     "name": "stdout",
     "output_type": "stream",
     "text": [
      "0.0992202204894\n",
      "    7 | 21m21s |    0.09922 |      48.0000 |    1.0000 |     1.0000 |   -3.0000 |       6.0000 |               1.0000 |            -3.0000 | \n",
      "weights: [0.079789581891864733, 0.064757278350021791, 0.021985008591674442, 0.046819434893280693, 0.034285715181341145, 0.045617096211309868, 0.033286498891162593, 0.084368991559831519, 0.1984126984126984, 0.11696554459257208, 0.058902009005553535, 0.040380819765943078, 0.063327882303826827, 0.071626475434638417]\n",
      "equivalent_num:\n",
      "24.1762433132\n",
      "29.788348041\n",
      "87.7421692894\n",
      "41.2011027061\n",
      "56.2628586126\n",
      "42.2870481879\n",
      "57.9517945695\n",
      "22.8639967127\n",
      "9.72222222222\n",
      "16.4921417876\n",
      "32.7495170071\n",
      "47.7705097831\n",
      "30.4607113881\n",
      "26.9315547634\n"
     ]
    },
    {
     "name": "stderr",
     "output_type": "stream",
     "text": [
      "\r",
      "  0%|          | 0/6 [00:00<?, ?it/s]"
     ]
    },
    {
     "name": "stdout",
     "output_type": "stream",
     "text": [
      "START TRAIN.\n",
      "[Iteration 1 / 1626] TRAIN loss: 2.827351\n",
      "[Iteration 51 / 1626] TRAIN loss: 2.413833\n",
      "[Iteration 101 / 1626] TRAIN loss: 2.552476\n",
      "[Iteration 151 / 1626] TRAIN loss: 2.588832\n",
      "[Iteration 201 / 1626] TRAIN loss: 2.495787\n",
      "[Iteration 251 / 1626] TRAIN loss: 2.569964\n",
      "[Epoch 1 / 6] TRAIN acc: 7.597786\n"
     ]
    },
    {
     "name": "stderr",
     "output_type": "stream",
     "text": [
      "\r",
      " 17%|█▋        | 1/6 [03:27<17:16, 207.27s/it]"
     ]
    },
    {
     "name": "stdout",
     "output_type": "stream",
     "text": [
      "[Epoch 1 / 6] VAL acc: 6.053763\n",
      "[Iteration 301 / 1626] TRAIN loss: 2.496047\n",
      "[Iteration 351 / 1626] TRAIN loss: 2.485598\n",
      "[Iteration 401 / 1626] TRAIN loss: 2.631686\n",
      "[Iteration 451 / 1626] TRAIN loss: 2.537491\n",
      "[Iteration 501 / 1626] TRAIN loss: 2.521548\n",
      "[Epoch 2 / 6] TRAIN acc: 7.778598\n"
     ]
    },
    {
     "name": "stderr",
     "output_type": "stream",
     "text": [
      "\r",
      " 33%|███▎      | 2/6 [06:51<13:42, 205.72s/it]"
     ]
    },
    {
     "name": "stdout",
     "output_type": "stream",
     "text": [
      "[Epoch 2 / 6] VAL acc: 6.053763\n",
      "[Iteration 551 / 1626] TRAIN loss: 2.529264\n",
      "[Iteration 601 / 1626] TRAIN loss: 2.501653\n",
      "[Iteration 651 / 1626] TRAIN loss: 2.543695\n",
      "[Iteration 701 / 1626] TRAIN loss: 2.577295\n",
      "[Iteration 751 / 1626] TRAIN loss: 2.516551\n",
      "[Iteration 801 / 1626] TRAIN loss: 2.411592\n",
      "[Epoch 3 / 6] TRAIN acc: 7.822878\n"
     ]
    },
    {
     "name": "stderr",
     "output_type": "stream",
     "text": [
      "\r",
      " 50%|█████     | 3/6 [10:12<10:12, 204.27s/it]"
     ]
    },
    {
     "name": "stdout",
     "output_type": "stream",
     "text": [
      "[Epoch 3 / 6] VAL acc: 6.053763\n",
      "[Iteration 851 / 1626] TRAIN loss: 2.555881\n",
      "[Iteration 901 / 1626] TRAIN loss: 2.553518\n",
      "[Iteration 951 / 1626] TRAIN loss: 2.572260\n",
      "[Iteration 1001 / 1626] TRAIN loss: 2.643924\n",
      "[Iteration 1051 / 1626] TRAIN loss: 2.424846\n",
      "[Epoch 4 / 6] TRAIN acc: 7.878229\n"
     ]
    },
    {
     "name": "stderr",
     "output_type": "stream",
     "text": [
      "\r",
      " 67%|██████▋   | 4/6 [13:29<06:44, 202.44s/it]"
     ]
    },
    {
     "name": "stdout",
     "output_type": "stream",
     "text": [
      "[Epoch 4 / 6] VAL acc: 6.053763\n",
      "[Iteration 1101 / 1626] TRAIN loss: 2.550092\n",
      "[Iteration 1151 / 1626] TRAIN loss: 2.465413\n",
      "[Iteration 1201 / 1626] TRAIN loss: 2.495663\n",
      "[Iteration 1251 / 1626] TRAIN loss: 2.431023\n",
      "[Iteration 1301 / 1626] TRAIN loss: 2.569069\n",
      "[Iteration 1351 / 1626] TRAIN loss: 2.611127\n",
      "[Epoch 5 / 6] TRAIN acc: 8.055351\n"
     ]
    },
    {
     "name": "stderr",
     "output_type": "stream",
     "text": [
      "\r",
      " 83%|████████▎ | 5/6 [16:44<03:20, 200.95s/it]"
     ]
    },
    {
     "name": "stdout",
     "output_type": "stream",
     "text": [
      "[Epoch 5 / 6] VAL acc: 6.053763\n",
      "[Iteration 1401 / 1626] TRAIN loss: 2.526787\n",
      "[Iteration 1451 / 1626] TRAIN loss: 2.468890\n",
      "[Iteration 1501 / 1626] TRAIN loss: 2.628221\n",
      "[Iteration 1551 / 1626] TRAIN loss: 2.498877\n",
      "[Iteration 1601 / 1626] TRAIN loss: 2.357270\n",
      "[Epoch 6 / 6] TRAIN acc: 7.896679\n"
     ]
    },
    {
     "name": "stderr",
     "output_type": "stream",
     "text": [
      "100%|██████████| 6/6 [19:58<00:00, 199.77s/it]\n",
      "  0%|          | 0/124 [00:00<?, ?it/s]"
     ]
    },
    {
     "name": "stdout",
     "output_type": "stream",
     "text": [
      "[Epoch 6 / 6] VAL acc: 6.053763\n",
      "Trained in 1198 seconds.\n",
      "FINISH.\n"
     ]
    },
    {
     "name": "stderr",
     "output_type": "stream",
     "text": [
      "100%|██████████| 124/124 [00:18<00:00,  6.60it/s]\n"
     ]
    },
    {
     "name": "stdout",
     "output_type": "stream",
     "text": [
      "0.315676257058\n",
      "    8 | 20m26s |    0.31568 |      48.0000 |    0.5000 |    10.0000 |   -3.0000 |       6.0000 |              10.0000 |            -3.0000 | \n",
      "weights: [0.079789581891864733, 0.064757278350021791, 0.021985008591674442, 0.046819434893280693, 0.034285715181341145, 0.045617096211309868, 0.033286498891162593, 0.084368991559831519, 0.1984126984126984, 0.11696554459257208, 0.058902009005553535, 0.040380819765943078, 0.063327882303826827, 0.071626475434638417]\n",
      "equivalent_num:\n",
      "24.1762433132\n",
      "29.788348041\n",
      "87.7421692894\n",
      "41.2011027061\n",
      "56.2628586126\n",
      "42.2870481879\n",
      "57.9517945695\n",
      "22.8639967127\n",
      "9.72222222222\n",
      "16.4921417876\n",
      "32.7495170071\n",
      "47.7705097831\n",
      "30.4607113881\n",
      "26.9315547634\n"
     ]
    },
    {
     "name": "stderr",
     "output_type": "stream",
     "text": [
      "\r",
      "  0%|          | 0/12 [00:00<?, ?it/s]"
     ]
    },
    {
     "name": "stdout",
     "output_type": "stream",
     "text": [
      "START TRAIN.\n",
      "[Iteration 1 / 3252] TRAIN loss: 3.038174\n",
      "[Iteration 51 / 3252] TRAIN loss: 2.478052\n",
      "[Iteration 101 / 3252] TRAIN loss: 2.402860\n",
      "[Iteration 151 / 3252] TRAIN loss: 2.657519\n",
      "[Iteration 201 / 3252] TRAIN loss: 2.547879\n",
      "[Iteration 251 / 3252] TRAIN loss: 2.455316\n",
      "[Epoch 1 / 12] TRAIN acc: 7.590406\n"
     ]
    },
    {
     "name": "stderr",
     "output_type": "stream",
     "text": [
      "\r",
      "  8%|▊         | 1/12 [03:28<38:12, 208.42s/it]"
     ]
    },
    {
     "name": "stdout",
     "output_type": "stream",
     "text": [
      "[Epoch 1 / 12] VAL acc: 0.849462\n",
      "[Iteration 301 / 3252] TRAIN loss: 2.549073\n",
      "[Iteration 351 / 3252] TRAIN loss: 2.378275\n",
      "[Iteration 401 / 3252] TRAIN loss: 2.478540\n",
      "[Iteration 451 / 3252] TRAIN loss: 2.555845\n",
      "[Iteration 501 / 3252] TRAIN loss: 2.670216\n",
      "[Epoch 2 / 12] TRAIN acc: 7.881919\n"
     ]
    },
    {
     "name": "stderr",
     "output_type": "stream",
     "text": [
      "\r",
      " 17%|█▋        | 2/12 [06:56<34:42, 208.29s/it]"
     ]
    },
    {
     "name": "stdout",
     "output_type": "stream",
     "text": [
      "[Epoch 2 / 12] VAL acc: 1.408602\n",
      "[Iteration 551 / 3252] TRAIN loss: 2.472426\n",
      "[Iteration 601 / 3252] TRAIN loss: 2.660855\n",
      "[Iteration 651 / 3252] TRAIN loss: 2.602553\n",
      "[Iteration 701 / 3252] TRAIN loss: 2.460392\n",
      "[Iteration 751 / 3252] TRAIN loss: 2.380356\n",
      "[Iteration 801 / 3252] TRAIN loss: 2.435211\n",
      "[Epoch 3 / 12] TRAIN acc: 8.073801\n"
     ]
    },
    {
     "name": "stderr",
     "output_type": "stream",
     "text": [
      "\r",
      " 25%|██▌       | 3/12 [10:24<31:13, 208.17s/it]"
     ]
    },
    {
     "name": "stdout",
     "output_type": "stream",
     "text": [
      "[Epoch 3 / 12] VAL acc: 6.053763\n",
      "[Iteration 851 / 3252] TRAIN loss: 2.600055\n",
      "[Iteration 901 / 3252] TRAIN loss: 2.516873\n",
      "[Iteration 951 / 3252] TRAIN loss: 2.615355\n",
      "[Iteration 1001 / 3252] TRAIN loss: 2.423298\n",
      "[Iteration 1051 / 3252] TRAIN loss: 2.509549\n",
      "[Epoch 4 / 12] TRAIN acc: 7.881919\n"
     ]
    },
    {
     "name": "stderr",
     "output_type": "stream",
     "text": [
      "\r",
      " 33%|███▎      | 4/12 [13:49<27:38, 207.30s/it]"
     ]
    },
    {
     "name": "stdout",
     "output_type": "stream",
     "text": [
      "[Epoch 4 / 12] VAL acc: 6.043011\n",
      "[Iteration 1101 / 3252] TRAIN loss: 2.550170\n",
      "[Iteration 1151 / 3252] TRAIN loss: 2.433960\n",
      "[Iteration 1201 / 3252] TRAIN loss: 2.449714\n",
      "[Iteration 1251 / 3252] TRAIN loss: 2.509539\n",
      "[Iteration 1301 / 3252] TRAIN loss: 2.401699\n",
      "[Iteration 1351 / 3252] TRAIN loss: 2.276144\n",
      "[Epoch 5 / 12] TRAIN acc: 8.084871\n"
     ]
    },
    {
     "name": "stderr",
     "output_type": "stream",
     "text": [
      "\r",
      " 42%|████▏     | 5/12 [17:10<24:02, 206.13s/it]"
     ]
    },
    {
     "name": "stdout",
     "output_type": "stream",
     "text": [
      "[Epoch 5 / 12] VAL acc: 4.086022\n",
      "[Iteration 1401 / 3252] TRAIN loss: 2.511084\n",
      "[Iteration 1451 / 3252] TRAIN loss: 2.433142\n",
      "[Iteration 1501 / 3252] TRAIN loss: 2.422988\n",
      "[Iteration 1551 / 3252] TRAIN loss: 2.337442\n",
      "[Iteration 1601 / 3252] TRAIN loss: 2.432782\n",
      "[Epoch 6 / 12] TRAIN acc: 8.365314\n"
     ]
    },
    {
     "name": "stderr",
     "output_type": "stream",
     "text": [
      "\r",
      " 50%|█████     | 6/12 [20:30<20:30, 205.08s/it]"
     ]
    },
    {
     "name": "stdout",
     "output_type": "stream",
     "text": [
      "[Epoch 6 / 12] VAL acc: 5.989247\n",
      "[Iteration 1651 / 3252] TRAIN loss: 2.463448\n",
      "[Iteration 1701 / 3252] TRAIN loss: 2.389384\n",
      "[Iteration 1751 / 3252] TRAIN loss: 2.392610\n",
      "[Iteration 1801 / 3252] TRAIN loss: 2.382245\n",
      "[Iteration 1851 / 3252] TRAIN loss: 2.280133\n",
      "[Epoch 7 / 12] TRAIN acc: 9.258303\n"
     ]
    },
    {
     "name": "stderr",
     "output_type": "stream",
     "text": [
      "\r",
      " 58%|█████▊    | 7/12 [23:48<17:00, 204.13s/it]"
     ]
    },
    {
     "name": "stdout",
     "output_type": "stream",
     "text": [
      "[Epoch 7 / 12] VAL acc: 6.268817\n",
      "[Iteration 1901 / 3252] TRAIN loss: 2.390783\n",
      "[Iteration 1951 / 3252] TRAIN loss: 2.475315\n",
      "[Iteration 2001 / 3252] TRAIN loss: 2.330157\n",
      "[Iteration 2051 / 3252] TRAIN loss: 2.374709\n",
      "[Iteration 2101 / 3252] TRAIN loss: 2.327723\n",
      "[Iteration 2151 / 3252] TRAIN loss: 2.554259\n",
      "[Epoch 8 / 12] TRAIN acc: 9.033210\n"
     ]
    },
    {
     "name": "stderr",
     "output_type": "stream",
     "text": [
      "\r",
      " 67%|██████▋   | 8/12 [27:06<13:33, 203.33s/it]"
     ]
    },
    {
     "name": "stdout",
     "output_type": "stream",
     "text": [
      "[Epoch 8 / 12] VAL acc: 5.784946\n",
      "[Iteration 2201 / 3252] TRAIN loss: 2.527632\n",
      "[Iteration 2251 / 3252] TRAIN loss: 2.291332\n",
      "[Iteration 2301 / 3252] TRAIN loss: 2.489639\n",
      "[Iteration 2351 / 3252] TRAIN loss: 2.334783\n",
      "[Iteration 2401 / 3252] TRAIN loss: 2.414418\n",
      "[Epoch 9 / 12] TRAIN acc: 9.306273\n"
     ]
    },
    {
     "name": "stderr",
     "output_type": "stream",
     "text": [
      "\r",
      " 75%|███████▌  | 9/12 [30:22<10:07, 202.52s/it]"
     ]
    },
    {
     "name": "stdout",
     "output_type": "stream",
     "text": [
      "[Epoch 9 / 12] VAL acc: 3.408602\n",
      "[Iteration 2451 / 3252] TRAIN loss: 2.274235\n",
      "[Iteration 2501 / 3252] TRAIN loss: 2.256633\n",
      "[Iteration 2551 / 3252] TRAIN loss: 2.420582\n",
      "[Iteration 2601 / 3252] TRAIN loss: 2.366094\n",
      "[Iteration 2651 / 3252] TRAIN loss: 2.394838\n",
      "[Iteration 2701 / 3252] TRAIN loss: 2.256944\n",
      "[Epoch 10 / 12] TRAIN acc: 9.265683\n"
     ]
    },
    {
     "name": "stderr",
     "output_type": "stream",
     "text": [
      "\r",
      " 83%|████████▎ | 10/12 [33:37<06:43, 201.71s/it]"
     ]
    },
    {
     "name": "stdout",
     "output_type": "stream",
     "text": [
      "[Epoch 10 / 12] VAL acc: 6.290323\n",
      "[Iteration 2751 / 3252] TRAIN loss: 2.360634\n",
      "[Iteration 2801 / 3252] TRAIN loss: 2.530987\n",
      "[Iteration 2851 / 3252] TRAIN loss: 2.436299\n",
      "[Iteration 2901 / 3252] TRAIN loss: 2.438985\n",
      "[Iteration 2951 / 3252] TRAIN loss: 2.391941\n",
      "[Epoch 11 / 12] TRAIN acc: 8.974170\n"
     ]
    },
    {
     "name": "stderr",
     "output_type": "stream",
     "text": [
      "\r",
      " 92%|█████████▏| 11/12 [36:50<03:20, 200.98s/it]"
     ]
    },
    {
     "name": "stdout",
     "output_type": "stream",
     "text": [
      "[Epoch 11 / 12] VAL acc: 6.225806\n",
      "[Iteration 3001 / 3252] TRAIN loss: 2.233444\n",
      "[Iteration 3051 / 3252] TRAIN loss: 2.319393\n",
      "[Iteration 3101 / 3252] TRAIN loss: 2.341021\n",
      "[Iteration 3151 / 3252] TRAIN loss: 2.432682\n",
      "[Iteration 3201 / 3252] TRAIN loss: 2.388023\n",
      "[Iteration 3251 / 3252] TRAIN loss: 2.400284\n",
      "[Epoch 12 / 12] TRAIN acc: 9.369004\n"
     ]
    },
    {
     "name": "stderr",
     "output_type": "stream",
     "text": [
      "100%|██████████| 12/12 [40:04<00:00, 200.37s/it]\n",
      "  0%|          | 0/124 [00:00<?, ?it/s]"
     ]
    },
    {
     "name": "stdout",
     "output_type": "stream",
     "text": [
      "[Epoch 12 / 12] VAL acc: 6.268817\n",
      "Trained in 2404 seconds.\n",
      "FINISH.\n"
     ]
    },
    {
     "name": "stderr",
     "output_type": "stream",
     "text": [
      "100%|██████████| 124/124 [00:18<00:00,  6.68it/s]\n"
     ]
    },
    {
     "name": "stdout",
     "output_type": "stream",
     "text": [
      "0.319440709868\n",
      "    9 | 40m32s | \u001b[35m   0.31944\u001b[0m | \u001b[32m     48.0000\u001b[0m | \u001b[32m   0.5000\u001b[0m | \u001b[32m    1.0000\u001b[0m | \u001b[32m  -3.0000\u001b[0m | \u001b[32m     12.0000\u001b[0m | \u001b[32m             10.0000\u001b[0m | \u001b[32m           -3.0000\u001b[0m | \n",
      "weights: [0.0045837917125045834, 0.0030193236714975845, 0.00034800523399871935, 0.0015782828282828283, 0.00084636739115715354, 0.0014982620160613688, 0.00079775352607058521, 0.0051250512505125051, 0.02834467120181406, 0.0098502758077226166, 0.002498001598721023, 0.0011740396355780971, 0.0028875028875028877, 0.0036938534278959812]\n",
      "equivalent_num:\n",
      "1.38888888889\n",
      "1.38888888889\n",
      "1.38888888889\n",
      "1.38888888889\n",
      "1.38888888889\n",
      "1.38888888889\n",
      "1.38888888889\n",
      "1.38888888889\n",
      "1.38888888889\n",
      "1.38888888889\n",
      "1.38888888889\n",
      "1.38888888889\n",
      "1.38888888889\n",
      "1.38888888889\n"
     ]
    },
    {
     "name": "stderr",
     "output_type": "stream",
     "text": [
      "\r",
      "  0%|          | 0/12 [00:00<?, ?it/s]"
     ]
    },
    {
     "name": "stdout",
     "output_type": "stream",
     "text": [
      "START TRAIN.\n",
      "[Iteration 1 / 3252] TRAIN loss: 2.706247\n",
      "[Iteration 51 / 3252] TRAIN loss: 2.605769\n",
      "[Iteration 101 / 3252] TRAIN loss: 2.658085\n",
      "[Iteration 151 / 3252] TRAIN loss: 2.649269\n",
      "[Iteration 201 / 3252] TRAIN loss: 2.691974\n",
      "[Iteration 251 / 3252] TRAIN loss: 2.633741\n",
      "[Epoch 1 / 12] TRAIN acc: 3.656827\n"
     ]
    },
    {
     "name": "stderr",
     "output_type": "stream",
     "text": [
      "\r",
      "  8%|▊         | 1/12 [03:27<37:57, 207.08s/it]"
     ]
    },
    {
     "name": "stdout",
     "output_type": "stream",
     "text": [
      "[Epoch 1 / 12] VAL acc: 0.075269\n",
      "[Iteration 301 / 3252] TRAIN loss: 2.691111\n",
      "[Iteration 351 / 3252] TRAIN loss: 2.659880\n",
      "[Iteration 401 / 3252] TRAIN loss: 2.565093\n",
      "[Iteration 451 / 3252] TRAIN loss: 2.583804\n",
      "[Iteration 501 / 3252] TRAIN loss: 2.567015\n",
      "[Epoch 2 / 12] TRAIN acc: 4.199262\n"
     ]
    },
    {
     "name": "stderr",
     "output_type": "stream",
     "text": [
      "\r",
      " 17%|█▋        | 2/12 [06:53<34:29, 206.91s/it]"
     ]
    },
    {
     "name": "stdout",
     "output_type": "stream",
     "text": [
      "[Epoch 2 / 12] VAL acc: 0.408602\n",
      "[Iteration 551 / 3252] TRAIN loss: 2.653820\n",
      "[Iteration 601 / 3252] TRAIN loss: 2.609606\n",
      "[Iteration 651 / 3252] TRAIN loss: 2.650447\n",
      "[Iteration 701 / 3252] TRAIN loss: 2.614435\n",
      "[Iteration 751 / 3252] TRAIN loss: 2.650972\n",
      "[Iteration 801 / 3252] TRAIN loss: 2.647836\n",
      "[Epoch 3 / 12] TRAIN acc: 4.653137\n"
     ]
    },
    {
     "name": "stderr",
     "output_type": "stream",
     "text": [
      "\r",
      " 25%|██▌       | 3/12 [10:17<30:53, 205.95s/it]"
     ]
    },
    {
     "name": "stdout",
     "output_type": "stream",
     "text": [
      "[Epoch 3 / 12] VAL acc: 0.430108\n",
      "[Iteration 851 / 3252] TRAIN loss: 2.664384\n",
      "[Iteration 901 / 3252] TRAIN loss: 2.616456\n",
      "[Iteration 951 / 3252] TRAIN loss: 2.522524\n",
      "[Iteration 1001 / 3252] TRAIN loss: 2.623262\n",
      "[Iteration 1051 / 3252] TRAIN loss: 2.603035\n",
      "[Epoch 4 / 12] TRAIN acc: 4.833948\n"
     ]
    },
    {
     "name": "stderr",
     "output_type": "stream",
     "text": [
      "\r",
      " 33%|███▎      | 4/12 [13:38<27:17, 204.71s/it]"
     ]
    },
    {
     "name": "stdout",
     "output_type": "stream",
     "text": [
      "[Epoch 4 / 12] VAL acc: 4.043011\n",
      "[Iteration 1101 / 3252] TRAIN loss: 2.666580\n",
      "[Iteration 1151 / 3252] TRAIN loss: 2.625947\n",
      "[Iteration 1201 / 3252] TRAIN loss: 2.498304\n",
      "[Iteration 1251 / 3252] TRAIN loss: 2.594218\n",
      "[Iteration 1301 / 3252] TRAIN loss: 2.623797\n",
      "[Iteration 1351 / 3252] TRAIN loss: 2.569794\n",
      "[Epoch 5 / 12] TRAIN acc: 4.885609\n"
     ]
    },
    {
     "name": "stderr",
     "output_type": "stream",
     "text": [
      "\r",
      " 42%|████▏     | 5/12 [16:58<23:45, 203.63s/it]"
     ]
    },
    {
     "name": "stdout",
     "output_type": "stream",
     "text": [
      "[Epoch 5 / 12] VAL acc: 0.860215\n",
      "[Iteration 1401 / 3252] TRAIN loss: 2.596871\n",
      "[Iteration 1451 / 3252] TRAIN loss: 2.525929\n",
      "[Iteration 1501 / 3252] TRAIN loss: 2.578192\n",
      "[Iteration 1551 / 3252] TRAIN loss: 2.541908\n",
      "[Iteration 1601 / 3252] TRAIN loss: 2.563097\n",
      "[Epoch 6 / 12] TRAIN acc: 5.136531\n"
     ]
    },
    {
     "name": "stderr",
     "output_type": "stream",
     "text": [
      "\r",
      " 50%|█████     | 6/12 [20:16<20:16, 202.71s/it]"
     ]
    },
    {
     "name": "stdout",
     "output_type": "stream",
     "text": [
      "[Epoch 6 / 12] VAL acc: 0.903226\n",
      "[Iteration 1651 / 3252] TRAIN loss: 2.490885\n",
      "[Iteration 1701 / 3252] TRAIN loss: 2.525924\n",
      "[Iteration 1751 / 3252] TRAIN loss: 2.592515\n",
      "[Iteration 1801 / 3252] TRAIN loss: 2.550780\n",
      "[Iteration 1851 / 3252] TRAIN loss: 2.520074\n",
      "[Epoch 7 / 12] TRAIN acc: 5.416974\n"
     ]
    },
    {
     "name": "stderr",
     "output_type": "stream",
     "text": [
      "\r",
      " 58%|█████▊    | 7/12 [23:33<16:49, 201.94s/it]"
     ]
    },
    {
     "name": "stdout",
     "output_type": "stream",
     "text": [
      "[Epoch 7 / 12] VAL acc: 1.494624\n",
      "[Iteration 1901 / 3252] TRAIN loss: 2.558863\n",
      "[Iteration 1951 / 3252] TRAIN loss: 2.520091\n",
      "[Iteration 2001 / 3252] TRAIN loss: 2.641557\n",
      "[Iteration 2051 / 3252] TRAIN loss: 2.628510\n",
      "[Iteration 2101 / 3252] TRAIN loss: 2.613759\n",
      "[Iteration 2151 / 3252] TRAIN loss: 2.599733\n",
      "[Epoch 8 / 12] TRAIN acc: 5.409594\n"
     ]
    },
    {
     "name": "stderr",
     "output_type": "stream",
     "text": [
      "\r",
      " 67%|██████▋   | 8/12 [26:50<13:25, 201.26s/it]"
     ]
    },
    {
     "name": "stdout",
     "output_type": "stream",
     "text": [
      "[Epoch 8 / 12] VAL acc: 1.129032\n",
      "[Iteration 2201 / 3252] TRAIN loss: 2.522504\n",
      "[Iteration 2251 / 3252] TRAIN loss: 2.557459\n",
      "[Iteration 2301 / 3252] TRAIN loss: 2.542058\n",
      "[Iteration 2351 / 3252] TRAIN loss: 2.619422\n",
      "[Iteration 2401 / 3252] TRAIN loss: 2.554058\n",
      "[Epoch 9 / 12] TRAIN acc: 5.214022\n"
     ]
    },
    {
     "name": "stderr",
     "output_type": "stream",
     "text": [
      "\r",
      " 75%|███████▌  | 9/12 [30:05<10:01, 200.57s/it]"
     ]
    },
    {
     "name": "stdout",
     "output_type": "stream",
     "text": [
      "[Epoch 9 / 12] VAL acc: 0.698925\n",
      "[Iteration 2451 / 3252] TRAIN loss: 2.514280\n",
      "[Iteration 2501 / 3252] TRAIN loss: 2.560576\n",
      "[Iteration 2551 / 3252] TRAIN loss: 2.487683\n",
      "[Iteration 2601 / 3252] TRAIN loss: 2.469092\n",
      "[Iteration 2651 / 3252] TRAIN loss: 2.468459\n",
      "[Iteration 2701 / 3252] TRAIN loss: 2.674111\n",
      "[Epoch 10 / 12] TRAIN acc: 5.306273\n"
     ]
    },
    {
     "name": "stderr",
     "output_type": "stream",
     "text": [
      "\r",
      " 83%|████████▎ | 10/12 [33:19<06:39, 199.92s/it]"
     ]
    },
    {
     "name": "stdout",
     "output_type": "stream",
     "text": [
      "[Epoch 10 / 12] VAL acc: 0.913978\n",
      "[Iteration 2751 / 3252] TRAIN loss: 2.583470\n",
      "[Iteration 2801 / 3252] TRAIN loss: 2.571830\n",
      "[Iteration 2851 / 3252] TRAIN loss: 2.504341\n",
      "[Iteration 2901 / 3252] TRAIN loss: 2.489163\n",
      "[Iteration 2951 / 3252] TRAIN loss: 2.493416\n",
      "[Epoch 11 / 12] TRAIN acc: 5.343173\n"
     ]
    },
    {
     "name": "stderr",
     "output_type": "stream",
     "text": [
      "\r",
      " 92%|█████████▏| 11/12 [36:33<03:19, 199.37s/it]"
     ]
    },
    {
     "name": "stdout",
     "output_type": "stream",
     "text": [
      "[Epoch 11 / 12] VAL acc: 1.505376\n",
      "[Iteration 3001 / 3252] TRAIN loss: 2.499787\n",
      "[Iteration 3051 / 3252] TRAIN loss: 2.556689\n",
      "[Iteration 3101 / 3252] TRAIN loss: 2.568326\n",
      "[Iteration 3151 / 3252] TRAIN loss: 2.630896\n",
      "[Iteration 3201 / 3252] TRAIN loss: 2.516944\n",
      "[Iteration 3251 / 3252] TRAIN loss: 2.607184\n",
      "[Epoch 12 / 12] TRAIN acc: 5.623616\n"
     ]
    },
    {
     "name": "stderr",
     "output_type": "stream",
     "text": [
      "100%|██████████| 12/12 [39:46<00:00, 198.91s/it]\n",
      "  0%|          | 0/124 [00:00<?, ?it/s]"
     ]
    },
    {
     "name": "stdout",
     "output_type": "stream",
     "text": [
      "[Epoch 12 / 12] VAL acc: 1.107527\n",
      "Trained in 2386 seconds.\n",
      "FINISH.\n"
     ]
    },
    {
     "name": "stderr",
     "output_type": "stream",
     "text": [
      "100%|██████████| 124/124 [00:18<00:00,  6.66it/s]\n"
     ]
    },
    {
     "name": "stdout",
     "output_type": "stream",
     "text": [
      "0.0583490185534\n",
      "   10 | 40m14s |    0.05835 |      48.0000 |    1.0000 |    10.0000 |   -3.0000 |      12.0000 |               1.0000 |            -3.0000 | \n",
      "weights: [0.079789581891864733, 0.064757278350021791, 0.021985008591674442, 0.046819434893280693, 0.034285715181341145, 0.045617096211309868, 0.033286498891162593, 0.084368991559831519, 0.1984126984126984, 0.11696554459257208, 0.058902009005553535, 0.040380819765943078, 0.063327882303826827, 0.071626475434638417]\n",
      "equivalent_num:\n",
      "24.1762433132\n",
      "29.788348041\n",
      "87.7421692894\n",
      "41.2011027061\n",
      "56.2628586126\n",
      "42.2870481879\n",
      "57.9517945695\n",
      "22.8639967127\n",
      "9.72222222222\n",
      "16.4921417876\n",
      "32.7495170071\n",
      "47.7705097831\n",
      "30.4607113881\n",
      "26.9315547634\n"
     ]
    },
    {
     "name": "stderr",
     "output_type": "stream",
     "text": [
      "\r",
      "  0%|          | 0/6 [00:00<?, ?it/s]"
     ]
    },
    {
     "name": "stdout",
     "output_type": "stream",
     "text": [
      "START TRAIN.\n",
      "[Iteration 1 / 1626] TRAIN loss: 2.956895\n",
      "[Iteration 51 / 1626] TRAIN loss: 2.586490\n",
      "[Iteration 101 / 1626] TRAIN loss: 2.456941\n",
      "[Iteration 151 / 1626] TRAIN loss: 2.623216\n",
      "[Iteration 201 / 1626] TRAIN loss: 2.474176\n",
      "[Iteration 251 / 1626] TRAIN loss: 2.587940\n",
      "[Epoch 1 / 6] TRAIN acc: 7.313653\n"
     ]
    },
    {
     "name": "stderr",
     "output_type": "stream",
     "text": [
      "\r",
      " 17%|█▋        | 1/6 [03:27<17:18, 207.62s/it]"
     ]
    },
    {
     "name": "stdout",
     "output_type": "stream",
     "text": [
      "[Epoch 1 / 6] VAL acc: 6.053763\n",
      "[Iteration 301 / 1626] TRAIN loss: 2.622911\n",
      "[Iteration 351 / 1626] TRAIN loss: 2.636854\n",
      "[Iteration 401 / 1626] TRAIN loss: 2.635888\n",
      "[Iteration 451 / 1626] TRAIN loss: 2.637203\n",
      "[Iteration 501 / 1626] TRAIN loss: 2.637252\n",
      "[Epoch 2 / 6] TRAIN acc: 8.059041\n"
     ]
    },
    {
     "name": "stderr",
     "output_type": "stream",
     "text": [
      "\r",
      " 33%|███▎      | 2/6 [06:50<13:40, 205.17s/it]"
     ]
    },
    {
     "name": "stdout",
     "output_type": "stream",
     "text": [
      "[Epoch 2 / 6] VAL acc: 6.053763\n",
      "[Iteration 551 / 1626] TRAIN loss: 2.637328\n",
      "[Iteration 601 / 1626] TRAIN loss: 2.636756\n",
      "[Iteration 651 / 1626] TRAIN loss: 2.636627\n",
      "[Iteration 701 / 1626] TRAIN loss: 2.637374\n",
      "[Iteration 751 / 1626] TRAIN loss: 2.637296\n",
      "[Iteration 801 / 1626] TRAIN loss: 2.636703\n",
      "[Epoch 3 / 6] TRAIN acc: 7.590406\n"
     ]
    },
    {
     "name": "stderr",
     "output_type": "stream",
     "text": [
      "\r",
      " 50%|█████     | 3/6 [10:10<10:10, 203.42s/it]"
     ]
    },
    {
     "name": "stdout",
     "output_type": "stream",
     "text": [
      "[Epoch 3 / 6] VAL acc: 6.053763\n",
      "[Iteration 851 / 1626] TRAIN loss: 2.635712\n",
      "[Iteration 901 / 1626] TRAIN loss: 2.636812\n",
      "[Iteration 951 / 1626] TRAIN loss: 2.635764\n",
      "[Iteration 1001 / 1626] TRAIN loss: 2.636173\n",
      "[Iteration 1051 / 1626] TRAIN loss: 2.637626\n",
      "[Epoch 4 / 6] TRAIN acc: 8.018450\n"
     ]
    },
    {
     "name": "stderr",
     "output_type": "stream",
     "text": [
      "\r",
      " 67%|██████▋   | 4/6 [13:26<06:43, 201.71s/it]"
     ]
    },
    {
     "name": "stdout",
     "output_type": "stream",
     "text": [
      "[Epoch 4 / 6] VAL acc: 6.053763\n",
      "[Iteration 1101 / 1626] TRAIN loss: 2.638323\n",
      "[Iteration 1151 / 1626] TRAIN loss: 2.637908\n",
      "[Iteration 1201 / 1626] TRAIN loss: 2.638318\n",
      "[Iteration 1251 / 1626] TRAIN loss: 2.637620\n",
      "[Iteration 1301 / 1626] TRAIN loss: 2.637044\n",
      "[Iteration 1351 / 1626] TRAIN loss: 2.637849\n",
      "[Epoch 5 / 6] TRAIN acc: 7.833948\n"
     ]
    },
    {
     "name": "stderr",
     "output_type": "stream",
     "text": [
      "\r",
      " 83%|████████▎ | 5/6 [16:42<03:20, 200.42s/it]"
     ]
    },
    {
     "name": "stdout",
     "output_type": "stream",
     "text": [
      "[Epoch 5 / 6] VAL acc: 6.053763\n",
      "[Iteration 1401 / 1626] TRAIN loss: 2.637086\n",
      "[Iteration 1451 / 1626] TRAIN loss: 2.636819\n",
      "[Iteration 1501 / 1626] TRAIN loss: 2.637772\n",
      "[Iteration 1551 / 1626] TRAIN loss: 2.638374\n",
      "[Iteration 1601 / 1626] TRAIN loss: 2.638181\n",
      "[Epoch 6 / 6] TRAIN acc: 7.734317\n"
     ]
    },
    {
     "name": "stderr",
     "output_type": "stream",
     "text": [
      "100%|██████████| 6/6 [19:57<00:00, 199.52s/it]\n",
      "  0%|          | 0/124 [00:00<?, ?it/s]"
     ]
    },
    {
     "name": "stdout",
     "output_type": "stream",
     "text": [
      "[Epoch 6 / 6] VAL acc: 6.053763\n",
      "Trained in 1197 seconds.\n",
      "FINISH.\n"
     ]
    },
    {
     "name": "stderr",
     "output_type": "stream",
     "text": [
      "100%|██████████| 124/124 [00:18<00:00,  6.54it/s]\n"
     ]
    },
    {
     "name": "stdout",
     "output_type": "stream",
     "text": [
      "0.315676257058\n",
      "   11 | 20m25s |    0.31568 |      48.0000 |    0.5000 |     1.0000 |   -3.0000 |       6.0000 |              10.0000 |             0.0000 | \n",
      "weights: [0.079789581891864733, 0.064757278350021791, 0.021985008591674442, 0.046819434893280693, 0.034285715181341145, 0.045617096211309868, 0.033286498891162593, 0.084368991559831519, 0.1984126984126984, 0.11696554459257208, 0.058902009005553535, 0.040380819765943078, 0.063327882303826827, 0.071626475434638417]\n",
      "equivalent_num:\n",
      "24.1762433132\n",
      "29.788348041\n",
      "87.7421692894\n",
      "41.2011027061\n",
      "56.2628586126\n",
      "42.2870481879\n",
      "57.9517945695\n",
      "22.8639967127\n",
      "9.72222222222\n",
      "16.4921417876\n",
      "32.7495170071\n",
      "47.7705097831\n",
      "30.4607113881\n",
      "26.9315547634\n"
     ]
    },
    {
     "name": "stderr",
     "output_type": "stream",
     "text": [
      "\r",
      "  0%|          | 0/12 [00:00<?, ?it/s]"
     ]
    },
    {
     "name": "stdout",
     "output_type": "stream",
     "text": [
      "START TRAIN.\n",
      "[Iteration 1 / 3252] TRAIN loss: 2.860973\n",
      "[Iteration 51 / 3252] TRAIN loss: 2.833529\n",
      "[Iteration 101 / 3252] TRAIN loss: 2.926731\n",
      "[Iteration 151 / 3252] TRAIN loss: 2.940522\n",
      "[Iteration 201 / 3252] TRAIN loss: 2.982409\n",
      "[Iteration 251 / 3252] TRAIN loss: 2.955987\n",
      "[Epoch 1 / 12] TRAIN acc: 1.280443\n"
     ]
    },
    {
     "name": "stderr",
     "output_type": "stream",
     "text": [
      "\r",
      "  8%|▊         | 1/12 [03:28<38:17, 208.89s/it]"
     ]
    },
    {
     "name": "stdout",
     "output_type": "stream",
     "text": [
      "[Epoch 1 / 12] VAL acc: 0.311828\n",
      "[Iteration 301 / 3252] TRAIN loss: 2.939316\n",
      "[Iteration 351 / 3252] TRAIN loss: 3.020299\n",
      "[Iteration 401 / 3252] TRAIN loss: 2.841176\n",
      "[Iteration 451 / 3252] TRAIN loss: 2.924447\n",
      "[Iteration 501 / 3252] TRAIN loss: 2.998323\n",
      "[Epoch 2 / 12] TRAIN acc: 1.306273\n"
     ]
    },
    {
     "name": "stderr",
     "output_type": "stream",
     "text": [
      "\r",
      " 17%|█▋        | 2/12 [06:58<34:50, 209.08s/it]"
     ]
    },
    {
     "name": "stdout",
     "output_type": "stream",
     "text": [
      "[Epoch 2 / 12] VAL acc: 0.290323\n",
      "[Iteration 551 / 3252] TRAIN loss: 2.965820\n",
      "[Iteration 601 / 3252] TRAIN loss: 2.962057\n",
      "[Iteration 651 / 3252] TRAIN loss: 2.922159\n",
      "[Iteration 701 / 3252] TRAIN loss: 2.893399\n",
      "[Iteration 751 / 3252] TRAIN loss: 2.967836\n",
      "[Iteration 801 / 3252] TRAIN loss: 2.954276\n",
      "[Epoch 3 / 12] TRAIN acc: 1.202952\n"
     ]
    },
    {
     "name": "stderr",
     "output_type": "stream",
     "text": [
      "\r",
      " 25%|██▌       | 3/12 [10:27<31:21, 209.07s/it]"
     ]
    },
    {
     "name": "stdout",
     "output_type": "stream",
     "text": [
      "[Epoch 3 / 12] VAL acc: 0.290323\n",
      "[Iteration 851 / 3252] TRAIN loss: 2.835006\n",
      "[Iteration 901 / 3252] TRAIN loss: 2.903122\n",
      "[Iteration 951 / 3252] TRAIN loss: 2.863916\n",
      "[Iteration 1001 / 3252] TRAIN loss: 2.928392\n",
      "[Iteration 1051 / 3252] TRAIN loss: 2.943460\n",
      "[Epoch 4 / 12] TRAIN acc: 1.254613\n"
     ]
    },
    {
     "name": "stderr",
     "output_type": "stream",
     "text": [
      "\r",
      " 33%|███▎      | 4/12 [13:56<27:52, 209.08s/it]"
     ]
    },
    {
     "name": "stdout",
     "output_type": "stream",
     "text": [
      "[Epoch 4 / 12] VAL acc: 0.311828\n",
      "[Iteration 1101 / 3252] TRAIN loss: 2.905118\n",
      "[Iteration 1151 / 3252] TRAIN loss: 3.094881\n",
      "[Iteration 1201 / 3252] TRAIN loss: 2.850414\n",
      "[Iteration 1251 / 3252] TRAIN loss: 3.003048\n",
      "[Iteration 1301 / 3252] TRAIN loss: 2.924998\n",
      "[Iteration 1351 / 3252] TRAIN loss: 2.923288\n",
      "[Epoch 5 / 12] TRAIN acc: 1.265683\n"
     ]
    },
    {
     "name": "stderr",
     "output_type": "stream",
     "text": [
      "\r",
      " 42%|████▏     | 5/12 [17:25<24:23, 209.14s/it]"
     ]
    },
    {
     "name": "stdout",
     "output_type": "stream",
     "text": [
      "[Epoch 5 / 12] VAL acc: 0.290323\n",
      "[Iteration 1401 / 3252] TRAIN loss: 2.946062\n",
      "[Iteration 1451 / 3252] TRAIN loss: 2.952381\n",
      "[Iteration 1501 / 3252] TRAIN loss: 2.888444\n",
      "[Iteration 1551 / 3252] TRAIN loss: 2.946245\n",
      "[Iteration 1601 / 3252] TRAIN loss: 2.946573\n",
      "[Epoch 6 / 12] TRAIN acc: 1.335793\n"
     ]
    },
    {
     "name": "stderr",
     "output_type": "stream",
     "text": [
      "\r",
      " 50%|█████     | 6/12 [20:54<20:54, 209.17s/it]"
     ]
    },
    {
     "name": "stdout",
     "output_type": "stream",
     "text": [
      "[Epoch 6 / 12] VAL acc: 0.311828\n",
      "[Iteration 1651 / 3252] TRAIN loss: 2.753530\n",
      "[Iteration 1701 / 3252] TRAIN loss: 2.793194\n",
      "[Iteration 1751 / 3252] TRAIN loss: 2.958343\n",
      "[Iteration 1801 / 3252] TRAIN loss: 2.794513\n",
      "[Iteration 1851 / 3252] TRAIN loss: 2.828820\n",
      "[Epoch 7 / 12] TRAIN acc: 1.424354\n"
     ]
    },
    {
     "name": "stderr",
     "output_type": "stream",
     "text": [
      "\r",
      " 58%|█████▊    | 7/12 [24:24<17:25, 209.20s/it]"
     ]
    },
    {
     "name": "stdout",
     "output_type": "stream",
     "text": [
      "[Epoch 7 / 12] VAL acc: 0.268817\n",
      "[Iteration 1901 / 3252] TRAIN loss: 2.737225\n",
      "[Iteration 1951 / 3252] TRAIN loss: 2.817671\n",
      "[Iteration 2001 / 3252] TRAIN loss: 2.951650\n",
      "[Iteration 2051 / 3252] TRAIN loss: 2.997270\n",
      "[Iteration 2101 / 3252] TRAIN loss: 2.884812\n",
      "[Iteration 2151 / 3252] TRAIN loss: 2.955870\n",
      "[Epoch 8 / 12] TRAIN acc: 1.387454\n"
     ]
    },
    {
     "name": "stderr",
     "output_type": "stream",
     "text": [
      "\r",
      " 67%|██████▋   | 8/12 [27:53<13:56, 209.21s/it]"
     ]
    },
    {
     "name": "stdout",
     "output_type": "stream",
     "text": [
      "[Epoch 8 / 12] VAL acc: 0.290323\n",
      "[Iteration 2201 / 3252] TRAIN loss: 2.909526\n",
      "[Iteration 2251 / 3252] TRAIN loss: 2.930088\n",
      "[Iteration 2301 / 3252] TRAIN loss: 2.934213\n",
      "[Iteration 2351 / 3252] TRAIN loss: 2.908930\n",
      "[Iteration 2401 / 3252] TRAIN loss: 2.818146\n",
      "[Epoch 9 / 12] TRAIN acc: 1.487085\n"
     ]
    },
    {
     "name": "stderr",
     "output_type": "stream",
     "text": [
      "\r",
      " 75%|███████▌  | 9/12 [31:22<10:27, 209.20s/it]"
     ]
    },
    {
     "name": "stdout",
     "output_type": "stream",
     "text": [
      "[Epoch 9 / 12] VAL acc: 0.301075\n",
      "[Iteration 2451 / 3252] TRAIN loss: 2.918256\n",
      "[Iteration 2501 / 3252] TRAIN loss: 2.818861\n",
      "[Iteration 2551 / 3252] TRAIN loss: 2.806665\n",
      "[Iteration 2601 / 3252] TRAIN loss: 2.947224\n",
      "[Iteration 2651 / 3252] TRAIN loss: 2.904539\n",
      "[Iteration 2701 / 3252] TRAIN loss: 3.053088\n",
      "[Epoch 10 / 12] TRAIN acc: 1.284133\n"
     ]
    },
    {
     "name": "stderr",
     "output_type": "stream",
     "text": [
      "\r",
      " 83%|████████▎ | 10/12 [34:52<06:58, 209.21s/it]"
     ]
    },
    {
     "name": "stdout",
     "output_type": "stream",
     "text": [
      "[Epoch 10 / 12] VAL acc: 0.365591\n",
      "[Iteration 2751 / 3252] TRAIN loss: 2.857177\n",
      "[Iteration 2801 / 3252] TRAIN loss: 2.881547\n",
      "[Iteration 2851 / 3252] TRAIN loss: 2.874849\n",
      "[Iteration 2901 / 3252] TRAIN loss: 2.804762\n",
      "[Iteration 2951 / 3252] TRAIN loss: 3.077200\n",
      "[Epoch 11 / 12] TRAIN acc: 1.335793\n"
     ]
    },
    {
     "name": "stderr",
     "output_type": "stream",
     "text": [
      "\r",
      " 92%|█████████▏| 11/12 [38:21<03:29, 209.21s/it]"
     ]
    },
    {
     "name": "stdout",
     "output_type": "stream",
     "text": [
      "[Epoch 11 / 12] VAL acc: 0.333333\n",
      "[Iteration 3001 / 3252] TRAIN loss: 2.850190\n",
      "[Iteration 3051 / 3252] TRAIN loss: 2.923692\n",
      "[Iteration 3101 / 3252] TRAIN loss: 2.819823\n",
      "[Iteration 3151 / 3252] TRAIN loss: 2.767033\n",
      "[Iteration 3201 / 3252] TRAIN loss: 2.932723\n",
      "[Iteration 3251 / 3252] TRAIN loss: 2.861544\n",
      "[Epoch 12 / 12] TRAIN acc: 1.450185\n"
     ]
    },
    {
     "name": "stderr",
     "output_type": "stream",
     "text": [
      "100%|██████████| 12/12 [41:50<00:00, 209.19s/it]\n",
      "  0%|          | 0/124 [00:00<?, ?it/s]"
     ]
    },
    {
     "name": "stdout",
     "output_type": "stream",
     "text": [
      "[Epoch 12 / 12] VAL acc: 0.376344\n",
      "Trained in 2510 seconds.\n",
      "FINISH.\n"
     ]
    },
    {
     "name": "stderr",
     "output_type": "stream",
     "text": [
      "100%|██████████| 124/124 [00:19<00:00,  6.34it/s]\n"
     ]
    },
    {
     "name": "stdout",
     "output_type": "stream",
     "text": [
      "0.0137133638075\n",
      "   12 | 42m22s |    0.01371 |      48.0000 |    0.5000 |     1.0000 |   -7.0000 |      12.0000 |              10.0000 |             0.0000 | \n",
      "weights: [0.0045837917125045834, 0.0030193236714975845, 0.00034800523399871935, 0.0015782828282828283, 0.00084636739115715354, 0.0014982620160613688, 0.00079775352607058521, 0.0051250512505125051, 0.02834467120181406, 0.0098502758077226166, 0.002498001598721023, 0.0011740396355780971, 0.0028875028875028877, 0.0036938534278959812]\n",
      "equivalent_num:\n",
      "1.38888888889\n",
      "1.38888888889\n",
      "1.38888888889\n",
      "1.38888888889\n",
      "1.38888888889\n",
      "1.38888888889\n",
      "1.38888888889\n",
      "1.38888888889\n",
      "1.38888888889\n",
      "1.38888888889\n",
      "1.38888888889\n",
      "1.38888888889\n",
      "1.38888888889\n",
      "1.38888888889\n"
     ]
    },
    {
     "name": "stderr",
     "output_type": "stream",
     "text": [
      "\r",
      "  0%|          | 0/6 [00:00<?, ?it/s]"
     ]
    },
    {
     "name": "stdout",
     "output_type": "stream",
     "text": [
      "START TRAIN.\n",
      "[Iteration 1 / 1626] TRAIN loss: 2.634910\n",
      "[Iteration 51 / 1626] TRAIN loss: 2.638795\n",
      "[Iteration 101 / 1626] TRAIN loss: 2.639617\n",
      "[Iteration 151 / 1626] TRAIN loss: 2.639682\n",
      "[Iteration 201 / 1626] TRAIN loss: 2.639150\n",
      "[Iteration 251 / 1626] TRAIN loss: 2.637932\n",
      "[Epoch 1 / 6] TRAIN acc: 3.472325\n"
     ]
    },
    {
     "name": "stderr",
     "output_type": "stream",
     "text": [
      "\r",
      " 17%|█▋        | 1/6 [03:24<17:03, 204.67s/it]"
     ]
    },
    {
     "name": "stdout",
     "output_type": "stream",
     "text": [
      "[Epoch 1 / 6] VAL acc: 0.430108\n",
      "[Iteration 301 / 1626] TRAIN loss: 2.639761\n",
      "[Iteration 351 / 1626] TRAIN loss: 2.638437\n",
      "[Iteration 401 / 1626] TRAIN loss: 2.638823\n",
      "[Iteration 451 / 1626] TRAIN loss: 2.638216\n",
      "[Iteration 501 / 1626] TRAIN loss: 2.638808\n",
      "[Epoch 2 / 6] TRAIN acc: 3.247232\n"
     ]
    },
    {
     "name": "stderr",
     "output_type": "stream",
     "text": [
      "\r",
      " 33%|███▎      | 2/6 [06:42<13:25, 201.37s/it]"
     ]
    },
    {
     "name": "stdout",
     "output_type": "stream",
     "text": [
      "[Epoch 2 / 6] VAL acc: 2.774194\n",
      "[Iteration 551 / 1626] TRAIN loss: 2.639102\n",
      "[Iteration 601 / 1626] TRAIN loss: 2.639219\n",
      "[Iteration 651 / 1626] TRAIN loss: 2.638350\n",
      "[Iteration 701 / 1626] TRAIN loss: 2.638625\n",
      "[Iteration 751 / 1626] TRAIN loss: 2.637987\n",
      "[Iteration 801 / 1626] TRAIN loss: 2.640475\n",
      "[Epoch 3 / 6] TRAIN acc: 3.391144\n"
     ]
    },
    {
     "name": "stderr",
     "output_type": "stream",
     "text": [
      "\r",
      " 50%|█████     | 3/6 [09:58<09:58, 199.53s/it]"
     ]
    },
    {
     "name": "stdout",
     "output_type": "stream",
     "text": [
      "[Epoch 3 / 6] VAL acc: 0.075269\n",
      "[Iteration 851 / 1626] TRAIN loss: 2.639730\n",
      "[Iteration 901 / 1626] TRAIN loss: 2.638105\n",
      "[Iteration 951 / 1626] TRAIN loss: 2.638874\n",
      "[Iteration 1001 / 1626] TRAIN loss: 2.639588\n",
      "[Iteration 1051 / 1626] TRAIN loss: 2.639151\n",
      "[Epoch 4 / 6] TRAIN acc: 3.321033\n"
     ]
    },
    {
     "name": "stderr",
     "output_type": "stream",
     "text": [
      "\r",
      " 67%|██████▋   | 4/6 [13:13<06:36, 198.25s/it]"
     ]
    },
    {
     "name": "stdout",
     "output_type": "stream",
     "text": [
      "[Epoch 4 / 6] VAL acc: 0.655914\n",
      "[Iteration 1101 / 1626] TRAIN loss: 2.638142\n",
      "[Iteration 1151 / 1626] TRAIN loss: 2.639550\n",
      "[Iteration 1201 / 1626] TRAIN loss: 2.638154\n",
      "[Iteration 1251 / 1626] TRAIN loss: 2.639084\n",
      "[Iteration 1301 / 1626] TRAIN loss: 2.640190\n",
      "[Iteration 1351 / 1626] TRAIN loss: 2.639594\n",
      "[Epoch 5 / 6] TRAIN acc: 3.354244\n"
     ]
    },
    {
     "name": "stderr",
     "output_type": "stream",
     "text": [
      "\r",
      " 83%|████████▎ | 5/6 [16:27<03:17, 197.45s/it]"
     ]
    },
    {
     "name": "stdout",
     "output_type": "stream",
     "text": [
      "[Epoch 5 / 6] VAL acc: 1.440860\n",
      "[Iteration 1401 / 1626] TRAIN loss: 2.639701\n",
      "[Iteration 1451 / 1626] TRAIN loss: 2.639397\n",
      "[Iteration 1501 / 1626] TRAIN loss: 2.640366\n",
      "[Iteration 1551 / 1626] TRAIN loss: 2.638046\n",
      "[Iteration 1601 / 1626] TRAIN loss: 2.637765\n",
      "[Epoch 6 / 6] TRAIN acc: 3.424354\n"
     ]
    },
    {
     "name": "stderr",
     "output_type": "stream",
     "text": [
      "100%|██████████| 6/6 [19:41<00:00, 196.96s/it]\n",
      "  0%|          | 0/124 [00:00<?, ?it/s]"
     ]
    },
    {
     "name": "stdout",
     "output_type": "stream",
     "text": [
      "[Epoch 6 / 6] VAL acc: 0.408602\n",
      "Trained in 1181 seconds.\n",
      "FINISH.\n"
     ]
    },
    {
     "name": "stderr",
     "output_type": "stream",
     "text": [
      "100%|██████████| 124/124 [00:18<00:00,  6.56it/s]\n"
     ]
    },
    {
     "name": "stdout",
     "output_type": "stream",
     "text": [
      "0.0182844850766\n",
      "   13 | 20m14s |    0.01828 |      48.0000 |    1.0000 |     6.2676 |   -3.0000 |       6.0000 |               5.9859 |             0.0000 | \n",
      "weights: [0.079789581891864733, 0.064757278350021791, 0.021985008591674442, 0.046819434893280693, 0.034285715181341145, 0.045617096211309868, 0.033286498891162593, 0.084368991559831519, 0.1984126984126984, 0.11696554459257208, 0.058902009005553535, 0.040380819765943078, 0.063327882303826827, 0.071626475434638417]\n",
      "equivalent_num:\n",
      "24.1762433132\n",
      "29.788348041\n",
      "87.7421692894\n",
      "41.2011027061\n",
      "56.2628586126\n",
      "42.2870481879\n",
      "57.9517945695\n",
      "22.8639967127\n",
      "9.72222222222\n",
      "16.4921417876\n",
      "32.7495170071\n",
      "47.7705097831\n",
      "30.4607113881\n",
      "26.9315547634\n"
     ]
    },
    {
     "name": "stderr",
     "output_type": "stream",
     "text": [
      "\r",
      "  0%|          | 0/12 [00:00<?, ?it/s]"
     ]
    },
    {
     "name": "stdout",
     "output_type": "stream",
     "text": [
      "START TRAIN.\n",
      "[Iteration 1 / 3252] TRAIN loss: 3.043605\n",
      "[Iteration 51 / 3252] TRAIN loss: 3.095410\n",
      "[Iteration 101 / 3252] TRAIN loss: 2.785027\n",
      "[Iteration 151 / 3252] TRAIN loss: 3.133095\n",
      "[Iteration 201 / 3252] TRAIN loss: 2.984647\n",
      "[Iteration 251 / 3252] TRAIN loss: 2.821454\n",
      "[Epoch 1 / 12] TRAIN acc: 1.745387\n"
     ]
    },
    {
     "name": "stderr",
     "output_type": "stream",
     "text": [
      "\r",
      "  8%|▊         | 1/12 [03:28<38:17, 208.86s/it]"
     ]
    },
    {
     "name": "stdout",
     "output_type": "stream",
     "text": [
      "[Epoch 1 / 12] VAL acc: 0.247312\n",
      "[Iteration 301 / 3252] TRAIN loss: 3.143819\n",
      "[Iteration 351 / 3252] TRAIN loss: 2.821720\n",
      "[Iteration 401 / 3252] TRAIN loss: 2.717180\n",
      "[Iteration 451 / 3252] TRAIN loss: 2.855214\n",
      "[Iteration 501 / 3252] TRAIN loss: 2.801280\n",
      "[Epoch 2 / 12] TRAIN acc: 1.756458\n"
     ]
    },
    {
     "name": "stderr",
     "output_type": "stream",
     "text": [
      "\r",
      " 17%|█▋        | 2/12 [06:58<34:50, 209.02s/it]"
     ]
    },
    {
     "name": "stdout",
     "output_type": "stream",
     "text": [
      "[Epoch 2 / 12] VAL acc: 0.419355\n",
      "[Iteration 551 / 3252] TRAIN loss: 2.881323\n",
      "[Iteration 601 / 3252] TRAIN loss: 2.714239\n",
      "[Iteration 651 / 3252] TRAIN loss: 2.803843\n",
      "[Iteration 701 / 3252] TRAIN loss: 2.780993\n",
      "[Iteration 751 / 3252] TRAIN loss: 2.769288\n",
      "[Iteration 801 / 3252] TRAIN loss: 2.682594\n",
      "[Epoch 3 / 12] TRAIN acc: 2.088561\n"
     ]
    },
    {
     "name": "stderr",
     "output_type": "stream",
     "text": [
      "\r",
      " 25%|██▌       | 3/12 [10:27<31:21, 209.05s/it]"
     ]
    },
    {
     "name": "stdout",
     "output_type": "stream",
     "text": [
      "[Epoch 3 / 12] VAL acc: 0.677419\n",
      "[Iteration 851 / 3252] TRAIN loss: 2.668648\n",
      "[Iteration 901 / 3252] TRAIN loss: 2.621850\n",
      "[Iteration 951 / 3252] TRAIN loss: 2.788963\n",
      "[Iteration 1001 / 3252] TRAIN loss: 2.671224\n",
      "[Iteration 1051 / 3252] TRAIN loss: 2.580112\n",
      "[Epoch 4 / 12] TRAIN acc: 2.907749\n"
     ]
    },
    {
     "name": "stderr",
     "output_type": "stream",
     "text": [
      "\r",
      " 33%|███▎      | 4/12 [13:56<27:52, 209.11s/it]"
     ]
    },
    {
     "name": "stdout",
     "output_type": "stream",
     "text": [
      "[Epoch 4 / 12] VAL acc: 1.161290\n",
      "[Iteration 1101 / 3252] TRAIN loss: 2.727947\n",
      "[Iteration 1151 / 3252] TRAIN loss: 2.631767\n",
      "[Iteration 1201 / 3252] TRAIN loss: 2.522319\n",
      "[Iteration 1251 / 3252] TRAIN loss: 2.441722\n",
      "[Iteration 1301 / 3252] TRAIN loss: 2.621172\n",
      "[Iteration 1351 / 3252] TRAIN loss: 2.537946\n",
      "[Epoch 5 / 12] TRAIN acc: 4.546125\n"
     ]
    },
    {
     "name": "stderr",
     "output_type": "stream",
     "text": [
      "\r",
      " 42%|████▏     | 5/12 [17:25<24:23, 209.10s/it]"
     ]
    },
    {
     "name": "stdout",
     "output_type": "stream",
     "text": [
      "[Epoch 5 / 12] VAL acc: 2.279570\n",
      "[Iteration 1401 / 3252] TRAIN loss: 2.493038\n",
      "[Iteration 1451 / 3252] TRAIN loss: 2.491657\n",
      "[Iteration 1501 / 3252] TRAIN loss: 2.481438\n",
      "[Iteration 1551 / 3252] TRAIN loss: 2.324538\n",
      "[Iteration 1601 / 3252] TRAIN loss: 2.508970\n",
      "[Epoch 6 / 12] TRAIN acc: 5.992620\n"
     ]
    },
    {
     "name": "stderr",
     "output_type": "stream",
     "text": [
      "\r",
      " 50%|█████     | 6/12 [20:54<20:54, 209.10s/it]"
     ]
    },
    {
     "name": "stdout",
     "output_type": "stream",
     "text": [
      "[Epoch 6 / 12] VAL acc: 3.344086\n",
      "[Iteration 1651 / 3252] TRAIN loss: 2.650045\n",
      "[Iteration 1701 / 3252] TRAIN loss: 2.531826\n",
      "[Iteration 1751 / 3252] TRAIN loss: 2.419277\n",
      "[Iteration 1801 / 3252] TRAIN loss: 2.458233\n",
      "[Iteration 1851 / 3252] TRAIN loss: 2.486120\n",
      "[Epoch 7 / 12] TRAIN acc: 7.523985\n"
     ]
    },
    {
     "name": "stderr",
     "output_type": "stream",
     "text": [
      "\r",
      " 58%|█████▊    | 7/12 [24:23<17:25, 209.12s/it]"
     ]
    },
    {
     "name": "stdout",
     "output_type": "stream",
     "text": [
      "[Epoch 7 / 12] VAL acc: 3.817204\n",
      "[Iteration 1901 / 3252] TRAIN loss: 2.422907\n",
      "[Iteration 1951 / 3252] TRAIN loss: 2.329782\n",
      "[Iteration 2001 / 3252] TRAIN loss: 2.495830\n",
      "[Iteration 2051 / 3252] TRAIN loss: 2.505902\n",
      "[Iteration 2101 / 3252] TRAIN loss: 2.297372\n",
      "[Iteration 2151 / 3252] TRAIN loss: 2.388031\n",
      "[Epoch 8 / 12] TRAIN acc: 8.933579\n"
     ]
    },
    {
     "name": "stderr",
     "output_type": "stream",
     "text": [
      "\r",
      " 67%|██████▋   | 8/12 [27:52<13:56, 209.08s/it]"
     ]
    },
    {
     "name": "stdout",
     "output_type": "stream",
     "text": [
      "[Epoch 8 / 12] VAL acc: 4.806452\n",
      "[Iteration 2201 / 3252] TRAIN loss: 2.276025\n",
      "[Iteration 2251 / 3252] TRAIN loss: 2.505380\n",
      "[Iteration 2301 / 3252] TRAIN loss: 2.438537\n",
      "[Iteration 2351 / 3252] TRAIN loss: 2.491111\n",
      "[Iteration 2401 / 3252] TRAIN loss: 2.442472\n",
      "[Epoch 9 / 12] TRAIN acc: 10.206642\n"
     ]
    },
    {
     "name": "stderr",
     "output_type": "stream",
     "text": [
      "\r",
      " 75%|███████▌  | 9/12 [31:21<10:27, 209.09s/it]"
     ]
    },
    {
     "name": "stdout",
     "output_type": "stream",
     "text": [
      "[Epoch 9 / 12] VAL acc: 5.215054\n",
      "[Iteration 2451 / 3252] TRAIN loss: 2.448095\n",
      "[Iteration 2501 / 3252] TRAIN loss: 2.309700\n",
      "[Iteration 2551 / 3252] TRAIN loss: 2.313120\n",
      "[Iteration 2601 / 3252] TRAIN loss: 2.342263\n",
      "[Iteration 2651 / 3252] TRAIN loss: 2.214945\n",
      "[Iteration 2701 / 3252] TRAIN loss: 2.182715\n",
      "[Epoch 10 / 12] TRAIN acc: 10.726937\n"
     ]
    },
    {
     "name": "stderr",
     "output_type": "stream",
     "text": [
      "\r",
      " 83%|████████▎ | 10/12 [34:50<06:58, 209.10s/it]"
     ]
    },
    {
     "name": "stdout",
     "output_type": "stream",
     "text": [
      "[Epoch 10 / 12] VAL acc: 5.473118\n",
      "[Iteration 2751 / 3252] TRAIN loss: 2.326819\n",
      "[Iteration 2801 / 3252] TRAIN loss: 2.245052\n",
      "[Iteration 2851 / 3252] TRAIN loss: 2.427342\n",
      "[Iteration 2901 / 3252] TRAIN loss: 2.360387\n",
      "[Iteration 2951 / 3252] TRAIN loss: 2.206498\n",
      "[Epoch 11 / 12] TRAIN acc: 11.671587\n"
     ]
    },
    {
     "name": "stderr",
     "output_type": "stream",
     "text": [
      "\r",
      " 92%|█████████▏| 11/12 [38:19<03:29, 209.08s/it]"
     ]
    },
    {
     "name": "stdout",
     "output_type": "stream",
     "text": [
      "[Epoch 11 / 12] VAL acc: 6.043011\n",
      "[Iteration 3001 / 3252] TRAIN loss: 2.207693\n",
      "[Iteration 3051 / 3252] TRAIN loss: 2.443867\n",
      "[Iteration 3101 / 3252] TRAIN loss: 2.126251\n",
      "[Iteration 3151 / 3252] TRAIN loss: 2.237408\n",
      "[Iteration 3201 / 3252] TRAIN loss: 2.260404\n",
      "[Iteration 3251 / 3252] TRAIN loss: 2.365235\n",
      "[Epoch 12 / 12] TRAIN acc: 12.442804\n"
     ]
    },
    {
     "name": "stderr",
     "output_type": "stream",
     "text": [
      "100%|██████████| 12/12 [41:49<00:00, 209.09s/it]\n",
      "  0%|          | 0/124 [00:00<?, ?it/s]"
     ]
    },
    {
     "name": "stdout",
     "output_type": "stream",
     "text": [
      "[Epoch 12 / 12] VAL acc: 6.322581\n",
      "Trained in 2509 seconds.\n",
      "FINISH.\n"
     ]
    },
    {
     "name": "stderr",
     "output_type": "stream",
     "text": [
      "100%|██████████| 124/124 [00:19<00:00,  6.34it/s]\n",
      "  0%|          | 5/12386 [00:00<04:46, 43.20it/s]"
     ]
    },
    {
     "name": "stdout",
     "output_type": "stream",
     "text": [
      "0.324011831137\n",
      "submissions/res18_0.32401_HGMJQBH.csv\n",
      "'detected'\n"
     ]
    },
    {
     "name": "stderr",
     "output_type": "stream",
     "text": [
      "100%|██████████| 12386/12386 [03:33<00:00, 58.09it/s]\n"
     ]
    },
    {
     "name": "stdout",
     "output_type": "stream",
     "text": [
      "   14 | 45m51s | \u001b[35m   0.32401\u001b[0m | \u001b[32m     48.0000\u001b[0m | \u001b[32m   0.5000\u001b[0m | \u001b[32m   10.0000\u001b[0m | \u001b[32m  -7.0000\u001b[0m | \u001b[32m     12.0000\u001b[0m | \u001b[32m             10.0000\u001b[0m | \u001b[32m           -3.0000\u001b[0m | \n",
      "weights: [0.079789581891864733, 0.064757278350021791, 0.021985008591674442, 0.046819434893280693, 0.034285715181341145, 0.045617096211309868, 0.033286498891162593, 0.084368991559831519, 0.1984126984126984, 0.11696554459257208, 0.058902009005553535, 0.040380819765943078, 0.063327882303826827, 0.071626475434638417]\n",
      "equivalent_num:\n",
      "24.1762433132\n",
      "29.788348041\n",
      "87.7421692894\n",
      "41.2011027061\n",
      "56.2628586126\n",
      "42.2870481879\n",
      "57.9517945695\n",
      "22.8639967127\n",
      "9.72222222222\n",
      "16.4921417876\n",
      "32.7495170071\n",
      "47.7705097831\n",
      "30.4607113881\n",
      "26.9315547634\n"
     ]
    },
    {
     "name": "stderr",
     "output_type": "stream",
     "text": [
      "\r",
      "  0%|          | 0/12 [00:00<?, ?it/s]"
     ]
    },
    {
     "name": "stdout",
     "output_type": "stream",
     "text": [
      "START TRAIN.\n",
      "[Iteration 1 / 3252] TRAIN loss: 2.682379\n",
      "[Iteration 51 / 3252] TRAIN loss: 2.749614\n",
      "[Iteration 101 / 3252] TRAIN loss: 2.631225\n",
      "[Iteration 151 / 3252] TRAIN loss: 2.663153\n",
      "[Iteration 201 / 3252] TRAIN loss: 2.747597\n",
      "[Iteration 251 / 3252] TRAIN loss: 2.625987\n",
      "[Epoch 1 / 12] TRAIN acc: 3.442804\n"
     ]
    },
    {
     "name": "stderr",
     "output_type": "stream",
     "text": [
      "\r",
      "  8%|▊         | 1/12 [03:28<38:18, 209.00s/it]"
     ]
    },
    {
     "name": "stdout",
     "output_type": "stream",
     "text": [
      "[Epoch 1 / 12] VAL acc: 1.763441\n",
      "[Iteration 301 / 3252] TRAIN loss: 2.700180\n",
      "[Iteration 351 / 3252] TRAIN loss: 2.769414\n",
      "[Iteration 401 / 3252] TRAIN loss: 2.703983\n",
      "[Iteration 451 / 3252] TRAIN loss: 2.770693\n",
      "[Iteration 501 / 3252] TRAIN loss: 2.811669\n",
      "[Epoch 2 / 12] TRAIN acc: 3.811808\n"
     ]
    },
    {
     "name": "stderr",
     "output_type": "stream",
     "text": [
      "\r",
      " 17%|█▋        | 2/12 [06:58<34:51, 209.16s/it]"
     ]
    },
    {
     "name": "stdout",
     "output_type": "stream",
     "text": [
      "[Epoch 2 / 12] VAL acc: 1.849462\n",
      "[Iteration 551 / 3252] TRAIN loss: 2.648543\n",
      "[Iteration 601 / 3252] TRAIN loss: 2.792431\n",
      "[Iteration 651 / 3252] TRAIN loss: 2.867188\n",
      "[Iteration 701 / 3252] TRAIN loss: 2.786439\n",
      "[Iteration 751 / 3252] TRAIN loss: 2.675493\n",
      "[Iteration 801 / 3252] TRAIN loss: 2.681338\n",
      "[Epoch 3 / 12] TRAIN acc: 3.789668\n"
     ]
    },
    {
     "name": "stderr",
     "output_type": "stream",
     "text": [
      "\r",
      " 25%|██▌       | 3/12 [10:27<31:21, 209.08s/it]"
     ]
    },
    {
     "name": "stdout",
     "output_type": "stream",
     "text": [
      "[Epoch 3 / 12] VAL acc: 1.989247\n",
      "[Iteration 851 / 3252] TRAIN loss: 2.692767\n",
      "[Iteration 901 / 3252] TRAIN loss: 2.643387\n",
      "[Iteration 951 / 3252] TRAIN loss: 2.654074\n",
      "[Iteration 1001 / 3252] TRAIN loss: 2.659280\n",
      "[Iteration 1051 / 3252] TRAIN loss: 2.646605\n",
      "[Epoch 4 / 12] TRAIN acc: 3.955720\n"
     ]
    },
    {
     "name": "stderr",
     "output_type": "stream",
     "text": [
      "\r",
      " 33%|███▎      | 4/12 [13:56<27:53, 209.13s/it]"
     ]
    },
    {
     "name": "stdout",
     "output_type": "stream",
     "text": [
      "[Epoch 4 / 12] VAL acc: 2.075269\n",
      "[Iteration 1101 / 3252] TRAIN loss: 2.670061\n",
      "[Iteration 1151 / 3252] TRAIN loss: 2.755101\n",
      "[Iteration 1201 / 3252] TRAIN loss: 2.823977\n",
      "[Iteration 1251 / 3252] TRAIN loss: 2.660075\n",
      "[Iteration 1301 / 3252] TRAIN loss: 2.562007\n",
      "[Iteration 1351 / 3252] TRAIN loss: 2.853092\n",
      "[Epoch 5 / 12] TRAIN acc: 4.033210\n"
     ]
    },
    {
     "name": "stderr",
     "output_type": "stream",
     "text": [
      "\r",
      " 42%|████▏     | 5/12 [17:25<24:24, 209.16s/it]"
     ]
    },
    {
     "name": "stdout",
     "output_type": "stream",
     "text": [
      "[Epoch 5 / 12] VAL acc: 2.118280\n",
      "[Iteration 1401 / 3252] TRAIN loss: 2.684893\n",
      "[Iteration 1451 / 3252] TRAIN loss: 2.650901\n",
      "[Iteration 1501 / 3252] TRAIN loss: 2.752995\n",
      "[Iteration 1551 / 3252] TRAIN loss: 2.633378\n",
      "[Iteration 1601 / 3252] TRAIN loss: 2.786861\n",
      "[Epoch 6 / 12] TRAIN acc: 4.428044\n"
     ]
    },
    {
     "name": "stderr",
     "output_type": "stream",
     "text": [
      "\r",
      " 50%|█████     | 6/12 [20:55<20:55, 209.17s/it]"
     ]
    },
    {
     "name": "stdout",
     "output_type": "stream",
     "text": [
      "[Epoch 6 / 12] VAL acc: 2.344086\n",
      "[Iteration 1651 / 3252] TRAIN loss: 2.586206\n",
      "[Iteration 1701 / 3252] TRAIN loss: 2.601444\n",
      "[Iteration 1751 / 3252] TRAIN loss: 2.552689\n",
      "[Iteration 1801 / 3252] TRAIN loss: 2.705354\n",
      "[Iteration 1851 / 3252] TRAIN loss: 2.728979\n",
      "[Epoch 7 / 12] TRAIN acc: 4.535055\n"
     ]
    },
    {
     "name": "stderr",
     "output_type": "stream",
     "text": [
      "\r",
      " 58%|█████▊    | 7/12 [24:24<17:25, 209.19s/it]"
     ]
    },
    {
     "name": "stdout",
     "output_type": "stream",
     "text": [
      "[Epoch 7 / 12] VAL acc: 2.419355\n",
      "[Iteration 1901 / 3252] TRAIN loss: 2.670202\n",
      "[Iteration 1951 / 3252] TRAIN loss: 2.661083\n",
      "[Iteration 2001 / 3252] TRAIN loss: 2.581336\n",
      "[Iteration 2051 / 3252] TRAIN loss: 2.606061\n",
      "[Iteration 2101 / 3252] TRAIN loss: 2.663364\n",
      "[Iteration 2151 / 3252] TRAIN loss: 2.765283\n",
      "[Epoch 8 / 12] TRAIN acc: 4.660517\n"
     ]
    },
    {
     "name": "stderr",
     "output_type": "stream",
     "text": [
      "\r",
      " 67%|██████▋   | 8/12 [27:53<13:56, 209.17s/it]"
     ]
    },
    {
     "name": "stdout",
     "output_type": "stream",
     "text": [
      "[Epoch 8 / 12] VAL acc: 2.451613\n",
      "[Iteration 2201 / 3252] TRAIN loss: 2.609054\n",
      "[Iteration 2251 / 3252] TRAIN loss: 2.687989\n",
      "[Iteration 2301 / 3252] TRAIN loss: 2.675980\n",
      "[Iteration 2351 / 3252] TRAIN loss: 2.687935\n",
      "[Iteration 2401 / 3252] TRAIN loss: 2.600677\n",
      "[Epoch 9 / 12] TRAIN acc: 4.856089\n"
     ]
    },
    {
     "name": "stderr",
     "output_type": "stream",
     "text": [
      "\r",
      " 75%|███████▌  | 9/12 [31:22<10:27, 209.16s/it]"
     ]
    },
    {
     "name": "stdout",
     "output_type": "stream",
     "text": [
      "[Epoch 9 / 12] VAL acc: 2.580645\n",
      "[Iteration 2451 / 3252] TRAIN loss: 2.660133\n",
      "[Iteration 2501 / 3252] TRAIN loss: 2.482126\n",
      "[Iteration 2551 / 3252] TRAIN loss: 2.661783\n",
      "[Iteration 2601 / 3252] TRAIN loss: 2.649280\n",
      "[Iteration 2651 / 3252] TRAIN loss: 2.577516\n",
      "[Iteration 2701 / 3252] TRAIN loss: 2.698955\n",
      "[Epoch 10 / 12] TRAIN acc: 4.963100\n"
     ]
    },
    {
     "name": "stderr",
     "output_type": "stream",
     "text": [
      "\r",
      " 83%|████████▎ | 10/12 [34:51<06:58, 209.17s/it]"
     ]
    },
    {
     "name": "stdout",
     "output_type": "stream",
     "text": [
      "[Epoch 10 / 12] VAL acc: 2.698925\n",
      "[Iteration 2751 / 3252] TRAIN loss: 2.549527\n",
      "[Iteration 2801 / 3252] TRAIN loss: 2.581536\n",
      "[Iteration 2851 / 3252] TRAIN loss: 2.690548\n",
      "[Iteration 2901 / 3252] TRAIN loss: 2.541579\n",
      "[Iteration 2951 / 3252] TRAIN loss: 2.535594\n",
      "[Epoch 11 / 12] TRAIN acc: 5.383764\n"
     ]
    },
    {
     "name": "stderr",
     "output_type": "stream",
     "text": [
      "\r",
      " 92%|█████████▏| 11/12 [38:21<03:29, 209.20s/it]"
     ]
    },
    {
     "name": "stdout",
     "output_type": "stream",
     "text": [
      "[Epoch 11 / 12] VAL acc: 2.913978\n",
      "[Iteration 3001 / 3252] TRAIN loss: 2.640144\n",
      "[Iteration 3051 / 3252] TRAIN loss: 2.730185\n",
      "[Iteration 3101 / 3252] TRAIN loss: 2.600307\n",
      "[Iteration 3151 / 3252] TRAIN loss: 2.679448\n",
      "[Iteration 3201 / 3252] TRAIN loss: 2.608977\n",
      "[Iteration 3251 / 3252] TRAIN loss: 2.584664\n",
      "[Epoch 12 / 12] TRAIN acc: 5.321033\n"
     ]
    },
    {
     "name": "stderr",
     "output_type": "stream",
     "text": [
      "100%|██████████| 12/12 [41:50<00:00, 209.21s/it]\n",
      "  0%|          | 0/124 [00:00<?, ?it/s]"
     ]
    },
    {
     "name": "stdout",
     "output_type": "stream",
     "text": [
      "[Epoch 12 / 12] VAL acc: 2.849462\n",
      "Trained in 2510 seconds.\n",
      "FINISH.\n"
     ]
    },
    {
     "name": "stderr",
     "output_type": "stream",
     "text": [
      "100%|██████████| 124/124 [00:19<00:00,  6.32it/s]\n"
     ]
    },
    {
     "name": "stdout",
     "output_type": "stream",
     "text": [
      "0.150578112396\n",
      "   15 | 42m20s |    0.15058 |      48.0000 |    0.5000 |     1.0000 |   -7.0000 |      12.0000 |               1.0000 |            -3.0000 | \n",
      "weights: [0.0045837917125045834, 0.0030193236714975845, 0.00034800523399871935, 0.0015782828282828283, 0.00084636739115715354, 0.0014982620160613688, 0.00079775352607058521, 0.0051250512505125051, 0.02834467120181406, 0.0098502758077226166, 0.002498001598721023, 0.0011740396355780971, 0.0028875028875028877, 0.0036938534278959812]\n",
      "equivalent_num:\n",
      "1.38888888889\n",
      "1.38888888889\n",
      "1.38888888889\n",
      "1.38888888889\n",
      "1.38888888889\n",
      "1.38888888889\n",
      "1.38888888889\n",
      "1.38888888889\n",
      "1.38888888889\n",
      "1.38888888889\n",
      "1.38888888889\n",
      "1.38888888889\n",
      "1.38888888889\n",
      "1.38888888889\n"
     ]
    },
    {
     "name": "stderr",
     "output_type": "stream",
     "text": [
      "\r",
      "  0%|          | 0/6 [00:00<?, ?it/s]"
     ]
    },
    {
     "name": "stdout",
     "output_type": "stream",
     "text": [
      "START TRAIN.\n",
      "[Iteration 1 / 1626] TRAIN loss: 2.913183\n",
      "[Iteration 51 / 1626] TRAIN loss: 2.968948\n",
      "[Iteration 101 / 1626] TRAIN loss: 2.786332\n",
      "[Iteration 151 / 1626] TRAIN loss: 2.929478\n",
      "[Iteration 201 / 1626] TRAIN loss: 2.887928\n",
      "[Iteration 251 / 1626] TRAIN loss: 3.029644\n",
      "[Epoch 1 / 6] TRAIN acc: 3.387454\n"
     ]
    },
    {
     "name": "stderr",
     "output_type": "stream",
     "text": [
      "\r",
      " 17%|█▋        | 1/6 [03:29<17:25, 209.05s/it]"
     ]
    },
    {
     "name": "stdout",
     "output_type": "stream",
     "text": [
      "[Epoch 1 / 6] VAL acc: 1.559140\n",
      "[Iteration 301 / 1626] TRAIN loss: 3.075253\n",
      "[Iteration 351 / 1626] TRAIN loss: 2.819818\n",
      "[Iteration 401 / 1626] TRAIN loss: 2.867005\n",
      "[Iteration 451 / 1626] TRAIN loss: 2.869563\n",
      "[Iteration 501 / 1626] TRAIN loss: 2.850067\n",
      "[Epoch 2 / 6] TRAIN acc: 3.630996\n"
     ]
    },
    {
     "name": "stderr",
     "output_type": "stream",
     "text": [
      "\r",
      " 33%|███▎      | 2/6 [06:58<13:56, 209.11s/it]"
     ]
    },
    {
     "name": "stdout",
     "output_type": "stream",
     "text": [
      "[Epoch 2 / 6] VAL acc: 1.419355\n",
      "[Iteration 551 / 1626] TRAIN loss: 2.980909\n",
      "[Iteration 601 / 1626] TRAIN loss: 2.870761\n",
      "[Iteration 651 / 1626] TRAIN loss: 2.769937\n",
      "[Iteration 701 / 1626] TRAIN loss: 2.921150\n",
      "[Iteration 751 / 1626] TRAIN loss: 2.776167\n",
      "[Iteration 801 / 1626] TRAIN loss: 2.891206\n",
      "[Epoch 3 / 6] TRAIN acc: 3.623616\n"
     ]
    },
    {
     "name": "stderr",
     "output_type": "stream",
     "text": [
      "\r",
      " 50%|█████     | 3/6 [10:27<10:27, 209.11s/it]"
     ]
    },
    {
     "name": "stdout",
     "output_type": "stream",
     "text": [
      "[Epoch 3 / 6] VAL acc: 1.462366\n",
      "[Iteration 851 / 1626] TRAIN loss: 2.894342\n",
      "[Iteration 901 / 1626] TRAIN loss: 2.640131\n",
      "[Iteration 951 / 1626] TRAIN loss: 3.081899\n",
      "[Iteration 1001 / 1626] TRAIN loss: 3.000040\n",
      "[Iteration 1051 / 1626] TRAIN loss: 2.781463\n",
      "[Epoch 4 / 6] TRAIN acc: 3.645756\n"
     ]
    },
    {
     "name": "stderr",
     "output_type": "stream",
     "text": [
      "\r",
      " 67%|██████▋   | 4/6 [13:56<06:58, 209.14s/it]"
     ]
    },
    {
     "name": "stdout",
     "output_type": "stream",
     "text": [
      "[Epoch 4 / 6] VAL acc: 1.516129\n",
      "[Iteration 1101 / 1626] TRAIN loss: 2.941220\n",
      "[Iteration 1151 / 1626] TRAIN loss: 2.764048\n",
      "[Iteration 1201 / 1626] TRAIN loss: 2.823237\n",
      "[Iteration 1251 / 1626] TRAIN loss: 2.790418\n",
      "[Iteration 1301 / 1626] TRAIN loss: 3.019653\n",
      "[Iteration 1351 / 1626] TRAIN loss: 2.661922\n",
      "[Epoch 5 / 6] TRAIN acc: 3.878229\n"
     ]
    },
    {
     "name": "stderr",
     "output_type": "stream",
     "text": [
      "\r",
      " 83%|████████▎ | 5/6 [17:25<03:29, 209.15s/it]"
     ]
    },
    {
     "name": "stdout",
     "output_type": "stream",
     "text": [
      "[Epoch 5 / 6] VAL acc: 1.494624\n",
      "[Iteration 1401 / 1626] TRAIN loss: 2.785401\n",
      "[Iteration 1451 / 1626] TRAIN loss: 2.730973\n",
      "[Iteration 1501 / 1626] TRAIN loss: 2.695661\n",
      "[Iteration 1551 / 1626] TRAIN loss: 2.574499\n",
      "[Iteration 1601 / 1626] TRAIN loss: 2.860514\n",
      "[Epoch 6 / 6] TRAIN acc: 3.642066\n"
     ]
    },
    {
     "name": "stderr",
     "output_type": "stream",
     "text": [
      "100%|██████████| 6/6 [20:54<00:00, 209.15s/it]\n",
      "  0%|          | 0/124 [00:00<?, ?it/s]"
     ]
    },
    {
     "name": "stdout",
     "output_type": "stream",
     "text": [
      "[Epoch 6 / 6] VAL acc: 1.473118\n",
      "Trained in 1254 seconds.\n",
      "FINISH.\n"
     ]
    },
    {
     "name": "stderr",
     "output_type": "stream",
     "text": [
      "100%|██████████| 124/124 [00:19<00:00,  6.30it/s]\n"
     ]
    },
    {
     "name": "stdout",
     "output_type": "stream",
     "text": [
      "0.0742134982522\n",
      "   16 | 21m25s |    0.07421 |      48.0000 |    1.0000 |     1.0000 |   -7.0000 |       6.0000 |              10.0000 |            -3.0000 | \n",
      "weights: [0.079789581891864733, 0.064757278350021791, 0.021985008591674442, 0.046819434893280693, 0.034285715181341145, 0.045617096211309868, 0.033286498891162593, 0.084368991559831519, 0.1984126984126984, 0.11696554459257208, 0.058902009005553535, 0.040380819765943078, 0.063327882303826827, 0.071626475434638417]\n",
      "equivalent_num:\n",
      "24.1762433132\n",
      "29.788348041\n",
      "87.7421692894\n",
      "41.2011027061\n",
      "56.2628586126\n",
      "42.2870481879\n",
      "57.9517945695\n",
      "22.8639967127\n",
      "9.72222222222\n",
      "16.4921417876\n",
      "32.7495170071\n",
      "47.7705097831\n",
      "30.4607113881\n",
      "26.9315547634\n"
     ]
    },
    {
     "name": "stderr",
     "output_type": "stream",
     "text": [
      "\r",
      "  0%|          | 0/6 [00:00<?, ?it/s]"
     ]
    },
    {
     "name": "stdout",
     "output_type": "stream",
     "text": [
      "START TRAIN.\n",
      "[Iteration 1 / 1626] TRAIN loss: 2.684505\n",
      "[Iteration 51 / 1626] TRAIN loss: 2.744680\n",
      "[Iteration 101 / 1626] TRAIN loss: 2.708810\n",
      "[Iteration 151 / 1626] TRAIN loss: 2.813225\n",
      "[Iteration 201 / 1626] TRAIN loss: 2.759632\n",
      "[Iteration 251 / 1626] TRAIN loss: 2.906949\n",
      "[Epoch 1 / 6] TRAIN acc: 3.822878\n"
     ]
    },
    {
     "name": "stderr",
     "output_type": "stream",
     "text": [
      "\r",
      " 17%|█▋        | 1/6 [03:29<17:25, 209.05s/it]"
     ]
    },
    {
     "name": "stdout",
     "output_type": "stream",
     "text": [
      "[Epoch 1 / 6] VAL acc: 1.602151\n",
      "[Iteration 301 / 1626] TRAIN loss: 2.727170\n",
      "[Iteration 351 / 1626] TRAIN loss: 2.810332\n",
      "[Iteration 401 / 1626] TRAIN loss: 2.770379\n",
      "[Iteration 451 / 1626] TRAIN loss: 2.758265\n",
      "[Iteration 501 / 1626] TRAIN loss: 2.729906\n",
      "[Epoch 2 / 6] TRAIN acc: 3.833948\n"
     ]
    },
    {
     "name": "stderr",
     "output_type": "stream",
     "text": [
      "\r",
      " 33%|███▎      | 2/6 [06:58<13:56, 209.22s/it]"
     ]
    },
    {
     "name": "stdout",
     "output_type": "stream",
     "text": [
      "[Epoch 2 / 6] VAL acc: 1.612903\n",
      "[Iteration 551 / 1626] TRAIN loss: 2.736573\n",
      "[Iteration 601 / 1626] TRAIN loss: 2.652884\n",
      "[Iteration 651 / 1626] TRAIN loss: 2.642843\n",
      "[Iteration 701 / 1626] TRAIN loss: 2.896295\n",
      "[Iteration 751 / 1626] TRAIN loss: 2.831913\n",
      "[Iteration 801 / 1626] TRAIN loss: 2.746500\n",
      "[Epoch 3 / 6] TRAIN acc: 4.051661\n"
     ]
    },
    {
     "name": "stderr",
     "output_type": "stream",
     "text": [
      "\r",
      " 50%|█████     | 3/6 [10:27<10:27, 209.19s/it]"
     ]
    },
    {
     "name": "stdout",
     "output_type": "stream",
     "text": [
      "[Epoch 3 / 6] VAL acc: 1.709677\n",
      "[Iteration 851 / 1626] TRAIN loss: 2.680396\n",
      "[Iteration 901 / 1626] TRAIN loss: 2.889792\n",
      "[Iteration 951 / 1626] TRAIN loss: 2.681443\n",
      "[Iteration 1001 / 1626] TRAIN loss: 2.848594\n",
      "[Iteration 1051 / 1626] TRAIN loss: 2.871839\n",
      "[Epoch 4 / 6] TRAIN acc: 3.922509\n"
     ]
    },
    {
     "name": "stderr",
     "output_type": "stream",
     "text": [
      "\r",
      " 67%|██████▋   | 4/6 [13:57<06:58, 209.27s/it]"
     ]
    },
    {
     "name": "stdout",
     "output_type": "stream",
     "text": [
      "[Epoch 4 / 6] VAL acc: 1.731183\n",
      "[Iteration 1101 / 1626] TRAIN loss: 2.726401\n",
      "[Iteration 1151 / 1626] TRAIN loss: 2.882791\n",
      "[Iteration 1201 / 1626] TRAIN loss: 2.846188\n",
      "[Iteration 1251 / 1626] TRAIN loss: 2.848472\n",
      "[Iteration 1301 / 1626] TRAIN loss: 2.752733\n",
      "[Iteration 1351 / 1626] TRAIN loss: 2.812581\n",
      "[Epoch 5 / 6] TRAIN acc: 4.007380\n"
     ]
    },
    {
     "name": "stderr",
     "output_type": "stream",
     "text": [
      "\r",
      " 83%|████████▎ | 5/6 [17:26<03:29, 209.26s/it]"
     ]
    },
    {
     "name": "stdout",
     "output_type": "stream",
     "text": [
      "[Epoch 5 / 6] VAL acc: 1.720430\n",
      "[Iteration 1401 / 1626] TRAIN loss: 2.872834\n",
      "[Iteration 1451 / 1626] TRAIN loss: 2.930331\n",
      "[Iteration 1501 / 1626] TRAIN loss: 2.713227\n",
      "[Iteration 1551 / 1626] TRAIN loss: 2.647391\n",
      "[Iteration 1601 / 1626] TRAIN loss: 2.721595\n",
      "[Epoch 6 / 6] TRAIN acc: 4.250923\n"
     ]
    },
    {
     "name": "stderr",
     "output_type": "stream",
     "text": [
      "100%|██████████| 6/6 [20:55<00:00, 209.33s/it]\n",
      "  0%|          | 0/124 [00:00<?, ?it/s]"
     ]
    },
    {
     "name": "stdout",
     "output_type": "stream",
     "text": [
      "[Epoch 6 / 6] VAL acc: 1.741935\n",
      "Trained in 1256 seconds.\n",
      "FINISH.\n"
     ]
    },
    {
     "name": "stderr",
     "output_type": "stream",
     "text": [
      "100%|██████████| 124/124 [00:19<00:00,  6.31it/s]\n"
     ]
    },
    {
     "name": "stdout",
     "output_type": "stream",
     "text": [
      "0.0900779779511\n",
      "   17 | 21m27s |    0.09008 |      48.0000 |    0.5000 |    10.0000 |   -7.0000 |       6.0000 |              10.0000 |             0.0000 | \n",
      "weights: [0.079789581891864733, 0.064757278350021791, 0.021985008591674442, 0.046819434893280693, 0.034285715181341145, 0.045617096211309868, 0.033286498891162593, 0.084368991559831519, 0.1984126984126984, 0.11696554459257208, 0.058902009005553535, 0.040380819765943078, 0.063327882303826827, 0.071626475434638417]\n",
      "equivalent_num:\n",
      "24.1762433132\n",
      "29.788348041\n",
      "87.7421692894\n",
      "41.2011027061\n",
      "56.2628586126\n",
      "42.2870481879\n",
      "57.9517945695\n",
      "22.8639967127\n",
      "9.72222222222\n",
      "16.4921417876\n",
      "32.7495170071\n",
      "47.7705097831\n",
      "30.4607113881\n",
      "26.9315547634\n"
     ]
    },
    {
     "name": "stderr",
     "output_type": "stream",
     "text": [
      "\r",
      "  0%|          | 0/6 [00:00<?, ?it/s]"
     ]
    },
    {
     "name": "stdout",
     "output_type": "stream",
     "text": [
      "START TRAIN.\n",
      "[Iteration 1 / 1626] TRAIN loss: 2.967622\n",
      "[Iteration 51 / 1626] TRAIN loss: 2.521869\n",
      "[Iteration 101 / 1626] TRAIN loss: 2.567752\n",
      "[Iteration 151 / 1626] TRAIN loss: 2.642142\n",
      "[Iteration 201 / 1626] TRAIN loss: 2.560148\n",
      "[Iteration 251 / 1626] TRAIN loss: 2.580391\n",
      "[Epoch 1 / 6] TRAIN acc: 7.708487\n"
     ]
    },
    {
     "name": "stderr",
     "output_type": "stream",
     "text": [
      "\r",
      " 17%|█▋        | 1/6 [03:26<17:14, 206.96s/it]"
     ]
    },
    {
     "name": "stdout",
     "output_type": "stream",
     "text": [
      "[Epoch 1 / 6] VAL acc: 6.053763\n",
      "[Iteration 301 / 1626] TRAIN loss: 2.550607\n",
      "[Iteration 351 / 1626] TRAIN loss: 2.573226\n",
      "[Iteration 401 / 1626] TRAIN loss: 2.512166\n",
      "[Iteration 451 / 1626] TRAIN loss: 2.521331\n",
      "[Iteration 501 / 1626] TRAIN loss: 2.430402\n",
      "[Epoch 2 / 6] TRAIN acc: 7.771218\n"
     ]
    },
    {
     "name": "stderr",
     "output_type": "stream",
     "text": [
      "\r",
      " 33%|███▎      | 2/6 [06:54<13:48, 207.06s/it]"
     ]
    },
    {
     "name": "stdout",
     "output_type": "stream",
     "text": [
      "[Epoch 2 / 6] VAL acc: 4.204301\n",
      "[Iteration 551 / 1626] TRAIN loss: 2.495745\n",
      "[Iteration 601 / 1626] TRAIN loss: 2.507746\n",
      "[Iteration 651 / 1626] TRAIN loss: 2.615513\n",
      "[Iteration 701 / 1626] TRAIN loss: 2.456551\n",
      "[Iteration 751 / 1626] TRAIN loss: 2.381497\n",
      "[Iteration 801 / 1626] TRAIN loss: 2.407119\n",
      "[Epoch 3 / 6] TRAIN acc: 7.955720\n"
     ]
    },
    {
     "name": "stderr",
     "output_type": "stream",
     "text": [
      "\r",
      " 50%|█████     | 3/6 [10:18<10:18, 206.17s/it]"
     ]
    },
    {
     "name": "stdout",
     "output_type": "stream",
     "text": [
      "[Epoch 3 / 6] VAL acc: 6.053763\n",
      "[Iteration 851 / 1626] TRAIN loss: 2.503357\n",
      "[Iteration 901 / 1626] TRAIN loss: 2.531646\n",
      "[Iteration 951 / 1626] TRAIN loss: 2.527114\n",
      "[Iteration 1001 / 1626] TRAIN loss: 2.357927\n",
      "[Iteration 1051 / 1626] TRAIN loss: 2.545096\n",
      "[Epoch 4 / 6] TRAIN acc: 7.970480\n"
     ]
    },
    {
     "name": "stderr",
     "output_type": "stream",
     "text": [
      "\r",
      " 67%|██████▋   | 4/6 [13:40<06:50, 205.07s/it]"
     ]
    },
    {
     "name": "stdout",
     "output_type": "stream",
     "text": [
      "[Epoch 4 / 6] VAL acc: 6.053763\n",
      "[Iteration 1101 / 1626] TRAIN loss: 2.626053\n",
      "[Iteration 1151 / 1626] TRAIN loss: 2.544642\n",
      "[Iteration 1201 / 1626] TRAIN loss: 2.401989\n",
      "[Iteration 1251 / 1626] TRAIN loss: 2.520239\n",
      "[Iteration 1301 / 1626] TRAIN loss: 2.536935\n",
      "[Iteration 1351 / 1626] TRAIN loss: 2.469016\n",
      "[Epoch 5 / 6] TRAIN acc: 7.726937\n"
     ]
    },
    {
     "name": "stderr",
     "output_type": "stream",
     "text": [
      "\r",
      " 83%|████████▎ | 5/6 [17:00<03:24, 204.14s/it]"
     ]
    },
    {
     "name": "stdout",
     "output_type": "stream",
     "text": [
      "[Epoch 5 / 6] VAL acc: 5.204301\n",
      "[Iteration 1401 / 1626] TRAIN loss: 2.490809\n",
      "[Iteration 1451 / 1626] TRAIN loss: 2.472363\n",
      "[Iteration 1501 / 1626] TRAIN loss: 2.492136\n",
      "[Iteration 1551 / 1626] TRAIN loss: 2.533814\n",
      "[Iteration 1601 / 1626] TRAIN loss: 2.442915\n",
      "[Epoch 6 / 6] TRAIN acc: 7.815498\n"
     ]
    },
    {
     "name": "stderr",
     "output_type": "stream",
     "text": [
      "100%|██████████| 6/6 [20:19<00:00, 203.33s/it]\n",
      "  0%|          | 0/124 [00:00<?, ?it/s]"
     ]
    },
    {
     "name": "stdout",
     "output_type": "stream",
     "text": [
      "[Epoch 6 / 6] VAL acc: 2.709677\n",
      "Trained in 1219 seconds.\n",
      "FINISH.\n"
     ]
    },
    {
     "name": "stderr",
     "output_type": "stream",
     "text": [
      "100%|██████████| 124/124 [00:19<00:00,  6.49it/s]\n"
     ]
    },
    {
     "name": "stdout",
     "output_type": "stream",
     "text": [
      "0.128798063996\n",
      "   18 | 20m51s |    0.12880 |      48.0000 |    0.5000 |    10.0000 |   -3.0000 |       6.0000 |               1.0000 |            -3.0000 | \n",
      "weights: [0.079789581891864733, 0.064757278350021791, 0.021985008591674442, 0.046819434893280693, 0.034285715181341145, 0.045617096211309868, 0.033286498891162593, 0.084368991559831519, 0.1984126984126984, 0.11696554459257208, 0.058902009005553535, 0.040380819765943078, 0.063327882303826827, 0.071626475434638417]\n",
      "equivalent_num:\n",
      "24.1762433132\n",
      "29.788348041\n",
      "87.7421692894\n",
      "41.2011027061\n",
      "56.2628586126\n",
      "42.2870481879\n",
      "57.9517945695\n",
      "22.8639967127\n",
      "9.72222222222\n",
      "16.4921417876\n",
      "32.7495170071\n",
      "47.7705097831\n",
      "30.4607113881\n",
      "26.9315547634\n"
     ]
    },
    {
     "name": "stderr",
     "output_type": "stream",
     "text": [
      "\r",
      "  0%|          | 0/6 [00:00<?, ?it/s]"
     ]
    },
    {
     "name": "stdout",
     "output_type": "stream",
     "text": [
      "START TRAIN.\n",
      "[Iteration 1 / 1626] TRAIN loss: 2.833561\n",
      "[Iteration 51 / 1626] TRAIN loss: 3.067522\n",
      "[Iteration 101 / 1626] TRAIN loss: 2.932590\n",
      "[Iteration 151 / 1626] TRAIN loss: 2.916884\n",
      "[Iteration 201 / 1626] TRAIN loss: 2.889313\n",
      "[Iteration 251 / 1626] TRAIN loss: 2.913866\n",
      "[Epoch 1 / 6] TRAIN acc: 1.985240\n"
     ]
    },
    {
     "name": "stderr",
     "output_type": "stream",
     "text": [
      "\r",
      " 17%|█▋        | 1/6 [03:29<17:25, 209.14s/it]"
     ]
    },
    {
     "name": "stdout",
     "output_type": "stream",
     "text": [
      "[Epoch 1 / 6] VAL acc: 0.591398\n",
      "[Iteration 301 / 1626] TRAIN loss: 2.879088\n",
      "[Iteration 351 / 1626] TRAIN loss: 2.726539\n",
      "[Iteration 401 / 1626] TRAIN loss: 2.775590\n",
      "[Iteration 451 / 1626] TRAIN loss: 2.850431\n",
      "[Iteration 501 / 1626] TRAIN loss: 2.887718\n",
      "[Epoch 2 / 6] TRAIN acc: 2.092251\n"
     ]
    },
    {
     "name": "stderr",
     "output_type": "stream",
     "text": [
      "\r",
      " 33%|███▎      | 2/6 [06:58<13:56, 209.21s/it]"
     ]
    },
    {
     "name": "stdout",
     "output_type": "stream",
     "text": [
      "[Epoch 2 / 6] VAL acc: 0.537634\n",
      "[Iteration 551 / 1626] TRAIN loss: 2.823080\n",
      "[Iteration 601 / 1626] TRAIN loss: 2.814518\n",
      "[Iteration 651 / 1626] TRAIN loss: 2.800149\n",
      "[Iteration 701 / 1626] TRAIN loss: 2.889704\n",
      "[Iteration 751 / 1626] TRAIN loss: 2.830316\n",
      "[Iteration 801 / 1626] TRAIN loss: 2.896555\n",
      "[Epoch 3 / 6] TRAIN acc: 2.276753\n"
     ]
    },
    {
     "name": "stderr",
     "output_type": "stream",
     "text": [
      "\r",
      " 50%|█████     | 3/6 [10:27<10:27, 209.23s/it]"
     ]
    },
    {
     "name": "stdout",
     "output_type": "stream",
     "text": [
      "[Epoch 3 / 6] VAL acc: 0.612903\n",
      "[Iteration 851 / 1626] TRAIN loss: 2.722795\n",
      "[Iteration 901 / 1626] TRAIN loss: 2.929357\n",
      "[Iteration 951 / 1626] TRAIN loss: 2.810593\n",
      "[Iteration 1001 / 1626] TRAIN loss: 2.855166\n",
      "[Iteration 1051 / 1626] TRAIN loss: 2.838595\n",
      "[Epoch 4 / 6] TRAIN acc: 2.118081\n"
     ]
    },
    {
     "name": "stderr",
     "output_type": "stream",
     "text": [
      "\r",
      " 67%|██████▋   | 4/6 [13:56<06:58, 209.21s/it]"
     ]
    },
    {
     "name": "stdout",
     "output_type": "stream",
     "text": [
      "[Epoch 4 / 6] VAL acc: 0.580645\n",
      "[Iteration 1101 / 1626] TRAIN loss: 2.935927\n",
      "[Iteration 1151 / 1626] TRAIN loss: 2.744594\n",
      "[Iteration 1201 / 1626] TRAIN loss: 2.843726\n",
      "[Iteration 1251 / 1626] TRAIN loss: 2.947392\n",
      "[Iteration 1301 / 1626] TRAIN loss: 2.844167\n",
      "[Iteration 1351 / 1626] TRAIN loss: 2.885441\n",
      "[Epoch 5 / 6] TRAIN acc: 2.088561\n"
     ]
    },
    {
     "name": "stderr",
     "output_type": "stream",
     "text": [
      "\r",
      " 83%|████████▎ | 5/6 [17:26<03:29, 209.22s/it]"
     ]
    },
    {
     "name": "stdout",
     "output_type": "stream",
     "text": [
      "[Epoch 5 / 6] VAL acc: 0.634409\n",
      "[Iteration 1401 / 1626] TRAIN loss: 2.877418\n",
      "[Iteration 1451 / 1626] TRAIN loss: 2.795504\n",
      "[Iteration 1501 / 1626] TRAIN loss: 2.809942\n",
      "[Iteration 1551 / 1626] TRAIN loss: 2.746473\n",
      "[Iteration 1601 / 1626] TRAIN loss: 2.791239\n",
      "[Epoch 6 / 6] TRAIN acc: 2.158672\n"
     ]
    },
    {
     "name": "stderr",
     "output_type": "stream",
     "text": [
      "100%|██████████| 6/6 [20:55<00:00, 209.24s/it]\n",
      "  0%|          | 0/124 [00:00<?, ?it/s]"
     ]
    },
    {
     "name": "stdout",
     "output_type": "stream",
     "text": [
      "[Epoch 6 / 6] VAL acc: 0.655914\n",
      "Trained in 1255 seconds.\n",
      "FINISH.\n"
     ]
    },
    {
     "name": "stderr",
     "output_type": "stream",
     "text": [
      "100%|██████████| 124/124 [00:19<00:00,  6.32it/s]\n"
     ]
    },
    {
     "name": "stdout",
     "output_type": "stream",
     "text": [
      "0.0344178542619\n",
      "   19 | 21m27s |    0.03442 |      48.0000 |    0.5000 |     1.0000 |   -7.0000 |       6.0000 |               1.0000 |             0.0000 | \n",
      "weights: [0.079789581891864733, 0.064757278350021791, 0.021985008591674442, 0.046819434893280693, 0.034285715181341145, 0.045617096211309868, 0.033286498891162593, 0.084368991559831519, 0.1984126984126984, 0.11696554459257208, 0.058902009005553535, 0.040380819765943078, 0.063327882303826827, 0.071626475434638417]\n",
      "equivalent_num:\n",
      "24.1762433132\n",
      "29.788348041\n",
      "87.7421692894\n",
      "41.2011027061\n",
      "56.2628586126\n",
      "42.2870481879\n",
      "57.9517945695\n",
      "22.8639967127\n",
      "9.72222222222\n",
      "16.4921417876\n",
      "32.7495170071\n",
      "47.7705097831\n",
      "30.4607113881\n",
      "26.9315547634\n"
     ]
    },
    {
     "name": "stderr",
     "output_type": "stream",
     "text": [
      "\r",
      "  0%|          | 0/12 [00:00<?, ?it/s]"
     ]
    },
    {
     "name": "stdout",
     "output_type": "stream",
     "text": [
      "START TRAIN.\n",
      "[Iteration 1 / 3252] TRAIN loss: 2.853317\n",
      "[Iteration 51 / 3252] TRAIN loss: 2.935869\n",
      "[Iteration 101 / 3252] TRAIN loss: 2.801705\n",
      "[Iteration 151 / 3252] TRAIN loss: 2.760313\n",
      "[Iteration 201 / 3252] TRAIN loss: 2.964605\n",
      "[Iteration 251 / 3252] TRAIN loss: 3.022875\n",
      "[Epoch 1 / 12] TRAIN acc: 3.538745\n"
     ]
    },
    {
     "name": "stderr",
     "output_type": "stream",
     "text": [
      "\r",
      "  8%|▊         | 1/12 [03:29<38:21, 209.23s/it]"
     ]
    },
    {
     "name": "stdout",
     "output_type": "stream",
     "text": [
      "[Epoch 1 / 12] VAL acc: 1.290323\n",
      "[Iteration 301 / 3252] TRAIN loss: 2.890795\n",
      "[Iteration 351 / 3252] TRAIN loss: 2.774392\n",
      "[Iteration 401 / 3252] TRAIN loss: 2.806300\n",
      "[Iteration 451 / 3252] TRAIN loss: 2.925460\n",
      "[Iteration 501 / 3252] TRAIN loss: 2.777230\n",
      "[Epoch 2 / 12] TRAIN acc: 3.571956\n"
     ]
    },
    {
     "name": "stderr",
     "output_type": "stream",
     "text": [
      "\r",
      " 17%|█▋        | 2/12 [06:58<34:52, 209.29s/it]"
     ]
    },
    {
     "name": "stdout",
     "output_type": "stream",
     "text": [
      "[Epoch 2 / 12] VAL acc: 1.279570\n",
      "[Iteration 551 / 3252] TRAIN loss: 2.766075\n",
      "[Iteration 601 / 3252] TRAIN loss: 2.685440\n",
      "[Iteration 651 / 3252] TRAIN loss: 2.549876\n",
      "[Iteration 701 / 3252] TRAIN loss: 2.786260\n",
      "[Iteration 751 / 3252] TRAIN loss: 2.783868\n",
      "[Iteration 801 / 3252] TRAIN loss: 2.708537\n",
      "[Epoch 3 / 12] TRAIN acc: 3.863469\n"
     ]
    },
    {
     "name": "stderr",
     "output_type": "stream",
     "text": [
      "\r",
      " 25%|██▌       | 3/12 [10:27<31:23, 209.23s/it]"
     ]
    },
    {
     "name": "stdout",
     "output_type": "stream",
     "text": [
      "[Epoch 3 / 12] VAL acc: 1.408602\n",
      "[Iteration 851 / 3252] TRAIN loss: 2.693350\n",
      "[Iteration 901 / 3252] TRAIN loss: 2.750807\n",
      "[Iteration 951 / 3252] TRAIN loss: 2.887662\n",
      "[Iteration 1001 / 3252] TRAIN loss: 2.810143\n",
      "[Iteration 1051 / 3252] TRAIN loss: 2.818914\n",
      "[Epoch 4 / 12] TRAIN acc: 3.959410\n"
     ]
    },
    {
     "name": "stderr",
     "output_type": "stream",
     "text": [
      "\r",
      " 33%|███▎      | 4/12 [13:57<27:54, 209.28s/it]"
     ]
    },
    {
     "name": "stdout",
     "output_type": "stream",
     "text": [
      "[Epoch 4 / 12] VAL acc: 1.612903\n",
      "[Iteration 1101 / 3252] TRAIN loss: 2.737796\n",
      "[Iteration 1151 / 3252] TRAIN loss: 2.713522\n",
      "[Iteration 1201 / 3252] TRAIN loss: 2.743231\n",
      "[Iteration 1251 / 3252] TRAIN loss: 2.619811\n",
      "[Iteration 1301 / 3252] TRAIN loss: 2.671152\n",
      "[Iteration 1351 / 3252] TRAIN loss: 2.641540\n",
      "[Epoch 5 / 12] TRAIN acc: 4.132841\n"
     ]
    },
    {
     "name": "stderr",
     "output_type": "stream",
     "text": [
      "\r",
      " 42%|████▏     | 5/12 [17:26<24:25, 209.33s/it]"
     ]
    },
    {
     "name": "stdout",
     "output_type": "stream",
     "text": [
      "[Epoch 5 / 12] VAL acc: 1.709677\n",
      "[Iteration 1401 / 3252] TRAIN loss: 2.750090\n",
      "[Iteration 1451 / 3252] TRAIN loss: 2.759438\n",
      "[Iteration 1501 / 3252] TRAIN loss: 2.612131\n",
      "[Iteration 1551 / 3252] TRAIN loss: 2.661442\n",
      "[Iteration 1601 / 3252] TRAIN loss: 2.676063\n",
      "[Epoch 6 / 12] TRAIN acc: 4.398524\n"
     ]
    },
    {
     "name": "stderr",
     "output_type": "stream",
     "text": [
      "\r",
      " 50%|█████     | 6/12 [20:56<20:56, 209.36s/it]"
     ]
    },
    {
     "name": "stdout",
     "output_type": "stream",
     "text": [
      "[Epoch 6 / 12] VAL acc: 1.892473\n",
      "[Iteration 1651 / 3252] TRAIN loss: 2.672187\n",
      "[Iteration 1701 / 3252] TRAIN loss: 2.665495\n",
      "[Iteration 1751 / 3252] TRAIN loss: 2.695478\n",
      "[Iteration 1801 / 3252] TRAIN loss: 2.671357\n",
      "[Iteration 1851 / 3252] TRAIN loss: 2.661732\n",
      "[Epoch 7 / 12] TRAIN acc: 4.642066\n"
     ]
    },
    {
     "name": "stderr",
     "output_type": "stream",
     "text": [
      "\r",
      " 58%|█████▊    | 7/12 [24:25<17:26, 209.39s/it]"
     ]
    },
    {
     "name": "stdout",
     "output_type": "stream",
     "text": [
      "[Epoch 7 / 12] VAL acc: 2.139785\n",
      "[Iteration 1901 / 3252] TRAIN loss: 2.589342\n",
      "[Iteration 1951 / 3252] TRAIN loss: 2.682328\n",
      "[Iteration 2001 / 3252] TRAIN loss: 2.661986\n",
      "[Iteration 2051 / 3252] TRAIN loss: 2.560617\n",
      "[Iteration 2101 / 3252] TRAIN loss: 2.624915\n",
      "[Iteration 2151 / 3252] TRAIN loss: 2.685089\n",
      "[Epoch 8 / 12] TRAIN acc: 4.863469\n"
     ]
    },
    {
     "name": "stderr",
     "output_type": "stream",
     "text": [
      "\r",
      " 67%|██████▋   | 8/12 [27:55<13:57, 209.40s/it]"
     ]
    },
    {
     "name": "stdout",
     "output_type": "stream",
     "text": [
      "[Epoch 8 / 12] VAL acc: 2.247312\n",
      "[Iteration 2201 / 3252] TRAIN loss: 2.697333\n",
      "[Iteration 2251 / 3252] TRAIN loss: 2.706345\n",
      "[Iteration 2301 / 3252] TRAIN loss: 2.719878\n",
      "[Iteration 2351 / 3252] TRAIN loss: 2.611253\n",
      "[Iteration 2401 / 3252] TRAIN loss: 2.667172\n",
      "[Epoch 9 / 12] TRAIN acc: 5.143911\n"
     ]
    },
    {
     "name": "stderr",
     "output_type": "stream",
     "text": [
      "\r",
      " 75%|███████▌  | 9/12 [31:24<10:28, 209.40s/it]"
     ]
    },
    {
     "name": "stdout",
     "output_type": "stream",
     "text": [
      "[Epoch 9 / 12] VAL acc: 2.440860\n",
      "[Iteration 2451 / 3252] TRAIN loss: 2.487721\n",
      "[Iteration 2501 / 3252] TRAIN loss: 2.518307\n",
      "[Iteration 2551 / 3252] TRAIN loss: 2.458030\n",
      "[Iteration 2601 / 3252] TRAIN loss: 2.557377\n",
      "[Iteration 2651 / 3252] TRAIN loss: 2.520526\n",
      "[Iteration 2701 / 3252] TRAIN loss: 2.607779\n",
      "[Epoch 10 / 12] TRAIN acc: 5.409594\n"
     ]
    },
    {
     "name": "stderr",
     "output_type": "stream",
     "text": [
      "\r",
      " 83%|████████▎ | 10/12 [34:54<06:58, 209.43s/it]"
     ]
    },
    {
     "name": "stdout",
     "output_type": "stream",
     "text": [
      "[Epoch 10 / 12] VAL acc: 2.602151\n",
      "[Iteration 2751 / 3252] TRAIN loss: 2.638247\n",
      "[Iteration 2801 / 3252] TRAIN loss: 2.607369\n",
      "[Iteration 2851 / 3252] TRAIN loss: 2.648295\n",
      "[Iteration 2901 / 3252] TRAIN loss: 2.624471\n",
      "[Iteration 2951 / 3252] TRAIN loss: 2.612562\n",
      "[Epoch 11 / 12] TRAIN acc: 5.808118\n"
     ]
    },
    {
     "name": "stderr",
     "output_type": "stream",
     "text": [
      "\r",
      " 92%|█████████▏| 11/12 [38:23<03:29, 209.44s/it]"
     ]
    },
    {
     "name": "stdout",
     "output_type": "stream",
     "text": [
      "[Epoch 11 / 12] VAL acc: 2.935484\n",
      "[Iteration 3001 / 3252] TRAIN loss: 2.589734\n",
      "[Iteration 3051 / 3252] TRAIN loss: 2.497975\n",
      "[Iteration 3101 / 3252] TRAIN loss: 2.421616\n",
      "[Iteration 3151 / 3252] TRAIN loss: 2.512281\n",
      "[Iteration 3201 / 3252] TRAIN loss: 2.604092\n",
      "[Iteration 3251 / 3252] TRAIN loss: 2.527455\n",
      "[Epoch 12 / 12] TRAIN acc: 6.136531\n"
     ]
    },
    {
     "name": "stderr",
     "output_type": "stream",
     "text": [
      "100%|██████████| 12/12 [41:53<00:00, 209.43s/it]\n",
      "  0%|          | 0/124 [00:00<?, ?it/s]"
     ]
    },
    {
     "name": "stdout",
     "output_type": "stream",
     "text": [
      "[Epoch 12 / 12] VAL acc: 3.161290\n",
      "Trained in 2513 seconds.\n",
      "FINISH.\n"
     ]
    },
    {
     "name": "stderr",
     "output_type": "stream",
     "text": [
      "100%|██████████| 124/124 [00:19<00:00,  6.31it/s]\n"
     ]
    },
    {
     "name": "stdout",
     "output_type": "stream",
     "text": [
      "0.157838128529\n",
      "   20 | 42m27s |    0.15784 |      48.0000 |    0.5000 |    10.0000 |   -7.0000 |      12.0000 |               1.0000 |             0.0000 | \n",
      "weights: [0.079789581891864733, 0.064757278350021791, 0.021985008591674442, 0.046819434893280693, 0.034285715181341145, 0.045617096211309868, 0.033286498891162593, 0.084368991559831519, 0.1984126984126984, 0.11696554459257208, 0.058902009005553535, 0.040380819765943078, 0.063327882303826827, 0.071626475434638417]\n",
      "equivalent_num:\n",
      "24.1762433132\n",
      "29.788348041\n",
      "87.7421692894\n",
      "41.2011027061\n",
      "56.2628586126\n",
      "42.2870481879\n",
      "57.9517945695\n",
      "22.8639967127\n",
      "9.72222222222\n",
      "16.4921417876\n",
      "32.7495170071\n",
      "47.7705097831\n",
      "30.4607113881\n",
      "26.9315547634\n"
     ]
    },
    {
     "name": "stderr",
     "output_type": "stream",
     "text": [
      "\r",
      "  0%|          | 0/8 [00:00<?, ?it/s]"
     ]
    },
    {
     "name": "stdout",
     "output_type": "stream",
     "text": [
      "START TRAIN.\n",
      "[Iteration 1 / 2168] TRAIN loss: 2.852733\n",
      "[Iteration 51 / 2168] TRAIN loss: 2.591500\n",
      "[Iteration 101 / 2168] TRAIN loss: 2.491827\n",
      "[Iteration 151 / 2168] TRAIN loss: 2.464787\n",
      "[Iteration 201 / 2168] TRAIN loss: 2.540908\n",
      "[Iteration 251 / 2168] TRAIN loss: 2.567990\n",
      "[Epoch 1 / 8] TRAIN acc: 7.383764\n"
     ]
    },
    {
     "name": "stderr",
     "output_type": "stream",
     "text": [
      "\r",
      " 12%|█▎        | 1/8 [03:27<24:15, 208.00s/it]"
     ]
    },
    {
     "name": "stdout",
     "output_type": "stream",
     "text": [
      "[Epoch 1 / 8] VAL acc: 6.053763\n",
      "[Iteration 301 / 2168] TRAIN loss: 2.539950\n",
      "[Iteration 351 / 2168] TRAIN loss: 2.523098\n",
      "[Iteration 401 / 2168] TRAIN loss: 2.497538\n",
      "[Iteration 451 / 2168] TRAIN loss: 2.562914\n",
      "[Iteration 501 / 2168] TRAIN loss: 2.588273\n",
      "[Epoch 2 / 8] TRAIN acc: 7.867159\n"
     ]
    },
    {
     "name": "stderr",
     "output_type": "stream",
     "text": [
      "\r",
      " 25%|██▌       | 2/8 [06:52<20:36, 206.08s/it]"
     ]
    },
    {
     "name": "stdout",
     "output_type": "stream",
     "text": [
      "[Epoch 2 / 8] VAL acc: 6.053763\n",
      "[Iteration 551 / 2168] TRAIN loss: 2.555976\n",
      "[Iteration 601 / 2168] TRAIN loss: 2.476357\n",
      "[Iteration 651 / 2168] TRAIN loss: 2.587870\n",
      "[Iteration 701 / 2168] TRAIN loss: 2.499854\n",
      "[Iteration 751 / 2168] TRAIN loss: 2.530229\n",
      "[Iteration 801 / 2168] TRAIN loss: 2.601259\n",
      "[Epoch 3 / 8] TRAIN acc: 7.734317\n"
     ]
    },
    {
     "name": "stderr",
     "output_type": "stream",
     "text": [
      "\r",
      " 38%|███▊      | 3/8 [10:13<17:03, 204.63s/it]"
     ]
    },
    {
     "name": "stdout",
     "output_type": "stream",
     "text": [
      "[Epoch 3 / 8] VAL acc: 6.053763\n",
      "[Iteration 851 / 2168] TRAIN loss: 2.506066\n",
      "[Iteration 901 / 2168] TRAIN loss: 2.611770\n",
      "[Iteration 951 / 2168] TRAIN loss: 2.430884\n",
      "[Iteration 1001 / 2168] TRAIN loss: 2.304779\n",
      "[Iteration 1051 / 2168] TRAIN loss: 2.604774\n",
      "[Epoch 4 / 8] TRAIN acc: 7.734317\n"
     ]
    },
    {
     "name": "stderr",
     "output_type": "stream",
     "text": [
      "\r",
      " 50%|█████     | 4/8 [13:33<13:33, 203.43s/it]"
     ]
    },
    {
     "name": "stdout",
     "output_type": "stream",
     "text": [
      "[Epoch 4 / 8] VAL acc: 6.053763\n",
      "[Iteration 1101 / 2168] TRAIN loss: 2.526824\n",
      "[Iteration 1151 / 2168] TRAIN loss: 2.500944\n",
      "[Iteration 1201 / 2168] TRAIN loss: 2.477410\n",
      "[Iteration 1251 / 2168] TRAIN loss: 2.439979\n",
      "[Iteration 1301 / 2168] TRAIN loss: 2.531422\n",
      "[Iteration 1351 / 2168] TRAIN loss: 2.529307\n",
      "[Epoch 5 / 8] TRAIN acc: 8.092251\n"
     ]
    },
    {
     "name": "stderr",
     "output_type": "stream",
     "text": [
      "\r",
      " 62%|██████▎   | 5/8 [16:52<10:07, 202.45s/it]"
     ]
    },
    {
     "name": "stdout",
     "output_type": "stream",
     "text": [
      "[Epoch 5 / 8] VAL acc: 6.053763\n",
      "[Iteration 1401 / 2168] TRAIN loss: 2.474408\n",
      "[Iteration 1451 / 2168] TRAIN loss: 2.489873\n",
      "[Iteration 1501 / 2168] TRAIN loss: 2.537031\n",
      "[Iteration 1551 / 2168] TRAIN loss: 2.607952\n",
      "[Iteration 1601 / 2168] TRAIN loss: 2.587976\n",
      "[Epoch 6 / 8] TRAIN acc: 8.000000\n"
     ]
    },
    {
     "name": "stderr",
     "output_type": "stream",
     "text": [
      "\r",
      " 75%|███████▌  | 6/8 [20:09<06:43, 201.59s/it]"
     ]
    },
    {
     "name": "stdout",
     "output_type": "stream",
     "text": [
      "[Epoch 6 / 8] VAL acc: 6.010753\n",
      "[Iteration 1651 / 2168] TRAIN loss: 2.311120\n",
      "[Iteration 1701 / 2168] TRAIN loss: 2.608364\n",
      "[Iteration 1751 / 2168] TRAIN loss: 2.452528\n",
      "[Iteration 1801 / 2168] TRAIN loss: 2.522001\n",
      "[Iteration 1851 / 2168] TRAIN loss: 2.549978\n",
      "[Epoch 7 / 8] TRAIN acc: 7.833948\n"
     ]
    },
    {
     "name": "stderr",
     "output_type": "stream",
     "text": [
      "\r",
      " 88%|████████▊ | 7/8 [23:25<03:20, 200.79s/it]"
     ]
    },
    {
     "name": "stdout",
     "output_type": "stream",
     "text": [
      "[Epoch 7 / 8] VAL acc: 2.709677\n",
      "[Iteration 1901 / 2168] TRAIN loss: 2.424893\n",
      "[Iteration 1951 / 2168] TRAIN loss: 2.503304\n",
      "[Iteration 2001 / 2168] TRAIN loss: 2.439084\n",
      "[Iteration 2051 / 2168] TRAIN loss: 2.567574\n",
      "[Iteration 2101 / 2168] TRAIN loss: 2.508732\n",
      "[Iteration 2151 / 2168] TRAIN loss: 2.333863\n",
      "[Epoch 8 / 8] TRAIN acc: 7.856089\n"
     ]
    },
    {
     "name": "stderr",
     "output_type": "stream",
     "text": [
      "100%|██████████| 8/8 [26:39<00:00, 199.88s/it]\n",
      "  0%|          | 0/124 [00:00<?, ?it/s]"
     ]
    },
    {
     "name": "stdout",
     "output_type": "stream",
     "text": [
      "[Epoch 8 / 8] VAL acc: 6.053763\n",
      "Trained in 1599 seconds.\n",
      "FINISH.\n"
     ]
    },
    {
     "name": "stderr",
     "output_type": "stream",
     "text": [
      "100%|██████████| 124/124 [00:18<00:00,  6.71it/s]\n"
     ]
    },
    {
     "name": "stdout",
     "output_type": "stream",
     "text": [
      "0.315676257058\n",
      "   21 | 27m13s |    0.31568 |      48.0000 |    0.5000 |     5.1935 |   -3.0000 |       8.9800 |              10.0000 |            -3.0000 | \n",
      "weights: [0.079789581891864733, 0.064757278350021791, 0.021985008591674442, 0.046819434893280693, 0.034285715181341145, 0.045617096211309868, 0.033286498891162593, 0.084368991559831519, 0.1984126984126984, 0.11696554459257208, 0.058902009005553535, 0.040380819765943078, 0.063327882303826827, 0.071626475434638417]\n",
      "equivalent_num:\n",
      "24.1762433132\n",
      "29.788348041\n",
      "87.7421692894\n",
      "41.2011027061\n",
      "56.2628586126\n",
      "42.2870481879\n",
      "57.9517945695\n",
      "22.8639967127\n",
      "9.72222222222\n",
      "16.4921417876\n",
      "32.7495170071\n",
      "47.7705097831\n",
      "30.4607113881\n",
      "26.9315547634\n"
     ]
    },
    {
     "name": "stderr",
     "output_type": "stream",
     "text": [
      "\r",
      "  0%|          | 0/6 [00:00<?, ?it/s]"
     ]
    },
    {
     "name": "stdout",
     "output_type": "stream",
     "text": [
      "START TRAIN.\n",
      "[Iteration 1 / 1626] TRAIN loss: 2.680510\n",
      "[Iteration 51 / 1626] TRAIN loss: 2.624368\n",
      "[Iteration 101 / 1626] TRAIN loss: 2.524498\n",
      "[Iteration 151 / 1626] TRAIN loss: 2.519666\n",
      "[Iteration 201 / 1626] TRAIN loss: 2.627453\n",
      "[Iteration 251 / 1626] TRAIN loss: 2.510654\n",
      "[Epoch 1 / 6] TRAIN acc: 7.243542\n"
     ]
    },
    {
     "name": "stderr",
     "output_type": "stream",
     "text": [
      "\r",
      " 17%|█▋        | 1/6 [03:28<17:22, 208.51s/it]"
     ]
    },
    {
     "name": "stdout",
     "output_type": "stream",
     "text": [
      "[Epoch 1 / 6] VAL acc: 6.053763\n",
      "[Iteration 301 / 1626] TRAIN loss: 2.417852\n",
      "[Iteration 351 / 1626] TRAIN loss: 2.408160\n",
      "[Iteration 401 / 1626] TRAIN loss: 2.475265\n",
      "[Iteration 451 / 1626] TRAIN loss: 2.687148\n",
      "[Iteration 501 / 1626] TRAIN loss: 2.490404\n",
      "[Epoch 2 / 6] TRAIN acc: 7.642066\n"
     ]
    },
    {
     "name": "stderr",
     "output_type": "stream",
     "text": [
      "\r",
      " 33%|███▎      | 2/6 [06:56<13:53, 208.41s/it]"
     ]
    },
    {
     "name": "stdout",
     "output_type": "stream",
     "text": [
      "[Epoch 2 / 6] VAL acc: 6.053763\n",
      "[Iteration 551 / 1626] TRAIN loss: 2.408102\n",
      "[Iteration 601 / 1626] TRAIN loss: 2.626215\n",
      "[Iteration 651 / 1626] TRAIN loss: 2.538331\n",
      "[Iteration 701 / 1626] TRAIN loss: 2.815977\n",
      "[Iteration 751 / 1626] TRAIN loss: 2.576370\n",
      "[Iteration 801 / 1626] TRAIN loss: 2.528514\n",
      "[Epoch 3 / 6] TRAIN acc: 7.627306\n"
     ]
    },
    {
     "name": "stderr",
     "output_type": "stream",
     "text": [
      "\r",
      " 50%|█████     | 3/6 [10:25<10:25, 208.36s/it]"
     ]
    },
    {
     "name": "stdout",
     "output_type": "stream",
     "text": [
      "[Epoch 3 / 6] VAL acc: 5.053763\n",
      "[Iteration 851 / 1626] TRAIN loss: 2.441248\n",
      "[Iteration 901 / 1626] TRAIN loss: 2.400146\n",
      "[Iteration 951 / 1626] TRAIN loss: 2.502154\n",
      "[Iteration 1001 / 1626] TRAIN loss: 2.507600\n",
      "[Iteration 1051 / 1626] TRAIN loss: 2.604163\n",
      "[Epoch 4 / 6] TRAIN acc: 7.704797\n"
     ]
    },
    {
     "name": "stderr",
     "output_type": "stream",
     "text": [
      "\r",
      " 67%|██████▋   | 4/6 [13:50<06:55, 207.63s/it]"
     ]
    },
    {
     "name": "stdout",
     "output_type": "stream",
     "text": [
      "[Epoch 4 / 6] VAL acc: 6.053763\n",
      "[Iteration 1101 / 1626] TRAIN loss: 2.395429\n",
      "[Iteration 1151 / 1626] TRAIN loss: 2.600944\n",
      "[Iteration 1201 / 1626] TRAIN loss: 2.633264\n",
      "[Iteration 1251 / 1626] TRAIN loss: 2.524746\n",
      "[Iteration 1301 / 1626] TRAIN loss: 2.359057\n",
      "[Iteration 1351 / 1626] TRAIN loss: 2.381710\n",
      "[Epoch 5 / 6] TRAIN acc: 8.110701\n"
     ]
    },
    {
     "name": "stderr",
     "output_type": "stream",
     "text": [
      "\r",
      " 83%|████████▎ | 5/6 [17:13<03:26, 206.62s/it]"
     ]
    },
    {
     "name": "stdout",
     "output_type": "stream",
     "text": [
      "[Epoch 5 / 6] VAL acc: 5.967742\n",
      "[Iteration 1401 / 1626] TRAIN loss: 2.566068\n",
      "[Iteration 1451 / 1626] TRAIN loss: 2.392086\n",
      "[Iteration 1501 / 1626] TRAIN loss: 2.388846\n",
      "[Iteration 1551 / 1626] TRAIN loss: 2.423887\n",
      "[Iteration 1601 / 1626] TRAIN loss: 2.483807\n",
      "[Epoch 6 / 6] TRAIN acc: 7.966790\n"
     ]
    },
    {
     "name": "stderr",
     "output_type": "stream",
     "text": [
      "100%|██████████| 6/6 [20:34<00:00, 205.76s/it]\n",
      "  0%|          | 0/124 [00:00<?, ?it/s]"
     ]
    },
    {
     "name": "stdout",
     "output_type": "stream",
     "text": [
      "[Epoch 6 / 6] VAL acc: 6.053763\n",
      "Trained in 1234 seconds.\n",
      "FINISH.\n"
     ]
    },
    {
     "name": "stderr",
     "output_type": "stream",
     "text": [
      "100%|██████████| 124/124 [00:19<00:00,  6.48it/s]\n"
     ]
    },
    {
     "name": "stdout",
     "output_type": "stream",
     "text": [
      "0.315676257058\n",
      "   22 | 21m10s |    0.31568 |      48.0000 |    0.5000 |     1.0000 |   -3.0000 |       6.0000 |              10.0000 |            -3.0000 | \n",
      "weights: [0.079789581891864733, 0.064757278350021791, 0.021985008591674442, 0.046819434893280693, 0.034285715181341145, 0.045617096211309868, 0.033286498891162593, 0.084368991559831519, 0.1984126984126984, 0.11696554459257208, 0.058902009005553535, 0.040380819765943078, 0.063327882303826827, 0.071626475434638417]\n",
      "equivalent_num:\n",
      "24.1762433132\n",
      "29.788348041\n",
      "87.7421692894\n",
      "41.2011027061\n",
      "56.2628586126\n",
      "42.2870481879\n",
      "57.9517945695\n",
      "22.8639967127\n",
      "9.72222222222\n",
      "16.4921417876\n",
      "32.7495170071\n",
      "47.7705097831\n",
      "30.4607113881\n",
      "26.9315547634\n"
     ]
    },
    {
     "name": "stderr",
     "output_type": "stream",
     "text": [
      "\r",
      "  0%|          | 0/12 [00:00<?, ?it/s]"
     ]
    },
    {
     "name": "stdout",
     "output_type": "stream",
     "text": [
      "START TRAIN.\n",
      "[Iteration 1 / 3252] TRAIN loss: 2.956950\n",
      "[Iteration 51 / 3252] TRAIN loss: 2.445019\n",
      "[Iteration 101 / 3252] TRAIN loss: 2.456687\n",
      "[Iteration 151 / 3252] TRAIN loss: 2.507548\n",
      "[Iteration 201 / 3252] TRAIN loss: 2.446075\n",
      "[Iteration 251 / 3252] TRAIN loss: 2.479738\n",
      "[Epoch 1 / 12] TRAIN acc: 8.047970\n"
     ]
    },
    {
     "name": "stderr",
     "output_type": "stream",
     "text": [
      "\r",
      "  8%|▊         | 1/12 [03:29<38:20, 209.14s/it]"
     ]
    },
    {
     "name": "stdout",
     "output_type": "stream",
     "text": [
      "[Epoch 1 / 12] VAL acc: 1.967742\n",
      "[Iteration 301 / 3252] TRAIN loss: 2.565827\n",
      "[Iteration 351 / 3252] TRAIN loss: 2.428705\n",
      "[Iteration 401 / 3252] TRAIN loss: 2.411789\n",
      "[Iteration 451 / 3252] TRAIN loss: 2.415428\n",
      "[Iteration 501 / 3252] TRAIN loss: 2.432738\n",
      "[Epoch 2 / 12] TRAIN acc: 7.575646\n"
     ]
    },
    {
     "name": "stderr",
     "output_type": "stream",
     "text": [
      "\r",
      " 17%|█▋        | 2/12 [06:58<34:50, 209.07s/it]"
     ]
    },
    {
     "name": "stdout",
     "output_type": "stream",
     "text": [
      "[Epoch 2 / 12] VAL acc: 6.139785\n",
      "[Iteration 551 / 3252] TRAIN loss: 2.347117\n",
      "[Iteration 601 / 3252] TRAIN loss: 2.463907\n",
      "[Iteration 651 / 3252] TRAIN loss: 2.460676\n",
      "[Iteration 701 / 3252] TRAIN loss: 2.555528\n",
      "[Iteration 751 / 3252] TRAIN loss: 2.442156\n",
      "[Iteration 801 / 3252] TRAIN loss: 2.526620\n",
      "[Epoch 3 / 12] TRAIN acc: 7.952030\n"
     ]
    },
    {
     "name": "stderr",
     "output_type": "stream",
     "text": [
      "\r",
      " 25%|██▌       | 3/12 [10:26<31:20, 208.96s/it]"
     ]
    },
    {
     "name": "stdout",
     "output_type": "stream",
     "text": [
      "[Epoch 3 / 12] VAL acc: 5.333333\n",
      "[Iteration 851 / 3252] TRAIN loss: 2.618800\n",
      "[Iteration 901 / 3252] TRAIN loss: 2.517199\n",
      "[Iteration 951 / 3252] TRAIN loss: 2.480211\n",
      "[Iteration 1001 / 3252] TRAIN loss: 2.499112\n",
      "[Iteration 1051 / 3252] TRAIN loss: 2.376251\n",
      "[Epoch 4 / 12] TRAIN acc: 7.734317\n"
     ]
    },
    {
     "name": "stderr",
     "output_type": "stream",
     "text": [
      "\r",
      " 33%|███▎      | 4/12 [13:55<27:51, 208.96s/it]"
     ]
    },
    {
     "name": "stdout",
     "output_type": "stream",
     "text": [
      "[Epoch 4 / 12] VAL acc: 6.053763\n",
      "[Iteration 1101 / 3252] TRAIN loss: 2.430043\n",
      "[Iteration 1151 / 3252] TRAIN loss: 2.443207\n",
      "[Iteration 1201 / 3252] TRAIN loss: 2.474705\n",
      "[Iteration 1251 / 3252] TRAIN loss: 2.603769\n",
      "[Iteration 1301 / 3252] TRAIN loss: 2.302883\n",
      "[Iteration 1351 / 3252] TRAIN loss: 2.551264\n",
      "[Epoch 5 / 12] TRAIN acc: 8.343173\n"
     ]
    },
    {
     "name": "stderr",
     "output_type": "stream",
     "text": [
      "\r",
      " 42%|████▏     | 5/12 [17:23<24:20, 208.71s/it]"
     ]
    },
    {
     "name": "stdout",
     "output_type": "stream",
     "text": [
      "[Epoch 5 / 12] VAL acc: 6.053763\n",
      "[Iteration 1401 / 3252] TRAIN loss: 2.485399\n",
      "[Iteration 1451 / 3252] TRAIN loss: 2.510109\n",
      "[Iteration 1501 / 3252] TRAIN loss: 2.511798\n",
      "[Iteration 1551 / 3252] TRAIN loss: 2.457080\n",
      "[Iteration 1601 / 3252] TRAIN loss: 2.424764\n",
      "[Epoch 6 / 12] TRAIN acc: 8.405904\n"
     ]
    },
    {
     "name": "stderr",
     "output_type": "stream",
     "text": [
      "\r",
      " 50%|█████     | 6/12 [20:48<20:48, 208.08s/it]"
     ]
    },
    {
     "name": "stdout",
     "output_type": "stream",
     "text": [
      "[Epoch 6 / 12] VAL acc: 6.150538\n",
      "[Iteration 1651 / 3252] TRAIN loss: 2.484217\n",
      "[Iteration 1701 / 3252] TRAIN loss: 2.409423\n",
      "[Iteration 1751 / 3252] TRAIN loss: 2.328052\n",
      "[Iteration 1801 / 3252] TRAIN loss: 2.470347\n",
      "[Iteration 1851 / 3252] TRAIN loss: 2.478708\n",
      "[Epoch 7 / 12] TRAIN acc: 8.597786\n"
     ]
    },
    {
     "name": "stderr",
     "output_type": "stream",
     "text": [
      "\r",
      " 58%|█████▊    | 7/12 [24:11<17:16, 207.38s/it]"
     ]
    },
    {
     "name": "stdout",
     "output_type": "stream",
     "text": [
      "[Epoch 7 / 12] VAL acc: 5.946237\n",
      "[Iteration 1901 / 3252] TRAIN loss: 2.380686\n",
      "[Iteration 1951 / 3252] TRAIN loss: 2.488759\n",
      "[Iteration 2001 / 3252] TRAIN loss: 2.382113\n",
      "[Iteration 2051 / 3252] TRAIN loss: 2.430345\n",
      "[Iteration 2101 / 3252] TRAIN loss: 2.429344\n",
      "[Iteration 2151 / 3252] TRAIN loss: 2.450135\n",
      "[Epoch 8 / 12] TRAIN acc: 8.667897\n"
     ]
    },
    {
     "name": "stderr",
     "output_type": "stream",
     "text": [
      "\r",
      " 67%|██████▋   | 8/12 [27:32<13:46, 206.51s/it]"
     ]
    },
    {
     "name": "stdout",
     "output_type": "stream",
     "text": [
      "[Epoch 8 / 12] VAL acc: 5.677419\n",
      "[Iteration 2201 / 3252] TRAIN loss: 2.298646\n",
      "[Iteration 2251 / 3252] TRAIN loss: 2.458822\n",
      "[Iteration 2301 / 3252] TRAIN loss: 2.385865\n",
      "[Iteration 2351 / 3252] TRAIN loss: 2.324954\n",
      "[Iteration 2401 / 3252] TRAIN loss: 2.558533\n",
      "[Epoch 9 / 12] TRAIN acc: 8.977860\n"
     ]
    },
    {
     "name": "stderr",
     "output_type": "stream",
     "text": [
      "\r",
      " 75%|███████▌  | 9/12 [30:52<10:17, 205.87s/it]"
     ]
    },
    {
     "name": "stdout",
     "output_type": "stream",
     "text": [
      "[Epoch 9 / 12] VAL acc: 6.053763\n",
      "[Iteration 2451 / 3252] TRAIN loss: 2.432493\n",
      "[Iteration 2501 / 3252] TRAIN loss: 2.425182\n",
      "[Iteration 2551 / 3252] TRAIN loss: 2.510854\n",
      "[Iteration 2601 / 3252] TRAIN loss: 2.383275\n",
      "[Iteration 2651 / 3252] TRAIN loss: 2.452827\n",
      "[Iteration 2701 / 3252] TRAIN loss: 2.393003\n",
      "[Epoch 10 / 12] TRAIN acc: 8.822878\n"
     ]
    },
    {
     "name": "stderr",
     "output_type": "stream",
     "text": [
      "\r",
      " 83%|████████▎ | 10/12 [34:11<06:50, 205.19s/it]"
     ]
    },
    {
     "name": "stdout",
     "output_type": "stream",
     "text": [
      "[Epoch 10 / 12] VAL acc: 6.408602\n",
      "[Iteration 2751 / 3252] TRAIN loss: 2.391844\n",
      "[Iteration 2801 / 3252] TRAIN loss: 2.369427\n",
      "[Iteration 2851 / 3252] TRAIN loss: 2.286754\n",
      "[Iteration 2901 / 3252] TRAIN loss: 2.427818\n",
      "[Iteration 2951 / 3252] TRAIN loss: 2.321940\n",
      "[Epoch 11 / 12] TRAIN acc: 9.420664\n"
     ]
    },
    {
     "name": "stderr",
     "output_type": "stream",
     "text": [
      "\r",
      " 92%|█████████▏| 11/12 [37:29<03:24, 204.49s/it]"
     ]
    },
    {
     "name": "stdout",
     "output_type": "stream",
     "text": [
      "[Epoch 11 / 12] VAL acc: 6.043011\n",
      "[Iteration 3001 / 3252] TRAIN loss: 2.367317\n",
      "[Iteration 3051 / 3252] TRAIN loss: 2.332415\n",
      "[Iteration 3101 / 3252] TRAIN loss: 2.570346\n",
      "[Iteration 3151 / 3252] TRAIN loss: 2.557352\n",
      "[Iteration 3201 / 3252] TRAIN loss: 2.410462\n",
      "[Iteration 3251 / 3252] TRAIN loss: 2.429755\n",
      "[Epoch 12 / 12] TRAIN acc: 8.915129\n"
     ]
    },
    {
     "name": "stderr",
     "output_type": "stream",
     "text": [
      "100%|██████████| 12/12 [40:45<00:00, 203.75s/it]\n",
      "  0%|          | 0/124 [00:00<?, ?it/s]"
     ]
    },
    {
     "name": "stdout",
     "output_type": "stream",
     "text": [
      "[Epoch 12 / 12] VAL acc: 6.107527\n",
      "Trained in 2445 seconds.\n",
      "FINISH.\n"
     ]
    },
    {
     "name": "stderr",
     "output_type": "stream",
     "text": [
      "100%|██████████| 124/124 [00:18<00:00,  6.56it/s]\n"
     ]
    },
    {
     "name": "stdout",
     "output_type": "stream",
     "text": [
      "0.31029846733\n",
      "   23 | 41m21s |    0.31030 |      48.0000 |    0.5000 |     1.0000 |   -3.0000 |      12.0000 |               5.0529 |            -3.0000 | \n",
      "weights: [0.079789581891864733, 0.064757278350021791, 0.021985008591674442, 0.046819434893280693, 0.034285715181341145, 0.045617096211309868, 0.033286498891162593, 0.084368991559831519, 0.1984126984126984, 0.11696554459257208, 0.058902009005553535, 0.040380819765943078, 0.063327882303826827, 0.071626475434638417]\n",
      "equivalent_num:\n",
      "24.1762433132\n",
      "29.788348041\n",
      "87.7421692894\n",
      "41.2011027061\n",
      "56.2628586126\n",
      "42.2870481879\n",
      "57.9517945695\n",
      "22.8639967127\n",
      "9.72222222222\n",
      "16.4921417876\n",
      "32.7495170071\n",
      "47.7705097831\n",
      "30.4607113881\n",
      "26.9315547634\n"
     ]
    },
    {
     "name": "stderr",
     "output_type": "stream",
     "text": [
      "\r",
      "  0%|          | 0/9 [00:00<?, ?it/s]"
     ]
    },
    {
     "name": "stdout",
     "output_type": "stream",
     "text": [
      "START TRAIN.\n",
      "[Iteration 1 / 2439] TRAIN loss: 2.754987\n",
      "[Iteration 51 / 2439] TRAIN loss: 2.886488\n",
      "[Iteration 101 / 2439] TRAIN loss: 2.777831\n",
      "[Iteration 151 / 2439] TRAIN loss: 2.667191\n",
      "[Iteration 201 / 2439] TRAIN loss: 2.823568\n",
      "[Iteration 251 / 2439] TRAIN loss: 2.690719\n",
      "[Epoch 1 / 9] TRAIN acc: 3.605166\n"
     ]
    },
    {
     "name": "stderr",
     "output_type": "stream",
     "text": [
      "\r",
      " 11%|█         | 1/9 [03:29<27:59, 209.97s/it]"
     ]
    },
    {
     "name": "stdout",
     "output_type": "stream",
     "text": [
      "[Epoch 1 / 9] VAL acc: 1.838710\n",
      "[Iteration 301 / 2439] TRAIN loss: 2.923092\n",
      "[Iteration 351 / 2439] TRAIN loss: 2.724285\n",
      "[Iteration 401 / 2439] TRAIN loss: 2.754039\n",
      "[Iteration 451 / 2439] TRAIN loss: 2.686095\n",
      "[Iteration 501 / 2439] TRAIN loss: 2.510291\n",
      "[Epoch 2 / 9] TRAIN acc: 5.129151\n"
     ]
    },
    {
     "name": "stderr",
     "output_type": "stream",
     "text": [
      "\r",
      " 22%|██▏       | 2/9 [07:00<24:30, 210.10s/it]"
     ]
    },
    {
     "name": "stdout",
     "output_type": "stream",
     "text": [
      "[Epoch 2 / 9] VAL acc: 2.881720\n",
      "[Iteration 551 / 2439] TRAIN loss: 2.764587\n",
      "[Iteration 601 / 2439] TRAIN loss: 2.741137\n",
      "[Iteration 651 / 2439] TRAIN loss: 2.670657\n",
      "[Iteration 701 / 2439] TRAIN loss: 2.482558\n",
      "[Iteration 751 / 2439] TRAIN loss: 2.574274\n",
      "[Iteration 801 / 2439] TRAIN loss: 2.583441\n",
      "[Epoch 3 / 9] TRAIN acc: 6.332103\n"
     ]
    },
    {
     "name": "stderr",
     "output_type": "stream",
     "text": [
      "\r",
      " 33%|███▎      | 3/9 [10:30<21:01, 210.19s/it]"
     ]
    },
    {
     "name": "stdout",
     "output_type": "stream",
     "text": [
      "[Epoch 3 / 9] VAL acc: 4.053763\n",
      "[Iteration 851 / 2439] TRAIN loss: 2.579864\n",
      "[Iteration 901 / 2439] TRAIN loss: 2.659265\n",
      "[Iteration 951 / 2439] TRAIN loss: 2.583688\n",
      "[Iteration 1001 / 2439] TRAIN loss: 2.512531\n",
      "[Iteration 1051 / 2439] TRAIN loss: 2.477206\n",
      "[Epoch 4 / 9] TRAIN acc: 7.605166\n"
     ]
    },
    {
     "name": "stderr",
     "output_type": "stream",
     "text": [
      "\r",
      " 44%|████▍     | 4/9 [14:00<17:30, 210.18s/it]"
     ]
    },
    {
     "name": "stdout",
     "output_type": "stream",
     "text": [
      "[Epoch 4 / 9] VAL acc: 4.548387\n",
      "[Iteration 1101 / 2439] TRAIN loss: 2.639422\n",
      "[Iteration 1151 / 2439] TRAIN loss: 2.377304\n",
      "[Iteration 1201 / 2439] TRAIN loss: 2.399356\n",
      "[Iteration 1251 / 2439] TRAIN loss: 2.439628\n",
      "[Iteration 1301 / 2439] TRAIN loss: 2.601446\n",
      "[Iteration 1351 / 2439] TRAIN loss: 2.491345\n",
      "[Epoch 5 / 9] TRAIN acc: 8.686347\n"
     ]
    },
    {
     "name": "stderr",
     "output_type": "stream",
     "text": [
      "\r",
      " 56%|█████▌    | 5/9 [17:30<14:00, 210.12s/it]"
     ]
    },
    {
     "name": "stdout",
     "output_type": "stream",
     "text": [
      "[Epoch 5 / 9] VAL acc: 5.000000\n",
      "[Iteration 1401 / 2439] TRAIN loss: 2.346475\n",
      "[Iteration 1451 / 2439] TRAIN loss: 2.399704\n",
      "[Iteration 1501 / 2439] TRAIN loss: 2.475559\n",
      "[Iteration 1551 / 2439] TRAIN loss: 2.464027\n",
      "[Iteration 1601 / 2439] TRAIN loss: 2.444527\n",
      "[Epoch 6 / 9] TRAIN acc: 9.380074\n"
     ]
    },
    {
     "name": "stderr",
     "output_type": "stream",
     "text": [
      "\r",
      " 67%|██████▋   | 6/9 [21:00<10:30, 210.07s/it]"
     ]
    },
    {
     "name": "stdout",
     "output_type": "stream",
     "text": [
      "[Epoch 6 / 9] VAL acc: 5.408602\n",
      "[Iteration 1651 / 2439] TRAIN loss: 2.428295\n",
      "[Iteration 1701 / 2439] TRAIN loss: 2.371675\n",
      "[Iteration 1751 / 2439] TRAIN loss: 2.280110\n",
      "[Iteration 1801 / 2439] TRAIN loss: 2.382584\n",
      "[Iteration 1851 / 2439] TRAIN loss: 2.307452\n",
      "[Epoch 7 / 9] TRAIN acc: 10.029520\n"
     ]
    },
    {
     "name": "stderr",
     "output_type": "stream",
     "text": [
      "\r",
      " 78%|███████▊  | 7/9 [24:30<07:00, 210.06s/it]"
     ]
    },
    {
     "name": "stdout",
     "output_type": "stream",
     "text": [
      "[Epoch 7 / 9] VAL acc: 5.795699\n",
      "[Iteration 1901 / 2439] TRAIN loss: 2.303416\n",
      "[Iteration 1951 / 2439] TRAIN loss: 2.390940\n",
      "[Iteration 2001 / 2439] TRAIN loss: 2.468018\n",
      "[Iteration 2051 / 2439] TRAIN loss: 2.413089\n",
      "[Iteration 2101 / 2439] TRAIN loss: 2.440005\n",
      "[Iteration 2151 / 2439] TRAIN loss: 2.283069\n",
      "[Epoch 8 / 9] TRAIN acc: 10.383764\n"
     ]
    },
    {
     "name": "stderr",
     "output_type": "stream",
     "text": [
      "\r",
      " 89%|████████▉ | 8/9 [28:00<03:30, 210.06s/it]"
     ]
    },
    {
     "name": "stdout",
     "output_type": "stream",
     "text": [
      "[Epoch 8 / 9] VAL acc: 5.881720\n",
      "[Iteration 2201 / 2439] TRAIN loss: 2.213369\n",
      "[Iteration 2251 / 2439] TRAIN loss: 2.323435\n",
      "[Iteration 2301 / 2439] TRAIN loss: 2.308216\n",
      "[Iteration 2351 / 2439] TRAIN loss: 2.332000\n",
      "[Iteration 2401 / 2439] TRAIN loss: 2.330236\n",
      "[Epoch 9 / 9] TRAIN acc: 10.756458\n"
     ]
    },
    {
     "name": "stderr",
     "output_type": "stream",
     "text": [
      "100%|██████████| 9/9 [31:30<00:00, 210.06s/it]\n",
      "  0%|          | 0/124 [00:00<?, ?it/s]"
     ]
    },
    {
     "name": "stdout",
     "output_type": "stream",
     "text": [
      "[Epoch 9 / 9] VAL acc: 6.118280\n",
      "Trained in 1890 seconds.\n",
      "FINISH.\n"
     ]
    },
    {
     "name": "stderr",
     "output_type": "stream",
     "text": [
      "100%|██████████| 124/124 [00:19<00:00,  6.30it/s]\n"
     ]
    },
    {
     "name": "stdout",
     "output_type": "stream",
     "text": [
      "0.29981177736\n",
      "   24 | 32m08s |    0.29981 |      48.0000 |    0.5000 |    10.0000 |   -7.0000 |       9.2958 |               6.4185 |            -3.0000 | \n",
      "weights: [0.079789581891864733, 0.064757278350021791, 0.021985008591674442, 0.046819434893280693, 0.034285715181341145, 0.045617096211309868, 0.033286498891162593, 0.084368991559831519, 0.1984126984126984, 0.11696554459257208, 0.058902009005553535, 0.040380819765943078, 0.063327882303826827, 0.071626475434638417]\n",
      "equivalent_num:\n",
      "24.1762433132\n",
      "29.788348041\n",
      "87.7421692894\n",
      "41.2011027061\n",
      "56.2628586126\n",
      "42.2870481879\n",
      "57.9517945695\n",
      "22.8639967127\n",
      "9.72222222222\n",
      "16.4921417876\n",
      "32.7495170071\n",
      "47.7705097831\n",
      "30.4607113881\n",
      "26.9315547634\n"
     ]
    },
    {
     "name": "stderr",
     "output_type": "stream",
     "text": [
      "\r",
      "  0%|          | 0/12 [00:00<?, ?it/s]"
     ]
    },
    {
     "name": "stdout",
     "output_type": "stream",
     "text": [
      "START TRAIN.\n",
      "[Iteration 1 / 3252] TRAIN loss: 2.787896\n",
      "[Iteration 51 / 3252] TRAIN loss: 2.881805\n",
      "[Iteration 101 / 3252] TRAIN loss: 2.988520\n",
      "[Iteration 151 / 3252] TRAIN loss: 2.895138\n",
      "[Iteration 201 / 3252] TRAIN loss: 2.890013\n",
      "[Iteration 251 / 3252] TRAIN loss: 2.911471\n",
      "[Epoch 1 / 12] TRAIN acc: 2.977860\n"
     ]
    },
    {
     "name": "stderr",
     "output_type": "stream",
     "text": [
      "\r",
      "  8%|▊         | 1/12 [03:29<38:26, 209.72s/it]"
     ]
    },
    {
     "name": "stdout",
     "output_type": "stream",
     "text": [
      "[Epoch 1 / 12] VAL acc: 1.000000\n",
      "[Iteration 301 / 3252] TRAIN loss: 2.852753\n",
      "[Iteration 351 / 3252] TRAIN loss: 2.808816\n",
      "[Iteration 401 / 3252] TRAIN loss: 2.824750\n",
      "[Iteration 451 / 3252] TRAIN loss: 2.831933\n",
      "[Iteration 501 / 3252] TRAIN loss: 2.825936\n",
      "[Epoch 2 / 12] TRAIN acc: 3.206642\n"
     ]
    },
    {
     "name": "stderr",
     "output_type": "stream",
     "text": [
      "\r",
      " 17%|█▋        | 2/12 [06:59<34:58, 209.84s/it]"
     ]
    },
    {
     "name": "stdout",
     "output_type": "stream",
     "text": [
      "[Epoch 2 / 12] VAL acc: 1.129032\n",
      "[Iteration 551 / 3252] TRAIN loss: 2.835341\n",
      "[Iteration 601 / 3252] TRAIN loss: 2.723491\n",
      "[Iteration 651 / 3252] TRAIN loss: 2.778693\n",
      "[Iteration 701 / 3252] TRAIN loss: 2.673109\n",
      "[Iteration 751 / 3252] TRAIN loss: 2.779956\n",
      "[Iteration 801 / 3252] TRAIN loss: 2.768426\n",
      "[Epoch 3 / 12] TRAIN acc: 3.542435\n"
     ]
    },
    {
     "name": "stderr",
     "output_type": "stream",
     "text": [
      "\r",
      " 25%|██▌       | 3/12 [10:29<31:29, 209.95s/it]"
     ]
    },
    {
     "name": "stdout",
     "output_type": "stream",
     "text": [
      "[Epoch 3 / 12] VAL acc: 1.301075\n",
      "[Iteration 851 / 3252] TRAIN loss: 2.834896\n",
      "[Iteration 901 / 3252] TRAIN loss: 2.647321\n",
      "[Iteration 951 / 3252] TRAIN loss: 2.773572\n",
      "[Iteration 1001 / 3252] TRAIN loss: 2.673239\n",
      "[Iteration 1051 / 3252] TRAIN loss: 2.550783\n",
      "[Epoch 4 / 12] TRAIN acc: 3.944649\n"
     ]
    },
    {
     "name": "stderr",
     "output_type": "stream",
     "text": [
      "\r",
      " 33%|███▎      | 4/12 [14:00<28:00, 210.01s/it]"
     ]
    },
    {
     "name": "stdout",
     "output_type": "stream",
     "text": [
      "[Epoch 4 / 12] VAL acc: 1.516129\n",
      "[Iteration 1101 / 3252] TRAIN loss: 2.659656\n",
      "[Iteration 1151 / 3252] TRAIN loss: 2.651912\n",
      "[Iteration 1201 / 3252] TRAIN loss: 2.645409\n",
      "[Iteration 1251 / 3252] TRAIN loss: 2.867934\n",
      "[Iteration 1301 / 3252] TRAIN loss: 2.688401\n",
      "[Iteration 1351 / 3252] TRAIN loss: 2.740872\n",
      "[Epoch 5 / 12] TRAIN acc: 4.760148\n"
     ]
    },
    {
     "name": "stderr",
     "output_type": "stream",
     "text": [
      "\r",
      " 42%|████▏     | 5/12 [17:29<24:29, 209.97s/it]"
     ]
    },
    {
     "name": "stdout",
     "output_type": "stream",
     "text": [
      "[Epoch 5 / 12] VAL acc: 1.806452\n",
      "[Iteration 1401 / 3252] TRAIN loss: 2.567585\n",
      "[Iteration 1451 / 3252] TRAIN loss: 2.779854\n",
      "[Iteration 1501 / 3252] TRAIN loss: 2.656948\n",
      "[Iteration 1551 / 3252] TRAIN loss: 2.651054\n",
      "[Iteration 1601 / 3252] TRAIN loss: 2.566974\n",
      "[Epoch 6 / 12] TRAIN acc: 4.948339\n"
     ]
    },
    {
     "name": "stderr",
     "output_type": "stream",
     "text": [
      "\r",
      " 50%|█████     | 6/12 [20:59<20:59, 209.91s/it]"
     ]
    },
    {
     "name": "stdout",
     "output_type": "stream",
     "text": [
      "[Epoch 6 / 12] VAL acc: 2.172043\n",
      "[Iteration 1651 / 3252] TRAIN loss: 2.532531\n",
      "[Iteration 1701 / 3252] TRAIN loss: 2.751163\n",
      "[Iteration 1751 / 3252] TRAIN loss: 2.506961\n",
      "[Iteration 1801 / 3252] TRAIN loss: 2.664632\n",
      "[Iteration 1851 / 3252] TRAIN loss: 2.529026\n",
      "[Epoch 7 / 12] TRAIN acc: 5.616236\n"
     ]
    },
    {
     "name": "stderr",
     "output_type": "stream",
     "text": [
      "\r",
      " 58%|█████▊    | 7/12 [24:28<17:29, 209.86s/it]"
     ]
    },
    {
     "name": "stdout",
     "output_type": "stream",
     "text": [
      "[Epoch 7 / 12] VAL acc: 2.526882\n",
      "[Iteration 1901 / 3252] TRAIN loss: 2.585783\n",
      "[Iteration 1951 / 3252] TRAIN loss: 2.528649\n",
      "[Iteration 2001 / 3252] TRAIN loss: 2.497311\n",
      "[Iteration 2051 / 3252] TRAIN loss: 2.404157\n",
      "[Iteration 2101 / 3252] TRAIN loss: 2.406377\n",
      "[Iteration 2151 / 3252] TRAIN loss: 2.570472\n",
      "[Epoch 8 / 12] TRAIN acc: 6.261993\n"
     ]
    },
    {
     "name": "stderr",
     "output_type": "stream",
     "text": [
      "\r",
      " 67%|██████▋   | 8/12 [27:58<13:59, 209.80s/it]"
     ]
    },
    {
     "name": "stdout",
     "output_type": "stream",
     "text": [
      "[Epoch 8 / 12] VAL acc: 3.107527\n",
      "[Iteration 2201 / 3252] TRAIN loss: 2.525557\n",
      "[Iteration 2251 / 3252] TRAIN loss: 2.536278\n",
      "[Iteration 2301 / 3252] TRAIN loss: 2.491784\n",
      "[Iteration 2351 / 3252] TRAIN loss: 2.388118\n",
      "[Iteration 2401 / 3252] TRAIN loss: 2.458789\n",
      "[Epoch 9 / 12] TRAIN acc: 7.328413\n"
     ]
    },
    {
     "name": "stderr",
     "output_type": "stream",
     "text": [
      "\r",
      " 75%|███████▌  | 9/12 [31:27<10:29, 209.77s/it]"
     ]
    },
    {
     "name": "stdout",
     "output_type": "stream",
     "text": [
      "[Epoch 9 / 12] VAL acc: 3.709677\n",
      "[Iteration 2451 / 3252] TRAIN loss: 2.439911\n",
      "[Iteration 2501 / 3252] TRAIN loss: 2.393613\n",
      "[Iteration 2551 / 3252] TRAIN loss: 2.611527\n",
      "[Iteration 2601 / 3252] TRAIN loss: 2.423112\n",
      "[Iteration 2651 / 3252] TRAIN loss: 2.459766\n",
      "[Iteration 2701 / 3252] TRAIN loss: 2.468159\n",
      "[Epoch 10 / 12] TRAIN acc: 7.996310\n"
     ]
    },
    {
     "name": "stderr",
     "output_type": "stream",
     "text": [
      "\r",
      " 83%|████████▎ | 10/12 [34:57<06:59, 209.74s/it]"
     ]
    },
    {
     "name": "stdout",
     "output_type": "stream",
     "text": [
      "[Epoch 10 / 12] VAL acc: 4.129032\n",
      "[Iteration 2751 / 3252] TRAIN loss: 2.393483\n",
      "[Iteration 2801 / 3252] TRAIN loss: 2.425793\n",
      "[Iteration 2851 / 3252] TRAIN loss: 2.562196\n",
      "[Iteration 2901 / 3252] TRAIN loss: 2.412941\n",
      "[Iteration 2951 / 3252] TRAIN loss: 2.517550\n",
      "[Epoch 11 / 12] TRAIN acc: 8.542435\n"
     ]
    },
    {
     "name": "stderr",
     "output_type": "stream",
     "text": [
      "\r",
      " 92%|█████████▏| 11/12 [38:26<03:29, 209.71s/it]"
     ]
    },
    {
     "name": "stdout",
     "output_type": "stream",
     "text": [
      "[Epoch 11 / 12] VAL acc: 4.451613\n",
      "[Iteration 3001 / 3252] TRAIN loss: 2.514476\n",
      "[Iteration 3051 / 3252] TRAIN loss: 2.490146\n",
      "[Iteration 3101 / 3252] TRAIN loss: 2.459253\n",
      "[Iteration 3151 / 3252] TRAIN loss: 2.523276\n",
      "[Iteration 3201 / 3252] TRAIN loss: 2.426417\n",
      "[Iteration 3251 / 3252] TRAIN loss: 2.519422\n",
      "[Epoch 12 / 12] TRAIN acc: 8.911439\n"
     ]
    },
    {
     "name": "stderr",
     "output_type": "stream",
     "text": [
      "100%|██████████| 12/12 [41:56<00:00, 209.69s/it]\n",
      "  0%|          | 0/124 [00:00<?, ?it/s]"
     ]
    },
    {
     "name": "stdout",
     "output_type": "stream",
     "text": [
      "[Epoch 12 / 12] VAL acc: 4.645161\n",
      "Trained in 2516 seconds.\n",
      "FINISH.\n"
     ]
    },
    {
     "name": "stderr",
     "output_type": "stream",
     "text": [
      "100%|██████████| 124/124 [00:19<00:00,  6.26it/s]\n"
     ]
    },
    {
     "name": "stdout",
     "output_type": "stream",
     "text": [
      "0.217262705028\n",
      "   25 | 42m33s |    0.21726 |      48.0000 |    0.5000 |     5.5521 |   -7.0000 |      12.0000 |               7.2635 |            -3.0000 | \n",
      "weights: [0.079789581891864733, 0.064757278350021791, 0.021985008591674442, 0.046819434893280693, 0.034285715181341145, 0.045617096211309868, 0.033286498891162593, 0.084368991559831519, 0.1984126984126984, 0.11696554459257208, 0.058902009005553535, 0.040380819765943078, 0.063327882303826827, 0.071626475434638417]\n",
      "equivalent_num:\n",
      "24.1762433132\n",
      "29.788348041\n",
      "87.7421692894\n",
      "41.2011027061\n",
      "56.2628586126\n",
      "42.2870481879\n",
      "57.9517945695\n",
      "22.8639967127\n",
      "9.72222222222\n",
      "16.4921417876\n",
      "32.7495170071\n",
      "47.7705097831\n",
      "30.4607113881\n",
      "26.9315547634\n"
     ]
    },
    {
     "name": "stderr",
     "output_type": "stream",
     "text": [
      "\r",
      "  0%|          | 0/9 [00:00<?, ?it/s]"
     ]
    },
    {
     "name": "stdout",
     "output_type": "stream",
     "text": [
      "START TRAIN.\n",
      "[Iteration 1 / 2439] TRAIN loss: 2.638567\n",
      "[Iteration 51 / 2439] TRAIN loss: 2.398406\n",
      "[Iteration 101 / 2439] TRAIN loss: 2.581582\n",
      "[Iteration 151 / 2439] TRAIN loss: 2.543728\n",
      "[Iteration 201 / 2439] TRAIN loss: 2.587748\n",
      "[Iteration 251 / 2439] TRAIN loss: 2.579114\n",
      "[Epoch 1 / 9] TRAIN acc: 7.398524\n"
     ]
    },
    {
     "name": "stderr",
     "output_type": "stream",
     "text": [
      "\r",
      " 11%|█         | 1/9 [03:26<27:33, 206.68s/it]"
     ]
    },
    {
     "name": "stdout",
     "output_type": "stream",
     "text": [
      "[Epoch 1 / 9] VAL acc: 6.053763\n",
      "[Iteration 301 / 2439] TRAIN loss: 2.610674\n",
      "[Iteration 351 / 2439] TRAIN loss: 2.626055\n",
      "[Iteration 401 / 2439] TRAIN loss: 2.618358\n",
      "[Iteration 451 / 2439] TRAIN loss: 2.627043\n",
      "[Iteration 501 / 2439] TRAIN loss: 2.618970\n",
      "[Epoch 2 / 9] TRAIN acc: 8.000000\n"
     ]
    },
    {
     "name": "stderr",
     "output_type": "stream",
     "text": [
      "\r",
      " 22%|██▏       | 2/9 [06:47<23:45, 203.59s/it]"
     ]
    },
    {
     "name": "stdout",
     "output_type": "stream",
     "text": [
      "[Epoch 2 / 9] VAL acc: 6.053763\n",
      "[Iteration 551 / 2439] TRAIN loss: 2.617339\n",
      "[Iteration 601 / 2439] TRAIN loss: 2.624155\n",
      "[Iteration 651 / 2439] TRAIN loss: 2.617691\n",
      "[Iteration 701 / 2439] TRAIN loss: 2.622528\n",
      "[Iteration 751 / 2439] TRAIN loss: 2.627765\n",
      "[Iteration 801 / 2439] TRAIN loss: 2.621719\n",
      "[Epoch 3 / 9] TRAIN acc: 7.996310\n"
     ]
    },
    {
     "name": "stderr",
     "output_type": "stream",
     "text": [
      "\r",
      " 33%|███▎      | 3/9 [10:04<20:08, 201.47s/it]"
     ]
    },
    {
     "name": "stdout",
     "output_type": "stream",
     "text": [
      "[Epoch 3 / 9] VAL acc: 6.053763\n",
      "[Iteration 851 / 2439] TRAIN loss: 2.617044\n",
      "[Iteration 901 / 2439] TRAIN loss: 2.623579\n",
      "[Iteration 951 / 2439] TRAIN loss: 2.611523\n",
      "[Iteration 1001 / 2439] TRAIN loss: 2.616775\n",
      "[Iteration 1051 / 2439] TRAIN loss: 2.630267\n",
      "[Epoch 4 / 9] TRAIN acc: 8.081181\n"
     ]
    },
    {
     "name": "stderr",
     "output_type": "stream",
     "text": [
      "\r",
      " 44%|████▍     | 4/9 [13:19<16:39, 199.91s/it]"
     ]
    },
    {
     "name": "stdout",
     "output_type": "stream",
     "text": [
      "[Epoch 4 / 9] VAL acc: 6.053763\n",
      "[Iteration 1101 / 2439] TRAIN loss: 2.622970\n",
      "[Iteration 1151 / 2439] TRAIN loss: 2.611523\n",
      "[Iteration 1201 / 2439] TRAIN loss: 2.624063\n",
      "[Iteration 1251 / 2439] TRAIN loss: 2.606462\n",
      "[Iteration 1301 / 2439] TRAIN loss: 2.626626\n",
      "[Iteration 1351 / 2439] TRAIN loss: 2.618559\n",
      "[Epoch 5 / 9] TRAIN acc: 8.350554\n"
     ]
    },
    {
     "name": "stderr",
     "output_type": "stream",
     "text": [
      "\r",
      " 56%|█████▌    | 5/9 [16:33<13:15, 198.79s/it]"
     ]
    },
    {
     "name": "stdout",
     "output_type": "stream",
     "text": [
      "[Epoch 5 / 9] VAL acc: 6.053763\n",
      "[Iteration 1401 / 2439] TRAIN loss: 2.632551\n",
      "[Iteration 1451 / 2439] TRAIN loss: 2.619022\n",
      "[Iteration 1501 / 2439] TRAIN loss: 2.625833\n",
      "[Iteration 1551 / 2439] TRAIN loss: 2.623693\n",
      "[Iteration 1601 / 2439] TRAIN loss: 2.617861\n",
      "[Epoch 6 / 9] TRAIN acc: 7.940959\n"
     ]
    },
    {
     "name": "stderr",
     "output_type": "stream",
     "text": [
      "\r",
      " 67%|██████▋   | 6/9 [19:47<09:53, 197.96s/it]"
     ]
    },
    {
     "name": "stdout",
     "output_type": "stream",
     "text": [
      "[Epoch 6 / 9] VAL acc: 6.053763\n",
      "[Iteration 1651 / 2439] TRAIN loss: 2.624342\n",
      "[Iteration 1701 / 2439] TRAIN loss: 2.629682\n",
      "[Iteration 1751 / 2439] TRAIN loss: 2.629861\n",
      "[Iteration 1801 / 2439] TRAIN loss: 2.621700\n",
      "[Iteration 1851 / 2439] TRAIN loss: 2.626051\n",
      "[Epoch 7 / 9] TRAIN acc: 8.055351\n"
     ]
    },
    {
     "name": "stderr",
     "output_type": "stream",
     "text": [
      "\r",
      " 78%|███████▊  | 7/9 [22:57<06:33, 196.80s/it]"
     ]
    },
    {
     "name": "stdout",
     "output_type": "stream",
     "text": [
      "[Epoch 7 / 9] VAL acc: 6.053763\n",
      "[Iteration 1901 / 2439] TRAIN loss: 2.627582\n",
      "[Iteration 1951 / 2439] TRAIN loss: 2.628640\n",
      "[Iteration 2001 / 2439] TRAIN loss: 2.624496\n",
      "[Iteration 2051 / 2439] TRAIN loss: 2.608017\n",
      "[Iteration 2101 / 2439] TRAIN loss: 2.618597\n",
      "[Iteration 2151 / 2439] TRAIN loss: 2.628621\n",
      "[Epoch 8 / 9] TRAIN acc: 7.904059\n"
     ]
    },
    {
     "name": "stderr",
     "output_type": "stream",
     "text": [
      "\r",
      " 89%|████████▉ | 8/9 [26:05<03:15, 195.72s/it]"
     ]
    },
    {
     "name": "stdout",
     "output_type": "stream",
     "text": [
      "[Epoch 8 / 9] VAL acc: 6.053763\n",
      "[Iteration 2201 / 2439] TRAIN loss: 2.616181\n",
      "[Iteration 2251 / 2439] TRAIN loss: 2.620888\n",
      "[Iteration 2301 / 2439] TRAIN loss: 2.611155\n",
      "[Iteration 2351 / 2439] TRAIN loss: 2.621954\n",
      "[Iteration 2401 / 2439] TRAIN loss: 2.615718\n",
      "[Epoch 9 / 9] TRAIN acc: 8.025830\n"
     ]
    },
    {
     "name": "stderr",
     "output_type": "stream",
     "text": [
      "100%|██████████| 9/9 [29:14<00:00, 194.89s/it]\n",
      "  0%|          | 0/124 [00:00<?, ?it/s]"
     ]
    },
    {
     "name": "stdout",
     "output_type": "stream",
     "text": [
      "[Epoch 9 / 9] VAL acc: 6.053763\n",
      "Trained in 1754 seconds.\n",
      "FINISH.\n"
     ]
    },
    {
     "name": "stderr",
     "output_type": "stream",
     "text": [
      "100%|██████████| 124/124 [00:18<00:00,  6.81it/s]\n"
     ]
    },
    {
     "name": "stdout",
     "output_type": "stream",
     "text": [
      "0.315676257058\n",
      "   26 | 29m50s |    0.31568 |      48.0000 |    0.5000 |     5.9786 |   -3.0000 |       9.3745 |               1.0000 |             0.0000 | \n",
      "weights: [0.079789581891864733, 0.064757278350021791, 0.021985008591674442, 0.046819434893280693, 0.034285715181341145, 0.045617096211309868, 0.033286498891162593, 0.084368991559831519, 0.1984126984126984, 0.11696554459257208, 0.058902009005553535, 0.040380819765943078, 0.063327882303826827, 0.071626475434638417]\n",
      "equivalent_num:\n",
      "24.1762433132\n",
      "29.788348041\n",
      "87.7421692894\n",
      "41.2011027061\n",
      "56.2628586126\n",
      "42.2870481879\n",
      "57.9517945695\n",
      "22.8639967127\n",
      "9.72222222222\n",
      "16.4921417876\n",
      "32.7495170071\n",
      "47.7705097831\n",
      "30.4607113881\n",
      "26.9315547634\n"
     ]
    },
    {
     "name": "stderr",
     "output_type": "stream",
     "text": [
      "\r",
      "  0%|          | 0/6 [00:00<?, ?it/s]"
     ]
    },
    {
     "name": "stdout",
     "output_type": "stream",
     "text": [
      "START TRAIN.\n",
      "[Iteration 1 / 1626] TRAIN loss: 2.772434\n",
      "[Iteration 51 / 1626] TRAIN loss: 2.816382\n",
      "[Iteration 101 / 1626] TRAIN loss: 2.623338\n",
      "[Iteration 151 / 1626] TRAIN loss: 2.553822\n",
      "[Iteration 201 / 1626] TRAIN loss: 2.565597\n",
      "[Iteration 251 / 1626] TRAIN loss: 2.505803\n",
      "[Epoch 1 / 6] TRAIN acc: 6.678967\n"
     ]
    },
    {
     "name": "stderr",
     "output_type": "stream",
     "text": [
      "\r",
      " 17%|█▋        | 1/6 [03:29<17:27, 209.53s/it]"
     ]
    },
    {
     "name": "stdout",
     "output_type": "stream",
     "text": [
      "[Epoch 1 / 6] VAL acc: 4.580645\n",
      "[Iteration 301 / 1626] TRAIN loss: 2.576933\n",
      "[Iteration 351 / 1626] TRAIN loss: 2.589233\n",
      "[Iteration 401 / 1626] TRAIN loss: 2.571053\n",
      "[Iteration 451 / 1626] TRAIN loss: 2.644936\n",
      "[Iteration 501 / 1626] TRAIN loss: 2.666445\n",
      "[Epoch 2 / 6] TRAIN acc: 7.498155\n"
     ]
    },
    {
     "name": "stderr",
     "output_type": "stream",
     "text": [
      "\r",
      " 33%|███▎      | 2/6 [06:59<13:58, 209.61s/it]"
     ]
    },
    {
     "name": "stdout",
     "output_type": "stream",
     "text": [
      "[Epoch 2 / 6] VAL acc: 5.096774\n",
      "[Iteration 551 / 1626] TRAIN loss: 2.589543\n",
      "[Iteration 601 / 1626] TRAIN loss: 2.524538\n",
      "[Iteration 651 / 1626] TRAIN loss: 2.574339\n",
      "[Iteration 701 / 1626] TRAIN loss: 2.542248\n",
      "[Iteration 751 / 1626] TRAIN loss: 2.417142\n",
      "[Iteration 801 / 1626] TRAIN loss: 2.542242\n",
      "[Epoch 3 / 6] TRAIN acc: 7.804428\n"
     ]
    },
    {
     "name": "stderr",
     "output_type": "stream",
     "text": [
      "\r",
      " 50%|█████     | 3/6 [10:29<10:29, 209.67s/it]"
     ]
    },
    {
     "name": "stdout",
     "output_type": "stream",
     "text": [
      "[Epoch 3 / 6] VAL acc: 5.440860\n",
      "[Iteration 851 / 1626] TRAIN loss: 2.426593\n",
      "[Iteration 901 / 1626] TRAIN loss: 2.599104\n",
      "[Iteration 951 / 1626] TRAIN loss: 2.573678\n",
      "[Iteration 1001 / 1626] TRAIN loss: 2.461346\n",
      "[Iteration 1051 / 1626] TRAIN loss: 2.405363\n",
      "[Epoch 4 / 6] TRAIN acc: 8.808118\n"
     ]
    },
    {
     "name": "stderr",
     "output_type": "stream",
     "text": [
      "\r",
      " 67%|██████▋   | 4/6 [13:58<06:59, 209.67s/it]"
     ]
    },
    {
     "name": "stdout",
     "output_type": "stream",
     "text": [
      "[Epoch 4 / 6] VAL acc: 5.838710\n",
      "[Iteration 1101 / 1626] TRAIN loss: 2.403436\n",
      "[Iteration 1151 / 1626] TRAIN loss: 2.432939\n",
      "[Iteration 1201 / 1626] TRAIN loss: 2.462845\n",
      "[Iteration 1251 / 1626] TRAIN loss: 2.507790\n",
      "[Iteration 1301 / 1626] TRAIN loss: 2.428526\n",
      "[Iteration 1351 / 1626] TRAIN loss: 2.398892\n",
      "[Epoch 5 / 6] TRAIN acc: 9.442804\n"
     ]
    },
    {
     "name": "stderr",
     "output_type": "stream",
     "text": [
      "\r",
      " 83%|████████▎ | 5/6 [17:28<03:29, 209.66s/it]"
     ]
    },
    {
     "name": "stdout",
     "output_type": "stream",
     "text": [
      "[Epoch 5 / 6] VAL acc: 6.118280\n",
      "[Iteration 1401 / 1626] TRAIN loss: 2.409156\n",
      "[Iteration 1451 / 1626] TRAIN loss: 2.321224\n",
      "[Iteration 1501 / 1626] TRAIN loss: 2.566659\n",
      "[Iteration 1551 / 1626] TRAIN loss: 2.385321\n",
      "[Iteration 1601 / 1626] TRAIN loss: 2.444346\n",
      "[Epoch 6 / 6] TRAIN acc: 9.560886\n"
     ]
    },
    {
     "name": "stderr",
     "output_type": "stream",
     "text": [
      "100%|██████████| 6/6 [20:57<00:00, 209.64s/it]\n",
      "  0%|          | 0/124 [00:00<?, ?it/s]"
     ]
    },
    {
     "name": "stdout",
     "output_type": "stream",
     "text": [
      "[Epoch 6 / 6] VAL acc: 6.032258\n",
      "Trained in 1257 seconds.\n",
      "FINISH.\n"
     ]
    },
    {
     "name": "stderr",
     "output_type": "stream",
     "text": [
      "100%|██████████| 124/124 [00:19<00:00,  6.29it/s]\n"
     ]
    },
    {
     "name": "stdout",
     "output_type": "stream",
     "text": [
      "0.308685130411\n",
      "   27 | 21m35s |    0.30869 |      48.0000 |    0.5000 |    10.0000 |   -7.0000 |       6.0000 |              10.0000 |            -3.0000 | \n",
      "weights: [0.079789581891864733, 0.064757278350021791, 0.021985008591674442, 0.046819434893280693, 0.034285715181341145, 0.045617096211309868, 0.033286498891162593, 0.084368991559831519, 0.1984126984126984, 0.11696554459257208, 0.058902009005553535, 0.040380819765943078, 0.063327882303826827, 0.071626475434638417]\n",
      "equivalent_num:\n",
      "24.1762433132\n",
      "29.788348041\n",
      "87.7421692894\n",
      "41.2011027061\n",
      "56.2628586126\n",
      "42.2870481879\n",
      "57.9517945695\n",
      "22.8639967127\n",
      "9.72222222222\n",
      "16.4921417876\n",
      "32.7495170071\n",
      "47.7705097831\n",
      "30.4607113881\n",
      "26.9315547634\n"
     ]
    },
    {
     "name": "stderr",
     "output_type": "stream",
     "text": [
      "\r",
      "  0%|          | 0/8 [00:00<?, ?it/s]"
     ]
    },
    {
     "name": "stdout",
     "output_type": "stream",
     "text": [
      "START TRAIN.\n",
      "[Iteration 1 / 2168] TRAIN loss: 2.809641\n",
      "[Iteration 51 / 2168] TRAIN loss: 2.513142\n",
      "[Iteration 101 / 2168] TRAIN loss: 2.554447\n",
      "[Iteration 151 / 2168] TRAIN loss: 2.491493\n",
      "[Iteration 201 / 2168] TRAIN loss: 2.583879\n",
      "[Iteration 251 / 2168] TRAIN loss: 2.556117\n",
      "[Epoch 1 / 8] TRAIN acc: 7.571956\n"
     ]
    },
    {
     "name": "stderr",
     "output_type": "stream",
     "text": [
      "\r",
      " 12%|█▎        | 1/8 [03:28<24:16, 208.10s/it]"
     ]
    },
    {
     "name": "stdout",
     "output_type": "stream",
     "text": [
      "[Epoch 1 / 8] VAL acc: 6.053763\n",
      "[Iteration 301 / 2168] TRAIN loss: 2.584499\n",
      "[Iteration 351 / 2168] TRAIN loss: 2.562748\n",
      "[Iteration 401 / 2168] TRAIN loss: 2.605356\n",
      "[Iteration 451 / 2168] TRAIN loss: 2.638302\n",
      "[Iteration 501 / 2168] TRAIN loss: 2.634939\n",
      "[Epoch 2 / 8] TRAIN acc: 8.088561\n"
     ]
    },
    {
     "name": "stderr",
     "output_type": "stream",
     "text": [
      "\r",
      " 25%|██▌       | 2/8 [06:51<20:35, 206.00s/it]"
     ]
    },
    {
     "name": "stdout",
     "output_type": "stream",
     "text": [
      "[Epoch 2 / 8] VAL acc: 6.053763\n",
      "[Iteration 551 / 2168] TRAIN loss: 2.635325\n",
      "[Iteration 601 / 2168] TRAIN loss: 2.635685\n",
      "[Iteration 651 / 2168] TRAIN loss: 2.636693\n",
      "[Iteration 701 / 2168] TRAIN loss: 2.635045\n",
      "[Iteration 751 / 2168] TRAIN loss: 2.637057\n",
      "[Iteration 801 / 2168] TRAIN loss: 2.633366\n",
      "[Epoch 3 / 8] TRAIN acc: 7.782288\n"
     ]
    },
    {
     "name": "stderr",
     "output_type": "stream",
     "text": [
      "\r",
      " 38%|███▊      | 3/8 [10:12<17:01, 204.23s/it]"
     ]
    },
    {
     "name": "stdout",
     "output_type": "stream",
     "text": [
      "[Epoch 3 / 8] VAL acc: 6.053763\n",
      "[Iteration 851 / 2168] TRAIN loss: 2.635105\n",
      "[Iteration 901 / 2168] TRAIN loss: 2.635482\n",
      "[Iteration 951 / 2168] TRAIN loss: 2.635577\n",
      "[Iteration 1001 / 2168] TRAIN loss: 2.634423\n",
      "[Iteration 1051 / 2168] TRAIN loss: 2.633999\n",
      "[Epoch 4 / 8] TRAIN acc: 8.022140\n"
     ]
    },
    {
     "name": "stderr",
     "output_type": "stream",
     "text": [
      "\r",
      " 50%|█████     | 4/8 [13:30<13:30, 202.60s/it]"
     ]
    },
    {
     "name": "stdout",
     "output_type": "stream",
     "text": [
      "[Epoch 4 / 8] VAL acc: 6.053763\n",
      "[Iteration 1101 / 2168] TRAIN loss: 2.635971\n",
      "[Iteration 1151 / 2168] TRAIN loss: 2.633462\n",
      "[Iteration 1201 / 2168] TRAIN loss: 2.636598\n",
      "[Iteration 1251 / 2168] TRAIN loss: 2.633398\n",
      "[Iteration 1301 / 2168] TRAIN loss: 2.635916\n",
      "[Iteration 1351 / 2168] TRAIN loss: 2.635305\n",
      "[Epoch 5 / 8] TRAIN acc: 7.848708\n"
     ]
    },
    {
     "name": "stderr",
     "output_type": "stream",
     "text": [
      "\r",
      " 62%|██████▎   | 5/8 [16:46<10:03, 201.24s/it]"
     ]
    },
    {
     "name": "stdout",
     "output_type": "stream",
     "text": [
      "[Epoch 5 / 8] VAL acc: 6.053763\n",
      "[Iteration 1401 / 2168] TRAIN loss: 2.633165\n",
      "[Iteration 1451 / 2168] TRAIN loss: 2.634129\n"
     ]
    }
   ],
   "source": [
    "bo.maximize(init_points=2, n_iter=1000, acq='ucb', kappa=5)"
   ]
  },
  {
   "cell_type": "code",
   "execution_count": null,
   "metadata": {
    "collapsed": true
   },
   "outputs": [],
   "source": []
  }
 ],
 "metadata": {
  "kernelspec": {
   "display_name": "Python 3",
   "language": "python",
   "name": "python3"
  },
  "language_info": {
   "codemirror_mode": {
    "name": "ipython",
    "version": 3
   },
   "file_extension": ".py",
   "mimetype": "text/x-python",
   "name": "python",
   "nbconvert_exporter": "python",
   "pygments_lexer": "ipython3",
   "version": "3.6.3"
  }
 },
 "nbformat": 4,
 "nbformat_minor": 1
}
