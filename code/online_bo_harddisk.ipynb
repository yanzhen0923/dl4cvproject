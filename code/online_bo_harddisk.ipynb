{
 "cells": [
  {
   "cell_type": "markdown",
   "metadata": {},
   "source": [
    "Image classification with CNNs\n",
    "================\n",
    "\n",
    "The goal of this exercise is to implement a specific CNN architecture with PyTorch and train it on the CIFAR-10 image classification dataset. We will start by introducing the dataset and then implement a `nn.Module` and a useful `Solver` class. Seperating the model from the actual training has proven itself as a sensible design decision. By the end of this exercise you should have succesfully trained your (possible) first CNN model and have a boilerplate `Solver` class which you can reuse for the next exercise and your future research projects.\n",
    "\n",
    "For an inspiration on how to implement a model or the solver class you can have a look at [these](https://github.com/pytorch/examples) PyTorch examples."
   ]
  },
  {
   "cell_type": "code",
   "execution_count": 8,
   "metadata": {},
   "outputs": [
    {
     "name": "stdout",
     "output_type": "stream",
     "text": [
      "The autoreload extension is already loaded. To reload it, use:\n",
      "  %reload_ext autoreload\n"
     ]
    }
   ],
   "source": [
    "import numpy as np\n",
    "import os\n",
    "from random import choice\n",
    "from string import ascii_uppercase\n",
    "import torch\n",
    "from torch.autograd import Variable\n",
    "from yz.data_utils_harddisk import get_Cancer_datasets\n",
    "from yz.solver import Solver\n",
    "from yz.data_utils_harddisk import get_balanced_weights\n",
    "from torchvision import models\n",
    "import torch.nn as nn\n",
    "import pandas as pd\n",
    "from bayes_opt import BayesianOptimization\n",
    "from tqdm import tqdm\n",
    "\n",
    "csv_full_name = '~/dl4cvproject/data/train.csv'\n",
    "img_folder_full_name = '~/dl4cvproject/data/train256'\n",
    "csv_full_name = os.path.expanduser(csv_full_name)\n",
    "img_folder_full_name = os.path.expanduser(img_folder_full_name)\n",
    "\n",
    "csv_full_name_test = '~/dl4cvproject/data/test.csv'\n",
    "img_folder_full_name_test = '~/dl4cvproject/data/test256'\n",
    "csv_full_name_test = os.path.expanduser(csv_full_name_test)\n",
    "img_folder_full_name_test = os.path.expanduser(img_folder_full_name_test)\n",
    "\n",
    "#%matplotlib inline\n",
    "#plt.rcParams['figure.figsize'] = (10.0, 8.0) # set default size of plots\n",
    "#plt.rcParams['image.interpolation'] = 'nearest'\n",
    "#plt.rcParams['image.cmap'] = 'gray'\n",
    "\n",
    "# for auto-reloading external modules\n",
    "# see http://stackoverflow.com/questions/1907993/autoreload-of-modules-in-ipython\n",
    "%load_ext autoreload\n",
    "%autoreload 2"
   ]
  },
  {
   "cell_type": "code",
   "execution_count": 9,
   "metadata": {
    "scrolled": true
   },
   "outputs": [
    {
     "name": "stderr",
     "output_type": "stream",
     "text": [
      "\n",
      "  0%|          | 0/18577 [00:00<?, ?it/s]\u001b[A\n",
      "100%|██████████| 18577/18577 [00:00<00:00, 912309.12it/s]\u001b[A"
     ]
    },
    {
     "name": "stdout",
     "output_type": "stream",
     "text": [
      "num_training:13000\n",
      "num_validation:1857\n",
      "num_test:3720\n",
      "OK...\n",
      "Train size: 13000\n",
      "Val size: 1857\n",
      "Test size: 3719\n",
      "upload size: 12386\n"
     ]
    }
   ],
   "source": [
    "train_data, val_data, test_data, train_label_list = get_Cancer_datasets(csv_full_name=csv_full_name,img_folder_full_name=img_folder_full_name)\n",
    "test_X, csv_test = get_Cancer_datasets(csv_full_name=csv_full_name_test,img_folder_full_name=img_folder_full_name_test, mode='upload')\n",
    "print(\"Train size: %i\" % len(train_data))\n",
    "print(\"Val size: %i\" % len(val_data))\n",
    "print(\"Test size: %i\" % len(test_data))\n",
    "print(\"upload size: {}\".format(len(test_X)))"
   ]
  },
  {
   "cell_type": "code",
   "execution_count": 10,
   "metadata": {},
   "outputs": [
    {
     "name": "stdout",
     "output_type": "stream",
     "text": [
      "Cuda available\n"
     ]
    }
   ],
   "source": [
    "if torch.cuda.is_available():\n",
    "    print('Cuda available')\n",
    "else:\n",
    "    print('Cuda not available :(---(')"
   ]
  },
  {
   "cell_type": "code",
   "execution_count": 11,
   "metadata": {
    "collapsed": true,
    "scrolled": true
   },
   "outputs": [],
   "source": [
    "def target(factor, batch_size, lr_const, lr_exp, weight_decay_const, weight_decay_exp, num_epochs):\n",
    "\n",
    "    batch_size = int(batch_size)\n",
    "    num_epochs = int(num_epochs)\n",
    "    lr_const = int(lr_const)\n",
    "    weight_decay_const = int(weight_decay_const)\n",
    "    \n",
    "    #training\n",
    "    weights = get_balanced_weights(label_list=train_label_list, num_classes=14, factor=factor)\n",
    "    sampler = torch.utils.data.sampler.WeightedRandomSampler(weights, len(weights))\n",
    "    train_loader = torch.utils.data.DataLoader(train_data, batch_size=batch_size, shuffle=False, sampler=sampler, num_workers=8)\n",
    "    val_loader = torch.utils.data.DataLoader(val_data, batch_size=20, shuffle=False, num_workers=8)\n",
    "    \n",
    "    model = models.resnet34(pretrained=True)\n",
    "    in_features = model.fc.in_features\n",
    "    model.fc = nn.Linear(in_features, 14)\n",
    "\n",
    "    lr = lr_const * np.power(10, lr_exp)\n",
    "    weigth_decay = weight_decay_const * np.power(10, weight_decay_exp)    \n",
    "    solver = Solver(optim_args={\"lr\":lr, \"weight_decay\":weigth_decay})\n",
    "    solver.train(model, train_loader, val_loader, log_nth=50, num_epochs=num_epochs)\n",
    "    \n",
    "    #compute local prediction acc\n",
    "    test_loader = torch.utils.data.DataLoader(test_data, batch_size=30, shuffle=False, num_workers=8)\n",
    "    scores = []\n",
    "    for inputs, target in tqdm(test_loader):\n",
    "        inputs, targets = Variable(inputs), Variable(target)\n",
    "        if torch.cuda.is_available:\n",
    "            inputs, targets = inputs.cuda(), targets.cuda()\n",
    "        outputs = model(inputs)\n",
    "        _, preds = torch.max(outputs, 1)\n",
    "        scores.extend((preds == targets).data.cpu().numpy())\n",
    "        \n",
    "    test_acc = np.mean(scores)\n",
    "    print(test_acc)\n",
    "    \n",
    "    ## generate submission file: submissions/res18_acc_randomsuffix.csv\n",
    "    if test_acc >= 0.32:\n",
    "        \n",
    "        file_name = 'submissions/res18_' + '{:.5f}'.format(test_acc) + '_' + ''.join(choice(ascii_uppercase) for i in range(7)) + '.csv'\n",
    "        print(file_name)\n",
    "        \n",
    "        try:\n",
    "            del csv_test['age']\n",
    "        except KeyError as e:\n",
    "            print(e)\n",
    "        try:\n",
    "            del csv_test['gender']\n",
    "        except KeyError as e:\n",
    "            print(e)\n",
    "        try:\n",
    "            del csv_test['view_position']\n",
    "        except KeyError as e:\n",
    "            print(e)\n",
    "        try:\n",
    "            del csv_test['image_name']\n",
    "        except KeyError as e:\n",
    "            print(e)\n",
    "        try:\n",
    "            del csv_test['detected']\n",
    "        except KeyError as e:\n",
    "            print(e)\n",
    "\n",
    "        pred_set = set()\n",
    "        detected = []\n",
    "        for i in tqdm(range(len(test_X))):\n",
    "            tmp_pred_list = [0] * 14\n",
    "            inputs = test_X[i]\n",
    "            inputs = Variable(inputs.unsqueeze(0))\n",
    "            if torch.cuda.is_available:\n",
    "                inputs = inputs.cuda()\n",
    "            for trial in range(1):\n",
    "                outputs = model(inputs)\n",
    "                _, preds = torch.max(outputs, 1)\n",
    "                int_label = preds.data.cpu().numpy().tolist()[0]\n",
    "                tmp_pred_list[int_label] += 1\n",
    "\n",
    "            pred = tmp_pred_list.index(max(tmp_pred_list))\n",
    "            str_pred = 'class_' + str(pred + 1)\n",
    "            detected.append(str_pred)\n",
    "\n",
    "        csv_test['detected'] = pd.Series(detected)\n",
    "        csv_test.to_csv(file_name, index=False)\n",
    "    \n",
    "    return test_acc\n",
    "\n",
    "    "
   ]
  },
  {
   "cell_type": "markdown",
   "metadata": {},
   "source": [
    "## Bayesian Optimization"
   ]
  },
  {
   "cell_type": "code",
   "execution_count": 12,
   "metadata": {
    "collapsed": true
   },
   "outputs": [],
   "source": [
    "bo = BayesianOptimization(target, {'factor':(0.5, 1), 'batch_size':(30, 80),\n",
    "                                   'lr_const':(1, 10), 'lr_exp':(-7, -3),\n",
    "                                   'weight_decay_const':(1, 10), 'weight_decay_exp':(-6, -1),\n",
    "                                   'num_epochs':(2, 8)})"
   ]
  },
  {
   "cell_type": "code",
   "execution_count": null,
   "metadata": {
    "scrolled": true
   },
   "outputs": [
    {
     "name": "stdout",
     "output_type": "stream",
     "text": [
      "\u001b[31mInitialization\u001b[0m\n",
      "\u001b[94m--------------------------------------------------------------------------------------------------------------------------------------------\u001b[0m\n",
      " Step |   Time |      Value |   batch_size |    factor |   lr_const |    lr_exp |   num_epochs |   weight_decay_const |   weight_decay_exp | \n",
      "weights: [0.0066083103160308257, 0.0044707798770110708, 0.00059174179826106826, 0.0024360986978506543, 0.0013595489025720131, 0.0023203019996160972, 0.0012863210206126134, 0.007336018753684722, 0.036364718182485108, 0.013522111523254931, 0.0037440046433332608, 0.0018467992779463438, 0.0042878268781592135, 0.0053994175869958522]\n",
      "equivalent_num:\n",
      "2.00231802576\n",
      "2.05655874343\n",
      "2.36164151686\n",
      "2.14376685411\n",
      "2.23101974912\n",
      "2.15091995364\n",
      "2.23948489689\n",
      "1.98806108225\n",
      "1.78187119094\n",
      "1.90661772478\n",
      "2.08166658169\n",
      "2.18476354581\n",
      "2.06244472839\n",
      "2.03018101271\n"
     ]
    },
    {
     "name": "stderr",
     "output_type": "stream",
     "text": [
      "Downloading: \"https://download.pytorch.org/models/resnet34-333f7ec4.pth\" to /home/ubuntu/.torch/models/resnet34-333f7ec4.pth\n",
      "\n",
      "  0%|          | 0/87306240 [00:00<?, ?it/s]\u001b[A\n",
      " 11%|█▏        | 9895936/87306240 [00:00<00:00, 97706643.82it/s]\u001b[A\n",
      " 22%|██▏       | 18964480/87306240 [00:00<00:00, 95465306.18it/s]\u001b[A\n",
      " 32%|███▏      | 28344320/87306240 [00:00<00:00, 94955636.12it/s]\u001b[A\n",
      " 43%|████▎     | 37781504/87306240 [00:00<00:00, 94771121.54it/s]\u001b[A\n",
      "Exception in thread Thread-6:\n",
      "Traceback (most recent call last):\n",
      "  File \"/home/ubuntu/anaconda3/lib/python3.6/threading.py\", line 916, in _bootstrap_inner\n",
      "    self.run()\n",
      "  File \"/home/ubuntu/anaconda3/lib/python3.6/site-packages/tqdm/_tqdm.py\", line 144, in run\n",
      "    for instance in self.tqdm_cls._instances:\n",
      "  File \"/home/ubuntu/anaconda3/lib/python3.6/_weakrefset.py\", line 60, in __iter__\n",
      "    for itemref in self.data:\n",
      "RuntimeError: Set changed size during iteration\n",
      "\n",
      "100%|██████████| 87306240/87306240 [00:00<00:00, 103656070.99it/s]\n",
      "  0%|          | 0/2 [00:00<?, ?it/s]"
     ]
    },
    {
     "name": "stdout",
     "output_type": "stream",
     "text": [
      "START TRAIN.\n",
      "[Iteration 1 / 636] TRAIN loss: 2.748323\n",
      "[Iteration 51 / 636] TRAIN loss: 2.405894\n",
      "[Iteration 101 / 636] TRAIN loss: 2.239165\n",
      "[Iteration 151 / 636] TRAIN loss: 2.233663\n",
      "[Iteration 201 / 636] TRAIN loss: 2.111372\n",
      "[Iteration 251 / 636] TRAIN loss: 1.897411\n",
      "[Iteration 301 / 636] TRAIN loss: 1.891078\n",
      "[Epoch 1 / 2] TRAIN acc: 11.484277\n"
     ]
    },
    {
     "name": "stderr",
     "output_type": "stream",
     "text": [
      "\r",
      " 50%|█████     | 1/2 [03:41<03:41, 221.75s/it]"
     ]
    },
    {
     "name": "stdout",
     "output_type": "stream",
     "text": [
      "[Epoch 1 / 2] VAL acc: 4.236559\n",
      "[Iteration 351 / 636] TRAIN loss: 1.751199\n",
      "[Iteration 401 / 636] TRAIN loss: 1.933808\n",
      "[Iteration 451 / 636] TRAIN loss: 2.046303\n",
      "[Iteration 501 / 636] TRAIN loss: 1.882451\n",
      "[Iteration 551 / 636] TRAIN loss: 1.892066\n",
      "[Iteration 601 / 636] TRAIN loss: 1.498814\n",
      "[Epoch 2 / 2] TRAIN acc: 15.034591\n"
     ]
    },
    {
     "name": "stderr",
     "output_type": "stream",
     "text": [
      "100%|██████████| 2/2 [07:23<00:00, 221.96s/it]\n",
      "  0%|          | 0/124 [00:00<?, ?it/s]"
     ]
    },
    {
     "name": "stdout",
     "output_type": "stream",
     "text": [
      "[Epoch 2 / 2] VAL acc: 3.731183\n",
      "Trained in 443 seconds.\n",
      "FINISH.\n"
     ]
    },
    {
     "name": "stderr",
     "output_type": "stream",
     "text": [
      "100%|██████████| 124/124 [00:19<00:00,  6.29it/s]\n"
     ]
    },
    {
     "name": "stdout",
     "output_type": "stream",
     "text": [
      "0.189567087927\n",
      "    1 | 07m46s | \u001b[35m   0.18957\u001b[0m | \u001b[32m     41.3669\u001b[0m | \u001b[32m   0.9360\u001b[0m | \u001b[32m    7.4911\u001b[0m | \u001b[32m  -4.3450\u001b[0m | \u001b[32m      2.3864\u001b[0m | \u001b[32m              4.5421\u001b[0m | \u001b[32m           -5.3997\u001b[0m | \n",
      "weights: [0.01760267535275762, 0.012792673373436245, 0.0024524653835149147, 0.0077907582187668372, 0.0048381952495299722, 0.0074869345474077881, 0.0046242677462863995, 0.01917065945732312, 0.070875304105012527, 0.031591265933810446, 0.011066980260098273, 0.0062135321393845229, 0.012363446682925175, 0.014924833043385287]\n",
      "equivalent_num:\n",
      "5.33361063189\n",
      "5.88462975178\n",
      "9.78778934561\n",
      "6.85586723251\n",
      "7.93947840448\n",
      "6.94038832545\n",
      "8.05085014628\n",
      "5.19524871293\n",
      "3.47288990115\n",
      "4.45436849667\n",
      "6.15324102461\n",
      "7.35060852089\n",
      "5.94681785449\n",
      "5.61173722431\n"
     ]
    },
    {
     "name": "stderr",
     "output_type": "stream",
     "text": [
      "\r",
      "  0%|          | 0/7 [00:00<?, ?it/s]"
     ]
    },
    {
     "name": "stdout",
     "output_type": "stream",
     "text": [
      "START TRAIN.\n",
      "[Iteration 1 / 1400] TRAIN loss: 2.808954\n",
      "[Iteration 51 / 1400] TRAIN loss: 2.357644\n",
      "[Iteration 101 / 1400] TRAIN loss: 2.560178\n",
      "[Iteration 151 / 1400] TRAIN loss: 2.244562\n",
      "[Epoch 1 / 7] TRAIN acc: 14.365000\n"
     ]
    },
    {
     "name": "stderr",
     "output_type": "stream",
     "text": [
      "\r",
      " 14%|█▍        | 1/7 [03:27<20:47, 207.84s/it]"
     ]
    },
    {
     "name": "stdout",
     "output_type": "stream",
     "text": [
      "[Epoch 1 / 7] VAL acc: 5.913978\n",
      "[Iteration 201 / 1400] TRAIN loss: 2.104519\n",
      "[Iteration 251 / 1400] TRAIN loss: 1.972826\n",
      "[Iteration 301 / 1400] TRAIN loss: 1.832145\n",
      "[Iteration 351 / 1400] TRAIN loss: 1.830389\n",
      "[Epoch 2 / 7] TRAIN acc: 22.905000\n"
     ]
    },
    {
     "name": "stderr",
     "output_type": "stream",
     "text": [
      "\r",
      " 29%|██▊       | 2/7 [06:55<17:19, 207.84s/it]"
     ]
    },
    {
     "name": "stdout",
     "output_type": "stream",
     "text": [
      "[Epoch 2 / 7] VAL acc: 5.752688\n",
      "[Iteration 401 / 1400] TRAIN loss: 1.806639\n",
      "[Iteration 451 / 1400] TRAIN loss: 1.735296\n",
      "[Iteration 501 / 1400] TRAIN loss: 1.809473\n",
      "[Iteration 551 / 1400] TRAIN loss: 1.408128\n",
      "[Epoch 3 / 7] TRAIN acc: 27.965000\n"
     ]
    },
    {
     "name": "stderr",
     "output_type": "stream",
     "text": [
      "\r",
      " 43%|████▎     | 3/7 [10:23<13:51, 207.92s/it]"
     ]
    },
    {
     "name": "stdout",
     "output_type": "stream",
     "text": [
      "[Epoch 3 / 7] VAL acc: 6.247312\n",
      "[Iteration 601 / 1400] TRAIN loss: 1.529616\n",
      "[Iteration 651 / 1400] TRAIN loss: 1.709599\n",
      "[Iteration 701 / 1400] TRAIN loss: 1.409664\n",
      "[Iteration 751 / 1400] TRAIN loss: 1.539387\n",
      "[Epoch 4 / 7] TRAIN acc: 31.365000\n"
     ]
    },
    {
     "name": "stderr",
     "output_type": "stream",
     "text": [
      "\r",
      " 57%|█████▋    | 4/7 [13:51<10:23, 207.90s/it]"
     ]
    },
    {
     "name": "stdout",
     "output_type": "stream",
     "text": [
      "[Epoch 4 / 7] VAL acc: 6.118280\n",
      "[Iteration 801 / 1400] TRAIN loss: 1.516939\n",
      "[Iteration 851 / 1400] TRAIN loss: 1.296019\n",
      "[Iteration 901 / 1400] TRAIN loss: 1.188357\n",
      "[Iteration 951 / 1400] TRAIN loss: 1.286509\n",
      "[Epoch 5 / 7] TRAIN acc: 35.230000\n"
     ]
    },
    {
     "name": "stderr",
     "output_type": "stream",
     "text": [
      "\r",
      " 71%|███████▏  | 5/7 [17:19<06:55, 207.88s/it]"
     ]
    },
    {
     "name": "stdout",
     "output_type": "stream",
     "text": [
      "[Epoch 5 / 7] VAL acc: 6.311828\n",
      "[Iteration 1001 / 1400] TRAIN loss: 1.291279\n",
      "[Iteration 1051 / 1400] TRAIN loss: 1.201703\n",
      "[Iteration 1101 / 1400] TRAIN loss: 1.182404\n",
      "[Iteration 1151 / 1400] TRAIN loss: 1.171800\n",
      "[Epoch 6 / 7] TRAIN acc: 38.890000\n"
     ]
    },
    {
     "name": "stderr",
     "output_type": "stream",
     "text": [
      "\r",
      " 86%|████████▌ | 6/7 [20:47<03:27, 207.89s/it]"
     ]
    },
    {
     "name": "stdout",
     "output_type": "stream",
     "text": [
      "[Epoch 6 / 7] VAL acc: 6.376344\n",
      "[Iteration 1201 / 1400] TRAIN loss: 1.189086\n",
      "[Iteration 1251 / 1400] TRAIN loss: 1.196516\n",
      "[Iteration 1301 / 1400] TRAIN loss: 1.204290\n",
      "[Iteration 1351 / 1400] TRAIN loss: 0.961931\n",
      "[Epoch 7 / 7] TRAIN acc: 41.530000\n"
     ]
    },
    {
     "name": "stderr",
     "output_type": "stream",
     "text": [
      "100%|██████████| 7/7 [24:15<00:00, 207.90s/it]\n",
      "  0%|          | 0/124 [00:00<?, ?it/s]"
     ]
    },
    {
     "name": "stdout",
     "output_type": "stream",
     "text": [
      "[Epoch 7 / 7] VAL acc: 6.709677\n",
      "Trained in 1455 seconds.\n",
      "FINISH.\n"
     ]
    },
    {
     "name": "stderr",
     "output_type": "stream",
     "text": [
      "100%|██████████| 124/124 [00:19<00:00,  6.28it/s]\n",
      "  0%|          | 4/12386 [00:00<05:52, 35.16it/s]"
     ]
    },
    {
     "name": "stdout",
     "output_type": "stream",
     "text": [
      "0.349018553375\n",
      "submissions/res18_0.34902_XGFSAWW.csv\n",
      "'detected'\n"
     ]
    },
    {
     "name": "stderr",
     "output_type": "stream",
     "text": [
      "100%|██████████| 12386/12386 [03:45<00:00, 54.82it/s]\n"
     ]
    },
    {
     "name": "stdout",
     "output_type": "stream",
     "text": [
      "    2 | 28m22s | \u001b[35m   0.34902\u001b[0m | \u001b[32m     65.7908\u001b[0m | \u001b[32m   0.7645\u001b[0m | \u001b[32m    9.8033\u001b[0m | \u001b[32m  -5.4762\u001b[0m | \u001b[32m      7.9799\u001b[0m | \u001b[32m              7.1068\u001b[0m | \u001b[32m           -4.6769\u001b[0m | \n",
      "\u001b[31mBayesian Optimization\u001b[0m\n",
      "\u001b[94m--------------------------------------------------------------------------------------------------------------------------------------------\u001b[0m\n",
      " Step |   Time |      Value |   batch_size |    factor |   lr_const |    lr_exp |   num_epochs |   weight_decay_const |   weight_decay_exp | \n",
      "weights: [0.0045837917125045834, 0.0030193236714975845, 0.00034800523399871935, 0.0015782828282828283, 0.00084636739115715354, 0.0014982620160613688, 0.00079775352607058521, 0.0051250512505125051, 0.02834467120181406, 0.0098502758077226166, 0.002498001598721023, 0.0011740396355780971, 0.0028875028875028877, 0.0036938534278959812]\n",
      "equivalent_num:\n",
      "1.38888888889\n",
      "1.38888888889\n",
      "1.38888888889\n",
      "1.38888888889\n",
      "1.38888888889\n",
      "1.38888888889\n",
      "1.38888888889\n",
      "1.38888888889\n",
      "1.38888888889\n",
      "1.38888888889\n",
      "1.38888888889\n",
      "1.38888888889\n",
      "1.38888888889\n",
      "1.38888888889\n"
     ]
    },
    {
     "name": "stderr",
     "output_type": "stream",
     "text": [
      "\r",
      "  0%|          | 0/2 [00:00<?, ?it/s]"
     ]
    },
    {
     "name": "stdout",
     "output_type": "stream",
     "text": [
      "START TRAIN.\n",
      "[Iteration 1 / 326] TRAIN loss: 2.995819\n",
      "[Iteration 51 / 326] TRAIN loss: 2.593590\n",
      "[Iteration 101 / 326] TRAIN loss: 2.755714\n",
      "[Iteration 151 / 326] TRAIN loss: 2.643886\n",
      "[Epoch 1 / 2] TRAIN acc: 8.159509\n"
     ]
    },
    {
     "name": "stderr",
     "output_type": "stream",
     "text": [
      "\r",
      " 50%|█████     | 1/2 [03:12<03:12, 192.15s/it]"
     ]
    },
    {
     "name": "stdout",
     "output_type": "stream",
     "text": [
      "[Epoch 1 / 2] VAL acc: 0.408602\n",
      "[Iteration 201 / 326] TRAIN loss: 2.630681\n",
      "[Iteration 251 / 326] TRAIN loss: 2.644216\n",
      "[Iteration 301 / 326] TRAIN loss: 2.653441\n",
      "[Epoch 2 / 2] TRAIN acc: 6.392638\n"
     ]
    },
    {
     "name": "stderr",
     "output_type": "stream",
     "text": [
      "100%|██████████| 2/2 [06:24<00:00, 192.05s/it]\n",
      "  0%|          | 0/124 [00:00<?, ?it/s]"
     ]
    },
    {
     "name": "stdout",
     "output_type": "stream",
     "text": [
      "[Epoch 2 / 2] VAL acc: 0.430108\n",
      "Trained in 384 seconds.\n",
      "FINISH.\n"
     ]
    },
    {
     "name": "stderr",
     "output_type": "stream",
     "text": [
      "100%|██████████| 124/124 [00:19<00:00,  6.38it/s]\n"
     ]
    },
    {
     "name": "stdout",
     "output_type": "stream",
     "text": [
      "0.0250067222372\n",
      "    3 | 06m53s |    0.02501 |      80.0000 |    1.0000 |     1.0000 |   -3.0000 |       2.0000 |               1.0000 |            -1.0000 | \n",
      "weights: [0.079789581891864733, 0.064757278350021791, 0.021985008591674442, 0.046819434893280693, 0.034285715181341145, 0.045617096211309868, 0.033286498891162593, 0.084368991559831519, 0.1984126984126984, 0.11696554459257208, 0.058902009005553535, 0.040380819765943078, 0.063327882303826827, 0.071626475434638417]\n",
      "equivalent_num:\n",
      "24.1762433132\n",
      "29.788348041\n",
      "87.7421692894\n",
      "41.2011027061\n",
      "56.2628586126\n",
      "42.2870481879\n",
      "57.9517945695\n",
      "22.8639967127\n",
      "9.72222222222\n",
      "16.4921417876\n",
      "32.7495170071\n",
      "47.7705097831\n",
      "30.4607113881\n",
      "26.9315547634\n"
     ]
    },
    {
     "name": "stderr",
     "output_type": "stream",
     "text": [
      "\r",
      "  0%|          | 0/8 [00:00<?, ?it/s]"
     ]
    },
    {
     "name": "stdout",
     "output_type": "stream",
     "text": [
      "START TRAIN.\n",
      "[Iteration 1 / 3472] TRAIN loss: 2.788290\n",
      "[Iteration 51 / 3472] TRAIN loss: 2.769922\n",
      "[Iteration 101 / 3472] TRAIN loss: 2.741670\n",
      "[Iteration 151 / 3472] TRAIN loss: 2.684218\n",
      "[Iteration 201 / 3472] TRAIN loss: 2.783019\n",
      "[Iteration 251 / 3472] TRAIN loss: 2.723064\n",
      "[Iteration 301 / 3472] TRAIN loss: 2.822134\n",
      "[Iteration 351 / 3472] TRAIN loss: 2.717687\n",
      "[Iteration 401 / 3472] TRAIN loss: 2.845297\n",
      "[Epoch 1 / 8] TRAIN acc: 2.124424\n"
     ]
    },
    {
     "name": "stderr",
     "output_type": "stream",
     "text": [
      "\r",
      " 12%|█▎        | 1/8 [03:53<27:14, 233.51s/it]"
     ]
    },
    {
     "name": "stdout",
     "output_type": "stream",
     "text": [
      "[Epoch 1 / 8] VAL acc: 1.279570\n",
      "[Iteration 451 / 3472] TRAIN loss: 2.887010\n",
      "[Iteration 501 / 3472] TRAIN loss: 2.645594\n",
      "[Iteration 551 / 3472] TRAIN loss: 2.847517\n",
      "[Iteration 601 / 3472] TRAIN loss: 2.828538\n",
      "[Iteration 651 / 3472] TRAIN loss: 2.809124\n",
      "[Iteration 701 / 3472] TRAIN loss: 2.841507\n",
      "[Iteration 751 / 3472] TRAIN loss: 2.752387\n",
      "[Iteration 801 / 3472] TRAIN loss: 2.736817\n",
      "[Iteration 851 / 3472] TRAIN loss: 2.894392\n",
      "[Epoch 2 / 8] TRAIN acc: 2.209677\n"
     ]
    },
    {
     "name": "stderr",
     "output_type": "stream",
     "text": [
      "\r",
      " 25%|██▌       | 2/8 [07:47<23:21, 233.64s/it]"
     ]
    },
    {
     "name": "stdout",
     "output_type": "stream",
     "text": [
      "[Epoch 2 / 8] VAL acc: 1.440860\n",
      "[Iteration 901 / 3472] TRAIN loss: 2.928084\n",
      "[Iteration 951 / 3472] TRAIN loss: 3.212059\n",
      "[Iteration 1001 / 3472] TRAIN loss: 2.734316\n",
      "[Iteration 1051 / 3472] TRAIN loss: 2.969051\n",
      "[Iteration 1101 / 3472] TRAIN loss: 2.872707\n",
      "[Iteration 1151 / 3472] TRAIN loss: 2.843729\n",
      "[Iteration 1201 / 3472] TRAIN loss: 3.019664\n",
      "[Iteration 1251 / 3472] TRAIN loss: 2.602058\n",
      "[Iteration 1301 / 3472] TRAIN loss: 2.801319\n",
      "[Epoch 3 / 8] TRAIN acc: 2.235023\n"
     ]
    },
    {
     "name": "stderr",
     "output_type": "stream",
     "text": [
      "\r",
      " 38%|███▊      | 3/8 [11:40<19:27, 233.58s/it]"
     ]
    },
    {
     "name": "stdout",
     "output_type": "stream",
     "text": [
      "[Epoch 3 / 8] VAL acc: 1.344086\n",
      "[Iteration 1351 / 3472] TRAIN loss: 2.920891\n",
      "[Iteration 1401 / 3472] TRAIN loss: 2.769311\n",
      "[Iteration 1451 / 3472] TRAIN loss: 2.800707\n",
      "[Iteration 1501 / 3472] TRAIN loss: 2.959285\n",
      "[Iteration 1551 / 3472] TRAIN loss: 2.872906\n",
      "[Iteration 1601 / 3472] TRAIN loss: 2.923142\n",
      "[Iteration 1651 / 3472] TRAIN loss: 3.031799\n",
      "[Iteration 1701 / 3472] TRAIN loss: 2.997524\n",
      "[Epoch 4 / 8] TRAIN acc: 2.149770\n"
     ]
    },
    {
     "name": "stderr",
     "output_type": "stream",
     "text": [
      "\r",
      " 50%|█████     | 4/8 [15:34<15:34, 233.62s/it]"
     ]
    },
    {
     "name": "stdout",
     "output_type": "stream",
     "text": [
      "[Epoch 4 / 8] VAL acc: 1.430108\n",
      "[Iteration 1751 / 3472] TRAIN loss: 2.823639\n",
      "[Iteration 1801 / 3472] TRAIN loss: 2.820725\n",
      "[Iteration 1851 / 3472] TRAIN loss: 2.843920\n",
      "[Iteration 1901 / 3472] TRAIN loss: 2.666193\n",
      "[Iteration 1951 / 3472] TRAIN loss: 2.708089\n",
      "[Iteration 2001 / 3472] TRAIN loss: 2.661218\n",
      "[Iteration 2051 / 3472] TRAIN loss: 2.787888\n",
      "[Iteration 2101 / 3472] TRAIN loss: 2.868461\n",
      "[Iteration 2151 / 3472] TRAIN loss: 2.667936\n",
      "[Epoch 5 / 8] TRAIN acc: 2.297235\n"
     ]
    },
    {
     "name": "stderr",
     "output_type": "stream",
     "text": [
      "\r",
      " 62%|██████▎   | 5/8 [19:27<11:40, 233.57s/it]"
     ]
    },
    {
     "name": "stdout",
     "output_type": "stream",
     "text": [
      "[Epoch 5 / 8] VAL acc: 1.462366\n",
      "[Iteration 2201 / 3472] TRAIN loss: 2.777274\n",
      "[Iteration 2251 / 3472] TRAIN loss: 2.735808\n",
      "[Iteration 2301 / 3472] TRAIN loss: 2.645589\n",
      "[Iteration 2351 / 3472] TRAIN loss: 2.987953\n",
      "[Iteration 2401 / 3472] TRAIN loss: 2.805933\n",
      "[Iteration 2451 / 3472] TRAIN loss: 2.896373\n",
      "[Iteration 2501 / 3472] TRAIN loss: 2.902992\n",
      "[Iteration 2551 / 3472] TRAIN loss: 2.730267\n",
      "[Iteration 2601 / 3472] TRAIN loss: 2.815851\n",
      "[Epoch 6 / 8] TRAIN acc: 2.403226\n"
     ]
    },
    {
     "name": "stderr",
     "output_type": "stream",
     "text": [
      "\r",
      " 75%|███████▌  | 6/8 [23:21<07:47, 233.55s/it]"
     ]
    },
    {
     "name": "stdout",
     "output_type": "stream",
     "text": [
      "[Epoch 6 / 8] VAL acc: 1.505376\n",
      "[Iteration 2651 / 3472] TRAIN loss: 2.956998\n",
      "[Iteration 2701 / 3472] TRAIN loss: 2.869702\n",
      "[Iteration 2751 / 3472] TRAIN loss: 2.874456\n",
      "[Iteration 2801 / 3472] TRAIN loss: 2.709317\n",
      "[Iteration 2851 / 3472] TRAIN loss: 2.682542\n",
      "[Iteration 2901 / 3472] TRAIN loss: 2.905836\n",
      "[Iteration 2951 / 3472] TRAIN loss: 2.941235\n",
      "[Iteration 3001 / 3472] TRAIN loss: 2.928875\n",
      "[Epoch 7 / 8] TRAIN acc: 2.444700\n"
     ]
    },
    {
     "name": "stderr",
     "output_type": "stream",
     "text": [
      "\r",
      " 88%|████████▊ | 7/8 [27:14<03:53, 233.55s/it]"
     ]
    },
    {
     "name": "stdout",
     "output_type": "stream",
     "text": [
      "[Epoch 7 / 8] VAL acc: 1.591398\n",
      "[Iteration 3051 / 3472] TRAIN loss: 2.829910\n",
      "[Iteration 3101 / 3472] TRAIN loss: 2.897114\n",
      "[Iteration 3151 / 3472] TRAIN loss: 2.822931\n",
      "[Iteration 3201 / 3472] TRAIN loss: 2.678221\n",
      "[Iteration 3251 / 3472] TRAIN loss: 2.698484\n",
      "[Iteration 3301 / 3472] TRAIN loss: 2.726766\n",
      "[Iteration 3351 / 3472] TRAIN loss: 2.719569\n",
      "[Iteration 3401 / 3472] TRAIN loss: 2.731291\n",
      "[Iteration 3451 / 3472] TRAIN loss: 2.924671\n",
      "[Epoch 8 / 8] TRAIN acc: 2.423963\n"
     ]
    },
    {
     "name": "stderr",
     "output_type": "stream",
     "text": [
      "100%|██████████| 8/8 [31:08<00:00, 233.56s/it]\n",
      "  0%|          | 0/124 [00:00<?, ?it/s]"
     ]
    },
    {
     "name": "stdout",
     "output_type": "stream",
     "text": [
      "[Epoch 8 / 8] VAL acc: 1.473118\n",
      "Trained in 1868 seconds.\n",
      "FINISH.\n"
     ]
    },
    {
     "name": "stderr",
     "output_type": "stream",
     "text": [
      "100%|██████████| 124/124 [00:19<00:00,  6.32it/s]\n"
     ]
    },
    {
     "name": "stdout",
     "output_type": "stream",
     "text": [
      "0.0774401720893\n",
      "    4 | 31m40s |    0.07744 |      30.0000 |    0.5000 |     1.0000 |   -7.0000 |       8.0000 |              10.0000 |            -1.0000 | \n",
      "weights: [0.079789581891864733, 0.064757278350021791, 0.021985008591674442, 0.046819434893280693, 0.034285715181341145, 0.045617096211309868, 0.033286498891162593, 0.084368991559831519, 0.1984126984126984, 0.11696554459257208, 0.058902009005553535, 0.040380819765943078, 0.063327882303826827, 0.071626475434638417]\n",
      "equivalent_num:\n",
      "24.1762433132\n",
      "29.788348041\n",
      "87.7421692894\n",
      "41.2011027061\n",
      "56.2628586126\n",
      "42.2870481879\n",
      "57.9517945695\n",
      "22.8639967127\n",
      "9.72222222222\n",
      "16.4921417876\n",
      "32.7495170071\n",
      "47.7705097831\n",
      "30.4607113881\n",
      "26.9315547634\n"
     ]
    },
    {
     "name": "stderr",
     "output_type": "stream",
     "text": [
      "\r",
      "  0%|          | 0/2 [00:00<?, ?it/s]"
     ]
    },
    {
     "name": "stdout",
     "output_type": "stream",
     "text": [
      "START TRAIN.\n",
      "[Iteration 1 / 326] TRAIN loss: 2.990361\n",
      "[Iteration 51 / 326] TRAIN loss: 2.755853\n",
      "[Iteration 101 / 326] TRAIN loss: 2.866585\n",
      "[Iteration 151 / 326] TRAIN loss: 2.862241\n",
      "[Epoch 1 / 2] TRAIN acc: 5.411043\n"
     ]
    },
    {
     "name": "stderr",
     "output_type": "stream",
     "text": [
      "\r",
      " 50%|█████     | 1/2 [03:12<03:12, 192.80s/it]"
     ]
    },
    {
     "name": "stdout",
     "output_type": "stream",
     "text": [
      "[Epoch 1 / 2] VAL acc: 1.075269\n",
      "[Iteration 201 / 326] TRAIN loss: 2.811446\n",
      "[Iteration 251 / 326] TRAIN loss: 2.803035\n",
      "[Iteration 301 / 326] TRAIN loss: 2.641793\n",
      "[Epoch 2 / 2] TRAIN acc: 6.300613\n"
     ]
    },
    {
     "name": "stderr",
     "output_type": "stream",
     "text": [
      "100%|██████████| 2/2 [06:25<00:00, 192.88s/it]\n",
      "  0%|          | 0/124 [00:00<?, ?it/s]"
     ]
    },
    {
     "name": "stdout",
     "output_type": "stream",
     "text": [
      "[Epoch 2 / 2] VAL acc: 1.354839\n",
      "Trained in 385 seconds.\n",
      "FINISH.\n"
     ]
    },
    {
     "name": "stderr",
     "output_type": "stream",
     "text": [
      "100%|██████████| 124/124 [00:19<00:00,  6.30it/s]\n"
     ]
    },
    {
     "name": "stdout",
     "output_type": "stream",
     "text": [
      "0.0623823608497\n",
      "    5 | 06m59s |    0.06238 |      80.0000 |    0.5000 |    10.0000 |   -7.0000 |       2.0000 |              10.0000 |            -6.0000 | \n",
      "weights: [0.079789581891864733, 0.064757278350021791, 0.021985008591674442, 0.046819434893280693, 0.034285715181341145, 0.045617096211309868, 0.033286498891162593, 0.084368991559831519, 0.1984126984126984, 0.11696554459257208, 0.058902009005553535, 0.040380819765943078, 0.063327882303826827, 0.071626475434638417]\n",
      "equivalent_num:\n",
      "24.1762433132\n",
      "29.788348041\n",
      "87.7421692894\n",
      "41.2011027061\n",
      "56.2628586126\n",
      "42.2870481879\n",
      "57.9517945695\n",
      "22.8639967127\n",
      "9.72222222222\n",
      "16.4921417876\n",
      "32.7495170071\n",
      "47.7705097831\n",
      "30.4607113881\n",
      "26.9315547634\n"
     ]
    },
    {
     "name": "stderr",
     "output_type": "stream",
     "text": [
      "\r",
      "  0%|          | 0/8 [00:00<?, ?it/s]"
     ]
    },
    {
     "name": "stdout",
     "output_type": "stream",
     "text": [
      "START TRAIN.\n",
      "[Iteration 1 / 1832] TRAIN loss: 2.618607\n",
      "[Iteration 51 / 1832] TRAIN loss: 2.432891\n",
      "[Iteration 101 / 1832] TRAIN loss: 2.417317\n",
      "[Iteration 151 / 1832] TRAIN loss: 2.413696\n",
      "[Iteration 201 / 1832] TRAIN loss: 2.391898\n",
      "[Epoch 1 / 8] TRAIN acc: 10.751092\n"
     ]
    },
    {
     "name": "stderr",
     "output_type": "stream",
     "text": [
      "\r",
      " 12%|█▎        | 1/8 [03:15<22:46, 195.20s/it]"
     ]
    },
    {
     "name": "stdout",
     "output_type": "stream",
     "text": [
      "[Epoch 1 / 8] VAL acc: 3.806452\n",
      "[Iteration 251 / 1832] TRAIN loss: 2.327669\n",
      "[Iteration 301 / 1832] TRAIN loss: 2.624594\n",
      "[Iteration 351 / 1832] TRAIN loss: 2.182625\n",
      "[Iteration 401 / 1832] TRAIN loss: 2.469321\n",
      "[Iteration 451 / 1832] TRAIN loss: 2.266298\n",
      "[Epoch 2 / 8] TRAIN acc: 13.611354\n"
     ]
    },
    {
     "name": "stderr",
     "output_type": "stream",
     "text": [
      "\r",
      " 25%|██▌       | 2/8 [06:30<19:32, 195.48s/it]"
     ]
    },
    {
     "name": "stdout",
     "output_type": "stream",
     "text": [
      "[Epoch 2 / 8] VAL acc: 5.731183\n",
      "[Iteration 501 / 1832] TRAIN loss: 2.118271\n",
      "[Iteration 551 / 1832] TRAIN loss: 2.168329\n",
      "[Iteration 601 / 1832] TRAIN loss: 2.197193\n",
      "[Iteration 651 / 1832] TRAIN loss: 2.205491\n",
      "[Epoch 3 / 8] TRAIN acc: 15.628821\n"
     ]
    },
    {
     "name": "stderr",
     "output_type": "stream",
     "text": [
      "\r",
      " 38%|███▊      | 3/8 [09:46<16:17, 195.46s/it]"
     ]
    },
    {
     "name": "stdout",
     "output_type": "stream",
     "text": [
      "[Epoch 3 / 8] VAL acc: 6.731183\n",
      "[Iteration 701 / 1832] TRAIN loss: 2.207262\n",
      "[Iteration 751 / 1832] TRAIN loss: 1.778248\n",
      "[Iteration 801 / 1832] TRAIN loss: 2.122378\n",
      "[Iteration 851 / 1832] TRAIN loss: 2.072935\n",
      "[Iteration 901 / 1832] TRAIN loss: 1.865681\n",
      "[Epoch 4 / 8] TRAIN acc: 17.074236\n"
     ]
    },
    {
     "name": "stderr",
     "output_type": "stream",
     "text": [
      "\r",
      " 50%|█████     | 4/8 [13:02<13:02, 195.53s/it]"
     ]
    },
    {
     "name": "stdout",
     "output_type": "stream",
     "text": [
      "[Epoch 4 / 8] VAL acc: 6.043011\n",
      "[Iteration 951 / 1832] TRAIN loss: 1.900627\n",
      "[Iteration 1001 / 1832] TRAIN loss: 2.044415\n",
      "[Iteration 1051 / 1832] TRAIN loss: 2.203089\n",
      "[Iteration 1101 / 1832] TRAIN loss: 1.936542\n",
      "[Epoch 5 / 8] TRAIN acc: 17.886463\n"
     ]
    },
    {
     "name": "stderr",
     "output_type": "stream",
     "text": [
      "\r",
      " 62%|██████▎   | 5/8 [16:17<09:46, 195.47s/it]"
     ]
    },
    {
     "name": "stdout",
     "output_type": "stream",
     "text": [
      "[Epoch 5 / 8] VAL acc: 7.354839\n",
      "[Iteration 1151 / 1832] TRAIN loss: 2.172138\n",
      "[Iteration 1201 / 1832] TRAIN loss: 2.078593\n",
      "[Iteration 1251 / 1832] TRAIN loss: 2.003782\n",
      "[Iteration 1301 / 1832] TRAIN loss: 1.862299\n",
      "[Iteration 1351 / 1832] TRAIN loss: 1.882464\n",
      "[Epoch 6 / 8] TRAIN acc: 19.117904\n"
     ]
    },
    {
     "name": "stderr",
     "output_type": "stream",
     "text": [
      "\r",
      " 75%|███████▌  | 6/8 [19:32<06:30, 195.44s/it]"
     ]
    },
    {
     "name": "stdout",
     "output_type": "stream",
     "text": [
      "[Epoch 6 / 8] VAL acc: 7.021505\n",
      "[Iteration 1401 / 1832] TRAIN loss: 1.832175\n",
      "[Iteration 1451 / 1832] TRAIN loss: 1.905904\n",
      "[Iteration 1501 / 1832] TRAIN loss: 1.734854\n",
      "[Iteration 1551 / 1832] TRAIN loss: 1.728538\n",
      "[Iteration 1601 / 1832] TRAIN loss: 2.046608\n",
      "[Epoch 7 / 8] TRAIN acc: 20.043668\n"
     ]
    },
    {
     "name": "stderr",
     "output_type": "stream",
     "text": [
      "\r",
      " 88%|████████▊ | 7/8 [22:47<03:15, 195.42s/it]"
     ]
    },
    {
     "name": "stdout",
     "output_type": "stream",
     "text": [
      "[Epoch 7 / 8] VAL acc: 3.354839\n",
      "[Iteration 1651 / 1832] TRAIN loss: 1.955896\n",
      "[Iteration 1701 / 1832] TRAIN loss: 1.739870\n",
      "[Iteration 1751 / 1832] TRAIN loss: 1.897962\n",
      "[Iteration 1801 / 1832] TRAIN loss: 2.153077\n",
      "[Epoch 8 / 8] TRAIN acc: 20.397380\n"
     ]
    },
    {
     "name": "stderr",
     "output_type": "stream",
     "text": [
      "100%|██████████| 8/8 [26:03<00:00, 195.41s/it]\n",
      "  0%|          | 0/124 [00:00<?, ?it/s]"
     ]
    },
    {
     "name": "stdout",
     "output_type": "stream",
     "text": [
      "[Epoch 8 / 8] VAL acc: 6.655914\n",
      "Trained in 1563 seconds.\n",
      "FINISH.\n"
     ]
    },
    {
     "name": "stderr",
     "output_type": "stream",
     "text": [
      "100%|██████████| 124/124 [00:19<00:00,  6.29it/s]\n",
      "  0%|          | 6/12386 [00:00<04:02, 50.98it/s]"
     ]
    },
    {
     "name": "stdout",
     "output_type": "stream",
     "text": [
      "0.337187415972\n",
      "submissions/res18_0.33719_ZJMCNPK.csv\n",
      "'age'\n",
      "'gender'\n",
      "'view_position'\n",
      "'image_name'\n"
     ]
    },
    {
     "name": "stderr",
     "output_type": "stream",
     "text": [
      "100%|██████████| 12386/12386 [03:32<00:00, 58.27it/s]\n"
     ]
    },
    {
     "name": "stdout",
     "output_type": "stream",
     "text": [
      "    6 | 30m09s |    0.33719 |      57.4703 |    0.5000 |     1.0000 |   -3.0000 |       8.0000 |              10.0000 |            -6.0000 | \n",
      "weights: [0.079789581891864733, 0.064757278350021791, 0.021985008591674442, 0.046819434893280693, 0.034285715181341145, 0.045617096211309868, 0.033286498891162593, 0.084368991559831519, 0.1984126984126984, 0.11696554459257208, 0.058902009005553535, 0.040380819765943078, 0.063327882303826827, 0.071626475434638417]\n",
      "equivalent_num:\n",
      "24.1762433132\n",
      "29.788348041\n",
      "87.7421692894\n",
      "41.2011027061\n",
      "56.2628586126\n",
      "42.2870481879\n",
      "57.9517945695\n",
      "22.8639967127\n",
      "9.72222222222\n",
      "16.4921417876\n",
      "32.7495170071\n",
      "47.7705097831\n",
      "30.4607113881\n",
      "26.9315547634\n"
     ]
    },
    {
     "name": "stderr",
     "output_type": "stream",
     "text": [
      "\r",
      "  0%|          | 0/8 [00:00<?, ?it/s]"
     ]
    },
    {
     "name": "stdout",
     "output_type": "stream",
     "text": [
      "START TRAIN.\n",
      "[Iteration 1 / 1928] TRAIN loss: 2.790404\n",
      "[Iteration 51 / 1928] TRAIN loss: 2.708713\n",
      "[Iteration 101 / 1928] TRAIN loss: 2.747179\n",
      "[Iteration 151 / 1928] TRAIN loss: 2.888582\n",
      "[Iteration 201 / 1928] TRAIN loss: 2.727332\n",
      "[Epoch 1 / 8] TRAIN acc: 4.514523\n"
     ]
    },
    {
     "name": "stderr",
     "output_type": "stream",
     "text": [
      "\r",
      " 12%|█▎        | 1/8 [03:24<23:51, 204.53s/it]"
     ]
    },
    {
     "name": "stdout",
     "output_type": "stream",
     "text": [
      "[Epoch 1 / 8] VAL acc: 1.591398\n",
      "[Iteration 251 / 1928] TRAIN loss: 2.728702\n",
      "[Iteration 301 / 1928] TRAIN loss: 2.768088\n",
      "[Iteration 351 / 1928] TRAIN loss: 2.684716\n",
      "[Iteration 401 / 1928] TRAIN loss: 2.804471\n",
      "[Iteration 451 / 1928] TRAIN loss: 2.892650\n",
      "[Epoch 2 / 8] TRAIN acc: 4.705394\n"
     ]
    },
    {
     "name": "stderr",
     "output_type": "stream",
     "text": [
      "\r",
      " 25%|██▌       | 2/8 [06:49<20:28, 204.68s/it]"
     ]
    },
    {
     "name": "stdout",
     "output_type": "stream",
     "text": [
      "[Epoch 2 / 8] VAL acc: 1.612903\n",
      "[Iteration 501 / 1928] TRAIN loss: 2.915402\n",
      "[Iteration 551 / 1928] TRAIN loss: 2.779769\n",
      "[Iteration 601 / 1928] TRAIN loss: 2.818142\n",
      "[Iteration 651 / 1928] TRAIN loss: 2.690129\n",
      "[Iteration 701 / 1928] TRAIN loss: 2.658839\n",
      "[Epoch 3 / 8] TRAIN acc: 4.622407\n"
     ]
    },
    {
     "name": "stderr",
     "output_type": "stream",
     "text": [
      "\r",
      " 38%|███▊      | 3/8 [10:13<17:02, 204.55s/it]"
     ]
    },
    {
     "name": "stdout",
     "output_type": "stream",
     "text": [
      "[Epoch 3 / 8] VAL acc: 1.634409\n",
      "[Iteration 751 / 1928] TRAIN loss: 2.670174\n",
      "[Iteration 801 / 1928] TRAIN loss: 2.586487\n",
      "[Iteration 851 / 1928] TRAIN loss: 2.809485\n",
      "[Iteration 901 / 1928] TRAIN loss: 2.749049\n",
      "[Iteration 951 / 1928] TRAIN loss: 2.668167\n",
      "[Epoch 4 / 8] TRAIN acc: 4.817427\n"
     ]
    },
    {
     "name": "stderr",
     "output_type": "stream",
     "text": [
      "\r",
      " 50%|█████     | 4/8 [13:38<13:38, 204.59s/it]"
     ]
    },
    {
     "name": "stdout",
     "output_type": "stream",
     "text": [
      "[Epoch 4 / 8] VAL acc: 1.720430\n",
      "[Iteration 1001 / 1928] TRAIN loss: 2.745884\n",
      "[Iteration 1051 / 1928] TRAIN loss: 2.614016\n",
      "[Iteration 1101 / 1928] TRAIN loss: 2.774121\n",
      "[Iteration 1151 / 1928] TRAIN loss: 2.706251\n",
      "[Iteration 1201 / 1928] TRAIN loss: 2.779943\n",
      "[Epoch 5 / 8] TRAIN acc: 4.933610\n"
     ]
    },
    {
     "name": "stderr",
     "output_type": "stream",
     "text": [
      "\r",
      " 62%|██████▎   | 5/8 [17:03<10:13, 204.67s/it]"
     ]
    },
    {
     "name": "stdout",
     "output_type": "stream",
     "text": [
      "[Epoch 5 / 8] VAL acc: 1.709677\n",
      "[Iteration 1251 / 1928] TRAIN loss: 2.818351\n",
      "[Iteration 1301 / 1928] TRAIN loss: 2.763964\n",
      "[Iteration 1351 / 1928] TRAIN loss: 2.691371\n",
      "[Iteration 1401 / 1928] TRAIN loss: 2.684943\n",
      "[Epoch 6 / 8] TRAIN acc: 4.846473\n"
     ]
    },
    {
     "name": "stderr",
     "output_type": "stream",
     "text": [
      "\r",
      " 75%|███████▌  | 6/8 [20:28<06:49, 204.72s/it]"
     ]
    },
    {
     "name": "stdout",
     "output_type": "stream",
     "text": [
      "[Epoch 6 / 8] VAL acc: 1.795699\n",
      "[Iteration 1451 / 1928] TRAIN loss: 2.549445\n",
      "[Iteration 1501 / 1928] TRAIN loss: 2.755579\n",
      "[Iteration 1551 / 1928] TRAIN loss: 2.541095\n",
      "[Iteration 1601 / 1928] TRAIN loss: 2.713973\n",
      "[Iteration 1651 / 1928] TRAIN loss: 2.749070\n",
      "[Epoch 7 / 8] TRAIN acc: 5.095436\n"
     ]
    },
    {
     "name": "stderr",
     "output_type": "stream",
     "text": [
      "\r",
      " 88%|████████▊ | 7/8 [23:53<03:24, 204.72s/it]"
     ]
    },
    {
     "name": "stdout",
     "output_type": "stream",
     "text": [
      "[Epoch 7 / 8] VAL acc: 1.784946\n",
      "[Iteration 1701 / 1928] TRAIN loss: 2.711878\n",
      "[Iteration 1751 / 1928] TRAIN loss: 2.642519\n",
      "[Iteration 1801 / 1928] TRAIN loss: 2.840034\n",
      "[Iteration 1851 / 1928] TRAIN loss: 2.636229\n",
      "[Iteration 1901 / 1928] TRAIN loss: 2.702810\n",
      "[Epoch 8 / 8] TRAIN acc: 4.975104\n"
     ]
    },
    {
     "name": "stderr",
     "output_type": "stream",
     "text": [
      "100%|██████████| 8/8 [27:17<00:00, 204.73s/it]\n",
      "  0%|          | 0/124 [00:00<?, ?it/s]"
     ]
    },
    {
     "name": "stdout",
     "output_type": "stream",
     "text": [
      "[Epoch 8 / 8] VAL acc: 1.924731\n",
      "Trained in 1637 seconds.\n",
      "FINISH.\n"
     ]
    },
    {
     "name": "stderr",
     "output_type": "stream",
     "text": [
      "100%|██████████| 124/124 [00:19<00:00,  6.34it/s]\n"
     ]
    },
    {
     "name": "stdout",
     "output_type": "stream",
     "text": [
      "0.0930357623017\n",
      "    7 | 27m53s |    0.09304 |      54.5695 |    0.5000 |     1.0000 |   -7.0000 |       8.0000 |               1.0000 |            -6.0000 | \n",
      "weights: [0.079789581891864733, 0.064757278350021791, 0.021985008591674442, 0.046819434893280693, 0.034285715181341145, 0.045617096211309868, 0.033286498891162593, 0.084368991559831519, 0.1984126984126984, 0.11696554459257208, 0.058902009005553535, 0.040380819765943078, 0.063327882303826827, 0.071626475434638417]\n",
      "equivalent_num:\n",
      "24.1762433132\n",
      "29.788348041\n",
      "87.7421692894\n",
      "41.2011027061\n",
      "56.2628586126\n",
      "42.2870481879\n",
      "57.9517945695\n",
      "22.8639967127\n",
      "9.72222222222\n",
      "16.4921417876\n",
      "32.7495170071\n",
      "47.7705097831\n",
      "30.4607113881\n",
      "26.9315547634\n"
     ]
    },
    {
     "name": "stderr",
     "output_type": "stream",
     "text": [
      "\r",
      "  0%|          | 0/2 [00:00<?, ?it/s]"
     ]
    },
    {
     "name": "stdout",
     "output_type": "stream",
     "text": [
      "START TRAIN.\n",
      "[Iteration 1 / 474] TRAIN loss: 2.775418\n",
      "[Iteration 51 / 474] TRAIN loss: 2.710558\n",
      "[Iteration 101 / 474] TRAIN loss: 2.780928\n",
      "[Iteration 151 / 474] TRAIN loss: 2.694882\n",
      "[Iteration 201 / 474] TRAIN loss: 2.772564\n",
      "[Epoch 1 / 2] TRAIN acc: 8.578059\n"
     ]
    },
    {
     "name": "stderr",
     "output_type": "stream",
     "text": [
      "\r",
      " 50%|█████     | 1/2 [03:23<03:23, 203.36s/it]"
     ]
    },
    {
     "name": "stdout",
     "output_type": "stream",
     "text": [
      "[Epoch 1 / 2] VAL acc: 5.322581\n",
      "[Iteration 251 / 474] TRAIN loss: 2.726947\n",
      "[Iteration 301 / 474] TRAIN loss: 2.718552\n",
      "[Iteration 351 / 474] TRAIN loss: 2.603343\n",
      "[Iteration 401 / 474] TRAIN loss: 2.682108\n",
      "[Iteration 451 / 474] TRAIN loss: 2.539345\n",
      "[Epoch 2 / 2] TRAIN acc: 8.738397\n"
     ]
    },
    {
     "name": "stderr",
     "output_type": "stream",
     "text": [
      "100%|██████████| 2/2 [06:46<00:00, 203.25s/it]\n",
      "  0%|          | 0/124 [00:00<?, ?it/s]"
     ]
    },
    {
     "name": "stdout",
     "output_type": "stream",
     "text": [
      "[Epoch 2 / 2] VAL acc: 5.322581\n",
      "Trained in 406 seconds.\n",
      "FINISH.\n"
     ]
    },
    {
     "name": "stderr",
     "output_type": "stream",
     "text": [
      "100%|██████████| 124/124 [00:19<00:00,  6.30it/s]\n"
     ]
    },
    {
     "name": "stdout",
     "output_type": "stream",
     "text": [
      "0.287173971498\n",
      "    8 | 07m21s |    0.28717 |      55.5285 |    0.5000 |    10.0000 |   -7.0000 |       2.0000 |              10.0000 |            -1.0000 | \n",
      "weights: [0.0045837917125045834, 0.0030193236714975845, 0.00034800523399871935, 0.0015782828282828283, 0.00084636739115715354, 0.0014982620160613688, 0.00079775352607058521, 0.0051250512505125051, 0.02834467120181406, 0.0098502758077226166, 0.002498001598721023, 0.0011740396355780971, 0.0028875028875028877, 0.0036938534278959812]\n",
      "equivalent_num:\n",
      "1.38888888889\n",
      "1.38888888889\n",
      "1.38888888889\n",
      "1.38888888889\n",
      "1.38888888889\n",
      "1.38888888889\n",
      "1.38888888889\n",
      "1.38888888889\n",
      "1.38888888889\n",
      "1.38888888889\n",
      "1.38888888889\n",
      "1.38888888889\n",
      "1.38888888889\n",
      "1.38888888889\n"
     ]
    },
    {
     "name": "stderr",
     "output_type": "stream",
     "text": [
      "\r",
      "  0%|          | 0/8 [00:00<?, ?it/s]"
     ]
    },
    {
     "name": "stdout",
     "output_type": "stream",
     "text": [
      "START TRAIN.\n",
      "[Iteration 1 / 2368] TRAIN loss: 2.723511\n",
      "[Iteration 51 / 2368] TRAIN loss: 2.606249\n",
      "[Iteration 101 / 2368] TRAIN loss: 2.638230\n",
      "[Iteration 151 / 2368] TRAIN loss: 2.638624\n",
      "[Iteration 201 / 2368] TRAIN loss: 2.640210\n",
      "[Iteration 251 / 2368] TRAIN loss: 2.640064\n",
      "[Epoch 1 / 8] TRAIN acc: 3.148649\n"
     ]
    },
    {
     "name": "stderr",
     "output_type": "stream",
     "text": [
      "\r",
      " 12%|█▎        | 1/8 [03:30<24:33, 210.48s/it]"
     ]
    },
    {
     "name": "stdout",
     "output_type": "stream",
     "text": [
      "[Epoch 1 / 8] VAL acc: 0.860215\n",
      "[Iteration 301 / 2368] TRAIN loss: 2.638014\n",
      "[Iteration 351 / 2368] TRAIN loss: 2.636793\n",
      "[Iteration 401 / 2368] TRAIN loss: 2.643851\n",
      "[Iteration 451 / 2368] TRAIN loss: 2.642523\n",
      "[Iteration 501 / 2368] TRAIN loss: 2.639715\n",
      "[Iteration 551 / 2368] TRAIN loss: 2.638108\n",
      "[Epoch 2 / 8] TRAIN acc: 3.091216\n"
     ]
    },
    {
     "name": "stderr",
     "output_type": "stream",
     "text": [
      "\r",
      " 25%|██▌       | 2/8 [06:54<20:43, 207.30s/it]"
     ]
    },
    {
     "name": "stdout",
     "output_type": "stream",
     "text": [
      "[Epoch 2 / 8] VAL acc: 0.860215\n",
      "[Iteration 601 / 2368] TRAIN loss: 2.639514\n",
      "[Iteration 651 / 2368] TRAIN loss: 2.637352\n",
      "[Iteration 701 / 2368] TRAIN loss: 2.638810\n",
      "[Iteration 751 / 2368] TRAIN loss: 2.638576\n",
      "[Iteration 801 / 2368] TRAIN loss: 2.636868\n",
      "[Iteration 851 / 2368] TRAIN loss: 2.645821\n",
      "[Epoch 3 / 8] TRAIN acc: 3.168919\n"
     ]
    },
    {
     "name": "stderr",
     "output_type": "stream",
     "text": [
      "\r",
      " 38%|███▊      | 3/8 [10:16<17:07, 205.59s/it]"
     ]
    },
    {
     "name": "stdout",
     "output_type": "stream",
     "text": [
      "[Epoch 3 / 8] VAL acc: 1.677419\n",
      "[Iteration 901 / 2368] TRAIN loss: 2.640474\n",
      "[Iteration 951 / 2368] TRAIN loss: 2.640074\n",
      "[Iteration 1001 / 2368] TRAIN loss: 2.643969\n",
      "[Iteration 1051 / 2368] TRAIN loss: 2.638243\n",
      "[Iteration 1101 / 2368] TRAIN loss: 2.637407\n",
      "[Iteration 1151 / 2368] TRAIN loss: 2.640013\n",
      "[Epoch 4 / 8] TRAIN acc: 3.087838\n"
     ]
    },
    {
     "name": "stderr",
     "output_type": "stream",
     "text": [
      "\r",
      " 50%|█████     | 4/8 [13:37<13:37, 204.29s/it]"
     ]
    },
    {
     "name": "stdout",
     "output_type": "stream",
     "text": [
      "[Epoch 4 / 8] VAL acc: 0.860215\n",
      "[Iteration 1201 / 2368] TRAIN loss: 2.638484\n",
      "[Iteration 1251 / 2368] TRAIN loss: 2.641382\n",
      "[Iteration 1301 / 2368] TRAIN loss: 2.638683\n",
      "[Iteration 1351 / 2368] TRAIN loss: 2.638401\n",
      "[Iteration 1401 / 2368] TRAIN loss: 2.643846\n",
      "[Iteration 1451 / 2368] TRAIN loss: 2.638272\n",
      "[Epoch 5 / 8] TRAIN acc: 3.182432\n"
     ]
    },
    {
     "name": "stderr",
     "output_type": "stream",
     "text": [
      "\r",
      " 62%|██████▎   | 5/8 [16:57<10:10, 203.55s/it]"
     ]
    },
    {
     "name": "stdout",
     "output_type": "stream",
     "text": [
      "[Epoch 5 / 8] VAL acc: 0.408602\n",
      "[Iteration 1501 / 2368] TRAIN loss: 2.635990\n",
      "[Iteration 1551 / 2368] TRAIN loss: 2.639728\n",
      "[Iteration 1601 / 2368] TRAIN loss: 2.638078\n",
      "[Iteration 1651 / 2368] TRAIN loss: 2.637228\n",
      "[Iteration 1701 / 2368] TRAIN loss: 2.640461\n",
      "[Iteration 1751 / 2368] TRAIN loss: 2.640620\n",
      "[Epoch 6 / 8] TRAIN acc: 3.141892\n"
     ]
    },
    {
     "name": "stderr",
     "output_type": "stream",
     "text": [
      "\r",
      " 75%|███████▌  | 6/8 [20:17<06:45, 202.84s/it]"
     ]
    },
    {
     "name": "stdout",
     "output_type": "stream",
     "text": [
      "[Epoch 6 / 8] VAL acc: 6.053763\n",
      "[Iteration 1801 / 2368] TRAIN loss: 2.640868\n",
      "[Iteration 1851 / 2368] TRAIN loss: 2.638849\n",
      "[Iteration 1901 / 2368] TRAIN loss: 2.640341\n",
      "[Iteration 1951 / 2368] TRAIN loss: 2.639182\n",
      "[Iteration 2001 / 2368] TRAIN loss: 2.639264\n",
      "[Iteration 2051 / 2368] TRAIN loss: 2.636968\n",
      "[Epoch 7 / 8] TRAIN acc: 3.040541\n"
     ]
    },
    {
     "name": "stderr",
     "output_type": "stream",
     "text": [
      "\r",
      " 88%|████████▊ | 7/8 [23:33<03:21, 201.90s/it]"
     ]
    },
    {
     "name": "stdout",
     "output_type": "stream",
     "text": [
      "[Epoch 7 / 8] VAL acc: 2.720430\n",
      "[Iteration 2101 / 2368] TRAIN loss: 2.636983\n",
      "[Iteration 2151 / 2368] TRAIN loss: 2.639104\n",
      "[Iteration 2201 / 2368] TRAIN loss: 2.638763\n",
      "[Iteration 2251 / 2368] TRAIN loss: 2.641554\n",
      "[Iteration 2301 / 2368] TRAIN loss: 2.635036\n",
      "[Iteration 2351 / 2368] TRAIN loss: 2.638612\n",
      "[Epoch 8 / 8] TRAIN acc: 3.189189\n"
     ]
    },
    {
     "name": "stderr",
     "output_type": "stream",
     "text": [
      "100%|██████████| 8/8 [26:49<00:00, 201.25s/it]\n",
      "  0%|          | 0/124 [00:00<?, ?it/s]"
     ]
    },
    {
     "name": "stdout",
     "output_type": "stream",
     "text": [
      "[Epoch 8 / 8] VAL acc: 0.860215\n",
      "Trained in 1609 seconds.\n",
      "FINISH.\n"
     ]
    },
    {
     "name": "stderr",
     "output_type": "stream",
     "text": [
      "100%|██████████| 124/124 [00:18<00:00,  6.69it/s]\n"
     ]
    },
    {
     "name": "stdout",
     "output_type": "stream",
     "text": [
      "0.0403334229632\n",
      "    9 | 27m25s |    0.04033 |      44.9213 |    1.0000 |    10.0000 |   -3.0000 |       8.0000 |              10.0000 |            -1.0000 | \n",
      "weights: [0.079789581891864733, 0.064757278350021791, 0.021985008591674442, 0.046819434893280693, 0.034285715181341145, 0.045617096211309868, 0.033286498891162593, 0.084368991559831519, 0.1984126984126984, 0.11696554459257208, 0.058902009005553535, 0.040380819765943078, 0.063327882303826827, 0.071626475434638417]\n",
      "equivalent_num:\n",
      "24.1762433132\n",
      "29.788348041\n",
      "87.7421692894\n",
      "41.2011027061\n",
      "56.2628586126\n",
      "42.2870481879\n",
      "57.9517945695\n",
      "22.8639967127\n",
      "9.72222222222\n",
      "16.4921417876\n",
      "32.7495170071\n",
      "47.7705097831\n",
      "30.4607113881\n",
      "26.9315547634\n"
     ]
    },
    {
     "name": "stderr",
     "output_type": "stream",
     "text": [
      "\r",
      "  0%|          | 0/2 [00:00<?, ?it/s]"
     ]
    },
    {
     "name": "stdout",
     "output_type": "stream",
     "text": [
      "START TRAIN.\n",
      "[Iteration 1 / 868] TRAIN loss: 3.067385\n",
      "[Iteration 51 / 868] TRAIN loss: 2.714404\n",
      "[Iteration 101 / 868] TRAIN loss: 2.563028\n",
      "[Iteration 151 / 868] TRAIN loss: 2.454759\n",
      "[Iteration 201 / 868] TRAIN loss: 2.530462\n",
      "[Iteration 251 / 868] TRAIN loss: 2.476540\n",
      "[Iteration 301 / 868] TRAIN loss: 2.552592\n",
      "[Iteration 351 / 868] TRAIN loss: 2.574674\n",
      "[Iteration 401 / 868] TRAIN loss: 2.537696\n",
      "[Epoch 1 / 2] TRAIN acc: 4.541475\n"
     ]
    },
    {
     "name": "stderr",
     "output_type": "stream",
     "text": [
      "\r",
      " 50%|█████     | 1/2 [03:49<03:49, 229.01s/it]"
     ]
    },
    {
     "name": "stdout",
     "output_type": "stream",
     "text": [
      "[Epoch 1 / 2] VAL acc: 6.053763\n",
      "[Iteration 451 / 868] TRAIN loss: 2.540120\n",
      "[Iteration 501 / 868] TRAIN loss: 2.512532\n",
      "[Iteration 551 / 868] TRAIN loss: 2.526310\n",
      "[Iteration 601 / 868] TRAIN loss: 2.462988\n",
      "[Iteration 651 / 868] TRAIN loss: 2.457518\n",
      "[Iteration 701 / 868] TRAIN loss: 2.469138\n",
      "[Iteration 751 / 868] TRAIN loss: 2.639351\n",
      "[Iteration 801 / 868] TRAIN loss: 2.618395\n",
      "[Iteration 851 / 868] TRAIN loss: 2.571129\n",
      "[Epoch 2 / 2] TRAIN acc: 4.944700\n"
     ]
    },
    {
     "name": "stderr",
     "output_type": "stream",
     "text": [
      "100%|██████████| 2/2 [07:29<00:00, 224.99s/it]\n",
      "  0%|          | 0/124 [00:00<?, ?it/s]"
     ]
    },
    {
     "name": "stdout",
     "output_type": "stream",
     "text": [
      "[Epoch 2 / 2] VAL acc: 6.053763\n",
      "Trained in 450 seconds.\n",
      "FINISH.\n"
     ]
    },
    {
     "name": "stderr",
     "output_type": "stream",
     "text": [
      "100%|██████████| 124/124 [00:19<00:00,  6.48it/s]\n"
     ]
    },
    {
     "name": "stdout",
     "output_type": "stream",
     "text": [
      "0.315676257058\n",
      "   10 | 08m02s |    0.31568 |      30.0000 |    0.5000 |    10.0000 |   -3.0000 |       2.0000 |               1.0000 |            -1.0000 | \n",
      "weights: [0.079789581891864733, 0.064757278350021791, 0.021985008591674442, 0.046819434893280693, 0.034285715181341145, 0.045617096211309868, 0.033286498891162593, 0.084368991559831519, 0.1984126984126984, 0.11696554459257208, 0.058902009005553535, 0.040380819765943078, 0.063327882303826827, 0.071626475434638417]\n",
      "equivalent_num:\n",
      "24.1762433132\n",
      "29.788348041\n",
      "87.7421692894\n",
      "41.2011027061\n",
      "56.2628586126\n",
      "42.2870481879\n",
      "57.9517945695\n",
      "22.8639967127\n",
      "9.72222222222\n",
      "16.4921417876\n",
      "32.7495170071\n",
      "47.7705097831\n",
      "30.4607113881\n",
      "26.9315547634\n"
     ]
    },
    {
     "name": "stderr",
     "output_type": "stream",
     "text": [
      "\r",
      "  0%|          | 0/2 [00:00<?, ?it/s]"
     ]
    },
    {
     "name": "stdout",
     "output_type": "stream",
     "text": [
      "START TRAIN.\n",
      "[Iteration 1 / 868] TRAIN loss: 3.180839\n",
      "[Iteration 51 / 868] TRAIN loss: 3.126157\n",
      "[Iteration 101 / 868] TRAIN loss: 3.001550\n",
      "[Iteration 151 / 868] TRAIN loss: 2.959706\n",
      "[Iteration 201 / 868] TRAIN loss: 2.993939\n",
      "[Iteration 251 / 868] TRAIN loss: 2.867287\n",
      "[Iteration 301 / 868] TRAIN loss: 3.129319\n",
      "[Iteration 351 / 868] TRAIN loss: 2.998454\n",
      "[Iteration 401 / 868] TRAIN loss: 2.810439\n",
      "[Epoch 1 / 2] TRAIN acc: 1.735023\n"
     ]
    },
    {
     "name": "stderr",
     "output_type": "stream",
     "text": [
      "\r",
      " 50%|█████     | 1/2 [03:53<03:53, 233.93s/it]"
     ]
    },
    {
     "name": "stdout",
     "output_type": "stream",
     "text": [
      "[Epoch 1 / 2] VAL acc: 0.655914\n",
      "[Iteration 451 / 868] TRAIN loss: 2.852399\n",
      "[Iteration 501 / 868] TRAIN loss: 2.858761\n",
      "[Iteration 551 / 868] TRAIN loss: 2.660919\n",
      "[Iteration 601 / 868] TRAIN loss: 2.691417\n",
      "[Iteration 651 / 868] TRAIN loss: 2.925968\n",
      "[Iteration 701 / 868] TRAIN loss: 2.849702\n",
      "[Iteration 751 / 868] TRAIN loss: 2.582825\n",
      "[Iteration 801 / 868] TRAIN loss: 2.974082\n",
      "[Iteration 851 / 868] TRAIN loss: 2.764992\n",
      "[Epoch 2 / 2] TRAIN acc: 1.854839\n"
     ]
    },
    {
     "name": "stderr",
     "output_type": "stream",
     "text": [
      "100%|██████████| 2/2 [07:47<00:00, 233.99s/it]\n",
      "  0%|          | 0/124 [00:00<?, ?it/s]"
     ]
    },
    {
     "name": "stdout",
     "output_type": "stream",
     "text": [
      "[Epoch 2 / 2] VAL acc: 0.838710\n",
      "Trained in 467 seconds.\n",
      "FINISH.\n"
     ]
    },
    {
     "name": "stderr",
     "output_type": "stream",
     "text": [
      "100%|██████████| 124/124 [00:19<00:00,  6.31it/s]\n"
     ]
    },
    {
     "name": "stdout",
     "output_type": "stream",
     "text": [
      "0.0424845388545\n",
      "   11 | 08m22s |    0.04248 |      30.0000 |    0.5000 |    10.0000 |   -7.0000 |       2.0000 |              10.0000 |            -6.0000 | \n",
      "weights: [0.0045837917125045834, 0.0030193236714975845, 0.00034800523399871935, 0.0015782828282828283, 0.00084636739115715354, 0.0014982620160613688, 0.00079775352607058521, 0.0051250512505125051, 0.02834467120181406, 0.0098502758077226166, 0.002498001598721023, 0.0011740396355780971, 0.0028875028875028877, 0.0036938534278959812]\n",
      "equivalent_num:\n",
      "1.38888888889\n",
      "1.38888888889\n",
      "1.38888888889\n",
      "1.38888888889\n",
      "1.38888888889\n",
      "1.38888888889\n",
      "1.38888888889\n",
      "1.38888888889\n",
      "1.38888888889\n",
      "1.38888888889\n",
      "1.38888888889\n",
      "1.38888888889\n",
      "1.38888888889\n",
      "1.38888888889\n"
     ]
    },
    {
     "name": "stderr",
     "output_type": "stream",
     "text": [
      "\r",
      "  0%|          | 0/8 [00:00<?, ?it/s]"
     ]
    },
    {
     "name": "stdout",
     "output_type": "stream",
     "text": [
      "START TRAIN.\n",
      "[Iteration 1 / 1304] TRAIN loss: 2.834395\n",
      "[Iteration 51 / 1304] TRAIN loss: 2.624700\n",
      "[Iteration 101 / 1304] TRAIN loss: 2.916611\n",
      "[Iteration 151 / 1304] TRAIN loss: 2.849384\n",
      "[Epoch 1 / 8] TRAIN acc: 5.453988\n"
     ]
    },
    {
     "name": "stderr",
     "output_type": "stream",
     "text": [
      "\r",
      " 12%|█▎        | 1/8 [03:12<22:27, 192.50s/it]"
     ]
    },
    {
     "name": "stdout",
     "output_type": "stream",
     "text": [
      "[Epoch 1 / 8] VAL acc: 0.473118\n",
      "[Iteration 201 / 1304] TRAIN loss: 2.840584\n",
      "[Iteration 251 / 1304] TRAIN loss: 2.941516\n",
      "[Iteration 301 / 1304] TRAIN loss: 2.912050\n",
      "[Epoch 2 / 8] TRAIN acc: 5.067485\n"
     ]
    },
    {
     "name": "stderr",
     "output_type": "stream",
     "text": [
      "\r",
      " 25%|██▌       | 2/8 [06:25<19:16, 192.83s/it]"
     ]
    },
    {
     "name": "stdout",
     "output_type": "stream",
     "text": [
      "[Epoch 2 / 8] VAL acc: 0.473118\n",
      "[Iteration 351 / 1304] TRAIN loss: 2.893677\n",
      "[Iteration 401 / 1304] TRAIN loss: 2.755882\n",
      "[Iteration 451 / 1304] TRAIN loss: 2.785056\n",
      "[Epoch 3 / 8] TRAIN acc: 5.312883\n"
     ]
    },
    {
     "name": "stderr",
     "output_type": "stream",
     "text": [
      "\r",
      " 38%|███▊      | 3/8 [09:38<16:04, 192.87s/it]"
     ]
    },
    {
     "name": "stdout",
     "output_type": "stream",
     "text": [
      "[Epoch 3 / 8] VAL acc: 0.462366\n",
      "[Iteration 501 / 1304] TRAIN loss: 2.905935\n",
      "[Iteration 551 / 1304] TRAIN loss: 3.016703\n",
      "[Iteration 601 / 1304] TRAIN loss: 2.908850\n",
      "[Iteration 651 / 1304] TRAIN loss: 2.991360\n",
      "[Epoch 4 / 8] TRAIN acc: 5.061350\n"
     ]
    },
    {
     "name": "stderr",
     "output_type": "stream",
     "text": [
      "\r",
      " 50%|█████     | 4/8 [12:51<12:51, 192.92s/it]"
     ]
    },
    {
     "name": "stdout",
     "output_type": "stream",
     "text": [
      "[Epoch 4 / 8] VAL acc: 0.473118\n",
      "[Iteration 701 / 1304] TRAIN loss: 2.831130\n",
      "[Iteration 751 / 1304] TRAIN loss: 2.978516\n",
      "[Iteration 801 / 1304] TRAIN loss: 2.958005\n",
      "[Epoch 5 / 8] TRAIN acc: 5.460123\n"
     ]
    },
    {
     "name": "stderr",
     "output_type": "stream",
     "text": [
      "\r",
      " 62%|██████▎   | 5/8 [16:04<09:38, 192.96s/it]"
     ]
    },
    {
     "name": "stdout",
     "output_type": "stream",
     "text": [
      "[Epoch 5 / 8] VAL acc: 0.494624\n",
      "[Iteration 851 / 1304] TRAIN loss: 2.907893\n",
      "[Iteration 901 / 1304] TRAIN loss: 2.757025\n",
      "[Iteration 951 / 1304] TRAIN loss: 2.904596\n",
      "[Epoch 6 / 8] TRAIN acc: 5.472393\n"
     ]
    },
    {
     "name": "stderr",
     "output_type": "stream",
     "text": [
      "\r",
      " 75%|███████▌  | 6/8 [19:17<06:25, 192.98s/it]"
     ]
    },
    {
     "name": "stdout",
     "output_type": "stream",
     "text": [
      "[Epoch 6 / 8] VAL acc: 0.473118\n",
      "[Iteration 1001 / 1304] TRAIN loss: 2.877275\n",
      "[Iteration 1051 / 1304] TRAIN loss: 2.737422\n",
      "[Iteration 1101 / 1304] TRAIN loss: 3.041092\n",
      "[Epoch 7 / 8] TRAIN acc: 5.417178\n"
     ]
    },
    {
     "name": "stderr",
     "output_type": "stream",
     "text": [
      "\r",
      " 88%|████████▊ | 7/8 [22:30<03:12, 192.97s/it]"
     ]
    },
    {
     "name": "stdout",
     "output_type": "stream",
     "text": [
      "[Epoch 7 / 8] VAL acc: 0.483871\n",
      "[Iteration 1151 / 1304] TRAIN loss: 2.927427\n",
      "[Iteration 1201 / 1304] TRAIN loss: 2.753776\n",
      "[Iteration 1251 / 1304] TRAIN loss: 2.836705\n",
      "[Iteration 1301 / 1304] TRAIN loss: 2.977248\n",
      "[Epoch 8 / 8] TRAIN acc: 4.950920\n"
     ]
    },
    {
     "name": "stderr",
     "output_type": "stream",
     "text": [
      "100%|██████████| 8/8 [25:43<00:00, 192.97s/it]\n",
      "  0%|          | 0/124 [00:00<?, ?it/s]"
     ]
    },
    {
     "name": "stdout",
     "output_type": "stream",
     "text": [
      "[Epoch 8 / 8] VAL acc: 0.505376\n",
      "Trained in 1543 seconds.\n",
      "FINISH.\n"
     ]
    },
    {
     "name": "stderr",
     "output_type": "stream",
     "text": [
      "100%|██████████| 124/124 [00:19<00:00,  6.28it/s]\n"
     ]
    },
    {
     "name": "stdout",
     "output_type": "stream",
     "text": [
      "0.0263511696693\n",
      "   12 | 26m18s |    0.02635 |      80.0000 |    1.0000 |     1.0000 |   -7.0000 |       8.0000 |              10.0000 |            -1.0000 | \n",
      "weights: [0.0045837917125045834, 0.0030193236714975845, 0.00034800523399871935, 0.0015782828282828283, 0.00084636739115715354, 0.0014982620160613688, 0.00079775352607058521, 0.0051250512505125051, 0.02834467120181406, 0.0098502758077226166, 0.002498001598721023, 0.0011740396355780971, 0.0028875028875028877, 0.0036938534278959812]\n",
      "equivalent_num:\n",
      "1.38888888889\n",
      "1.38888888889\n",
      "1.38888888889\n",
      "1.38888888889\n",
      "1.38888888889\n",
      "1.38888888889\n",
      "1.38888888889\n",
      "1.38888888889\n",
      "1.38888888889\n",
      "1.38888888889\n",
      "1.38888888889\n",
      "1.38888888889\n",
      "1.38888888889\n",
      "1.38888888889\n"
     ]
    },
    {
     "name": "stderr",
     "output_type": "stream",
     "text": [
      "\r",
      "  0%|          | 0/2 [00:00<?, ?it/s]"
     ]
    },
    {
     "name": "stdout",
     "output_type": "stream",
     "text": [
      "START TRAIN.\n",
      "[Iteration 1 / 868] TRAIN loss: 2.966769\n",
      "[Iteration 51 / 868] TRAIN loss: 2.618438\n",
      "[Iteration 101 / 868] TRAIN loss: 2.237900\n",
      "[Iteration 151 / 868] TRAIN loss: 2.434395\n",
      "[Iteration 201 / 868] TRAIN loss: 2.457126\n",
      "[Iteration 251 / 868] TRAIN loss: 2.450960\n",
      "[Iteration 301 / 868] TRAIN loss: 2.562881\n",
      "[Iteration 351 / 868] TRAIN loss: 2.561581\n",
      "[Iteration 401 / 868] TRAIN loss: 2.115698\n",
      "[Epoch 1 / 2] TRAIN acc: 4.972350\n"
     ]
    },
    {
     "name": "stderr",
     "output_type": "stream",
     "text": [
      "\r",
      " 50%|█████     | 1/2 [03:53<03:53, 233.31s/it]"
     ]
    },
    {
     "name": "stdout",
     "output_type": "stream",
     "text": [
      "[Epoch 1 / 2] VAL acc: 1.451613\n",
      "[Iteration 451 / 868] TRAIN loss: 2.666029\n",
      "[Iteration 501 / 868] TRAIN loss: 2.308601\n",
      "[Iteration 551 / 868] TRAIN loss: 2.330869\n",
      "[Iteration 601 / 868] TRAIN loss: 2.477875\n",
      "[Iteration 651 / 868] TRAIN loss: 2.470860\n",
      "[Iteration 701 / 868] TRAIN loss: 2.296516\n",
      "[Iteration 751 / 868] TRAIN loss: 2.467982\n",
      "[Iteration 801 / 868] TRAIN loss: 2.192972\n",
      "[Iteration 851 / 868] TRAIN loss: 2.240331\n",
      "[Epoch 2 / 2] TRAIN acc: 7.391705\n"
     ]
    },
    {
     "name": "stderr",
     "output_type": "stream",
     "text": [
      "100%|██████████| 2/2 [07:46<00:00, 233.36s/it]\n",
      "  0%|          | 0/124 [00:00<?, ?it/s]"
     ]
    },
    {
     "name": "stdout",
     "output_type": "stream",
     "text": [
      "[Epoch 2 / 2] VAL acc: 3.032258\n",
      "Trained in 466 seconds.\n",
      "FINISH.\n"
     ]
    },
    {
     "name": "stderr",
     "output_type": "stream",
     "text": [
      "100%|██████████| 124/124 [00:19<00:00,  6.32it/s]\n"
     ]
    },
    {
     "name": "stdout",
     "output_type": "stream",
     "text": [
      "0.148964775477\n",
      "   13 | 08m22s |    0.14896 |      30.0000 |    1.0000 |     1.0000 |   -3.0000 |       2.0000 |               1.0000 |            -6.0000 | \n",
      "weights: [0.079789581891864733, 0.064757278350021791, 0.021985008591674442, 0.046819434893280693, 0.034285715181341145, 0.045617096211309868, 0.033286498891162593, 0.084368991559831519, 0.1984126984126984, 0.11696554459257208, 0.058902009005553535, 0.040380819765943078, 0.063327882303826827, 0.071626475434638417]\n",
      "equivalent_num:\n",
      "24.1762433132\n",
      "29.788348041\n",
      "87.7421692894\n",
      "41.2011027061\n",
      "56.2628586126\n",
      "42.2870481879\n",
      "57.9517945695\n",
      "22.8639967127\n",
      "9.72222222222\n",
      "16.4921417876\n",
      "32.7495170071\n",
      "47.7705097831\n",
      "30.4607113881\n",
      "26.9315547634\n"
     ]
    },
    {
     "name": "stderr",
     "output_type": "stream",
     "text": [
      "\r",
      "  0%|          | 0/2 [00:00<?, ?it/s]"
     ]
    },
    {
     "name": "stdout",
     "output_type": "stream",
     "text": [
      "START TRAIN.\n",
      "[Iteration 1 / 420] TRAIN loss: 2.850590\n",
      "[Iteration 51 / 420] TRAIN loss: 2.722298\n",
      "[Iteration 101 / 420] TRAIN loss: 2.664275\n",
      "[Iteration 151 / 420] TRAIN loss: 2.512093\n",
      "[Iteration 201 / 420] TRAIN loss: 2.430398\n",
      "[Epoch 1 / 2] TRAIN acc: 9.728571\n"
     ]
    },
    {
     "name": "stderr",
     "output_type": "stream",
     "text": [
      "\r",
      " 50%|█████     | 1/2 [03:06<03:06, 186.17s/it]"
     ]
    },
    {
     "name": "stdout",
     "output_type": "stream",
     "text": [
      "[Epoch 1 / 2] VAL acc: 6.053763\n",
      "[Iteration 251 / 420] TRAIN loss: 2.505544\n",
      "[Iteration 301 / 420] TRAIN loss: 2.603131\n",
      "[Iteration 351 / 420] TRAIN loss: 2.567951\n",
      "[Iteration 401 / 420] TRAIN loss: 2.615994\n",
      "[Epoch 2 / 2] TRAIN acc: 10.214286\n"
     ]
    },
    {
     "name": "stderr",
     "output_type": "stream",
     "text": [
      "100%|██████████| 2/2 [06:09<00:00, 184.62s/it]\n",
      "  0%|          | 0/124 [00:00<?, ?it/s]"
     ]
    },
    {
     "name": "stdout",
     "output_type": "stream",
     "text": [
      "[Epoch 2 / 2] VAL acc: 6.053763\n",
      "Trained in 369 seconds.\n",
      "FINISH.\n"
     ]
    },
    {
     "name": "stderr",
     "output_type": "stream",
     "text": [
      "100%|██████████| 124/124 [00:19<00:00,  6.43it/s]\n"
     ]
    },
    {
     "name": "stdout",
     "output_type": "stream",
     "text": [
      "0.315676257058\n",
      "   14 | 06m44s |    0.31568 |      62.1625 |    0.5000 |    10.0000 |   -3.0000 |       2.0000 |               1.0000 |            -1.0000 | \n",
      "weights: [0.0045837917125045834, 0.0030193236714975845, 0.00034800523399871935, 0.0015782828282828283, 0.00084636739115715354, 0.0014982620160613688, 0.00079775352607058521, 0.0051250512505125051, 0.02834467120181406, 0.0098502758077226166, 0.002498001598721023, 0.0011740396355780971, 0.0028875028875028877, 0.0036938534278959812]\n",
      "equivalent_num:\n",
      "1.38888888889\n",
      "1.38888888889\n",
      "1.38888888889\n",
      "1.38888888889\n",
      "1.38888888889\n",
      "1.38888888889\n",
      "1.38888888889\n",
      "1.38888888889\n",
      "1.38888888889\n",
      "1.38888888889\n",
      "1.38888888889\n",
      "1.38888888889\n",
      "1.38888888889\n",
      "1.38888888889\n"
     ]
    },
    {
     "name": "stderr",
     "output_type": "stream",
     "text": [
      "\r",
      "  0%|          | 0/2 [00:00<?, ?it/s]"
     ]
    },
    {
     "name": "stdout",
     "output_type": "stream",
     "text": [
      "START TRAIN.\n",
      "[Iteration 1 / 384] TRAIN loss: 3.026756\n",
      "[Iteration 51 / 384] TRAIN loss: 2.469224\n",
      "[Iteration 101 / 384] TRAIN loss: 2.229578\n",
      "[Iteration 151 / 384] TRAIN loss: 2.269645\n",
      "[Epoch 1 / 2] TRAIN acc: 13.807292\n"
     ]
    },
    {
     "name": "stderr",
     "output_type": "stream",
     "text": [
      "\r",
      " 50%|█████     | 1/2 [03:24<03:24, 204.01s/it]"
     ]
    },
    {
     "name": "stdout",
     "output_type": "stream",
     "text": [
      "[Epoch 1 / 2] VAL acc: 1.311828\n",
      "[Iteration 201 / 384] TRAIN loss: 2.275310\n",
      "[Iteration 251 / 384] TRAIN loss: 2.144926\n",
      "[Iteration 301 / 384] TRAIN loss: 2.262294\n",
      "[Iteration 351 / 384] TRAIN loss: 2.026266\n",
      "[Epoch 2 / 2] TRAIN acc: 18.942708\n"
     ]
    },
    {
     "name": "stderr",
     "output_type": "stream",
     "text": [
      "100%|██████████| 2/2 [06:48<00:00, 204.13s/it]\n",
      "  0%|          | 0/124 [00:00<?, ?it/s]"
     ]
    },
    {
     "name": "stdout",
     "output_type": "stream",
     "text": [
      "[Epoch 2 / 2] VAL acc: 2.989247\n",
      "Trained in 408 seconds.\n",
      "FINISH.\n"
     ]
    },
    {
     "name": "stderr",
     "output_type": "stream",
     "text": [
      "100%|██████████| 124/124 [00:19<00:00,  6.29it/s]\n"
     ]
    },
    {
     "name": "stdout",
     "output_type": "stream",
     "text": [
      "0.157838128529\n",
      "   15 | 07m25s |    0.15784 |      68.7296 |    1.0000 |     1.0000 |   -3.0000 |       2.0000 |              10.0000 |            -6.0000 | \n",
      "weights: [0.079789581891864733, 0.064757278350021791, 0.021985008591674442, 0.046819434893280693, 0.034285715181341145, 0.045617096211309868, 0.033286498891162593, 0.084368991559831519, 0.1984126984126984, 0.11696554459257208, 0.058902009005553535, 0.040380819765943078, 0.063327882303826827, 0.071626475434638417]\n",
      "equivalent_num:\n",
      "24.1762433132\n",
      "29.788348041\n",
      "87.7421692894\n",
      "41.2011027061\n",
      "56.2628586126\n",
      "42.2870481879\n",
      "57.9517945695\n",
      "22.8639967127\n",
      "9.72222222222\n",
      "16.4921417876\n",
      "32.7495170071\n",
      "47.7705097831\n",
      "30.4607113881\n",
      "26.9315547634\n"
     ]
    },
    {
     "name": "stderr",
     "output_type": "stream",
     "text": [
      "\r",
      "  0%|          | 0/8 [00:00<?, ?it/s]"
     ]
    },
    {
     "name": "stdout",
     "output_type": "stream",
     "text": [
      "START TRAIN.\n",
      "[Iteration 1 / 1304] TRAIN loss: 2.893258\n",
      "[Iteration 51 / 1304] TRAIN loss: 2.654615\n",
      "[Iteration 101 / 1304] TRAIN loss: 2.627147\n",
      "[Iteration 151 / 1304] TRAIN loss: 2.489819\n",
      "[Epoch 1 / 8] TRAIN acc: 12.748466\n"
     ]
    },
    {
     "name": "stderr",
     "output_type": "stream",
     "text": [
      "\r",
      " 12%|█▎        | 1/8 [03:09<22:08, 189.73s/it]"
     ]
    },
    {
     "name": "stdout",
     "output_type": "stream",
     "text": [
      "[Epoch 1 / 8] VAL acc: 6.053763\n",
      "[Iteration 201 / 1304] TRAIN loss: 2.498339\n",
      "[Iteration 251 / 1304] TRAIN loss: 2.523676\n",
      "[Iteration 301 / 1304] TRAIN loss: 2.471597\n",
      "[Epoch 2 / 8] TRAIN acc: 13.944785\n"
     ]
    },
    {
     "name": "stderr",
     "output_type": "stream",
     "text": [
      "\r",
      " 25%|██▌       | 2/8 [06:19<18:58, 189.77s/it]"
     ]
    },
    {
     "name": "stdout",
     "output_type": "stream",
     "text": [
      "[Epoch 2 / 8] VAL acc: 6.000000\n",
      "[Iteration 351 / 1304] TRAIN loss: 2.471256\n",
      "[Iteration 401 / 1304] TRAIN loss: 2.602029\n",
      "[Iteration 451 / 1304] TRAIN loss: 2.512560\n",
      "[Epoch 3 / 8] TRAIN acc: 13.220859\n"
     ]
    },
    {
     "name": "stderr",
     "output_type": "stream",
     "text": [
      "\r",
      " 38%|███▊      | 3/8 [09:29<15:48, 189.78s/it]"
     ]
    },
    {
     "name": "stdout",
     "output_type": "stream",
     "text": [
      "[Epoch 3 / 8] VAL acc: 6.053763\n",
      "[Iteration 501 / 1304] TRAIN loss: 2.391570\n",
      "[Iteration 551 / 1304] TRAIN loss: 2.498724\n",
      "[Iteration 601 / 1304] TRAIN loss: 2.461953\n",
      "[Iteration 651 / 1304] TRAIN loss: 2.517155\n",
      "[Epoch 4 / 8] TRAIN acc: 13.134969\n"
     ]
    },
    {
     "name": "stderr",
     "output_type": "stream",
     "text": [
      "\r",
      " 50%|█████     | 4/8 [12:39<12:39, 189.90s/it]"
     ]
    },
    {
     "name": "stdout",
     "output_type": "stream",
     "text": [
      "[Epoch 4 / 8] VAL acc: 5.698925\n",
      "[Iteration 701 / 1304] TRAIN loss: 2.528499\n",
      "[Iteration 751 / 1304] TRAIN loss: 2.345642\n",
      "[Iteration 801 / 1304] TRAIN loss: 2.421225\n",
      "[Epoch 5 / 8] TRAIN acc: 13.171779\n"
     ]
    },
    {
     "name": "stderr",
     "output_type": "stream",
     "text": [
      "\r",
      " 62%|██████▎   | 5/8 [15:49<09:29, 190.00s/it]"
     ]
    },
    {
     "name": "stdout",
     "output_type": "stream",
     "text": [
      "[Epoch 5 / 8] VAL acc: 5.967742\n",
      "[Iteration 851 / 1304] TRAIN loss: 2.394220\n",
      "[Iteration 901 / 1304] TRAIN loss: 2.693055\n",
      "[Iteration 951 / 1304] TRAIN loss: 2.418953\n",
      "[Epoch 6 / 8] TRAIN acc: 13.306748\n"
     ]
    },
    {
     "name": "stderr",
     "output_type": "stream",
     "text": [
      "\r",
      " 75%|███████▌  | 6/8 [19:00<06:20, 190.10s/it]"
     ]
    },
    {
     "name": "stdout",
     "output_type": "stream",
     "text": [
      "[Epoch 6 / 8] VAL acc: 5.000000\n",
      "[Iteration 1001 / 1304] TRAIN loss: 2.486163\n",
      "[Iteration 1051 / 1304] TRAIN loss: 2.483183\n",
      "[Iteration 1101 / 1304] TRAIN loss: 2.551471\n",
      "[Epoch 7 / 8] TRAIN acc: 13.809816\n"
     ]
    },
    {
     "name": "stderr",
     "output_type": "stream",
     "text": [
      "\r",
      " 88%|████████▊ | 7/8 [22:11<03:10, 190.18s/it]"
     ]
    },
    {
     "name": "stdout",
     "output_type": "stream",
     "text": [
      "[Epoch 7 / 8] VAL acc: 5.946237\n",
      "[Iteration 1151 / 1304] TRAIN loss: 2.339415\n",
      "[Iteration 1201 / 1304] TRAIN loss: 2.367252\n",
      "[Iteration 1251 / 1304] TRAIN loss: 2.517672\n",
      "[Iteration 1301 / 1304] TRAIN loss: 2.427783\n",
      "[Epoch 8 / 8] TRAIN acc: 13.987730\n"
     ]
    },
    {
     "name": "stderr",
     "output_type": "stream",
     "text": [
      "100%|██████████| 8/8 [25:22<00:00, 190.29s/it]\n",
      "  0%|          | 0/124 [00:00<?, ?it/s]"
     ]
    },
    {
     "name": "stdout",
     "output_type": "stream",
     "text": [
      "[Epoch 8 / 8] VAL acc: 5.225806\n",
      "Trained in 1522 seconds.\n",
      "FINISH.\n"
     ]
    },
    {
     "name": "stderr",
     "output_type": "stream",
     "text": [
      "100%|██████████| 124/124 [00:19<00:00,  6.35it/s]\n"
     ]
    },
    {
     "name": "stdout",
     "output_type": "stream",
     "text": [
      "0.279645065878\n",
      "   16 | 25m58s |    0.27965 |      80.0000 |    0.5000 |    10.0000 |   -3.0000 |       8.0000 |               1.0000 |            -6.0000 | \n",
      "weights: [0.079789581891864733, 0.064757278350021791, 0.021985008591674442, 0.046819434893280693, 0.034285715181341145, 0.045617096211309868, 0.033286498891162593, 0.084368991559831519, 0.1984126984126984, 0.11696554459257208, 0.058902009005553535, 0.040380819765943078, 0.063327882303826827, 0.071626475434638417]\n",
      "equivalent_num:\n",
      "24.1762433132\n",
      "29.788348041\n",
      "87.7421692894\n",
      "41.2011027061\n",
      "56.2628586126\n",
      "42.2870481879\n",
      "57.9517945695\n",
      "22.8639967127\n",
      "9.72222222222\n",
      "16.4921417876\n",
      "32.7495170071\n",
      "47.7705097831\n",
      "30.4607113881\n",
      "26.9315547634\n"
     ]
    },
    {
     "name": "stderr",
     "output_type": "stream",
     "text": [
      "\r",
      "  0%|          | 0/8 [00:00<?, ?it/s]"
     ]
    },
    {
     "name": "stdout",
     "output_type": "stream",
     "text": [
      "START TRAIN.\n",
      "[Iteration 1 / 3472] TRAIN loss: 2.802628\n",
      "[Iteration 51 / 3472] TRAIN loss: 2.712520\n",
      "[Iteration 101 / 3472] TRAIN loss: 2.724107\n",
      "[Iteration 151 / 3472] TRAIN loss: 2.867339\n",
      "[Iteration 201 / 3472] TRAIN loss: 2.609684\n",
      "[Iteration 251 / 3472] TRAIN loss: 2.640022\n",
      "[Iteration 301 / 3472] TRAIN loss: 2.703803\n",
      "[Iteration 351 / 3472] TRAIN loss: 2.716077\n",
      "[Iteration 401 / 3472] TRAIN loss: 2.694432\n",
      "[Epoch 1 / 8] TRAIN acc: 2.903226\n"
     ]
    },
    {
     "name": "stderr",
     "output_type": "stream",
     "text": [
      "\r",
      " 12%|█▎        | 1/8 [03:53<27:16, 233.73s/it]"
     ]
    },
    {
     "name": "stdout",
     "output_type": "stream",
     "text": [
      "[Epoch 1 / 8] VAL acc: 2.494624\n",
      "[Iteration 451 / 3472] TRAIN loss: 2.670786\n",
      "[Iteration 501 / 3472] TRAIN loss: 2.726078\n",
      "[Iteration 551 / 3472] TRAIN loss: 2.671597\n",
      "[Iteration 601 / 3472] TRAIN loss: 2.682258\n",
      "[Iteration 651 / 3472] TRAIN loss: 2.734570\n",
      "[Iteration 701 / 3472] TRAIN loss: 2.700029\n",
      "[Iteration 751 / 3472] TRAIN loss: 2.513108\n",
      "[Iteration 801 / 3472] TRAIN loss: 2.665532\n",
      "[Iteration 851 / 3472] TRAIN loss: 2.513595\n",
      "[Epoch 2 / 8] TRAIN acc: 3.622120\n"
     ]
    },
    {
     "name": "stderr",
     "output_type": "stream",
     "text": [
      "\r",
      " 25%|██▌       | 2/8 [07:47<23:23, 233.92s/it]"
     ]
    },
    {
     "name": "stdout",
     "output_type": "stream",
     "text": [
      "[Epoch 2 / 8] VAL acc: 3.344086\n",
      "[Iteration 901 / 3472] TRAIN loss: 2.288171\n",
      "[Iteration 951 / 3472] TRAIN loss: 2.589139\n",
      "[Iteration 1001 / 3472] TRAIN loss: 2.387345\n",
      "[Iteration 1051 / 3472] TRAIN loss: 2.393415\n",
      "[Iteration 1101 / 3472] TRAIN loss: 2.481491\n",
      "[Iteration 1151 / 3472] TRAIN loss: 2.374061\n",
      "[Iteration 1201 / 3472] TRAIN loss: 2.423340\n",
      "[Iteration 1251 / 3472] TRAIN loss: 2.321144\n",
      "[Iteration 1301 / 3472] TRAIN loss: 2.661694\n",
      "[Epoch 3 / 8] TRAIN acc: 4.500000\n"
     ]
    },
    {
     "name": "stderr",
     "output_type": "stream",
     "text": [
      "\r",
      " 38%|███▊      | 3/8 [11:42<19:30, 234.00s/it]"
     ]
    },
    {
     "name": "stdout",
     "output_type": "stream",
     "text": [
      "[Epoch 3 / 8] VAL acc: 4.268817\n",
      "[Iteration 1351 / 3472] TRAIN loss: 2.496986\n",
      "[Iteration 1401 / 3472] TRAIN loss: 2.449651\n",
      "[Iteration 1451 / 3472] TRAIN loss: 2.662225\n",
      "[Iteration 1501 / 3472] TRAIN loss: 2.486670\n",
      "[Iteration 1551 / 3472] TRAIN loss: 2.639186\n",
      "[Iteration 1601 / 3472] TRAIN loss: 2.538360\n",
      "[Iteration 1651 / 3472] TRAIN loss: 2.421710\n",
      "[Iteration 1701 / 3472] TRAIN loss: 2.340432\n",
      "[Epoch 4 / 8] TRAIN acc: 5.366359\n"
     ]
    },
    {
     "name": "stderr",
     "output_type": "stream",
     "text": [
      "\r",
      " 50%|█████     | 4/8 [15:36<15:36, 234.04s/it]"
     ]
    },
    {
     "name": "stdout",
     "output_type": "stream",
     "text": [
      "[Epoch 4 / 8] VAL acc: 4.924731\n",
      "[Iteration 1751 / 3472] TRAIN loss: 2.455405\n",
      "[Iteration 1801 / 3472] TRAIN loss: 2.464891\n",
      "[Iteration 1851 / 3472] TRAIN loss: 2.458221\n",
      "[Iteration 1901 / 3472] TRAIN loss: 2.386401\n",
      "[Iteration 1951 / 3472] TRAIN loss: 2.271679\n",
      "[Iteration 2001 / 3472] TRAIN loss: 2.465151\n",
      "[Iteration 2051 / 3472] TRAIN loss: 2.374588\n",
      "[Iteration 2101 / 3472] TRAIN loss: 2.359708\n",
      "[Iteration 2151 / 3472] TRAIN loss: 2.347327\n",
      "[Epoch 5 / 8] TRAIN acc: 5.898618\n"
     ]
    },
    {
     "name": "stderr",
     "output_type": "stream",
     "text": [
      "\r",
      " 62%|██████▎   | 5/8 [19:30<11:42, 234.07s/it]"
     ]
    },
    {
     "name": "stdout",
     "output_type": "stream",
     "text": [
      "[Epoch 5 / 8] VAL acc: 5.505376\n",
      "[Iteration 2201 / 3472] TRAIN loss: 2.137743\n",
      "[Iteration 2251 / 3472] TRAIN loss: 2.422357\n",
      "[Iteration 2301 / 3472] TRAIN loss: 2.380630\n",
      "[Iteration 2351 / 3472] TRAIN loss: 2.146255\n",
      "[Iteration 2401 / 3472] TRAIN loss: 2.427514\n",
      "[Iteration 2451 / 3472] TRAIN loss: 2.386667\n",
      "[Iteration 2501 / 3472] TRAIN loss: 2.428228\n",
      "[Iteration 2551 / 3472] TRAIN loss: 2.349200\n",
      "[Iteration 2601 / 3472] TRAIN loss: 2.373481\n",
      "[Epoch 6 / 8] TRAIN acc: 6.384793\n"
     ]
    },
    {
     "name": "stderr",
     "output_type": "stream",
     "text": [
      "\r",
      " 75%|███████▌  | 6/8 [23:24<07:48, 234.07s/it]"
     ]
    },
    {
     "name": "stdout",
     "output_type": "stream",
     "text": [
      "[Epoch 6 / 8] VAL acc: 5.741935\n",
      "[Iteration 2651 / 3472] TRAIN loss: 2.313040\n",
      "[Iteration 2701 / 3472] TRAIN loss: 2.474397\n",
      "[Iteration 2751 / 3472] TRAIN loss: 2.186872\n",
      "[Iteration 2801 / 3472] TRAIN loss: 2.340627\n",
      "[Iteration 2851 / 3472] TRAIN loss: 2.443677\n",
      "[Iteration 2901 / 3472] TRAIN loss: 2.406792\n",
      "[Iteration 2951 / 3472] TRAIN loss: 2.396633\n",
      "[Iteration 3001 / 3472] TRAIN loss: 2.292359\n",
      "[Epoch 7 / 8] TRAIN acc: 6.603687\n"
     ]
    },
    {
     "name": "stderr",
     "output_type": "stream",
     "text": [
      "\r",
      " 88%|████████▊ | 7/8 [27:18<03:54, 234.06s/it]"
     ]
    },
    {
     "name": "stdout",
     "output_type": "stream",
     "text": [
      "[Epoch 7 / 8] VAL acc: 5.774194\n",
      "[Iteration 3051 / 3472] TRAIN loss: 2.409080\n",
      "[Iteration 3101 / 3472] TRAIN loss: 2.448686\n",
      "[Iteration 3151 / 3472] TRAIN loss: 2.312849\n",
      "[Iteration 3201 / 3472] TRAIN loss: 2.276570\n",
      "[Iteration 3251 / 3472] TRAIN loss: 2.127185\n",
      "[Iteration 3301 / 3472] TRAIN loss: 2.235039\n",
      "[Iteration 3351 / 3472] TRAIN loss: 2.289582\n",
      "[Iteration 3401 / 3472] TRAIN loss: 2.178875\n",
      "[Iteration 3451 / 3472] TRAIN loss: 2.267409\n",
      "[Epoch 8 / 8] TRAIN acc: 7.126728\n"
     ]
    },
    {
     "name": "stderr",
     "output_type": "stream",
     "text": [
      "100%|██████████| 8/8 [31:12<00:00, 234.04s/it]\n",
      "  0%|          | 0/124 [00:00<?, ?it/s]"
     ]
    },
    {
     "name": "stdout",
     "output_type": "stream",
     "text": [
      "[Epoch 8 / 8] VAL acc: 5.978495\n",
      "Trained in 1872 seconds.\n",
      "FINISH.\n"
     ]
    },
    {
     "name": "stderr",
     "output_type": "stream",
     "text": [
      "100%|██████████| 124/124 [00:19<00:00,  6.28it/s]\n"
     ]
    },
    {
     "name": "stdout",
     "output_type": "stream",
     "text": [
      "0.318096262436\n",
      "   17 | 31m50s |    0.31810 |      30.0000 |    0.5000 |    10.0000 |   -7.0000 |       8.0000 |               1.0000 |            -6.0000 | \n",
      "weights: [0.079789581891864733, 0.064757278350021791, 0.021985008591674442, 0.046819434893280693, 0.034285715181341145, 0.045617096211309868, 0.033286498891162593, 0.084368991559831519, 0.1984126984126984, 0.11696554459257208, 0.058902009005553535, 0.040380819765943078, 0.063327882303826827, 0.071626475434638417]\n",
      "equivalent_num:\n",
      "24.1762433132\n",
      "29.788348041\n",
      "87.7421692894\n",
      "41.2011027061\n",
      "56.2628586126\n",
      "42.2870481879\n",
      "57.9517945695\n",
      "22.8639967127\n",
      "9.72222222222\n",
      "16.4921417876\n",
      "32.7495170071\n",
      "47.7705097831\n",
      "30.4607113881\n",
      "26.9315547634\n"
     ]
    },
    {
     "name": "stderr",
     "output_type": "stream",
     "text": [
      "\r",
      "  0%|          | 0/8 [00:00<?, ?it/s]"
     ]
    },
    {
     "name": "stdout",
     "output_type": "stream",
     "text": [
      "START TRAIN.\n",
      "[Iteration 1 / 1392] TRAIN loss: 2.752666\n",
      "[Iteration 51 / 1392] TRAIN loss: 2.546422\n",
      "[Iteration 101 / 1392] TRAIN loss: 2.600915\n",
      "[Iteration 151 / 1392] TRAIN loss: 2.610707\n",
      "[Epoch 1 / 8] TRAIN acc: 11.545977\n"
     ]
    },
    {
     "name": "stderr",
     "output_type": "stream",
     "text": [
      "\r",
      " 12%|█▎        | 1/8 [03:15<22:49, 195.70s/it]"
     ]
    },
    {
     "name": "stdout",
     "output_type": "stream",
     "text": [
      "[Epoch 1 / 8] VAL acc: 6.053763\n",
      "[Iteration 201 / 1392] TRAIN loss: 2.617602\n",
      "[Iteration 251 / 1392] TRAIN loss: 2.617861\n",
      "[Iteration 301 / 1392] TRAIN loss: 2.630198\n",
      "[Epoch 2 / 8] TRAIN acc: 12.660920\n"
     ]
    },
    {
     "name": "stderr",
     "output_type": "stream",
     "text": [
      "\r",
      " 25%|██▌       | 2/8 [06:27<19:21, 193.67s/it]"
     ]
    },
    {
     "name": "stdout",
     "output_type": "stream",
     "text": [
      "[Epoch 2 / 8] VAL acc: 6.053763\n",
      "[Iteration 351 / 1392] TRAIN loss: 2.623427\n",
      "[Iteration 401 / 1392] TRAIN loss: 2.626146\n",
      "[Iteration 451 / 1392] TRAIN loss: 2.621186\n",
      "[Iteration 501 / 1392] TRAIN loss: 2.623366\n",
      "[Epoch 3 / 8] TRAIN acc: 11.413793\n"
     ]
    },
    {
     "name": "stderr",
     "output_type": "stream",
     "text": [
      "\r",
      " 38%|███▊      | 3/8 [09:36<16:01, 192.24s/it]"
     ]
    },
    {
     "name": "stdout",
     "output_type": "stream",
     "text": [
      "[Epoch 3 / 8] VAL acc: 6.053763\n",
      "[Iteration 551 / 1392] TRAIN loss: 2.630147\n",
      "[Iteration 601 / 1392] TRAIN loss: 2.627358\n",
      "[Iteration 651 / 1392] TRAIN loss: 2.623997\n",
      "[Epoch 4 / 8] TRAIN acc: 12.258621\n"
     ]
    },
    {
     "name": "stderr",
     "output_type": "stream",
     "text": [
      "\r",
      " 50%|█████     | 4/8 [12:44<12:44, 191.18s/it]"
     ]
    },
    {
     "name": "stdout",
     "output_type": "stream",
     "text": [
      "[Epoch 4 / 8] VAL acc: 6.053763\n",
      "[Iteration 701 / 1392] TRAIN loss: 2.623587\n",
      "[Iteration 751 / 1392] TRAIN loss: 2.620701\n",
      "[Iteration 801 / 1392] TRAIN loss: 2.623909\n",
      "[Iteration 851 / 1392] TRAIN loss: 2.621635\n",
      "[Epoch 5 / 8] TRAIN acc: 12.517241\n"
     ]
    },
    {
     "name": "stderr",
     "output_type": "stream",
     "text": [
      "\r",
      " 62%|██████▎   | 5/8 [15:52<09:31, 190.43s/it]"
     ]
    },
    {
     "name": "stdout",
     "output_type": "stream",
     "text": [
      "[Epoch 5 / 8] VAL acc: 6.053763\n",
      "[Iteration 901 / 1392] TRAIN loss: 2.625535\n",
      "[Iteration 951 / 1392] TRAIN loss: 2.618650\n",
      "[Iteration 1001 / 1392] TRAIN loss: 2.619394\n",
      "[Epoch 6 / 8] TRAIN acc: 12.293103\n"
     ]
    },
    {
     "name": "stderr",
     "output_type": "stream",
     "text": [
      "\r",
      " 75%|███████▌  | 6/8 [18:58<06:19, 189.68s/it]"
     ]
    },
    {
     "name": "stdout",
     "output_type": "stream",
     "text": [
      "[Epoch 6 / 8] VAL acc: 6.053763\n",
      "[Iteration 1051 / 1392] TRAIN loss: 2.621831\n",
      "[Iteration 1101 / 1392] TRAIN loss: 2.631482\n",
      "[Iteration 1151 / 1392] TRAIN loss: 2.624979\n",
      "[Iteration 1201 / 1392] TRAIN loss: 2.623359\n",
      "[Epoch 7 / 8] TRAIN acc: 12.155172\n"
     ]
    },
    {
     "name": "stderr",
     "output_type": "stream",
     "text": [
      "\r",
      " 88%|████████▊ | 7/8 [22:03<03:09, 189.05s/it]"
     ]
    },
    {
     "name": "stdout",
     "output_type": "stream",
     "text": [
      "[Epoch 7 / 8] VAL acc: 6.053763\n",
      "[Iteration 1251 / 1392] TRAIN loss: 2.622656\n",
      "[Iteration 1301 / 1392] TRAIN loss: 2.616160\n",
      "[Iteration 1351 / 1392] TRAIN loss: 2.628589\n",
      "[Epoch 8 / 8] TRAIN acc: 12.396552\n"
     ]
    },
    {
     "name": "stderr",
     "output_type": "stream",
     "text": [
      "100%|██████████| 8/8 [25:08<00:00, 188.62s/it]\n",
      "  0%|          | 0/124 [00:00<?, ?it/s]"
     ]
    },
    {
     "name": "stdout",
     "output_type": "stream",
     "text": [
      "[Epoch 8 / 8] VAL acc: 6.053763\n",
      "Trained in 1508 seconds.\n",
      "FINISH.\n"
     ]
    },
    {
     "name": "stderr",
     "output_type": "stream",
     "text": [
      "100%|██████████| 124/124 [00:18<00:00,  6.56it/s]\n"
     ]
    },
    {
     "name": "stdout",
     "output_type": "stream",
     "text": [
      "0.315676257058\n",
      "   18 | 25m47s |    0.31568 |      75.9904 |    0.5000 |    10.0000 |   -3.0000 |       8.0000 |              10.0000 |            -1.0000 | \n",
      "weights: [0.079789581891864733, 0.064757278350021791, 0.021985008591674442, 0.046819434893280693, 0.034285715181341145, 0.045617096211309868, 0.033286498891162593, 0.084368991559831519, 0.1984126984126984, 0.11696554459257208, 0.058902009005553535, 0.040380819765943078, 0.063327882303826827, 0.071626475434638417]\n",
      "equivalent_num:\n",
      "24.1762433132\n",
      "29.788348041\n",
      "87.7421692894\n",
      "41.2011027061\n",
      "56.2628586126\n",
      "42.2870481879\n",
      "57.9517945695\n",
      "22.8639967127\n",
      "9.72222222222\n",
      "16.4921417876\n",
      "32.7495170071\n",
      "47.7705097831\n",
      "30.4607113881\n",
      "26.9315547634\n"
     ]
    },
    {
     "name": "stderr",
     "output_type": "stream",
     "text": [
      "\r",
      "  0%|          | 0/8 [00:00<?, ?it/s]"
     ]
    },
    {
     "name": "stdout",
     "output_type": "stream",
     "text": [
      "START TRAIN.\n",
      "[Iteration 1 / 1392] TRAIN loss: 2.763085\n",
      "[Iteration 51 / 1392] TRAIN loss: 2.726134\n",
      "[Iteration 101 / 1392] TRAIN loss: 2.839888\n",
      "[Iteration 151 / 1392] TRAIN loss: 2.692040\n",
      "[Epoch 1 / 8] TRAIN acc: 7.258621\n"
     ]
    },
    {
     "name": "stderr",
     "output_type": "stream",
     "text": [
      "\r",
      " 12%|█▎        | 1/8 [03:18<23:09, 198.46s/it]"
     ]
    },
    {
     "name": "stdout",
     "output_type": "stream",
     "text": [
      "[Epoch 1 / 8] VAL acc: 2.032258\n",
      "[Iteration 201 / 1392] TRAIN loss: 2.720536\n",
      "[Iteration 251 / 1392] TRAIN loss: 2.776386\n",
      "[Iteration 301 / 1392] TRAIN loss: 2.645649\n",
      "[Epoch 2 / 8] TRAIN acc: 7.873563\n"
     ]
    },
    {
     "name": "stderr",
     "output_type": "stream",
     "text": [
      "\r",
      " 25%|██▌       | 2/8 [06:37<19:53, 198.84s/it]"
     ]
    },
    {
     "name": "stdout",
     "output_type": "stream",
     "text": [
      "[Epoch 2 / 8] VAL acc: 2.483871\n",
      "[Iteration 351 / 1392] TRAIN loss: 2.652619\n",
      "[Iteration 401 / 1392] TRAIN loss: 2.674054\n",
      "[Iteration 451 / 1392] TRAIN loss: 2.574938\n",
      "[Iteration 501 / 1392] TRAIN loss: 2.570036\n",
      "[Epoch 3 / 8] TRAIN acc: 8.298851\n"
     ]
    },
    {
     "name": "stderr",
     "output_type": "stream",
     "text": [
      "\r",
      " 38%|███▊      | 3/8 [09:56<16:34, 198.92s/it]"
     ]
    },
    {
     "name": "stdout",
     "output_type": "stream",
     "text": [
      "[Epoch 3 / 8] VAL acc: 2.903226\n",
      "[Iteration 551 / 1392] TRAIN loss: 2.575629\n",
      "[Iteration 601 / 1392] TRAIN loss: 2.545737\n",
      "[Iteration 651 / 1392] TRAIN loss: 2.616813\n",
      "[Epoch 4 / 8] TRAIN acc: 10.011494\n"
     ]
    },
    {
     "name": "stderr",
     "output_type": "stream",
     "text": [
      "\r",
      " 50%|█████     | 4/8 [13:16<13:16, 199.00s/it]"
     ]
    },
    {
     "name": "stdout",
     "output_type": "stream",
     "text": [
      "[Epoch 4 / 8] VAL acc: 3.376344\n",
      "[Iteration 701 / 1392] TRAIN loss: 2.645260\n",
      "[Iteration 751 / 1392] TRAIN loss: 2.632033\n",
      "[Iteration 801 / 1392] TRAIN loss: 2.625292\n",
      "[Iteration 851 / 1392] TRAIN loss: 2.516479\n",
      "[Epoch 5 / 8] TRAIN acc: 10.482759\n"
     ]
    },
    {
     "name": "stderr",
     "output_type": "stream",
     "text": [
      "\r",
      " 62%|██████▎   | 5/8 [16:35<09:57, 199.04s/it]"
     ]
    },
    {
     "name": "stdout",
     "output_type": "stream",
     "text": [
      "[Epoch 5 / 8] VAL acc: 3.774194\n",
      "[Iteration 901 / 1392] TRAIN loss: 2.552891\n",
      "[Iteration 951 / 1392] TRAIN loss: 2.480521\n",
      "[Iteration 1001 / 1392] TRAIN loss: 2.562426\n",
      "[Epoch 6 / 8] TRAIN acc: 11.620690\n"
     ]
    },
    {
     "name": "stderr",
     "output_type": "stream",
     "text": [
      "\r",
      " 75%|███████▌  | 6/8 [19:54<06:38, 199.06s/it]"
     ]
    },
    {
     "name": "stdout",
     "output_type": "stream",
     "text": [
      "[Epoch 6 / 8] VAL acc: 4.172043\n",
      "[Iteration 1051 / 1392] TRAIN loss: 2.393919\n",
      "[Iteration 1101 / 1392] TRAIN loss: 2.499490\n",
      "[Iteration 1151 / 1392] TRAIN loss: 2.608871\n",
      "[Iteration 1201 / 1392] TRAIN loss: 2.482116\n",
      "[Epoch 7 / 8] TRAIN acc: 12.591954\n"
     ]
    },
    {
     "name": "stderr",
     "output_type": "stream",
     "text": [
      "\r",
      " 88%|████████▊ | 7/8 [23:13<03:19, 199.07s/it]"
     ]
    },
    {
     "name": "stdout",
     "output_type": "stream",
     "text": [
      "[Epoch 7 / 8] VAL acc: 4.580645\n",
      "[Iteration 1251 / 1392] TRAIN loss: 2.400122\n",
      "[Iteration 1301 / 1392] TRAIN loss: 2.530853\n",
      "[Iteration 1351 / 1392] TRAIN loss: 2.521090\n",
      "[Epoch 8 / 8] TRAIN acc: 13.028736\n"
     ]
    },
    {
     "name": "stderr",
     "output_type": "stream",
     "text": [
      "100%|██████████| 8/8 [26:32<00:00, 199.08s/it]\n",
      "  0%|          | 0/124 [00:00<?, ?it/s]"
     ]
    },
    {
     "name": "stdout",
     "output_type": "stream",
     "text": [
      "[Epoch 8 / 8] VAL acc: 4.784946\n",
      "Trained in 1592 seconds.\n",
      "FINISH.\n"
     ]
    },
    {
     "name": "stderr",
     "output_type": "stream",
     "text": [
      "100%|██████████| 124/124 [00:19<00:00,  6.30it/s]\n"
     ]
    },
    {
     "name": "stdout",
     "output_type": "stream",
     "text": [
      "0.254907233127\n",
      "   19 | 27m11s |    0.25491 |      75.0746 |    0.5000 |    10.0000 |   -7.0000 |       8.0000 |               1.0000 |            -1.0000 | \n",
      "weights: [0.079789581891864733, 0.064757278350021791, 0.021985008591674442, 0.046819434893280693, 0.034285715181341145, 0.045617096211309868, 0.033286498891162593, 0.084368991559831519, 0.1984126984126984, 0.11696554459257208, 0.058902009005553535, 0.040380819765943078, 0.063327882303826827, 0.071626475434638417]\n",
      "equivalent_num:\n",
      "24.1762433132\n",
      "29.788348041\n",
      "87.7421692894\n",
      "41.2011027061\n",
      "56.2628586126\n",
      "42.2870481879\n",
      "57.9517945695\n",
      "22.8639967127\n",
      "9.72222222222\n",
      "16.4921417876\n",
      "32.7495170071\n",
      "47.7705097831\n",
      "30.4607113881\n",
      "26.9315547634\n"
     ]
    },
    {
     "name": "stderr",
     "output_type": "stream",
     "text": [
      "\r",
      "  0%|          | 0/2 [00:00<?, ?it/s]"
     ]
    },
    {
     "name": "stdout",
     "output_type": "stream",
     "text": [
      "START TRAIN.\n",
      "[Iteration 1 / 458] TRAIN loss: 2.775906\n",
      "[Iteration 51 / 458] TRAIN loss: 2.701920\n",
      "[Iteration 101 / 458] TRAIN loss: 2.568769\n",
      "[Iteration 151 / 458] TRAIN loss: 2.622363\n",
      "[Iteration 201 / 458] TRAIN loss: 2.598503\n",
      "[Epoch 1 / 2] TRAIN acc: 8.925764\n"
     ]
    },
    {
     "name": "stderr",
     "output_type": "stream",
     "text": [
      "\r",
      " 50%|█████     | 1/2 [03:11<03:11, 191.66s/it]"
     ]
    },
    {
     "name": "stdout",
     "output_type": "stream",
     "text": [
      "[Epoch 1 / 2] VAL acc: 6.053763\n",
      "[Iteration 251 / 458] TRAIN loss: 2.606042\n",
      "[Iteration 301 / 458] TRAIN loss: 2.441152\n",
      "[Iteration 351 / 458] TRAIN loss: 2.484536\n",
      "[Iteration 401 / 458] TRAIN loss: 2.465052\n",
      "[Iteration 451 / 458] TRAIN loss: 2.492217\n",
      "[Epoch 2 / 2] TRAIN acc: 9.253275\n"
     ]
    },
    {
     "name": "stderr",
     "output_type": "stream",
     "text": [
      "100%|██████████| 2/2 [06:24<00:00, 192.30s/it]\n",
      "  0%|          | 0/124 [00:00<?, ?it/s]"
     ]
    },
    {
     "name": "stdout",
     "output_type": "stream",
     "text": [
      "[Epoch 2 / 2] VAL acc: 6.150538\n",
      "Trained in 384 seconds.\n",
      "FINISH.\n"
     ]
    },
    {
     "name": "stderr",
     "output_type": "stream",
     "text": [
      "100%|██████████| 124/124 [00:19<00:00,  6.33it/s]\n"
     ]
    },
    {
     "name": "stdout",
     "output_type": "stream",
     "text": [
      "0.316751815004\n",
      "   20 | 07m04s |    0.31675 |      57.9488 |    0.5000 |    10.0000 |   -3.0000 |       2.0000 |              10.0000 |            -6.0000 | \n",
      "weights: [0.079789581891864733, 0.064757278350021791, 0.021985008591674442, 0.046819434893280693, 0.034285715181341145, 0.045617096211309868, 0.033286498891162593, 0.084368991559831519, 0.1984126984126984, 0.11696554459257208, 0.058902009005553535, 0.040380819765943078, 0.063327882303826827, 0.071626475434638417]\n",
      "equivalent_num:\n",
      "24.1762433132\n",
      "29.788348041\n",
      "87.7421692894\n",
      "41.2011027061\n",
      "56.2628586126\n",
      "42.2870481879\n",
      "57.9517945695\n",
      "22.8639967127\n",
      "9.72222222222\n",
      "16.4921417876\n",
      "32.7495170071\n",
      "47.7705097831\n",
      "30.4607113881\n",
      "26.9315547634\n"
     ]
    },
    {
     "name": "stderr",
     "output_type": "stream",
     "text": [
      "\r",
      "  0%|          | 0/2 [00:00<?, ?it/s]"
     ]
    },
    {
     "name": "stdout",
     "output_type": "stream",
     "text": [
      "START TRAIN.\n",
      "[Iteration 1 / 868] TRAIN loss: 2.675362\n",
      "[Iteration 51 / 868] TRAIN loss: 2.670822\n",
      "[Iteration 101 / 868] TRAIN loss: 2.643484\n",
      "[Iteration 151 / 868] TRAIN loss: 2.595601\n",
      "[Iteration 201 / 868] TRAIN loss: 2.758816\n",
      "[Iteration 251 / 868] TRAIN loss: 2.793078\n",
      "[Iteration 301 / 868] TRAIN loss: 2.600231\n",
      "[Iteration 351 / 868] TRAIN loss: 2.648982\n",
      "[Iteration 401 / 868] TRAIN loss: 2.674099\n",
      "[Epoch 1 / 2] TRAIN acc: 3.559908\n"
     ]
    },
    {
     "name": "stderr",
     "output_type": "stream",
     "text": [
      "\r",
      " 50%|█████     | 1/2 [03:53<03:53, 233.45s/it]"
     ]
    },
    {
     "name": "stdout",
     "output_type": "stream",
     "text": [
      "[Epoch 1 / 2] VAL acc: 4.075269\n",
      "[Iteration 451 / 868] TRAIN loss: 2.606283\n",
      "[Iteration 501 / 868] TRAIN loss: 2.770133\n",
      "[Iteration 551 / 868] TRAIN loss: 2.513217\n",
      "[Iteration 601 / 868] TRAIN loss: 2.807247\n",
      "[Iteration 651 / 868] TRAIN loss: 2.722901\n",
      "[Iteration 701 / 868] TRAIN loss: 2.787853\n",
      "[Iteration 751 / 868] TRAIN loss: 2.698364\n",
      "[Iteration 801 / 868] TRAIN loss: 2.506720\n",
      "[Iteration 851 / 868] TRAIN loss: 2.624073\n",
      "[Epoch 2 / 2] TRAIN acc: 3.693548\n"
     ]
    },
    {
     "name": "stderr",
     "output_type": "stream",
     "text": [
      "100%|██████████| 2/2 [07:47<00:00, 233.74s/it]\n",
      "  0%|          | 0/124 [00:00<?, ?it/s]"
     ]
    },
    {
     "name": "stdout",
     "output_type": "stream",
     "text": [
      "[Epoch 2 / 2] VAL acc: 4.064516\n",
      "Trained in 467 seconds.\n",
      "FINISH.\n"
     ]
    },
    {
     "name": "stderr",
     "output_type": "stream",
     "text": [
      "100%|██████████| 124/124 [00:19<00:00,  6.28it/s]\n"
     ]
    },
    {
     "name": "stdout",
     "output_type": "stream",
     "text": [
      "0.205700457112\n",
      "   21 | 08m27s |    0.20570 |      30.0000 |    0.5000 |     1.0000 |   -7.0000 |       2.0000 |               1.0000 |            -1.0000 | \n",
      "weights: [0.0045837917125045834, 0.0030193236714975845, 0.00034800523399871935, 0.0015782828282828283, 0.00084636739115715354, 0.0014982620160613688, 0.00079775352607058521, 0.0051250512505125051, 0.02834467120181406, 0.0098502758077226166, 0.002498001598721023, 0.0011740396355780971, 0.0028875028875028877, 0.0036938534278959812]\n",
      "equivalent_num:\n",
      "1.38888888889\n",
      "1.38888888889\n",
      "1.38888888889\n",
      "1.38888888889\n",
      "1.38888888889\n",
      "1.38888888889\n",
      "1.38888888889\n",
      "1.38888888889\n",
      "1.38888888889\n",
      "1.38888888889\n",
      "1.38888888889\n",
      "1.38888888889\n",
      "1.38888888889\n",
      "1.38888888889\n"
     ]
    },
    {
     "name": "stderr",
     "output_type": "stream",
     "text": [
      "\r",
      "  0%|          | 0/2 [00:00<?, ?it/s]"
     ]
    },
    {
     "name": "stdout",
     "output_type": "stream",
     "text": [
      "START TRAIN.\n",
      "[Iteration 1 / 482] TRAIN loss: 2.881439\n",
      "[Iteration 51 / 482] TRAIN loss: 2.680261\n",
      "[Iteration 101 / 482] TRAIN loss: 2.649238\n",
      "[Iteration 151 / 482] TRAIN loss: 2.652059\n",
      "[Iteration 201 / 482] TRAIN loss: 2.655711\n",
      "[Epoch 1 / 2] TRAIN acc: 4.593361\n"
     ]
    },
    {
     "name": "stderr",
     "output_type": "stream",
     "text": [
      "\r",
      " 50%|█████     | 1/2 [03:23<03:23, 203.64s/it]"
     ]
    },
    {
     "name": "stdout",
     "output_type": "stream",
     "text": [
      "[Epoch 1 / 2] VAL acc: 0.709677\n",
      "[Iteration 251 / 482] TRAIN loss: 2.662501\n",
      "[Iteration 301 / 482] TRAIN loss: 2.634976\n",
      "[Iteration 351 / 482] TRAIN loss: 2.638173\n",
      "[Iteration 401 / 482] TRAIN loss: 2.639535\n",
      "[Iteration 451 / 482] TRAIN loss: 2.639302\n",
      "[Epoch 2 / 2] TRAIN acc: 3.867220\n"
     ]
    },
    {
     "name": "stderr",
     "output_type": "stream",
     "text": [
      "100%|██████████| 2/2 [06:43<00:00, 201.61s/it]\n",
      "  0%|          | 0/124 [00:00<?, ?it/s]"
     ]
    },
    {
     "name": "stdout",
     "output_type": "stream",
     "text": [
      "[Epoch 2 / 2] VAL acc: 1.440860\n",
      "Trained in 403 seconds.\n",
      "FINISH.\n"
     ]
    },
    {
     "name": "stderr",
     "output_type": "stream",
     "text": [
      "100%|██████████| 124/124 [00:19<00:00,  6.44it/s]\n"
     ]
    },
    {
     "name": "stdout",
     "output_type": "stream",
     "text": [
      "0.068297929551\n",
      "   22 | 07m23s |    0.06830 |      54.0413 |    1.0000 |     1.0000 |   -3.0000 |       2.0000 |              10.0000 |            -1.0000 | \n",
      "weights: [0.041274517828178127, 0.031923281145214505, 0.0084469253238409446, 0.021416315781517758, 0.014595260866700606, 0.020741463120042037, 0.014073531678035921, 0.044208996648161747, 0.12664413029094704, 0.066087562657826671, 0.028408793748932279, 0.017851284427186254, 0.031058276291417115, 0.036140550603265945]\n",
      "equivalent_num:\n",
      "12.5061789019\n",
      "14.6847093268\n",
      "33.7116789674\n",
      "18.8463578877\n",
      "23.9508230823\n",
      "19.2273363123\n",
      "24.5020186515\n",
      "11.9806380917\n",
      "6.20556238426\n",
      "9.31834633475\n",
      "15.7952893244\n",
      "21.1180694774\n",
      "14.9390308962\n",
      "13.5888470268\n"
     ]
    },
    {
     "name": "stderr",
     "output_type": "stream",
     "text": [
      "\r",
      "  0%|          | 0/6 [00:00<?, ?it/s]"
     ]
    },
    {
     "name": "stdout",
     "output_type": "stream",
     "text": [
      "START TRAIN.\n",
      "[Iteration 1 / 1200] TRAIN loss: 2.826853\n",
      "[Iteration 51 / 1200] TRAIN loss: 2.453302\n",
      "[Iteration 101 / 1200] TRAIN loss: 2.347269\n",
      "[Iteration 151 / 1200] TRAIN loss: 2.345220\n",
      "[Epoch 1 / 6] TRAIN acc: 14.945000\n"
     ]
    },
    {
     "name": "stderr",
     "output_type": "stream",
     "text": [
      "\r",
      " 17%|█▋        | 1/6 [03:27<17:19, 207.95s/it]"
     ]
    },
    {
     "name": "stdout",
     "output_type": "stream",
     "text": [
      "[Epoch 1 / 6] VAL acc: 6.215054\n",
      "[Iteration 201 / 1200] TRAIN loss: 2.007846\n",
      "[Iteration 251 / 1200] TRAIN loss: 2.145365\n",
      "[Iteration 301 / 1200] TRAIN loss: 1.942288\n",
      "[Iteration 351 / 1200] TRAIN loss: 1.968517\n",
      "[Epoch 2 / 6] TRAIN acc: 22.445000\n"
     ]
    },
    {
     "name": "stderr",
     "output_type": "stream",
     "text": [
      "\r",
      " 33%|███▎      | 2/6 [06:56<13:52, 208.08s/it]"
     ]
    },
    {
     "name": "stdout",
     "output_type": "stream",
     "text": [
      "[Epoch 2 / 6] VAL acc: 7.000000\n",
      "[Iteration 401 / 1200] TRAIN loss: 1.898111\n",
      "[Iteration 451 / 1200] TRAIN loss: 1.925850\n",
      "[Iteration 501 / 1200] TRAIN loss: 1.717878\n",
      "[Iteration 551 / 1200] TRAIN loss: 1.623069\n",
      "[Epoch 3 / 6] TRAIN acc: 26.440000\n"
     ]
    },
    {
     "name": "stderr",
     "output_type": "stream",
     "text": [
      "\r",
      " 50%|█████     | 3/6 [10:24<10:24, 208.12s/it]"
     ]
    },
    {
     "name": "stdout",
     "output_type": "stream",
     "text": [
      "[Epoch 3 / 6] VAL acc: 6.827957\n",
      "[Iteration 601 / 1200] TRAIN loss: 1.654652\n",
      "[Iteration 651 / 1200] TRAIN loss: 1.575472\n",
      "[Iteration 701 / 1200] TRAIN loss: 1.933159\n",
      "[Iteration 751 / 1200] TRAIN loss: 1.428998\n",
      "[Epoch 4 / 6] TRAIN acc: 30.335000\n"
     ]
    },
    {
     "name": "stderr",
     "output_type": "stream",
     "text": [
      "\r",
      " 67%|██████▋   | 4/6 [13:52<06:56, 208.14s/it]"
     ]
    },
    {
     "name": "stdout",
     "output_type": "stream",
     "text": [
      "[Epoch 4 / 6] VAL acc: 7.451613\n",
      "[Iteration 801 / 1200] TRAIN loss: 1.430384\n",
      "[Iteration 851 / 1200] TRAIN loss: 1.558812\n",
      "[Iteration 901 / 1200] TRAIN loss: 1.438904\n",
      "[Iteration 951 / 1200] TRAIN loss: 1.673501\n",
      "[Epoch 5 / 6] TRAIN acc: 32.815000\n"
     ]
    },
    {
     "name": "stderr",
     "output_type": "stream",
     "text": [
      "\r",
      " 83%|████████▎ | 5/6 [17:20<03:28, 208.19s/it]"
     ]
    },
    {
     "name": "stdout",
     "output_type": "stream",
     "text": [
      "[Epoch 5 / 6] VAL acc: 7.021505\n",
      "[Iteration 1001 / 1200] TRAIN loss: 1.281517\n",
      "[Iteration 1051 / 1200] TRAIN loss: 1.465426\n",
      "[Iteration 1101 / 1200] TRAIN loss: 1.372707\n",
      "[Iteration 1151 / 1200] TRAIN loss: 1.478959\n",
      "[Epoch 6 / 6] TRAIN acc: 36.890000\n"
     ]
    },
    {
     "name": "stderr",
     "output_type": "stream",
     "text": [
      "100%|██████████| 6/6 [20:49<00:00, 208.22s/it]\n",
      "  0%|          | 0/124 [00:00<?, ?it/s]"
     ]
    },
    {
     "name": "stdout",
     "output_type": "stream",
     "text": [
      "[Epoch 6 / 6] VAL acc: 7.096774\n",
      "Trained in 1249 seconds.\n",
      "FINISH.\n"
     ]
    },
    {
     "name": "stderr",
     "output_type": "stream",
     "text": [
      "100%|██████████| 124/124 [00:19<00:00,  6.30it/s]\n",
      "  0%|          | 5/12386 [00:00<04:17, 47.99it/s]"
     ]
    },
    {
     "name": "stdout",
     "output_type": "stream",
     "text": [
      "0.356547458994\n",
      "submissions/res18_0.35655_TOWGJHY.csv\n",
      "'age'\n",
      "'gender'\n",
      "'view_position'\n",
      "'image_name'\n"
     ]
    },
    {
     "name": "stderr",
     "output_type": "stream",
     "text": [
      "100%|██████████| 12386/12386 [03:32<00:00, 58.38it/s]\n"
     ]
    },
    {
     "name": "stdout",
     "output_type": "stream",
     "text": [
      "   23 | 24m45s | \u001b[35m   0.35655\u001b[0m | \u001b[32m     65.3529\u001b[0m | \u001b[32m   0.6154\u001b[0m | \u001b[32m    9.3893\u001b[0m | \u001b[32m  -5.4696\u001b[0m | \u001b[32m      6.8842\u001b[0m | \u001b[32m              5.1405\u001b[0m | \u001b[32m           -3.9585\u001b[0m | \n",
      "weights: [0.079789581891864733, 0.064757278350021791, 0.021985008591674442, 0.046819434893280693, 0.034285715181341145, 0.045617096211309868, 0.033286498891162593, 0.084368991559831519, 0.1984126984126984, 0.11696554459257208, 0.058902009005553535, 0.040380819765943078, 0.063327882303826827, 0.071626475434638417]\n",
      "equivalent_num:\n",
      "24.1762433132\n",
      "29.788348041\n",
      "87.7421692894\n",
      "41.2011027061\n",
      "56.2628586126\n",
      "42.2870481879\n",
      "57.9517945695\n",
      "22.8639967127\n",
      "9.72222222222\n",
      "16.4921417876\n",
      "32.7495170071\n",
      "47.7705097831\n",
      "30.4607113881\n",
      "26.9315547634\n"
     ]
    },
    {
     "name": "stderr",
     "output_type": "stream",
     "text": [
      "\r",
      "  0%|          | 0/8 [00:00<?, ?it/s]"
     ]
    },
    {
     "name": "stdout",
     "output_type": "stream",
     "text": [
      "START TRAIN.\n",
      "[Iteration 1 / 1928] TRAIN loss: 2.932318\n",
      "[Iteration 51 / 1928] TRAIN loss: 2.995872\n",
      "[Iteration 101 / 1928] TRAIN loss: 2.361927\n",
      "[Iteration 151 / 1928] TRAIN loss: 2.518476\n",
      "[Iteration 201 / 1928] TRAIN loss: 2.534382\n",
      "[Epoch 1 / 8] TRAIN acc: 8.414938\n"
     ]
    },
    {
     "name": "stderr",
     "output_type": "stream",
     "text": [
      "\r",
      " 12%|█▎        | 1/8 [03:20<23:26, 200.92s/it]"
     ]
    },
    {
     "name": "stdout",
     "output_type": "stream",
     "text": [
      "[Epoch 1 / 8] VAL acc: 6.032258\n",
      "[Iteration 251 / 1928] TRAIN loss: 2.554193\n",
      "[Iteration 301 / 1928] TRAIN loss: 2.537931\n",
      "[Iteration 351 / 1928] TRAIN loss: 2.499000\n",
      "[Iteration 401 / 1928] TRAIN loss: 2.535650\n",
      "[Iteration 451 / 1928] TRAIN loss: 2.444194\n",
      "[Epoch 2 / 8] TRAIN acc: 8.995851\n"
     ]
    },
    {
     "name": "stderr",
     "output_type": "stream",
     "text": [
      "\r",
      " 25%|██▌       | 2/8 [06:42<20:06, 201.14s/it]"
     ]
    },
    {
     "name": "stdout",
     "output_type": "stream",
     "text": [
      "[Epoch 2 / 8] VAL acc: 6.053763\n",
      "[Iteration 501 / 1928] TRAIN loss: 2.648427\n",
      "[Iteration 551 / 1928] TRAIN loss: 2.498466\n",
      "[Iteration 601 / 1928] TRAIN loss: 2.433343\n",
      "[Iteration 651 / 1928] TRAIN loss: 2.614532\n",
      "[Iteration 701 / 1928] TRAIN loss: 2.358687\n",
      "[Epoch 3 / 8] TRAIN acc: 9.161826\n"
     ]
    },
    {
     "name": "stderr",
     "output_type": "stream",
     "text": [
      "\r",
      " 38%|███▊      | 3/8 [10:04<16:46, 201.40s/it]"
     ]
    },
    {
     "name": "stdout",
     "output_type": "stream",
     "text": [
      "[Epoch 3 / 8] VAL acc: 5.870968\n",
      "[Iteration 751 / 1928] TRAIN loss: 2.495041\n",
      "[Iteration 801 / 1928] TRAIN loss: 2.452325\n",
      "[Iteration 851 / 1928] TRAIN loss: 2.473004\n",
      "[Iteration 901 / 1928] TRAIN loss: 2.610410\n",
      "[Iteration 951 / 1928] TRAIN loss: 2.270148\n",
      "[Epoch 4 / 8] TRAIN acc: 9.078838\n"
     ]
    },
    {
     "name": "stderr",
     "output_type": "stream",
     "text": [
      "\r",
      " 50%|█████     | 4/8 [13:26<13:26, 201.60s/it]"
     ]
    },
    {
     "name": "stdout",
     "output_type": "stream",
     "text": [
      "[Epoch 4 / 8] VAL acc: 5.752688\n",
      "[Iteration 1001 / 1928] TRAIN loss: 2.421617\n",
      "[Iteration 1051 / 1928] TRAIN loss: 2.442092\n",
      "[Iteration 1101 / 1928] TRAIN loss: 2.494545\n",
      "[Iteration 1151 / 1928] TRAIN loss: 2.354573\n",
      "[Iteration 1201 / 1928] TRAIN loss: 2.414876\n",
      "[Epoch 5 / 8] TRAIN acc: 9.132780\n"
     ]
    },
    {
     "name": "stderr",
     "output_type": "stream",
     "text": [
      "\r",
      " 62%|██████▎   | 5/8 [16:48<10:05, 201.79s/it]"
     ]
    },
    {
     "name": "stdout",
     "output_type": "stream",
     "text": [
      "[Epoch 5 / 8] VAL acc: 6.053763\n",
      "[Iteration 1251 / 1928] TRAIN loss: 2.607839\n",
      "[Iteration 1301 / 1928] TRAIN loss: 2.422198\n",
      "[Iteration 1351 / 1928] TRAIN loss: 2.563539\n",
      "[Iteration 1401 / 1928] TRAIN loss: 2.480550\n",
      "[Epoch 6 / 8] TRAIN acc: 9.248963\n"
     ]
    },
    {
     "name": "stderr",
     "output_type": "stream",
     "text": [
      "\r",
      " 75%|███████▌  | 6/8 [20:11<06:43, 201.86s/it]"
     ]
    },
    {
     "name": "stdout",
     "output_type": "stream",
     "text": [
      "[Epoch 6 / 8] VAL acc: 4.892473\n",
      "[Iteration 1451 / 1928] TRAIN loss: 2.528933\n",
      "[Iteration 1501 / 1928] TRAIN loss: 2.318431\n",
      "[Iteration 1551 / 1928] TRAIN loss: 2.329705\n",
      "[Iteration 1601 / 1928] TRAIN loss: 2.501364\n",
      "[Iteration 1651 / 1928] TRAIN loss: 2.277963\n",
      "[Epoch 7 / 8] TRAIN acc: 9.290456\n"
     ]
    },
    {
     "name": "stderr",
     "output_type": "stream",
     "text": [
      "\r",
      " 88%|████████▊ | 7/8 [23:33<03:21, 201.96s/it]"
     ]
    },
    {
     "name": "stdout",
     "output_type": "stream",
     "text": [
      "[Epoch 7 / 8] VAL acc: 3.193548\n",
      "[Iteration 1701 / 1928] TRAIN loss: 2.271882\n",
      "[Iteration 1751 / 1928] TRAIN loss: 2.418560\n",
      "[Iteration 1801 / 1928] TRAIN loss: 2.531884\n",
      "[Iteration 1851 / 1928] TRAIN loss: 2.657863\n",
      "[Iteration 1901 / 1928] TRAIN loss: 2.448743\n",
      "[Epoch 8 / 8] TRAIN acc: 9.858921\n"
     ]
    },
    {
     "name": "stderr",
     "output_type": "stream",
     "text": [
      "100%|██████████| 8/8 [26:56<00:00, 202.03s/it]\n",
      "  0%|          | 0/124 [00:00<?, ?it/s]"
     ]
    },
    {
     "name": "stdout",
     "output_type": "stream",
     "text": [
      "[Epoch 8 / 8] VAL acc: 5.139785\n",
      "Trained in 1616 seconds.\n",
      "FINISH.\n"
     ]
    },
    {
     "name": "stderr",
     "output_type": "stream",
     "text": [
      "100%|██████████| 124/124 [00:19<00:00,  6.38it/s]\n"
     ]
    },
    {
     "name": "stdout",
     "output_type": "stream",
     "text": [
      "0.255982791073\n",
      "   24 | 27m36s |    0.25598 |      54.2123 |    0.5000 |    10.0000 |   -3.0000 |       8.0000 |               1.0000 |            -6.0000 | \n",
      "weights: [0.079789581891864733, 0.064757278350021791, 0.021985008591674442, 0.046819434893280693, 0.034285715181341145, 0.045617096211309868, 0.033286498891162593, 0.084368991559831519, 0.1984126984126984, 0.11696554459257208, 0.058902009005553535, 0.040380819765943078, 0.063327882303826827, 0.071626475434638417]\n",
      "equivalent_num:\n",
      "24.1762433132\n",
      "29.788348041\n",
      "87.7421692894\n",
      "41.2011027061\n",
      "56.2628586126\n",
      "42.2870481879\n",
      "57.9517945695\n",
      "22.8639967127\n",
      "9.72222222222\n",
      "16.4921417876\n",
      "32.7495170071\n",
      "47.7705097831\n",
      "30.4607113881\n",
      "26.9315547634\n"
     ]
    },
    {
     "name": "stderr",
     "output_type": "stream",
     "text": [
      "\r",
      "  0%|          | 0/8 [00:00<?, ?it/s]"
     ]
    },
    {
     "name": "stdout",
     "output_type": "stream",
     "text": [
      "START TRAIN.\n",
      "[Iteration 1 / 1488] TRAIN loss: 2.904560\n",
      "[Iteration 51 / 1488] TRAIN loss: 2.563468\n",
      "[Iteration 101 / 1488] TRAIN loss: 2.212837\n",
      "[Iteration 151 / 1488] TRAIN loss: 2.254259\n",
      "[Epoch 1 / 8] TRAIN acc: 13.338710\n"
     ]
    },
    {
     "name": "stderr",
     "output_type": "stream",
     "text": [
      "\r",
      " 12%|█▎        | 1/8 [03:21<23:33, 201.97s/it]"
     ]
    },
    {
     "name": "stdout",
     "output_type": "stream",
     "text": [
      "[Epoch 1 / 8] VAL acc: 5.344086\n",
      "[Iteration 201 / 1488] TRAIN loss: 2.279436\n",
      "[Iteration 251 / 1488] TRAIN loss: 2.264028\n",
      "[Iteration 301 / 1488] TRAIN loss: 2.285084\n",
      "[Iteration 351 / 1488] TRAIN loss: 2.353995\n",
      "[Epoch 2 / 8] TRAIN acc: 17.817204\n"
     ]
    },
    {
     "name": "stderr",
     "output_type": "stream",
     "text": [
      "\r",
      " 25%|██▌       | 2/8 [06:44<20:12, 202.11s/it]"
     ]
    },
    {
     "name": "stdout",
     "output_type": "stream",
     "text": [
      "[Epoch 2 / 8] VAL acc: 5.365591\n",
      "[Iteration 401 / 1488] TRAIN loss: 2.321495\n",
      "[Iteration 451 / 1488] TRAIN loss: 2.014743\n",
      "[Iteration 501 / 1488] TRAIN loss: 2.388770\n",
      "[Iteration 551 / 1488] TRAIN loss: 2.190177\n",
      "[Epoch 3 / 8] TRAIN acc: 20.268817\n"
     ]
    },
    {
     "name": "stderr",
     "output_type": "stream",
     "text": [
      "\r",
      " 38%|███▊      | 3/8 [10:06<16:50, 202.07s/it]"
     ]
    },
    {
     "name": "stdout",
     "output_type": "stream",
     "text": [
      "[Epoch 3 / 8] VAL acc: 5.440860\n",
      "[Iteration 601 / 1488] TRAIN loss: 2.030438\n",
      "[Iteration 651 / 1488] TRAIN loss: 2.039123\n",
      "[Iteration 701 / 1488] TRAIN loss: 2.176869\n",
      "[Epoch 4 / 8] TRAIN acc: 22.489247\n"
     ]
    },
    {
     "name": "stderr",
     "output_type": "stream",
     "text": [
      "\r",
      " 50%|█████     | 4/8 [13:28<13:28, 202.08s/it]"
     ]
    },
    {
     "name": "stdout",
     "output_type": "stream",
     "text": [
      "[Epoch 4 / 8] VAL acc: 5.731183\n",
      "[Iteration 751 / 1488] TRAIN loss: 2.127946\n",
      "[Iteration 801 / 1488] TRAIN loss: 2.099949\n",
      "[Iteration 851 / 1488] TRAIN loss: 1.937636\n",
      "[Iteration 901 / 1488] TRAIN loss: 1.959993\n",
      "[Epoch 5 / 8] TRAIN acc: 23.489247\n"
     ]
    },
    {
     "name": "stderr",
     "output_type": "stream",
     "text": [
      "\r",
      " 62%|██████▎   | 5/8 [16:50<10:06, 202.06s/it]"
     ]
    },
    {
     "name": "stdout",
     "output_type": "stream",
     "text": [
      "[Epoch 5 / 8] VAL acc: 6.526882\n",
      "[Iteration 951 / 1488] TRAIN loss: 1.935356\n",
      "[Iteration 1001 / 1488] TRAIN loss: 1.786304\n",
      "[Iteration 1051 / 1488] TRAIN loss: 2.272327\n",
      "[Iteration 1101 / 1488] TRAIN loss: 2.022144\n",
      "[Epoch 6 / 8] TRAIN acc: 25.188172\n"
     ]
    },
    {
     "name": "stderr",
     "output_type": "stream",
     "text": [
      "\r",
      " 75%|███████▌  | 6/8 [20:12<06:44, 202.06s/it]"
     ]
    },
    {
     "name": "stdout",
     "output_type": "stream",
     "text": [
      "[Epoch 6 / 8] VAL acc: 6.451613\n",
      "[Iteration 1151 / 1488] TRAIN loss: 1.980652\n",
      "[Iteration 1201 / 1488] TRAIN loss: 1.649266\n",
      "[Iteration 1251 / 1488] TRAIN loss: 1.878229\n",
      "[Iteration 1301 / 1488] TRAIN loss: 1.690796\n",
      "[Epoch 7 / 8] TRAIN acc: 26.037634\n"
     ]
    },
    {
     "name": "stderr",
     "output_type": "stream",
     "text": [
      "\r",
      " 88%|████████▊ | 7/8 [23:34<03:22, 202.05s/it]"
     ]
    },
    {
     "name": "stdout",
     "output_type": "stream",
     "text": [
      "[Epoch 7 / 8] VAL acc: 7.236559\n",
      "[Iteration 1351 / 1488] TRAIN loss: 1.751436\n",
      "[Iteration 1401 / 1488] TRAIN loss: 1.905937\n",
      "[Iteration 1451 / 1488] TRAIN loss: 1.720786\n",
      "[Epoch 8 / 8] TRAIN acc: 26.967742\n"
     ]
    },
    {
     "name": "stderr",
     "output_type": "stream",
     "text": [
      "100%|██████████| 8/8 [26:56<00:00, 202.01s/it]\n",
      "  0%|          | 0/124 [00:00<?, ?it/s]"
     ]
    },
    {
     "name": "stdout",
     "output_type": "stream",
     "text": [
      "[Epoch 8 / 8] VAL acc: 6.010753\n",
      "Trained in 1616 seconds.\n",
      "FINISH.\n"
     ]
    },
    {
     "name": "stderr",
     "output_type": "stream",
     "text": [
      "100%|██████████| 124/124 [00:19<00:00,  6.27it/s]\n"
     ]
    },
    {
     "name": "stdout",
     "output_type": "stream",
     "text": [
      "0.307340682979\n",
      "   25 | 27m36s |    0.30734 |      70.1297 |    0.5000 |     1.0000 |   -3.0000 |       8.0000 |               1.0000 |            -6.0000 | \n",
      "weights: [0.079789581891864733, 0.064757278350021791, 0.021985008591674442, 0.046819434893280693, 0.034285715181341145, 0.045617096211309868, 0.033286498891162593, 0.084368991559831519, 0.1984126984126984, 0.11696554459257208, 0.058902009005553535, 0.040380819765943078, 0.063327882303826827, 0.071626475434638417]\n",
      "equivalent_num:\n",
      "24.1762433132\n",
      "29.788348041\n",
      "87.7421692894\n",
      "41.2011027061\n",
      "56.2628586126\n",
      "42.2870481879\n",
      "57.9517945695\n",
      "22.8639967127\n",
      "9.72222222222\n",
      "16.4921417876\n",
      "32.7495170071\n",
      "47.7705097831\n",
      "30.4607113881\n",
      "26.9315547634\n"
     ]
    },
    {
     "name": "stderr",
     "output_type": "stream",
     "text": [
      "\r",
      "  0%|          | 0/2 [00:00<?, ?it/s]"
     ]
    },
    {
     "name": "stdout",
     "output_type": "stream",
     "text": [
      "START TRAIN.\n",
      "[Iteration 1 / 414] TRAIN loss: 2.967119\n",
      "[Iteration 51 / 414] TRAIN loss: 3.032905\n",
      "[Iteration 101 / 414] TRAIN loss: 2.989622\n",
      "[Iteration 151 / 414] TRAIN loss: 2.856428\n",
      "[Iteration 201 / 414] TRAIN loss: 2.763061\n",
      "[Epoch 1 / 2] TRAIN acc: 1.913043\n"
     ]
    },
    {
     "name": "stderr",
     "output_type": "stream",
     "text": [
      "\r",
      " 50%|█████     | 1/2 [03:07<03:07, 187.80s/it]"
     ]
    },
    {
     "name": "stdout",
     "output_type": "stream",
     "text": [
      "[Epoch 1 / 2] VAL acc: 0.473118\n",
      "[Iteration 251 / 414] TRAIN loss: 2.935909\n",
      "[Iteration 301 / 414] TRAIN loss: 2.740817\n",
      "[Iteration 351 / 414] TRAIN loss: 2.704080\n",
      "[Iteration 401 / 414] TRAIN loss: 2.732272\n",
      "[Epoch 2 / 2] TRAIN acc: 2.623188\n"
     ]
    },
    {
     "name": "stderr",
     "output_type": "stream",
     "text": [
      "100%|██████████| 2/2 [06:16<00:00, 188.10s/it]\n",
      "  0%|          | 0/124 [00:00<?, ?it/s]"
     ]
    },
    {
     "name": "stdout",
     "output_type": "stream",
     "text": [
      "[Epoch 2 / 2] VAL acc: 0.838710\n",
      "Trained in 376 seconds.\n",
      "FINISH.\n"
     ]
    },
    {
     "name": "stderr",
     "output_type": "stream",
     "text": [
      "100%|██████████| 124/124 [00:19<00:00,  6.30it/s]\n"
     ]
    },
    {
     "name": "stdout",
     "output_type": "stream",
     "text": [
      "0.0360311911804\n",
      "   26 | 06m56s |    0.03603 |      63.6942 |    0.5000 |    10.0000 |   -7.0000 |       2.0000 |               1.0000 |            -6.0000 | \n",
      "weights: [0.079789581891864733, 0.064757278350021791, 0.021985008591674442, 0.046819434893280693, 0.034285715181341145, 0.045617096211309868, 0.033286498891162593, 0.084368991559831519, 0.1984126984126984, 0.11696554459257208, 0.058902009005553535, 0.040380819765943078, 0.063327882303826827, 0.071626475434638417]\n",
      "equivalent_num:\n",
      "24.1762433132\n",
      "29.788348041\n",
      "87.7421692894\n",
      "41.2011027061\n",
      "56.2628586126\n",
      "42.2870481879\n",
      "57.9517945695\n",
      "22.8639967127\n",
      "9.72222222222\n",
      "16.4921417876\n",
      "32.7495170071\n",
      "47.7705097831\n",
      "30.4607113881\n",
      "26.9315547634\n"
     ]
    },
    {
     "name": "stderr",
     "output_type": "stream",
     "text": [
      "\r",
      "  0%|          | 0/8 [00:00<?, ?it/s]"
     ]
    },
    {
     "name": "stdout",
     "output_type": "stream",
     "text": [
      "START TRAIN.\n",
      "[Iteration 1 / 2816] TRAIN loss: 2.623706\n",
      "[Iteration 51 / 2816] TRAIN loss: 2.514806\n",
      "[Iteration 101 / 2816] TRAIN loss: 2.550459\n",
      "[Iteration 151 / 2816] TRAIN loss: 2.703368\n",
      "[Iteration 201 / 2816] TRAIN loss: 2.623332\n",
      "[Iteration 251 / 2816] TRAIN loss: 2.661060\n",
      "[Iteration 301 / 2816] TRAIN loss: 2.872534\n",
      "[Iteration 351 / 2816] TRAIN loss: 2.551377\n",
      "[Epoch 1 / 8] TRAIN acc: 5.920455\n"
     ]
    },
    {
     "name": "stderr",
     "output_type": "stream",
     "text": [
      "\r",
      " 12%|█▎        | 1/8 [03:47<26:30, 227.28s/it]"
     ]
    },
    {
     "name": "stdout",
     "output_type": "stream",
     "text": [
      "[Epoch 1 / 8] VAL acc: 1.451613\n",
      "[Iteration 401 / 2816] TRAIN loss: 2.631450\n",
      "[Iteration 451 / 2816] TRAIN loss: 2.378174\n",
      "[Iteration 501 / 2816] TRAIN loss: 2.388092\n",
      "[Iteration 551 / 2816] TRAIN loss: 2.448026\n",
      "[Iteration 601 / 2816] TRAIN loss: 2.586024\n",
      "[Iteration 651 / 2816] TRAIN loss: 2.523834\n",
      "[Iteration 701 / 2816] TRAIN loss: 2.652640\n",
      "[Epoch 2 / 8] TRAIN acc: 6.082386\n"
     ]
    },
    {
     "name": "stderr",
     "output_type": "stream",
     "text": [
      "\r",
      " 25%|██▌       | 2/8 [07:30<22:32, 225.49s/it]"
     ]
    },
    {
     "name": "stdout",
     "output_type": "stream",
     "text": [
      "[Epoch 2 / 8] VAL acc: 6.053763\n",
      "[Iteration 751 / 2816] TRAIN loss: 2.537470\n",
      "[Iteration 801 / 2816] TRAIN loss: 2.437042\n",
      "[Iteration 851 / 2816] TRAIN loss: 2.550600\n",
      "[Iteration 901 / 2816] TRAIN loss: 2.349020\n",
      "[Iteration 951 / 2816] TRAIN loss: 2.553803\n",
      "[Iteration 1001 / 2816] TRAIN loss: 2.543163\n",
      "[Iteration 1051 / 2816] TRAIN loss: 2.507004\n",
      "[Epoch 3 / 8] TRAIN acc: 6.022727\n"
     ]
    },
    {
     "name": "stderr",
     "output_type": "stream",
     "text": [
      "\r",
      " 38%|███▊      | 3/8 [11:10<18:37, 223.47s/it]"
     ]
    },
    {
     "name": "stdout",
     "output_type": "stream",
     "text": [
      "[Epoch 3 / 8] VAL acc: 6.053763\n",
      "[Iteration 1101 / 2816] TRAIN loss: 2.556884\n",
      "[Iteration 1151 / 2816] TRAIN loss: 2.518359\n",
      "[Iteration 1201 / 2816] TRAIN loss: 2.511949\n",
      "[Iteration 1251 / 2816] TRAIN loss: 2.531260\n",
      "[Iteration 1301 / 2816] TRAIN loss: 2.471402\n",
      "[Iteration 1351 / 2816] TRAIN loss: 2.466131\n",
      "[Iteration 1401 / 2816] TRAIN loss: 2.494461\n",
      "[Epoch 4 / 8] TRAIN acc: 6.232955\n"
     ]
    },
    {
     "name": "stderr",
     "output_type": "stream",
     "text": [
      "\r",
      " 50%|█████     | 4/8 [14:47<14:47, 221.86s/it]"
     ]
    },
    {
     "name": "stdout",
     "output_type": "stream",
     "text": [
      "[Epoch 4 / 8] VAL acc: 6.053763\n",
      "[Iteration 1451 / 2816] TRAIN loss: 2.584007\n",
      "[Iteration 1501 / 2816] TRAIN loss: 2.398577\n",
      "[Iteration 1551 / 2816] TRAIN loss: 2.496272\n",
      "[Iteration 1601 / 2816] TRAIN loss: 2.496203\n",
      "[Iteration 1651 / 2816] TRAIN loss: 2.514315\n",
      "[Iteration 1701 / 2816] TRAIN loss: 2.460159\n",
      "[Iteration 1751 / 2816] TRAIN loss: 2.554986\n",
      "[Epoch 5 / 8] TRAIN acc: 6.196023\n"
     ]
    },
    {
     "name": "stderr",
     "output_type": "stream",
     "text": [
      "\r",
      " 62%|██████▎   | 5/8 [18:22<11:01, 220.43s/it]"
     ]
    },
    {
     "name": "stdout",
     "output_type": "stream",
     "text": [
      "[Epoch 5 / 8] VAL acc: 6.053763\n",
      "[Iteration 1801 / 2816] TRAIN loss: 2.512160\n",
      "[Iteration 1851 / 2816] TRAIN loss: 2.528252\n",
      "[Iteration 1901 / 2816] TRAIN loss: 2.471665\n",
      "[Iteration 1951 / 2816] TRAIN loss: 2.510798\n",
      "[Iteration 2001 / 2816] TRAIN loss: 2.473321\n",
      "[Iteration 2051 / 2816] TRAIN loss: 2.524444\n",
      "[Iteration 2101 / 2816] TRAIN loss: 2.531072\n",
      "[Epoch 6 / 8] TRAIN acc: 6.102273\n"
     ]
    },
    {
     "name": "stderr",
     "output_type": "stream",
     "text": [
      "\r",
      " 75%|███████▌  | 6/8 [21:54<07:18, 219.15s/it]"
     ]
    },
    {
     "name": "stdout",
     "output_type": "stream",
     "text": [
      "[Epoch 6 / 8] VAL acc: 6.053763\n",
      "[Iteration 2151 / 2816] TRAIN loss: 2.517626\n",
      "[Iteration 2201 / 2816] TRAIN loss: 2.515478\n",
      "[Iteration 2251 / 2816] TRAIN loss: 2.576569\n",
      "[Iteration 2301 / 2816] TRAIN loss: 2.508897\n",
      "[Iteration 2351 / 2816] TRAIN loss: 2.577747\n",
      "[Iteration 2401 / 2816] TRAIN loss: 2.526417\n",
      "[Iteration 2451 / 2816] TRAIN loss: 2.496022\n",
      "[Epoch 7 / 8] TRAIN acc: 6.073864\n"
     ]
    },
    {
     "name": "stderr",
     "output_type": "stream",
     "text": [
      "\r",
      " 88%|████████▊ | 7/8 [25:24<03:37, 217.85s/it]"
     ]
    },
    {
     "name": "stdout",
     "output_type": "stream",
     "text": [
      "[Epoch 7 / 8] VAL acc: 6.053763\n",
      "[Iteration 2501 / 2816] TRAIN loss: 2.498681\n",
      "[Iteration 2551 / 2816] TRAIN loss: 2.444321\n",
      "[Iteration 2601 / 2816] TRAIN loss: 2.506046\n",
      "[Iteration 2651 / 2816] TRAIN loss: 2.482560\n",
      "[Iteration 2701 / 2816] TRAIN loss: 2.481965\n",
      "[Iteration 2751 / 2816] TRAIN loss: 2.630894\n",
      "[Iteration 2801 / 2816] TRAIN loss: 2.498196\n",
      "[Epoch 8 / 8] TRAIN acc: 6.068182\n"
     ]
    },
    {
     "name": "stderr",
     "output_type": "stream",
     "text": [
      "100%|██████████| 8/8 [28:53<00:00, 216.64s/it]\n",
      "  0%|          | 0/124 [00:00<?, ?it/s]"
     ]
    },
    {
     "name": "stdout",
     "output_type": "stream",
     "text": [
      "[Epoch 8 / 8] VAL acc: 6.053763\n",
      "Trained in 1733 seconds.\n",
      "FINISH.\n"
     ]
    },
    {
     "name": "stderr",
     "output_type": "stream",
     "text": [
      "100%|██████████| 124/124 [00:18<00:00,  6.79it/s]\n"
     ]
    },
    {
     "name": "stdout",
     "output_type": "stream",
     "text": [
      "0.315676257058\n",
      "   27 | 29m32s |    0.31568 |      37.5347 |    0.5000 |     1.0000 |   -3.0000 |       8.0000 |               1.0000 |            -1.0000 | \n",
      "weights: [0.079789581891864733, 0.064757278350021791, 0.021985008591674442, 0.046819434893280693, 0.034285715181341145, 0.045617096211309868, 0.033286498891162593, 0.084368991559831519, 0.1984126984126984, 0.11696554459257208, 0.058902009005553535, 0.040380819765943078, 0.063327882303826827, 0.071626475434638417]\n",
      "equivalent_num:\n",
      "24.1762433132\n",
      "29.788348041\n",
      "87.7421692894\n",
      "41.2011027061\n",
      "56.2628586126\n",
      "42.2870481879\n",
      "57.9517945695\n",
      "22.8639967127\n",
      "9.72222222222\n",
      "16.4921417876\n",
      "32.7495170071\n",
      "47.7705097831\n",
      "30.4607113881\n",
      "26.9315547634\n"
     ]
    },
    {
     "name": "stderr",
     "output_type": "stream",
     "text": [
      "\r",
      "  0%|          | 0/8 [00:00<?, ?it/s]"
     ]
    },
    {
     "name": "stdout",
     "output_type": "stream",
     "text": [
      "START TRAIN.\n",
      "[Iteration 1 / 1600] TRAIN loss: 2.651624\n",
      "[Iteration 51 / 1600] TRAIN loss: 2.505238\n",
      "[Iteration 101 / 1600] TRAIN loss: 2.535326\n",
      "[Iteration 151 / 1600] TRAIN loss: 2.462185\n",
      "[Epoch 1 / 8] TRAIN acc: 10.185000\n"
     ]
    },
    {
     "name": "stderr",
     "output_type": "stream",
     "text": [
      "\r",
      " 12%|█▎        | 1/8 [03:27<24:09, 207.11s/it]"
     ]
    },
    {
     "name": "stdout",
     "output_type": "stream",
     "text": [
      "[Epoch 1 / 8] VAL acc: 6.053763\n",
      "[Iteration 201 / 1600] TRAIN loss: 2.540990\n",
      "[Iteration 251 / 1600] TRAIN loss: 2.521566\n",
      "[Iteration 301 / 1600] TRAIN loss: 2.542422\n",
      "[Iteration 351 / 1600] TRAIN loss: 2.439902\n",
      "[Epoch 2 / 8] TRAIN acc: 10.795000\n"
     ]
    },
    {
     "name": "stderr",
     "output_type": "stream",
     "text": [
      "\r",
      " 25%|██▌       | 2/8 [06:52<20:38, 206.40s/it]"
     ]
    },
    {
     "name": "stdout",
     "output_type": "stream",
     "text": [
      "[Epoch 2 / 8] VAL acc: 6.053763\n",
      "[Iteration 401 / 1600] TRAIN loss: 2.533566\n",
      "[Iteration 451 / 1600] TRAIN loss: 2.558316\n",
      "[Iteration 501 / 1600] TRAIN loss: 2.537477\n",
      "[Iteration 551 / 1600] TRAIN loss: 2.480043\n",
      "[Epoch 3 / 8] TRAIN acc: 10.870000\n"
     ]
    },
    {
     "name": "stderr",
     "output_type": "stream",
     "text": [
      "\r",
      " 38%|███▊      | 3/8 [10:16<17:06, 205.34s/it]"
     ]
    },
    {
     "name": "stdout",
     "output_type": "stream",
     "text": [
      "[Epoch 3 / 8] VAL acc: 6.053763\n",
      "[Iteration 601 / 1600] TRAIN loss: 2.517336\n",
      "[Iteration 651 / 1600] TRAIN loss: 2.586101\n",
      "[Iteration 701 / 1600] TRAIN loss: 2.631177\n",
      "[Iteration 751 / 1600] TRAIN loss: 2.497648\n",
      "[Epoch 4 / 8] TRAIN acc: 11.150000\n"
     ]
    },
    {
     "name": "stderr",
     "output_type": "stream",
     "text": [
      "\r",
      " 50%|█████     | 4/8 [13:38<13:38, 204.67s/it]"
     ]
    },
    {
     "name": "stdout",
     "output_type": "stream",
     "text": [
      "[Epoch 4 / 8] VAL acc: 6.053763\n",
      "[Iteration 801 / 1600] TRAIN loss: 2.590761\n",
      "[Iteration 851 / 1600] TRAIN loss: 2.576841\n",
      "[Iteration 901 / 1600] TRAIN loss: 2.575303\n",
      "[Iteration 951 / 1600] TRAIN loss: 2.530326\n",
      "[Epoch 5 / 8] TRAIN acc: 10.700000\n"
     ]
    },
    {
     "name": "stderr",
     "output_type": "stream",
     "text": [
      "\r",
      " 62%|██████▎   | 5/8 [17:00<10:12, 204.05s/it]"
     ]
    },
    {
     "name": "stdout",
     "output_type": "stream",
     "text": [
      "[Epoch 5 / 8] VAL acc: 6.053763\n",
      "[Iteration 1001 / 1600] TRAIN loss: 2.564589\n",
      "[Iteration 1051 / 1600] TRAIN loss: 2.542553\n",
      "[Iteration 1101 / 1600] TRAIN loss: 2.547382\n",
      "[Iteration 1151 / 1600] TRAIN loss: 2.520287\n",
      "[Epoch 6 / 8] TRAIN acc: 11.115000\n"
     ]
    },
    {
     "name": "stderr",
     "output_type": "stream",
     "text": [
      "\r",
      " 75%|███████▌  | 6/8 [20:20<06:46, 203.45s/it]"
     ]
    },
    {
     "name": "stdout",
     "output_type": "stream",
     "text": [
      "[Epoch 6 / 8] VAL acc: 6.053763\n",
      "[Iteration 1201 / 1600] TRAIN loss: 2.520641\n",
      "[Iteration 1251 / 1600] TRAIN loss: 2.562944\n",
      "[Iteration 1301 / 1600] TRAIN loss: 2.577303\n",
      "[Iteration 1351 / 1600] TRAIN loss: 2.594390\n",
      "[Epoch 7 / 8] TRAIN acc: 10.795000\n"
     ]
    },
    {
     "name": "stderr",
     "output_type": "stream",
     "text": [
      "\r",
      " 88%|████████▊ | 7/8 [23:39<03:22, 202.84s/it]"
     ]
    },
    {
     "name": "stdout",
     "output_type": "stream",
     "text": [
      "[Epoch 7 / 8] VAL acc: 6.053763\n",
      "[Iteration 1401 / 1600] TRAIN loss: 2.584368\n",
      "[Iteration 1451 / 1600] TRAIN loss: 2.602595\n",
      "[Iteration 1501 / 1600] TRAIN loss: 2.608682\n",
      "[Iteration 1551 / 1600] TRAIN loss: 2.621760\n",
      "[Epoch 8 / 8] TRAIN acc: 10.490000\n"
     ]
    },
    {
     "name": "stderr",
     "output_type": "stream",
     "text": [
      "100%|██████████| 8/8 [26:58<00:00, 202.26s/it]\n",
      "  0%|          | 0/124 [00:00<?, ?it/s]"
     ]
    },
    {
     "name": "stdout",
     "output_type": "stream",
     "text": [
      "[Epoch 8 / 8] VAL acc: 6.053763\n",
      "Trained in 1618 seconds.\n",
      "FINISH.\n"
     ]
    },
    {
     "name": "stderr",
     "output_type": "stream",
     "text": [
      "100%|██████████| 124/124 [00:18<00:00,  6.53it/s]\n"
     ]
    },
    {
     "name": "stdout",
     "output_type": "stream",
     "text": [
      "0.315676257058\n",
      "   28 | 27m39s |    0.31568 |      65.2089 |    0.5000 |     1.0000 |   -3.0000 |       8.0000 |              10.0000 |            -1.0000 | \n",
      "weights: [0.079789581891864733, 0.064757278350021791, 0.021985008591674442, 0.046819434893280693, 0.034285715181341145, 0.045617096211309868, 0.033286498891162593, 0.084368991559831519, 0.1984126984126984, 0.11696554459257208, 0.058902009005553535, 0.040380819765943078, 0.063327882303826827, 0.071626475434638417]\n",
      "equivalent_num:\n",
      "24.1762433132\n",
      "29.788348041\n",
      "87.7421692894\n",
      "41.2011027061\n",
      "56.2628586126\n",
      "42.2870481879\n",
      "57.9517945695\n",
      "22.8639967127\n",
      "9.72222222222\n",
      "16.4921417876\n",
      "32.7495170071\n",
      "47.7705097831\n",
      "30.4607113881\n",
      "26.9315547634\n"
     ]
    },
    {
     "name": "stderr",
     "output_type": "stream",
     "text": [
      "\r",
      "  0%|          | 0/8 [00:00<?, ?it/s]"
     ]
    },
    {
     "name": "stdout",
     "output_type": "stream",
     "text": [
      "START TRAIN.\n",
      "[Iteration 1 / 2672] TRAIN loss: 2.763200\n",
      "[Iteration 51 / 2672] TRAIN loss: 2.731932\n",
      "[Iteration 101 / 2672] TRAIN loss: 2.777723\n",
      "[Iteration 151 / 2672] TRAIN loss: 2.638407\n",
      "[Iteration 201 / 2672] TRAIN loss: 2.594612\n",
      "[Iteration 251 / 2672] TRAIN loss: 2.466022\n",
      "[Iteration 301 / 2672] TRAIN loss: 2.697901\n",
      "[Epoch 1 / 8] TRAIN acc: 5.607784\n"
     ]
    },
    {
     "name": "stderr",
     "output_type": "stream",
     "text": [
      "\r",
      " 12%|█▎        | 1/8 [03:44<26:08, 224.09s/it]"
     ]
    },
    {
     "name": "stdout",
     "output_type": "stream",
     "text": [
      "[Epoch 1 / 8] VAL acc: 5.505376\n",
      "[Iteration 351 / 2672] TRAIN loss: 2.739053\n",
      "[Iteration 401 / 2672] TRAIN loss: 2.581992\n",
      "[Iteration 451 / 2672] TRAIN loss: 2.562561\n",
      "[Iteration 501 / 2672] TRAIN loss: 2.591461\n",
      "[Iteration 551 / 2672] TRAIN loss: 2.573418\n",
      "[Iteration 601 / 2672] TRAIN loss: 2.488801\n",
      "[Iteration 651 / 2672] TRAIN loss: 2.614032\n",
      "[Epoch 2 / 8] TRAIN acc: 6.116766\n"
     ]
    },
    {
     "name": "stderr",
     "output_type": "stream",
     "text": [
      "\r",
      " 25%|██▌       | 2/8 [07:28<22:26, 224.35s/it]"
     ]
    },
    {
     "name": "stdout",
     "output_type": "stream",
     "text": [
      "[Epoch 2 / 8] VAL acc: 5.516129\n",
      "[Iteration 701 / 2672] TRAIN loss: 2.507210\n",
      "[Iteration 751 / 2672] TRAIN loss: 2.432729\n",
      "[Iteration 801 / 2672] TRAIN loss: 2.458752\n",
      "[Iteration 851 / 2672] TRAIN loss: 2.479004\n",
      "[Iteration 901 / 2672] TRAIN loss: 2.574646\n",
      "[Iteration 951 / 2672] TRAIN loss: 2.582310\n",
      "[Iteration 1001 / 2672] TRAIN loss: 2.563322\n",
      "[Epoch 3 / 8] TRAIN acc: 6.482036\n"
     ]
    },
    {
     "name": "stderr",
     "output_type": "stream",
     "text": [
      "\r",
      " 38%|███▊      | 3/8 [11:13<18:42, 224.41s/it]"
     ]
    },
    {
     "name": "stdout",
     "output_type": "stream",
     "text": [
      "[Epoch 3 / 8] VAL acc: 5.623656\n",
      "[Iteration 1051 / 2672] TRAIN loss: 2.547671\n",
      "[Iteration 1101 / 2672] TRAIN loss: 2.439754\n",
      "[Iteration 1151 / 2672] TRAIN loss: 2.422921\n",
      "[Iteration 1201 / 2672] TRAIN loss: 2.414698\n",
      "[Iteration 1251 / 2672] TRAIN loss: 2.621805\n",
      "[Iteration 1301 / 2672] TRAIN loss: 2.466827\n",
      "[Epoch 4 / 8] TRAIN acc: 6.697605\n"
     ]
    },
    {
     "name": "stderr",
     "output_type": "stream",
     "text": [
      "\r",
      " 50%|█████     | 4/8 [14:57<14:57, 224.42s/it]"
     ]
    },
    {
     "name": "stdout",
     "output_type": "stream",
     "text": [
      "[Epoch 4 / 8] VAL acc: 5.752688\n",
      "[Iteration 1351 / 2672] TRAIN loss: 2.364014\n",
      "[Iteration 1401 / 2672] TRAIN loss: 2.409737\n",
      "[Iteration 1451 / 2672] TRAIN loss: 2.475408\n",
      "[Iteration 1501 / 2672] TRAIN loss: 2.471145\n",
      "[Iteration 1551 / 2672] TRAIN loss: 2.553238\n",
      "[Iteration 1601 / 2672] TRAIN loss: 2.528594\n",
      "[Iteration 1651 / 2672] TRAIN loss: 2.486781\n",
      "[Epoch 5 / 8] TRAIN acc: 6.988024\n"
     ]
    },
    {
     "name": "stderr",
     "output_type": "stream",
     "text": [
      "\r",
      " 62%|██████▎   | 5/8 [18:42<11:13, 224.44s/it]"
     ]
    },
    {
     "name": "stdout",
     "output_type": "stream",
     "text": [
      "[Epoch 5 / 8] VAL acc: 5.817204\n",
      "[Iteration 1701 / 2672] TRAIN loss: 2.457601\n",
      "[Iteration 1751 / 2672] TRAIN loss: 2.594699\n",
      "[Iteration 1801 / 2672] TRAIN loss: 2.498450\n",
      "[Iteration 1851 / 2672] TRAIN loss: 2.509079\n",
      "[Iteration 1901 / 2672] TRAIN loss: 2.362943\n",
      "[Iteration 1951 / 2672] TRAIN loss: 2.329641\n",
      "[Iteration 2001 / 2672] TRAIN loss: 2.472955\n",
      "[Epoch 6 / 8] TRAIN acc: 7.230539\n"
     ]
    },
    {
     "name": "stderr",
     "output_type": "stream",
     "text": [
      "\r",
      " 75%|███████▌  | 6/8 [22:26<07:28, 224.45s/it]"
     ]
    },
    {
     "name": "stdout",
     "output_type": "stream",
     "text": [
      "[Epoch 6 / 8] VAL acc: 5.989247\n",
      "[Iteration 2051 / 2672] TRAIN loss: 2.452462\n",
      "[Iteration 2101 / 2672] TRAIN loss: 2.479868\n",
      "[Iteration 2151 / 2672] TRAIN loss: 2.366843\n",
      "[Iteration 2201 / 2672] TRAIN loss: 2.464812\n",
      "[Iteration 2251 / 2672] TRAIN loss: 2.438747\n",
      "[Iteration 2301 / 2672] TRAIN loss: 2.424605\n",
      "[Epoch 7 / 8] TRAIN acc: 7.470060\n"
     ]
    },
    {
     "name": "stderr",
     "output_type": "stream",
     "text": [
      "\r",
      " 88%|████████▊ | 7/8 [26:11<03:44, 224.45s/it]"
     ]
    },
    {
     "name": "stdout",
     "output_type": "stream",
     "text": [
      "[Epoch 7 / 8] VAL acc: 6.032258\n",
      "[Iteration 2351 / 2672] TRAIN loss: 2.526853\n",
      "[Iteration 2401 / 2672] TRAIN loss: 2.399005\n",
      "[Iteration 2451 / 2672] TRAIN loss: 2.217708\n",
      "[Iteration 2501 / 2672] TRAIN loss: 2.403747\n",
      "[Iteration 2551 / 2672] TRAIN loss: 2.158290\n",
      "[Iteration 2601 / 2672] TRAIN loss: 2.518801\n",
      "[Iteration 2651 / 2672] TRAIN loss: 2.344850\n",
      "[Epoch 8 / 8] TRAIN acc: 7.718563\n"
     ]
    },
    {
     "name": "stderr",
     "output_type": "stream",
     "text": [
      "100%|██████████| 8/8 [29:55<00:00, 224.48s/it]\n",
      "  0%|          | 0/124 [00:00<?, ?it/s]"
     ]
    },
    {
     "name": "stdout",
     "output_type": "stream",
     "text": [
      "[Epoch 8 / 8] VAL acc: 6.161290\n",
      "Trained in 1795 seconds.\n",
      "FINISH.\n"
     ]
    },
    {
     "name": "stderr",
     "output_type": "stream",
     "text": [
      "100%|██████████| 124/124 [00:19<00:00,  6.29it/s]\n"
     ]
    },
    {
     "name": "stdout",
     "output_type": "stream",
     "text": [
      "0.308416240925\n",
      "   29 | 30m36s |    0.30842 |      39.5697 |    0.5000 |    10.0000 |   -7.0000 |       8.0000 |               1.0000 |            -1.0000 | \n",
      "weights: [0.0045837917125045834, 0.0030193236714975845, 0.00034800523399871935, 0.0015782828282828283, 0.00084636739115715354, 0.0014982620160613688, 0.00079775352607058521, 0.0051250512505125051, 0.02834467120181406, 0.0098502758077226166, 0.002498001598721023, 0.0011740396355780971, 0.0028875028875028877, 0.0036938534278959812]\n",
      "equivalent_num:\n",
      "1.38888888889\n",
      "1.38888888889\n",
      "1.38888888889\n",
      "1.38888888889\n",
      "1.38888888889\n",
      "1.38888888889\n",
      "1.38888888889\n",
      "1.38888888889\n",
      "1.38888888889\n",
      "1.38888888889\n",
      "1.38888888889\n",
      "1.38888888889\n",
      "1.38888888889\n",
      "1.38888888889\n"
     ]
    },
    {
     "name": "stderr",
     "output_type": "stream",
     "text": [
      "\r",
      "  0%|          | 0/8 [00:00<?, ?it/s]"
     ]
    },
    {
     "name": "stdout",
     "output_type": "stream",
     "text": [
      "START TRAIN.\n",
      "[Iteration 1 / 1560] TRAIN loss: 2.774821\n",
      "[Iteration 51 / 1560] TRAIN loss: 2.601136\n",
      "[Iteration 101 / 1560] TRAIN loss: 2.643827\n",
      "[Iteration 151 / 1560] TRAIN loss: 2.639311\n",
      "[Epoch 1 / 8] TRAIN acc: 4.625641\n"
     ]
    },
    {
     "name": "stderr",
     "output_type": "stream",
     "text": [
      "\r",
      " 12%|█▎        | 1/8 [03:22<23:37, 202.56s/it]"
     ]
    },
    {
     "name": "stdout",
     "output_type": "stream",
     "text": [
      "[Epoch 1 / 8] VAL acc: 0.559140\n",
      "[Iteration 201 / 1560] TRAIN loss: 2.639256\n",
      "[Iteration 251 / 1560] TRAIN loss: 2.642369\n",
      "[Iteration 301 / 1560] TRAIN loss: 2.633037\n",
      "[Iteration 351 / 1560] TRAIN loss: 2.638834\n",
      "[Epoch 2 / 8] TRAIN acc: 4.769231\n"
     ]
    },
    {
     "name": "stderr",
     "output_type": "stream",
     "text": [
      "\r",
      " 25%|██▌       | 2/8 [06:40<20:02, 200.45s/it]"
     ]
    },
    {
     "name": "stdout",
     "output_type": "stream",
     "text": [
      "[Epoch 2 / 8] VAL acc: 0.193548\n",
      "[Iteration 401 / 1560] TRAIN loss: 2.640245\n",
      "[Iteration 451 / 1560] TRAIN loss: 2.639396\n",
      "[Iteration 501 / 1560] TRAIN loss: 2.635831\n",
      "[Iteration 551 / 1560] TRAIN loss: 2.644307\n",
      "[Epoch 3 / 8] TRAIN acc: 4.748718\n"
     ]
    },
    {
     "name": "stderr",
     "output_type": "stream",
     "text": [
      "\r",
      " 38%|███▊      | 3/8 [09:56<16:34, 198.81s/it]"
     ]
    },
    {
     "name": "stdout",
     "output_type": "stream",
     "text": [
      "[Epoch 3 / 8] VAL acc: 0.559140\n",
      "[Iteration 601 / 1560] TRAIN loss: 2.644574\n",
      "[Iteration 651 / 1560] TRAIN loss: 2.635035\n",
      "[Iteration 701 / 1560] TRAIN loss: 2.641974\n",
      "[Iteration 751 / 1560] TRAIN loss: 2.643050\n",
      "[Epoch 4 / 8] TRAIN acc: 4.810256\n"
     ]
    },
    {
     "name": "stderr",
     "output_type": "stream",
     "text": [
      "\r",
      " 50%|█████     | 4/8 [13:10<13:10, 197.62s/it]"
     ]
    },
    {
     "name": "stdout",
     "output_type": "stream",
     "text": [
      "[Epoch 4 / 8] VAL acc: 2.720430\n",
      "[Iteration 801 / 1560] TRAIN loss: 2.642258\n",
      "[Iteration 851 / 1560] TRAIN loss: 2.645660\n",
      "[Iteration 901 / 1560] TRAIN loss: 2.638359\n",
      "[Iteration 951 / 1560] TRAIN loss: 2.641791\n",
      "[Epoch 5 / 8] TRAIN acc: 4.882051\n"
     ]
    },
    {
     "name": "stderr",
     "output_type": "stream",
     "text": [
      "\r",
      " 62%|██████▎   | 5/8 [16:23<09:49, 196.64s/it]"
     ]
    },
    {
     "name": "stdout",
     "output_type": "stream",
     "text": [
      "[Epoch 5 / 8] VAL acc: 1.440860\n",
      "[Iteration 1001 / 1560] TRAIN loss: 2.631879\n",
      "[Iteration 1051 / 1560] TRAIN loss: 2.637687\n",
      "[Iteration 1101 / 1560] TRAIN loss: 2.640249\n",
      "[Iteration 1151 / 1560] TRAIN loss: 2.638020\n",
      "[Epoch 6 / 8] TRAIN acc: 4.769231\n"
     ]
    },
    {
     "name": "stderr",
     "output_type": "stream",
     "text": [
      "\r",
      " 75%|███████▌  | 6/8 [19:32<06:30, 195.50s/it]"
     ]
    },
    {
     "name": "stdout",
     "output_type": "stream",
     "text": [
      "[Epoch 6 / 8] VAL acc: 6.053763\n",
      "[Iteration 1201 / 1560] TRAIN loss: 2.638077\n",
      "[Iteration 1251 / 1560] TRAIN loss: 2.639812\n",
      "[Iteration 1301 / 1560] TRAIN loss: 2.636924\n",
      "[Iteration 1351 / 1560] TRAIN loss: 2.643658\n",
      "[Epoch 7 / 8] TRAIN acc: 4.610256\n"
     ]
    },
    {
     "name": "stderr",
     "output_type": "stream",
     "text": [
      "\r",
      " 88%|████████▊ | 7/8 [22:42<03:14, 194.63s/it]"
     ]
    },
    {
     "name": "stdout",
     "output_type": "stream",
     "text": [
      "[Epoch 7 / 8] VAL acc: 0.860215\n",
      "[Iteration 1401 / 1560] TRAIN loss: 2.641935\n",
      "[Iteration 1451 / 1560] TRAIN loss: 2.637257\n",
      "[Iteration 1501 / 1560] TRAIN loss: 2.636750\n",
      "[Iteration 1551 / 1560] TRAIN loss: 2.643598\n",
      "[Epoch 8 / 8] TRAIN acc: 4.984615\n"
     ]
    },
    {
     "name": "stderr",
     "output_type": "stream",
     "text": [
      "100%|██████████| 8/8 [25:52<00:00, 194.01s/it]\n",
      "  0%|          | 0/124 [00:00<?, ?it/s]"
     ]
    },
    {
     "name": "stdout",
     "output_type": "stream",
     "text": [
      "[Epoch 8 / 8] VAL acc: 0.430108\n",
      "Trained in 1552 seconds.\n",
      "FINISH.\n"
     ]
    },
    {
     "name": "stderr",
     "output_type": "stream",
     "text": [
      "100%|██████████| 124/124 [00:18<00:00,  6.64it/s]\n"
     ]
    },
    {
     "name": "stdout",
     "output_type": "stream",
     "text": [
      "0.0250067222372\n",
      "   30 | 26m32s |    0.02501 |      67.0872 |    1.0000 |    10.0000 |   -3.0000 |       8.0000 |               1.0000 |            -1.0000 | \n",
      "weights: [0.079789581891864733, 0.064757278350021791, 0.021985008591674442, 0.046819434893280693, 0.034285715181341145, 0.045617096211309868, 0.033286498891162593, 0.084368991559831519, 0.1984126984126984, 0.11696554459257208, 0.058902009005553535, 0.040380819765943078, 0.063327882303826827, 0.071626475434638417]\n",
      "equivalent_num:\n",
      "24.1762433132\n",
      "29.788348041\n",
      "87.7421692894\n",
      "41.2011027061\n",
      "56.2628586126\n",
      "42.2870481879\n",
      "57.9517945695\n",
      "22.8639967127\n",
      "9.72222222222\n",
      "16.4921417876\n",
      "32.7495170071\n",
      "47.7705097831\n",
      "30.4607113881\n",
      "26.9315547634\n"
     ]
    },
    {
     "name": "stderr",
     "output_type": "stream",
     "text": [
      "\r",
      "  0%|          | 0/8 [00:00<?, ?it/s]"
     ]
    },
    {
     "name": "stdout",
     "output_type": "stream",
     "text": [
      "START TRAIN.\n",
      "[Iteration 1 / 1304] TRAIN loss: 2.798530\n",
      "[Iteration 51 / 1304] TRAIN loss: 2.753897\n",
      "[Iteration 101 / 1304] TRAIN loss: 2.848438\n",
      "[Iteration 151 / 1304] TRAIN loss: 2.808649\n",
      "[Epoch 1 / 8] TRAIN acc: 5.355828\n"
     ]
    },
    {
     "name": "stderr",
     "output_type": "stream",
     "text": [
      "\r",
      " 12%|█▎        | 1/8 [03:12<22:28, 192.70s/it]"
     ]
    },
    {
     "name": "stdout",
     "output_type": "stream",
     "text": [
      "[Epoch 1 / 8] VAL acc: 1.290323\n",
      "[Iteration 201 / 1304] TRAIN loss: 2.833072\n",
      "[Iteration 251 / 1304] TRAIN loss: 2.774833\n",
      "[Iteration 301 / 1304] TRAIN loss: 2.755790\n",
      "[Epoch 2 / 8] TRAIN acc: 5.932515\n"
     ]
    },
    {
     "name": "stderr",
     "output_type": "stream",
     "text": [
      "\r",
      " 25%|██▌       | 2/8 [06:25<19:17, 192.89s/it]"
     ]
    },
    {
     "name": "stdout",
     "output_type": "stream",
     "text": [
      "[Epoch 2 / 8] VAL acc: 1.333333\n",
      "[Iteration 351 / 1304] TRAIN loss: 2.793894\n",
      "[Iteration 401 / 1304] TRAIN loss: 2.858001\n",
      "[Iteration 451 / 1304] TRAIN loss: 2.856847\n",
      "[Epoch 3 / 8] TRAIN acc: 5.613497\n"
     ]
    },
    {
     "name": "stderr",
     "output_type": "stream",
     "text": [
      "\r",
      " 38%|███▊      | 3/8 [09:39<16:05, 193.04s/it]"
     ]
    },
    {
     "name": "stdout",
     "output_type": "stream",
     "text": [
      "[Epoch 3 / 8] VAL acc: 1.322581\n",
      "[Iteration 501 / 1304] TRAIN loss: 2.800688\n",
      "[Iteration 551 / 1304] TRAIN loss: 2.746644\n",
      "[Iteration 601 / 1304] TRAIN loss: 2.731194\n",
      "[Iteration 651 / 1304] TRAIN loss: 2.816740\n",
      "[Epoch 4 / 8] TRAIN acc: 5.791411\n"
     ]
    },
    {
     "name": "stderr",
     "output_type": "stream",
     "text": [
      "\r",
      " 50%|█████     | 4/8 [12:52<12:52, 193.09s/it]"
     ]
    },
    {
     "name": "stdout",
     "output_type": "stream",
     "text": [
      "[Epoch 4 / 8] VAL acc: 1.397849\n",
      "[Iteration 701 / 1304] TRAIN loss: 2.710764\n",
      "[Iteration 751 / 1304] TRAIN loss: 2.841225\n",
      "[Iteration 801 / 1304] TRAIN loss: 2.799611\n",
      "[Epoch 5 / 8] TRAIN acc: 6.398773\n"
     ]
    },
    {
     "name": "stderr",
     "output_type": "stream",
     "text": [
      "\r",
      " 62%|██████▎   | 5/8 [16:05<09:39, 193.17s/it]"
     ]
    },
    {
     "name": "stdout",
     "output_type": "stream",
     "text": [
      "[Epoch 5 / 8] VAL acc: 1.387097\n",
      "[Iteration 851 / 1304] TRAIN loss: 2.665382\n",
      "[Iteration 901 / 1304] TRAIN loss: 2.691751\n",
      "[Iteration 951 / 1304] TRAIN loss: 2.798011\n",
      "[Epoch 6 / 8] TRAIN acc: 6.165644\n"
     ]
    },
    {
     "name": "stderr",
     "output_type": "stream",
     "text": [
      "\r",
      " 75%|███████▌  | 6/8 [19:19<06:26, 193.17s/it]"
     ]
    },
    {
     "name": "stdout",
     "output_type": "stream",
     "text": [
      "[Epoch 6 / 8] VAL acc: 1.408602\n",
      "[Iteration 1001 / 1304] TRAIN loss: 2.810780\n",
      "[Iteration 1051 / 1304] TRAIN loss: 2.732205\n",
      "[Iteration 1101 / 1304] TRAIN loss: 2.893104\n",
      "[Epoch 7 / 8] TRAIN acc: 6.184049\n"
     ]
    },
    {
     "name": "stderr",
     "output_type": "stream",
     "text": [
      "\r",
      " 88%|████████▊ | 7/8 [22:32<03:13, 193.19s/it]"
     ]
    },
    {
     "name": "stdout",
     "output_type": "stream",
     "text": [
      "[Epoch 7 / 8] VAL acc: 1.408602\n",
      "[Iteration 1151 / 1304] TRAIN loss: 2.726170\n",
      "[Iteration 1201 / 1304] TRAIN loss: 2.773042\n",
      "[Iteration 1251 / 1304] TRAIN loss: 2.819510\n",
      "[Iteration 1301 / 1304] TRAIN loss: 2.800928\n",
      "[Epoch 8 / 8] TRAIN acc: 6.165644\n"
     ]
    },
    {
     "name": "stderr",
     "output_type": "stream",
     "text": [
      "100%|██████████| 8/8 [25:45<00:00, 193.16s/it]\n",
      "  0%|          | 0/124 [00:00<?, ?it/s]"
     ]
    },
    {
     "name": "stdout",
     "output_type": "stream",
     "text": [
      "[Epoch 8 / 8] VAL acc: 1.440860\n",
      "Trained in 1545 seconds.\n",
      "FINISH.\n"
     ]
    },
    {
     "name": "stderr",
     "output_type": "stream",
     "text": [
      "100%|██████████| 124/124 [00:19<00:00,  6.24it/s]\n"
     ]
    },
    {
     "name": "stdout",
     "output_type": "stream",
     "text": [
      "0.0699112664695\n",
      "   31 | 26m24s |    0.06991 |      80.0000 |    0.5000 |     1.0000 |   -7.0000 |       8.0000 |               1.0000 |            -6.0000 | \n",
      "weights: [0.079789581891864733, 0.064757278350021791, 0.021985008591674442, 0.046819434893280693, 0.034285715181341145, 0.045617096211309868, 0.033286498891162593, 0.084368991559831519, 0.1984126984126984, 0.11696554459257208, 0.058902009005553535, 0.040380819765943078, 0.063327882303826827, 0.071626475434638417]\n",
      "equivalent_num:\n",
      "24.1762433132\n",
      "29.788348041\n",
      "87.7421692894\n",
      "41.2011027061\n",
      "56.2628586126\n",
      "42.2870481879\n",
      "57.9517945695\n",
      "22.8639967127\n",
      "9.72222222222\n",
      "16.4921417876\n",
      "32.7495170071\n",
      "47.7705097831\n",
      "30.4607113881\n",
      "26.9315547634\n"
     ]
    },
    {
     "name": "stderr",
     "output_type": "stream",
     "text": [
      "\r",
      "  0%|          | 0/2 [00:00<?, ?it/s]"
     ]
    },
    {
     "name": "stdout",
     "output_type": "stream",
     "text": [
      "START TRAIN.\n",
      "[Iteration 1 / 542] TRAIN loss: 2.793172\n",
      "[Iteration 51 / 542] TRAIN loss: 2.919212\n",
      "[Iteration 101 / 542] TRAIN loss: 2.473233\n",
      "[Iteration 151 / 542] TRAIN loss: 2.589155\n",
      "[Iteration 201 / 542] TRAIN loss: 2.530817\n",
      "[Iteration 251 / 542] TRAIN loss: 2.555918\n",
      "[Epoch 1 / 2] TRAIN acc: 7.239852\n"
     ]
    },
    {
     "name": "stderr",
     "output_type": "stream",
     "text": [
      "\r",
      " 50%|█████     | 1/2 [03:27<03:27, 207.21s/it]"
     ]
    },
    {
     "name": "stdout",
     "output_type": "stream",
     "text": [
      "[Epoch 1 / 2] VAL acc: 6.053763\n",
      "[Iteration 301 / 542] TRAIN loss: 2.571109\n",
      "[Iteration 351 / 542] TRAIN loss: 2.539153\n",
      "[Iteration 401 / 542] TRAIN loss: 2.495242\n",
      "[Iteration 451 / 542] TRAIN loss: 2.494456\n",
      "[Iteration 501 / 542] TRAIN loss: 2.584846\n",
      "[Epoch 2 / 2] TRAIN acc: 7.881919\n"
     ]
    },
    {
     "name": "stderr",
     "output_type": "stream",
     "text": [
      "100%|██████████| 2/2 [06:49<00:00, 204.68s/it]\n",
      "  0%|          | 0/124 [00:00<?, ?it/s]"
     ]
    },
    {
     "name": "stdout",
     "output_type": "stream",
     "text": [
      "[Epoch 2 / 2] VAL acc: 6.053763\n",
      "Trained in 409 seconds.\n",
      "FINISH.\n"
     ]
    },
    {
     "name": "stderr",
     "output_type": "stream",
     "text": [
      "100%|██████████| 124/124 [00:19<00:00,  6.45it/s]\n"
     ]
    },
    {
     "name": "stdout",
     "output_type": "stream",
     "text": [
      "0.315676257058\n",
      "   32 | 07m27s |    0.31568 |      48.1382 |    0.5000 |    10.0000 |   -3.0000 |       2.0000 |               1.0000 |            -1.0000 | \n",
      "weights: [0.079789581891864733, 0.064757278350021791, 0.021985008591674442, 0.046819434893280693, 0.034285715181341145, 0.045617096211309868, 0.033286498891162593, 0.084368991559831519, 0.1984126984126984, 0.11696554459257208, 0.058902009005553535, 0.040380819765943078, 0.063327882303826827, 0.071626475434638417]\n",
      "equivalent_num:\n",
      "24.1762433132\n",
      "29.788348041\n",
      "87.7421692894\n",
      "41.2011027061\n",
      "56.2628586126\n",
      "42.2870481879\n",
      "57.9517945695\n",
      "22.8639967127\n",
      "9.72222222222\n",
      "16.4921417876\n",
      "32.7495170071\n",
      "47.7705097831\n",
      "30.4607113881\n",
      "26.9315547634\n"
     ]
    },
    {
     "name": "stderr",
     "output_type": "stream",
     "text": [
      "\r",
      "  0%|          | 0/2 [00:00<?, ?it/s]"
     ]
    },
    {
     "name": "stdout",
     "output_type": "stream",
     "text": [
      "START TRAIN.\n",
      "[Iteration 1 / 384] TRAIN loss: 2.902565\n",
      "[Iteration 51 / 384] TRAIN loss: 2.998994\n",
      "[Iteration 101 / 384] TRAIN loss: 2.932236\n",
      "[Iteration 151 / 384] TRAIN loss: 2.803130\n",
      "[Epoch 1 / 2] TRAIN acc: 3.770833\n"
     ]
    },
    {
     "name": "stderr",
     "output_type": "stream",
     "text": [
      "\r",
      " 50%|█████     | 1/2 [03:23<03:23, 203.78s/it]"
     ]
    },
    {
     "name": "stdout",
     "output_type": "stream",
     "text": [
      "[Epoch 1 / 2] VAL acc: 0.892473\n",
      "[Iteration 201 / 384] TRAIN loss: 2.864341\n",
      "[Iteration 251 / 384] TRAIN loss: 2.825991\n",
      "[Iteration 301 / 384] TRAIN loss: 2.786794\n",
      "[Iteration 351 / 384] TRAIN loss: 2.815406\n",
      "[Epoch 2 / 2] TRAIN acc: 4.072917\n"
     ]
    },
    {
     "name": "stderr",
     "output_type": "stream",
     "text": [
      "100%|██████████| 2/2 [06:47<00:00, 203.88s/it]\n",
      "  0%|          | 0/124 [00:00<?, ?it/s]"
     ]
    },
    {
     "name": "stdout",
     "output_type": "stream",
     "text": [
      "[Epoch 2 / 2] VAL acc: 1.182796\n",
      "Trained in 407 seconds.\n",
      "FINISH.\n"
     ]
    },
    {
     "name": "stderr",
     "output_type": "stream",
     "text": [
      "100%|██████████| 124/124 [00:19<00:00,  6.28it/s]\n"
     ]
    },
    {
     "name": "stdout",
     "output_type": "stream",
     "text": [
      "0.0621134713633\n",
      "   33 | 07m26s |    0.06211 |      68.8011 |    0.5000 |    10.0000 |   -7.0000 |       2.0000 |              10.0000 |            -1.0000 | \n",
      "weights: [0.079789581891864733, 0.064757278350021791, 0.021985008591674442, 0.046819434893280693, 0.034285715181341145, 0.045617096211309868, 0.033286498891162593, 0.084368991559831519, 0.1984126984126984, 0.11696554459257208, 0.058902009005553535, 0.040380819765943078, 0.063327882303826827, 0.071626475434638417]\n",
      "equivalent_num:\n",
      "24.1762433132\n",
      "29.788348041\n",
      "87.7421692894\n",
      "41.2011027061\n",
      "56.2628586126\n",
      "42.2870481879\n",
      "57.9517945695\n",
      "22.8639967127\n",
      "9.72222222222\n",
      "16.4921417876\n",
      "32.7495170071\n",
      "47.7705097831\n",
      "30.4607113881\n",
      "26.9315547634\n"
     ]
    },
    {
     "name": "stderr",
     "output_type": "stream",
     "text": [
      "\r",
      "  0%|          | 0/8 [00:00<?, ?it/s]"
     ]
    },
    {
     "name": "stdout",
     "output_type": "stream",
     "text": [
      "START TRAIN.\n",
      "[Iteration 1 / 3472] TRAIN loss: 2.576126\n",
      "[Iteration 51 / 3472] TRAIN loss: 2.513515\n",
      "[Iteration 101 / 3472] TRAIN loss: 2.554892\n",
      "[Iteration 151 / 3472] TRAIN loss: 2.615848\n",
      "[Iteration 201 / 3472] TRAIN loss: 2.623110\n",
      "[Iteration 251 / 3472] TRAIN loss: 2.629809\n",
      "[Iteration 301 / 3472] TRAIN loss: 2.624714\n",
      "[Iteration 351 / 3472] TRAIN loss: 2.629849\n",
      "[Iteration 401 / 3472] TRAIN loss: 2.622760\n",
      "[Epoch 1 / 8] TRAIN acc: 4.794931\n"
     ]
    },
    {
     "name": "stderr",
     "output_type": "stream",
     "text": [
      "\r",
      " 12%|█▎        | 1/8 [03:46<26:24, 226.39s/it]"
     ]
    },
    {
     "name": "stdout",
     "output_type": "stream",
     "text": [
      "[Epoch 1 / 8] VAL acc: 6.053763\n",
      "[Iteration 451 / 3472] TRAIN loss: 2.622722\n",
      "[Iteration 501 / 3472] TRAIN loss: 2.612191\n",
      "[Iteration 551 / 3472] TRAIN loss: 2.621693\n",
      "[Iteration 601 / 3472] TRAIN loss: 2.621205\n",
      "[Iteration 651 / 3472] TRAIN loss: 2.624980\n",
      "[Iteration 701 / 3472] TRAIN loss: 2.628671\n",
      "[Iteration 751 / 3472] TRAIN loss: 2.625797\n",
      "[Iteration 801 / 3472] TRAIN loss: 2.630143\n",
      "[Iteration 851 / 3472] TRAIN loss: 2.622773\n",
      "[Epoch 2 / 8] TRAIN acc: 4.691244\n"
     ]
    },
    {
     "name": "stderr",
     "output_type": "stream",
     "text": [
      "\r",
      " 25%|██▌       | 2/8 [07:25<22:17, 222.92s/it]"
     ]
    },
    {
     "name": "stdout",
     "output_type": "stream",
     "text": [
      "[Epoch 2 / 8] VAL acc: 6.053763\n",
      "[Iteration 901 / 3472] TRAIN loss: 2.625384\n",
      "[Iteration 951 / 3472] TRAIN loss: 2.634488\n",
      "[Iteration 1001 / 3472] TRAIN loss: 2.634233\n",
      "[Iteration 1051 / 3472] TRAIN loss: 2.615334\n",
      "[Iteration 1101 / 3472] TRAIN loss: 2.630440\n",
      "[Iteration 1151 / 3472] TRAIN loss: 2.619073\n",
      "[Iteration 1201 / 3472] TRAIN loss: 2.627725\n",
      "[Iteration 1251 / 3472] TRAIN loss: 2.631692\n",
      "[Iteration 1301 / 3472] TRAIN loss: 2.615808\n",
      "[Epoch 3 / 8] TRAIN acc: 4.764977\n"
     ]
    },
    {
     "name": "stderr",
     "output_type": "stream",
     "text": [
      "\r",
      " 38%|███▊      | 3/8 [11:02<18:24, 220.95s/it]"
     ]
    },
    {
     "name": "stdout",
     "output_type": "stream",
     "text": [
      "[Epoch 3 / 8] VAL acc: 6.053763\n",
      "[Iteration 1351 / 3472] TRAIN loss: 2.620523\n",
      "[Iteration 1401 / 3472] TRAIN loss: 2.622813\n",
      "[Iteration 1451 / 3472] TRAIN loss: 2.621574\n",
      "[Iteration 1501 / 3472] TRAIN loss: 2.619931\n",
      "[Iteration 1551 / 3472] TRAIN loss: 2.646642\n",
      "[Iteration 1601 / 3472] TRAIN loss: 2.614432\n",
      "[Iteration 1651 / 3472] TRAIN loss: 2.618157\n",
      "[Iteration 1701 / 3472] TRAIN loss: 2.623059\n",
      "[Epoch 4 / 8] TRAIN acc: 4.820276\n"
     ]
    },
    {
     "name": "stderr",
     "output_type": "stream",
     "text": [
      "\r",
      " 50%|█████     | 4/8 [14:39<14:39, 219.76s/it]"
     ]
    },
    {
     "name": "stdout",
     "output_type": "stream",
     "text": [
      "[Epoch 4 / 8] VAL acc: 2.774194\n",
      "[Iteration 1751 / 3472] TRAIN loss: 2.623603\n",
      "[Iteration 1801 / 3472] TRAIN loss: 2.631243\n",
      "[Iteration 1851 / 3472] TRAIN loss: 2.623874\n",
      "[Iteration 1901 / 3472] TRAIN loss: 2.618993\n",
      "[Iteration 1951 / 3472] TRAIN loss: 2.625084\n",
      "[Iteration 2001 / 3472] TRAIN loss: 2.624419\n",
      "[Iteration 2051 / 3472] TRAIN loss: 2.628409\n",
      "[Iteration 2101 / 3472] TRAIN loss: 2.624071\n",
      "[Iteration 2151 / 3472] TRAIN loss: 2.629936\n",
      "[Epoch 5 / 8] TRAIN acc: 4.788018\n"
     ]
    },
    {
     "name": "stderr",
     "output_type": "stream",
     "text": [
      "\r",
      " 62%|██████▎   | 5/8 [18:11<10:54, 218.23s/it]"
     ]
    },
    {
     "name": "stdout",
     "output_type": "stream",
     "text": [
      "[Epoch 5 / 8] VAL acc: 6.053763\n",
      "[Iteration 2201 / 3472] TRAIN loss: 2.617719\n",
      "[Iteration 2251 / 3472] TRAIN loss: 2.625098\n",
      "[Iteration 2301 / 3472] TRAIN loss: 2.619811\n",
      "[Iteration 2351 / 3472] TRAIN loss: 2.631079\n",
      "[Iteration 2401 / 3472] TRAIN loss: 2.617711\n",
      "[Iteration 2451 / 3472] TRAIN loss: 2.625247\n",
      "[Iteration 2501 / 3472] TRAIN loss: 2.608534\n",
      "[Iteration 2551 / 3472] TRAIN loss: 2.628092\n",
      "[Iteration 2601 / 3472] TRAIN loss: 2.625274\n",
      "[Epoch 6 / 8] TRAIN acc: 4.949309\n"
     ]
    },
    {
     "name": "stderr",
     "output_type": "stream",
     "text": [
      "\r",
      " 75%|███████▌  | 6/8 [21:43<07:14, 217.28s/it]"
     ]
    },
    {
     "name": "stdout",
     "output_type": "stream",
     "text": [
      "[Epoch 6 / 8] VAL acc: 6.053763\n",
      "[Iteration 2651 / 3472] TRAIN loss: 2.622712\n",
      "[Iteration 2701 / 3472] TRAIN loss: 2.626497\n",
      "[Iteration 2751 / 3472] TRAIN loss: 2.623584\n",
      "[Iteration 2801 / 3472] TRAIN loss: 2.619416\n",
      "[Iteration 2851 / 3472] TRAIN loss: 2.619972\n",
      "[Iteration 2901 / 3472] TRAIN loss: 2.634626\n",
      "[Iteration 2951 / 3472] TRAIN loss: 2.621762\n",
      "[Iteration 3001 / 3472] TRAIN loss: 2.630800\n",
      "[Epoch 7 / 8] TRAIN acc: 4.930876\n"
     ]
    },
    {
     "name": "stderr",
     "output_type": "stream",
     "text": [
      "\r",
      " 88%|████████▊ | 7/8 [25:17<03:36, 216.82s/it]"
     ]
    },
    {
     "name": "stdout",
     "output_type": "stream",
     "text": [
      "[Epoch 7 / 8] VAL acc: 6.053763\n",
      "[Iteration 3051 / 3472] TRAIN loss: 2.628327\n",
      "[Iteration 3101 / 3472] TRAIN loss: 2.634860\n",
      "[Iteration 3151 / 3472] TRAIN loss: 2.617309\n",
      "[Iteration 3201 / 3472] TRAIN loss: 2.629015\n",
      "[Iteration 3251 / 3472] TRAIN loss: 2.625676\n",
      "[Iteration 3301 / 3472] TRAIN loss: 2.621095\n",
      "[Iteration 3351 / 3472] TRAIN loss: 2.631093\n",
      "[Iteration 3401 / 3472] TRAIN loss: 2.620081\n",
      "[Iteration 3451 / 3472] TRAIN loss: 2.625803\n",
      "[Epoch 8 / 8] TRAIN acc: 4.799539\n"
     ]
    },
    {
     "name": "stderr",
     "output_type": "stream",
     "text": [
      "100%|██████████| 8/8 [28:52<00:00, 216.57s/it]\n",
      "  0%|          | 0/124 [00:00<?, ?it/s]"
     ]
    },
    {
     "name": "stdout",
     "output_type": "stream",
     "text": [
      "[Epoch 8 / 8] VAL acc: 6.053763\n",
      "Trained in 1732 seconds.\n",
      "FINISH.\n"
     ]
    },
    {
     "name": "stderr",
     "output_type": "stream",
     "text": [
      "100%|██████████| 124/124 [00:18<00:00,  6.62it/s]\n"
     ]
    },
    {
     "name": "stdout",
     "output_type": "stream",
     "text": [
      "0.315676257058\n",
      "   34 | 29m29s |    0.31568 |      30.0000 |    0.5000 |    10.0000 |   -3.0000 |       8.0000 |              10.0000 |            -1.0000 | \n",
      "weights: [0.079789581891864733, 0.064757278350021791, 0.021985008591674442, 0.046819434893280693, 0.034285715181341145, 0.045617096211309868, 0.033286498891162593, 0.084368991559831519, 0.1984126984126984, 0.11696554459257208, 0.058902009005553535, 0.040380819765943078, 0.063327882303826827, 0.071626475434638417]\n",
      "equivalent_num:\n",
      "24.1762433132\n",
      "29.788348041\n",
      "87.7421692894\n",
      "41.2011027061\n",
      "56.2628586126\n",
      "42.2870481879\n",
      "57.9517945695\n",
      "22.8639967127\n",
      "9.72222222222\n",
      "16.4921417876\n",
      "32.7495170071\n",
      "47.7705097831\n",
      "30.4607113881\n",
      "26.9315547634\n"
     ]
    },
    {
     "name": "stderr",
     "output_type": "stream",
     "text": [
      "\r",
      "  0%|          | 0/2 [00:00<?, ?it/s]"
     ]
    },
    {
     "name": "stdout",
     "output_type": "stream",
     "text": [
      "START TRAIN.\n",
      "[Iteration 1 / 428] TRAIN loss: 2.834386\n",
      "[Iteration 51 / 428] TRAIN loss: 2.626608\n",
      "[Iteration 101 / 428] TRAIN loss: 2.401068\n",
      "[Iteration 151 / 428] TRAIN loss: 2.501512\n",
      "[Iteration 201 / 428] TRAIN loss: 2.625902\n",
      "[Epoch 1 / 2] TRAIN acc: 10.135514\n"
     ]
    },
    {
     "name": "stderr",
     "output_type": "stream",
     "text": [
      "\r",
      " 50%|█████     | 1/2 [03:09<03:09, 189.65s/it]"
     ]
    },
    {
     "name": "stdout",
     "output_type": "stream",
     "text": [
      "[Epoch 1 / 2] VAL acc: 6.053763\n",
      "[Iteration 251 / 428] TRAIN loss: 2.657259\n",
      "[Iteration 301 / 428] TRAIN loss: 2.551921\n",
      "[Iteration 351 / 428] TRAIN loss: 2.579067\n",
      "[Iteration 401 / 428] TRAIN loss: 2.608553\n",
      "[Epoch 2 / 2] TRAIN acc: 9.803738\n"
     ]
    },
    {
     "name": "stderr",
     "output_type": "stream",
     "text": [
      "100%|██████████| 2/2 [06:18<00:00, 189.31s/it]\n",
      "  0%|          | 0/124 [00:00<?, ?it/s]"
     ]
    },
    {
     "name": "stdout",
     "output_type": "stream",
     "text": [
      "[Epoch 2 / 2] VAL acc: 6.053763\n",
      "Trained in 378 seconds.\n",
      "FINISH.\n"
     ]
    },
    {
     "name": "stderr",
     "output_type": "stream",
     "text": [
      "100%|██████████| 124/124 [00:19<00:00,  6.32it/s]\n",
      "/home/ubuntu/anaconda3/lib/python3.6/site-packages/sklearn/gaussian_process/gpr.py:457: UserWarning: fmin_l_bfgs_b terminated abnormally with the  state: {'grad': array([ -1.18074600e-05]), 'task': b'ABNORMAL_TERMINATION_IN_LNSRCH', 'funcalls': 53, 'nit': 5, 'warnflag': 2}\n",
      "  \" state: %s\" % convergence_dict)\n"
     ]
    },
    {
     "name": "stdout",
     "output_type": "stream",
     "text": [
      "0.315676257058\n",
      "   35 | 06m57s |    0.31568 |      61.1705 |    0.5000 |     1.0000 |   -3.0000 |       2.0000 |               1.0000 |            -1.0000 | \n",
      "weights: [0.0045837917125045834, 0.0030193236714975845, 0.00034800523399871935, 0.0015782828282828283, 0.00084636739115715354, 0.0014982620160613688, 0.00079775352607058521, 0.0051250512505125051, 0.02834467120181406, 0.0098502758077226166, 0.002498001598721023, 0.0011740396355780971, 0.0028875028875028877, 0.0036938534278959812]\n",
      "equivalent_num:\n",
      "1.38888888889\n",
      "1.38888888889\n",
      "1.38888888889\n",
      "1.38888888889\n",
      "1.38888888889\n",
      "1.38888888889\n",
      "1.38888888889\n",
      "1.38888888889\n",
      "1.38888888889\n",
      "1.38888888889\n",
      "1.38888888889\n",
      "1.38888888889\n",
      "1.38888888889\n",
      "1.38888888889\n"
     ]
    },
    {
     "name": "stderr",
     "output_type": "stream",
     "text": [
      "\r",
      "  0%|          | 0/8 [00:00<?, ?it/s]"
     ]
    },
    {
     "name": "stdout",
     "output_type": "stream",
     "text": [
      "START TRAIN.\n",
      "[Iteration 1 / 3472] TRAIN loss: 2.654483\n",
      "[Iteration 51 / 3472] TRAIN loss: 2.523857\n",
      "[Iteration 101 / 3472] TRAIN loss: 2.844626\n",
      "[Iteration 151 / 3472] TRAIN loss: 2.635194\n",
      "[Iteration 201 / 3472] TRAIN loss: 2.634533\n",
      "[Iteration 251 / 3472] TRAIN loss: 2.645268\n",
      "[Iteration 301 / 3472] TRAIN loss: 2.641930\n",
      "[Iteration 351 / 3472] TRAIN loss: 2.639199\n",
      "[Iteration 401 / 3472] TRAIN loss: 2.638440\n",
      "[Epoch 1 / 8] TRAIN acc: 2.195853\n"
     ]
    },
    {
     "name": "stderr",
     "output_type": "stream",
     "text": [
      "\r",
      " 12%|█▎        | 1/8 [03:49<26:46, 229.50s/it]"
     ]
    },
    {
     "name": "stdout",
     "output_type": "stream",
     "text": [
      "[Epoch 1 / 8] VAL acc: 1.677419\n",
      "[Iteration 451 / 3472] TRAIN loss: 2.638275\n",
      "[Iteration 501 / 3472] TRAIN loss: 2.636978\n",
      "[Iteration 551 / 3472] TRAIN loss: 2.640566\n",
      "[Iteration 601 / 3472] TRAIN loss: 2.647065\n",
      "[Iteration 651 / 3472] TRAIN loss: 2.645782\n",
      "[Iteration 701 / 3472] TRAIN loss: 2.643057\n",
      "[Iteration 751 / 3472] TRAIN loss: 2.639592\n",
      "[Iteration 801 / 3472] TRAIN loss: 2.637238\n",
      "[Iteration 851 / 3472] TRAIN loss: 2.642236\n",
      "[Epoch 2 / 8] TRAIN acc: 2.301843\n"
     ]
    },
    {
     "name": "stderr",
     "output_type": "stream",
     "text": [
      "\r",
      " 25%|██▌       | 2/8 [07:31<22:34, 225.72s/it]"
     ]
    },
    {
     "name": "stdout",
     "output_type": "stream",
     "text": [
      "[Epoch 2 / 8] VAL acc: 2.774194\n",
      "[Iteration 901 / 3472] TRAIN loss: 2.636985\n",
      "[Iteration 951 / 3472] TRAIN loss: 2.637360\n",
      "[Iteration 1001 / 3472] TRAIN loss: 2.638641\n",
      "[Iteration 1051 / 3472] TRAIN loss: 2.641805\n",
      "[Iteration 1101 / 3472] TRAIN loss: 2.636222\n",
      "[Iteration 1151 / 3472] TRAIN loss: 2.643494\n",
      "[Iteration 1201 / 3472] TRAIN loss: 2.639855\n",
      "[Iteration 1251 / 3472] TRAIN loss: 2.652617\n",
      "[Iteration 1301 / 3472] TRAIN loss: 2.638169\n",
      "[Epoch 3 / 8] TRAIN acc: 2.119816\n"
     ]
    },
    {
     "name": "stderr",
     "output_type": "stream",
     "text": [
      "\r",
      " 38%|███▊      | 3/8 [11:09<18:35, 223.05s/it]"
     ]
    },
    {
     "name": "stdout",
     "output_type": "stream",
     "text": [
      "[Epoch 3 / 8] VAL acc: 2.720430\n",
      "[Iteration 1351 / 3472] TRAIN loss: 2.642306\n",
      "[Iteration 1401 / 3472] TRAIN loss: 2.636461\n",
      "[Iteration 1451 / 3472] TRAIN loss: 2.637926\n",
      "[Iteration 1501 / 3472] TRAIN loss: 2.640363\n",
      "[Iteration 1551 / 3472] TRAIN loss: 2.641314\n",
      "[Iteration 1601 / 3472] TRAIN loss: 2.642208\n",
      "[Iteration 1651 / 3472] TRAIN loss: 2.643362\n",
      "[Iteration 1701 / 3472] TRAIN loss: 2.640527\n",
      "[Epoch 4 / 8] TRAIN acc: 2.152074\n"
     ]
    },
    {
     "name": "stderr",
     "output_type": "stream",
     "text": [
      "\r",
      " 50%|█████     | 4/8 [14:44<14:44, 221.18s/it]"
     ]
    },
    {
     "name": "stdout",
     "output_type": "stream",
     "text": [
      "[Epoch 4 / 8] VAL acc: 2.720430\n",
      "[Iteration 1751 / 3472] TRAIN loss: 2.637014\n",
      "[Iteration 1801 / 3472] TRAIN loss: 2.640638\n",
      "[Iteration 1851 / 3472] TRAIN loss: 2.646208\n",
      "[Iteration 1901 / 3472] TRAIN loss: 2.641450\n",
      "[Iteration 1951 / 3472] TRAIN loss: 2.640553\n",
      "[Iteration 2001 / 3472] TRAIN loss: 2.652366\n",
      "[Iteration 2051 / 3472] TRAIN loss: 2.638894\n",
      "[Iteration 2101 / 3472] TRAIN loss: 2.638664\n",
      "[Iteration 2151 / 3472] TRAIN loss: 2.637295\n",
      "[Epoch 5 / 8] TRAIN acc: 2.186636\n"
     ]
    },
    {
     "name": "stderr",
     "output_type": "stream",
     "text": [
      "\r",
      " 62%|██████▎   | 5/8 [18:15<10:57, 219.06s/it]"
     ]
    },
    {
     "name": "stdout",
     "output_type": "stream",
     "text": [
      "[Epoch 5 / 8] VAL acc: 0.709677\n",
      "[Iteration 2201 / 3472] TRAIN loss: 2.639714\n",
      "[Iteration 2251 / 3472] TRAIN loss: 2.637343\n",
      "[Iteration 2301 / 3472] TRAIN loss: 2.638155\n",
      "[Iteration 2351 / 3472] TRAIN loss: 2.641110\n",
      "[Iteration 2401 / 3472] TRAIN loss: 2.635502\n",
      "[Iteration 2451 / 3472] TRAIN loss: 2.642686\n",
      "[Iteration 2501 / 3472] TRAIN loss: 2.646429\n",
      "[Iteration 2551 / 3472] TRAIN loss: 2.641878\n",
      "[Iteration 2601 / 3472] TRAIN loss: 2.632588\n",
      "[Epoch 6 / 8] TRAIN acc: 2.184332\n"
     ]
    },
    {
     "name": "stderr",
     "output_type": "stream",
     "text": [
      "\r",
      " 75%|███████▌  | 6/8 [21:45<07:15, 217.58s/it]"
     ]
    },
    {
     "name": "stdout",
     "output_type": "stream",
     "text": [
      "[Epoch 6 / 8] VAL acc: 0.655914\n",
      "[Iteration 2651 / 3472] TRAIN loss: 2.632703\n",
      "[Iteration 2701 / 3472] TRAIN loss: 2.641372\n",
      "[Iteration 2751 / 3472] TRAIN loss: 2.635332\n",
      "[Iteration 2801 / 3472] TRAIN loss: 2.633904\n",
      "[Iteration 2851 / 3472] TRAIN loss: 2.635965\n",
      "[Iteration 2901 / 3472] TRAIN loss: 2.646324\n",
      "[Iteration 2951 / 3472] TRAIN loss: 2.636622\n",
      "[Iteration 3001 / 3472] TRAIN loss: 2.642049\n",
      "[Epoch 7 / 8] TRAIN acc: 2.126728\n"
     ]
    },
    {
     "name": "stderr",
     "output_type": "stream",
     "text": [
      "\r",
      " 88%|████████▊ | 7/8 [25:15<03:36, 216.51s/it]"
     ]
    },
    {
     "name": "stdout",
     "output_type": "stream",
     "text": [
      "[Epoch 7 / 8] VAL acc: 0.408602\n",
      "[Iteration 3051 / 3472] TRAIN loss: 2.639640\n",
      "[Iteration 3101 / 3472] TRAIN loss: 2.631777\n",
      "[Iteration 3151 / 3472] TRAIN loss: 2.643318\n",
      "[Iteration 3201 / 3472] TRAIN loss: 2.645884\n",
      "[Iteration 3251 / 3472] TRAIN loss: 2.629323\n",
      "[Iteration 3301 / 3472] TRAIN loss: 2.646972\n",
      "[Iteration 3351 / 3472] TRAIN loss: 2.634814\n",
      "[Iteration 3401 / 3472] TRAIN loss: 2.639056\n",
      "[Iteration 3451 / 3472] TRAIN loss: 2.640220\n",
      "[Epoch 8 / 8] TRAIN acc: 2.124424\n"
     ]
    },
    {
     "name": "stderr",
     "output_type": "stream",
     "text": [
      "100%|██████████| 8/8 [28:46<00:00, 215.75s/it]\n",
      "  0%|          | 0/124 [00:00<?, ?it/s]"
     ]
    },
    {
     "name": "stdout",
     "output_type": "stream",
     "text": [
      "[Epoch 8 / 8] VAL acc: 0.408602\n",
      "Trained in 1726 seconds.\n",
      "FINISH.\n"
     ]
    },
    {
     "name": "stderr",
     "output_type": "stream",
     "text": [
      "100%|██████████| 124/124 [00:18<00:00,  6.87it/s]\n"
     ]
    },
    {
     "name": "stdout",
     "output_type": "stream",
     "text": [
      "0.0182844850766\n",
      "   36 | 29m23s |    0.01828 |      30.0000 |    1.0000 |     4.0516 |   -3.0000 |       8.0000 |               1.0000 |            -1.0000 | \n",
      "weights: [0.079789581891864733, 0.064757278350021791, 0.021985008591674442, 0.046819434893280693, 0.034285715181341145, 0.045617096211309868, 0.033286498891162593, 0.084368991559831519, 0.1984126984126984, 0.11696554459257208, 0.058902009005553535, 0.040380819765943078, 0.063327882303826827, 0.071626475434638417]\n",
      "equivalent_num:\n",
      "24.1762433132\n",
      "29.788348041\n",
      "87.7421692894\n",
      "41.2011027061\n",
      "56.2628586126\n",
      "42.2870481879\n",
      "57.9517945695\n",
      "22.8639967127\n",
      "9.72222222222\n",
      "16.4921417876\n",
      "32.7495170071\n",
      "47.7705097831\n",
      "30.4607113881\n",
      "26.9315547634\n"
     ]
    },
    {
     "name": "stderr",
     "output_type": "stream",
     "text": [
      "\r",
      "  0%|          | 0/2 [00:00<?, ?it/s]"
     ]
    },
    {
     "name": "stdout",
     "output_type": "stream",
     "text": [
      "START TRAIN.\n",
      "[Iteration 1 / 606] TRAIN loss: 3.058175\n",
      "[Iteration 51 / 606] TRAIN loss: 2.980551\n",
      "[Iteration 101 / 606] TRAIN loss: 2.991269\n",
      "[Iteration 151 / 606] TRAIN loss: 3.024868\n",
      "[Iteration 201 / 606] TRAIN loss: 2.848441\n",
      "[Iteration 251 / 606] TRAIN loss: 2.755604\n",
      "[Iteration 301 / 606] TRAIN loss: 3.049344\n",
      "[Epoch 1 / 2] TRAIN acc: 3.735974\n"
     ]
    },
    {
     "name": "stderr",
     "output_type": "stream",
     "text": [
      "\r",
      " 50%|█████     | 1/2 [03:38<03:38, 218.74s/it]"
     ]
    },
    {
     "name": "stdout",
     "output_type": "stream",
     "text": [
      "[Epoch 1 / 2] VAL acc: 1.849462\n",
      "[Iteration 351 / 606] TRAIN loss: 2.867288\n",
      "[Iteration 401 / 606] TRAIN loss: 2.926337\n",
      "[Iteration 451 / 606] TRAIN loss: 3.081878\n",
      "[Iteration 501 / 606] TRAIN loss: 3.051593\n",
      "[Iteration 551 / 606] TRAIN loss: 2.862614\n",
      "[Iteration 601 / 606] TRAIN loss: 2.852277\n",
      "[Epoch 2 / 2] TRAIN acc: 3.693069\n"
     ]
    },
    {
     "name": "stderr",
     "output_type": "stream",
     "text": [
      "100%|██████████| 2/2 [07:17<00:00, 218.79s/it]\n",
      "  0%|          | 0/124 [00:00<?, ?it/s]"
     ]
    },
    {
     "name": "stdout",
     "output_type": "stream",
     "text": [
      "[Epoch 2 / 2] VAL acc: 1.795699\n",
      "Trained in 437 seconds.\n",
      "FINISH.\n"
     ]
    },
    {
     "name": "stderr",
     "output_type": "stream",
     "text": [
      "100%|██████████| 124/124 [00:19<00:00,  6.28it/s]\n"
     ]
    },
    {
     "name": "stdout",
     "output_type": "stream",
     "text": [
      "0.100026888949\n",
      "   37 | 07m54s |    0.10003 |      43.4838 |    0.5000 |     1.0000 |   -7.0000 |       2.0000 |               1.0000 |            -1.0000 | \n",
      "weights: [0.079789581891864733, 0.064757278350021791, 0.021985008591674442, 0.046819434893280693, 0.034285715181341145, 0.045617096211309868, 0.033286498891162593, 0.084368991559831519, 0.1984126984126984, 0.11696554459257208, 0.058902009005553535, 0.040380819765943078, 0.063327882303826827, 0.071626475434638417]\n",
      "equivalent_num:\n",
      "24.1762433132\n",
      "29.788348041\n",
      "87.7421692894\n",
      "41.2011027061\n",
      "56.2628586126\n",
      "42.2870481879\n",
      "57.9517945695\n",
      "22.8639967127\n",
      "9.72222222222\n",
      "16.4921417876\n",
      "32.7495170071\n",
      "47.7705097831\n",
      "30.4607113881\n",
      "26.9315547634\n"
     ]
    },
    {
     "name": "stderr",
     "output_type": "stream",
     "text": [
      "\r",
      "  0%|          | 0/8 [00:00<?, ?it/s]"
     ]
    },
    {
     "name": "stdout",
     "output_type": "stream",
     "text": [
      "START TRAIN.\n",
      "[Iteration 1 / 2744] TRAIN loss: 2.769266\n",
      "[Iteration 51 / 2744] TRAIN loss: 2.413007\n",
      "[Iteration 101 / 2744] TRAIN loss: 2.381352\n",
      "[Iteration 151 / 2744] TRAIN loss: 2.475875\n",
      "[Iteration 201 / 2744] TRAIN loss: 2.615672\n",
      "[Iteration 251 / 2744] TRAIN loss: 2.549789\n",
      "[Iteration 301 / 2744] TRAIN loss: 2.363081\n",
      "[Epoch 1 / 8] TRAIN acc: 7.346939\n"
     ]
    },
    {
     "name": "stderr",
     "output_type": "stream",
     "text": [
      "\r",
      " 12%|█▎        | 1/8 [03:46<26:26, 226.68s/it]"
     ]
    },
    {
     "name": "stdout",
     "output_type": "stream",
     "text": [
      "[Epoch 1 / 8] VAL acc: 3.075269\n",
      "[Iteration 351 / 2744] TRAIN loss: 2.316868\n",
      "[Iteration 401 / 2744] TRAIN loss: 2.202204\n",
      "[Iteration 451 / 2744] TRAIN loss: 2.207015\n",
      "[Iteration 501 / 2744] TRAIN loss: 2.377331\n",
      "[Iteration 551 / 2744] TRAIN loss: 2.433088\n",
      "[Iteration 601 / 2744] TRAIN loss: 2.162407\n",
      "[Iteration 651 / 2744] TRAIN loss: 2.156443\n",
      "[Epoch 2 / 8] TRAIN acc: 9.233236\n"
     ]
    },
    {
     "name": "stderr",
     "output_type": "stream",
     "text": [
      "\r",
      " 25%|██▌       | 2/8 [07:33<22:40, 226.70s/it]"
     ]
    },
    {
     "name": "stdout",
     "output_type": "stream",
     "text": [
      "[Epoch 2 / 8] VAL acc: 6.010753\n",
      "[Iteration 701 / 2744] TRAIN loss: 2.131816\n",
      "[Iteration 751 / 2744] TRAIN loss: 2.102476\n",
      "[Iteration 801 / 2744] TRAIN loss: 1.989288\n",
      "[Iteration 851 / 2744] TRAIN loss: 2.148122\n",
      "[Iteration 901 / 2744] TRAIN loss: 2.027592\n",
      "[Iteration 951 / 2744] TRAIN loss: 2.272612\n",
      "[Iteration 1001 / 2744] TRAIN loss: 2.034542\n",
      "[Epoch 3 / 8] TRAIN acc: 10.090379\n"
     ]
    },
    {
     "name": "stderr",
     "output_type": "stream",
     "text": [
      "\r",
      " 38%|███▊      | 3/8 [11:19<18:53, 226.64s/it]"
     ]
    },
    {
     "name": "stdout",
     "output_type": "stream",
     "text": [
      "[Epoch 3 / 8] VAL acc: 4.849462\n",
      "[Iteration 1051 / 2744] TRAIN loss: 2.148865\n",
      "[Iteration 1101 / 2744] TRAIN loss: 2.272167\n",
      "[Iteration 1151 / 2744] TRAIN loss: 2.180706\n",
      "[Iteration 1201 / 2744] TRAIN loss: 2.359381\n",
      "[Iteration 1251 / 2744] TRAIN loss: 2.245794\n",
      "[Iteration 1301 / 2744] TRAIN loss: 2.066555\n",
      "[Iteration 1351 / 2744] TRAIN loss: 1.893094\n",
      "[Epoch 4 / 8] TRAIN acc: 10.629738\n"
     ]
    },
    {
     "name": "stderr",
     "output_type": "stream",
     "text": [
      "\r",
      " 50%|█████     | 4/8 [15:06<15:06, 226.68s/it]"
     ]
    },
    {
     "name": "stdout",
     "output_type": "stream",
     "text": [
      "[Epoch 4 / 8] VAL acc: 5.645161\n",
      "[Iteration 1401 / 2744] TRAIN loss: 2.165977\n",
      "[Iteration 1451 / 2744] TRAIN loss: 2.458984\n",
      "[Iteration 1501 / 2744] TRAIN loss: 2.208855\n",
      "[Iteration 1551 / 2744] TRAIN loss: 1.979850\n",
      "[Iteration 1601 / 2744] TRAIN loss: 1.916806\n",
      "[Iteration 1651 / 2744] TRAIN loss: 1.976482\n",
      "[Iteration 1701 / 2744] TRAIN loss: 2.332883\n",
      "[Epoch 5 / 8] TRAIN acc: 11.725948\n"
     ]
    },
    {
     "name": "stderr",
     "output_type": "stream",
     "text": [
      "\r",
      " 62%|██████▎   | 5/8 [18:53<11:19, 226.64s/it]"
     ]
    },
    {
     "name": "stdout",
     "output_type": "stream",
     "text": [
      "[Epoch 5 / 8] VAL acc: 4.612903\n",
      "[Iteration 1751 / 2744] TRAIN loss: 2.234959\n",
      "[Iteration 1801 / 2744] TRAIN loss: 2.100826\n",
      "[Iteration 1851 / 2744] TRAIN loss: 1.837922\n",
      "[Iteration 1901 / 2744] TRAIN loss: 2.559255\n",
      "[Iteration 1951 / 2744] TRAIN loss: 2.059319\n",
      "[Iteration 2001 / 2744] TRAIN loss: 2.260138\n",
      "[Iteration 2051 / 2744] TRAIN loss: 2.429330\n",
      "[Epoch 6 / 8] TRAIN acc: 12.142857\n"
     ]
    },
    {
     "name": "stderr",
     "output_type": "stream",
     "text": [
      "\r",
      " 75%|███████▌  | 6/8 [22:39<07:33, 226.61s/it]"
     ]
    },
    {
     "name": "stdout",
     "output_type": "stream",
     "text": [
      "[Epoch 6 / 8] VAL acc: 5.956989\n",
      "[Iteration 2101 / 2744] TRAIN loss: 2.102803\n",
      "[Iteration 2151 / 2744] TRAIN loss: 1.895422\n",
      "[Iteration 2201 / 2744] TRAIN loss: 2.096837\n",
      "[Iteration 2251 / 2744] TRAIN loss: 1.919451\n",
      "[Iteration 2301 / 2744] TRAIN loss: 2.032354\n",
      "[Iteration 2351 / 2744] TRAIN loss: 1.763179\n",
      "[Iteration 2401 / 2744] TRAIN loss: 2.687124\n",
      "[Epoch 7 / 8] TRAIN acc: 12.938776\n"
     ]
    },
    {
     "name": "stderr",
     "output_type": "stream",
     "text": [
      "\r",
      " 88%|████████▊ | 7/8 [26:26<03:46, 226.58s/it]"
     ]
    },
    {
     "name": "stdout",
     "output_type": "stream",
     "text": [
      "[Epoch 7 / 8] VAL acc: 5.107527\n",
      "[Iteration 2451 / 2744] TRAIN loss: 2.068297\n",
      "[Iteration 2501 / 2744] TRAIN loss: 1.978231\n",
      "[Iteration 2551 / 2744] TRAIN loss: 2.052426\n",
      "[Iteration 2601 / 2744] TRAIN loss: 2.020369\n",
      "[Iteration 2651 / 2744] TRAIN loss: 1.760474\n",
      "[Iteration 2701 / 2744] TRAIN loss: 2.036514\n",
      "[Epoch 8 / 8] TRAIN acc: 13.466472\n"
     ]
    },
    {
     "name": "stderr",
     "output_type": "stream",
     "text": [
      "100%|██████████| 8/8 [30:11<00:00, 226.40s/it]\n",
      "  0%|          | 0/124 [00:00<?, ?it/s]"
     ]
    },
    {
     "name": "stdout",
     "output_type": "stream",
     "text": [
      "[Epoch 8 / 8] VAL acc: 6.666667\n",
      "Trained in 1811 seconds.\n",
      "FINISH.\n"
     ]
    },
    {
     "name": "stderr",
     "output_type": "stream",
     "text": [
      "100%|██████████| 124/124 [00:19<00:00,  6.32it/s]\n",
      "  0%|          | 5/12386 [00:00<04:13, 48.77it/s]"
     ]
    },
    {
     "name": "stdout",
     "output_type": "stream",
     "text": [
      "0.343909653133\n",
      "submissions/res18_0.34391_FUAAEPE.csv\n",
      "'age'\n",
      "'gender'\n",
      "'view_position'\n",
      "'image_name'\n"
     ]
    },
    {
     "name": "stderr",
     "output_type": "stream",
     "text": [
      "100%|██████████| 12386/12386 [03:34<00:00, 57.81it/s]\n"
     ]
    },
    {
     "name": "stdout",
     "output_type": "stream",
     "text": [
      "   38 | 34m24s |    0.34391 |      38.8704 |    0.5000 |     1.0000 |   -3.0000 |       8.0000 |              10.0000 |            -6.0000 | \n",
      "weights: [0.079789581891864733, 0.064757278350021791, 0.021985008591674442, 0.046819434893280693, 0.034285715181341145, 0.045617096211309868, 0.033286498891162593, 0.084368991559831519, 0.1984126984126984, 0.11696554459257208, 0.058902009005553535, 0.040380819765943078, 0.063327882303826827, 0.071626475434638417]\n",
      "equivalent_num:\n",
      "24.1762433132\n",
      "29.788348041\n",
      "87.7421692894\n",
      "41.2011027061\n",
      "56.2628586126\n",
      "42.2870481879\n",
      "57.9517945695\n",
      "22.8639967127\n",
      "9.72222222222\n",
      "16.4921417876\n",
      "32.7495170071\n",
      "47.7705097831\n",
      "30.4607113881\n",
      "26.9315547634\n"
     ]
    },
    {
     "name": "stderr",
     "output_type": "stream",
     "text": [
      "\r",
      "  0%|          | 0/2 [00:00<?, ?it/s]"
     ]
    },
    {
     "name": "stdout",
     "output_type": "stream",
     "text": [
      "START TRAIN.\n",
      "[Iteration 1 / 744] TRAIN loss: 2.611588\n",
      "[Iteration 51 / 744] TRAIN loss: 2.548904\n",
      "[Iteration 101 / 744] TRAIN loss: 2.636947\n",
      "[Iteration 151 / 744] TRAIN loss: 2.720889\n",
      "[Iteration 201 / 744] TRAIN loss: 2.556090\n",
      "[Iteration 251 / 744] TRAIN loss: 2.600389\n",
      "[Iteration 301 / 744] TRAIN loss: 2.682523\n",
      "[Iteration 351 / 744] TRAIN loss: 2.435090\n",
      "[Epoch 1 / 2] TRAIN acc: 5.524194\n"
     ]
    },
    {
     "name": "stderr",
     "output_type": "stream",
     "text": [
      "\r",
      " 50%|█████     | 1/2 [03:47<03:47, 227.76s/it]"
     ]
    },
    {
     "name": "stdout",
     "output_type": "stream",
     "text": [
      "[Epoch 1 / 2] VAL acc: 6.053763\n",
      "[Iteration 401 / 744] TRAIN loss: 2.474406\n",
      "[Iteration 451 / 744] TRAIN loss: 2.487430\n",
      "[Iteration 501 / 744] TRAIN loss: 2.524701\n",
      "[Iteration 551 / 744] TRAIN loss: 2.569197\n",
      "[Iteration 601 / 744] TRAIN loss: 2.626646\n",
      "[Iteration 651 / 744] TRAIN loss: 2.507138\n",
      "[Iteration 701 / 744] TRAIN loss: 2.554191\n",
      "[Epoch 2 / 2] TRAIN acc: 5.913978\n"
     ]
    },
    {
     "name": "stderr",
     "output_type": "stream",
     "text": [
      "100%|██████████| 2/2 [07:31<00:00, 225.72s/it]\n",
      "  0%|          | 0/124 [00:00<?, ?it/s]"
     ]
    },
    {
     "name": "stdout",
     "output_type": "stream",
     "text": [
      "[Epoch 2 / 2] VAL acc: 6.053763\n",
      "Trained in 451 seconds.\n",
      "FINISH.\n"
     ]
    },
    {
     "name": "stderr",
     "output_type": "stream",
     "text": [
      "100%|██████████| 124/124 [00:19<00:00,  6.41it/s]\n"
     ]
    },
    {
     "name": "stdout",
     "output_type": "stream",
     "text": [
      "0.315676257058\n",
      "   39 | 08m10s |    0.31568 |      35.0105 |    0.5000 |     1.0000 |   -3.0000 |       2.0000 |              10.0000 |            -1.0000 | \n",
      "weights: [0.079789581891864733, 0.064757278350021791, 0.021985008591674442, 0.046819434893280693, 0.034285715181341145, 0.045617096211309868, 0.033286498891162593, 0.084368991559831519, 0.1984126984126984, 0.11696554459257208, 0.058902009005553535, 0.040380819765943078, 0.063327882303826827, 0.071626475434638417]\n",
      "equivalent_num:\n",
      "24.1762433132\n",
      "29.788348041\n",
      "87.7421692894\n",
      "41.2011027061\n",
      "56.2628586126\n",
      "42.2870481879\n",
      "57.9517945695\n",
      "22.8639967127\n",
      "9.72222222222\n",
      "16.4921417876\n",
      "32.7495170071\n",
      "47.7705097831\n",
      "30.4607113881\n",
      "26.9315547634\n"
     ]
    },
    {
     "name": "stderr",
     "output_type": "stream",
     "text": [
      "\r",
      "  0%|          | 0/8 [00:00<?, ?it/s]"
     ]
    },
    {
     "name": "stdout",
     "output_type": "stream",
     "text": [
      "START TRAIN.\n",
      "[Iteration 1 / 2816] TRAIN loss: 2.954524\n",
      "[Iteration 51 / 2816] TRAIN loss: 2.534720\n",
      "[Iteration 101 / 2816] TRAIN loss: 2.587201\n",
      "[Iteration 151 / 2816] TRAIN loss: 2.603841\n",
      "[Iteration 201 / 2816] TRAIN loss: 2.457146\n",
      "[Iteration 251 / 2816] TRAIN loss: 2.566322\n",
      "[Iteration 301 / 2816] TRAIN loss: 2.491839\n",
      "[Iteration 351 / 2816] TRAIN loss: 2.518561\n",
      "[Epoch 1 / 8] TRAIN acc: 5.909091\n"
     ]
    },
    {
     "name": "stderr",
     "output_type": "stream",
     "text": [
      "\r",
      " 12%|█▎        | 1/8 [03:44<26:09, 224.18s/it]"
     ]
    },
    {
     "name": "stdout",
     "output_type": "stream",
     "text": [
      "[Epoch 1 / 8] VAL acc: 6.053763\n",
      "[Iteration 401 / 2816] TRAIN loss: 2.551600\n",
      "[Iteration 451 / 2816] TRAIN loss: 2.567530\n",
      "[Iteration 501 / 2816] TRAIN loss: 2.464455\n",
      "[Iteration 551 / 2816] TRAIN loss: 2.575394\n",
      "[Iteration 601 / 2816] TRAIN loss: 2.543320\n",
      "[Iteration 651 / 2816] TRAIN loss: 2.490315\n",
      "[Iteration 701 / 2816] TRAIN loss: 2.454948\n",
      "[Epoch 2 / 8] TRAIN acc: 6.062500\n"
     ]
    },
    {
     "name": "stderr",
     "output_type": "stream",
     "text": [
      "\r",
      " 25%|██▌       | 2/8 [07:28<22:26, 224.34s/it]"
     ]
    },
    {
     "name": "stdout",
     "output_type": "stream",
     "text": [
      "[Epoch 2 / 8] VAL acc: 4.849462\n",
      "[Iteration 751 / 2816] TRAIN loss: 2.376264\n",
      "[Iteration 801 / 2816] TRAIN loss: 2.517177\n",
      "[Iteration 851 / 2816] TRAIN loss: 2.355794\n",
      "[Iteration 901 / 2816] TRAIN loss: 2.636793\n",
      "[Iteration 951 / 2816] TRAIN loss: 2.559277\n",
      "[Iteration 1001 / 2816] TRAIN loss: 2.371019\n",
      "[Iteration 1051 / 2816] TRAIN loss: 2.579557\n",
      "[Epoch 3 / 8] TRAIN acc: 5.994318\n"
     ]
    },
    {
     "name": "stderr",
     "output_type": "stream",
     "text": [
      "\r",
      " 38%|███▊      | 3/8 [11:13<18:42, 224.58s/it]"
     ]
    },
    {
     "name": "stdout",
     "output_type": "stream",
     "text": [
      "[Epoch 3 / 8] VAL acc: 6.043011\n",
      "[Iteration 1101 / 2816] TRAIN loss: 2.606901\n",
      "[Iteration 1151 / 2816] TRAIN loss: 2.461567\n",
      "[Iteration 1201 / 2816] TRAIN loss: 2.163956\n",
      "[Iteration 1251 / 2816] TRAIN loss: 2.466686\n",
      "[Iteration 1301 / 2816] TRAIN loss: 2.323572\n",
      "[Iteration 1351 / 2816] TRAIN loss: 2.342954\n",
      "[Iteration 1401 / 2816] TRAIN loss: 2.536562\n",
      "[Epoch 4 / 8] TRAIN acc: 6.443182\n"
     ]
    },
    {
     "name": "stderr",
     "output_type": "stream",
     "text": [
      "\r",
      " 50%|█████     | 4/8 [14:58<14:58, 224.71s/it]"
     ]
    },
    {
     "name": "stdout",
     "output_type": "stream",
     "text": [
      "[Epoch 4 / 8] VAL acc: 4.752688\n",
      "[Iteration 1451 / 2816] TRAIN loss: 2.407142\n",
      "[Iteration 1501 / 2816] TRAIN loss: 2.481956\n",
      "[Iteration 1551 / 2816] TRAIN loss: 2.464718\n",
      "[Iteration 1601 / 2816] TRAIN loss: 2.478990\n",
      "[Iteration 1651 / 2816] TRAIN loss: 2.301197\n",
      "[Iteration 1701 / 2816] TRAIN loss: 2.613555\n",
      "[Iteration 1751 / 2816] TRAIN loss: 2.537389\n",
      "[Epoch 5 / 8] TRAIN acc: 6.221591\n"
     ]
    },
    {
     "name": "stderr",
     "output_type": "stream",
     "text": [
      "\r",
      " 62%|██████▎   | 5/8 [18:43<11:14, 224.79s/it]"
     ]
    },
    {
     "name": "stdout",
     "output_type": "stream",
     "text": [
      "[Epoch 5 / 8] VAL acc: 4.881720\n",
      "[Iteration 1801 / 2816] TRAIN loss: 2.491837\n",
      "[Iteration 1851 / 2816] TRAIN loss: 2.522803\n",
      "[Iteration 1901 / 2816] TRAIN loss: 2.386106\n",
      "[Iteration 1951 / 2816] TRAIN loss: 2.410663\n",
      "[Iteration 2001 / 2816] TRAIN loss: 2.356669\n",
      "[Iteration 2051 / 2816] TRAIN loss: 2.292564\n",
      "[Iteration 2101 / 2816] TRAIN loss: 2.327033\n",
      "[Epoch 6 / 8] TRAIN acc: 6.636364\n"
     ]
    },
    {
     "name": "stderr",
     "output_type": "stream",
     "text": [
      "\r",
      " 75%|███████▌  | 6/8 [22:29<07:29, 224.84s/it]"
     ]
    },
    {
     "name": "stdout",
     "output_type": "stream",
     "text": [
      "[Epoch 6 / 8] VAL acc: 5.688172\n",
      "[Iteration 2151 / 2816] TRAIN loss: 2.299006\n",
      "[Iteration 2201 / 2816] TRAIN loss: 2.505155\n",
      "[Iteration 2251 / 2816] TRAIN loss: 2.386167\n",
      "[Iteration 2301 / 2816] TRAIN loss: 2.377350\n",
      "[Iteration 2351 / 2816] TRAIN loss: 2.437470\n",
      "[Iteration 2401 / 2816] TRAIN loss: 2.193578\n",
      "[Iteration 2451 / 2816] TRAIN loss: 2.315537\n",
      "[Epoch 7 / 8] TRAIN acc: 6.920455\n"
     ]
    },
    {
     "name": "stderr",
     "output_type": "stream",
     "text": [
      "\r",
      " 88%|████████▊ | 7/8 [26:13<03:44, 224.85s/it]"
     ]
    },
    {
     "name": "stdout",
     "output_type": "stream",
     "text": [
      "[Epoch 7 / 8] VAL acc: 5.806452\n",
      "[Iteration 2501 / 2816] TRAIN loss: 2.463436\n",
      "[Iteration 2551 / 2816] TRAIN loss: 2.619310\n",
      "[Iteration 2601 / 2816] TRAIN loss: 2.268632\n",
      "[Iteration 2651 / 2816] TRAIN loss: 2.221551\n",
      "[Iteration 2701 / 2816] TRAIN loss: 2.411404\n",
      "[Iteration 2751 / 2816] TRAIN loss: 2.264009\n",
      "[Iteration 2801 / 2816] TRAIN loss: 2.345693\n",
      "[Epoch 8 / 8] TRAIN acc: 7.196023\n"
     ]
    },
    {
     "name": "stderr",
     "output_type": "stream",
     "text": [
      "100%|██████████| 8/8 [29:59<00:00, 224.90s/it]\n",
      "  0%|          | 0/124 [00:00<?, ?it/s]"
     ]
    },
    {
     "name": "stdout",
     "output_type": "stream",
     "text": [
      "[Epoch 8 / 8] VAL acc: 4.505376\n",
      "Trained in 1799 seconds.\n",
      "FINISH.\n"
     ]
    },
    {
     "name": "stderr",
     "output_type": "stream",
     "text": [
      "100%|██████████| 124/124 [00:19<00:00,  6.40it/s]\n"
     ]
    },
    {
     "name": "stdout",
     "output_type": "stream",
     "text": [
      "0.210540467868\n",
      "   40 | 30m38s |    0.21054 |      37.8101 |    0.5000 |    10.0000 |   -3.0000 |       8.0000 |               1.0000 |            -6.0000 | \n",
      "weights: [0.079789581891864733, 0.064757278350021791, 0.021985008591674442, 0.046819434893280693, 0.034285715181341145, 0.045617096211309868, 0.033286498891162593, 0.084368991559831519, 0.1984126984126984, 0.11696554459257208, 0.058902009005553535, 0.040380819765943078, 0.063327882303826827, 0.071626475434638417]\n",
      "equivalent_num:\n",
      "24.1762433132\n",
      "29.788348041\n",
      "87.7421692894\n",
      "41.2011027061\n",
      "56.2628586126\n",
      "42.2870481879\n",
      "57.9517945695\n",
      "22.8639967127\n",
      "9.72222222222\n",
      "16.4921417876\n",
      "32.7495170071\n",
      "47.7705097831\n",
      "30.4607113881\n",
      "26.9315547634\n"
     ]
    },
    {
     "name": "stderr",
     "output_type": "stream",
     "text": [
      "\r",
      "  0%|          | 0/8 [00:00<?, ?it/s]"
     ]
    },
    {
     "name": "stdout",
     "output_type": "stream",
     "text": [
      "START TRAIN.\n",
      "[Iteration 1 / 1304] TRAIN loss: 2.719056\n",
      "[Iteration 51 / 1304] TRAIN loss: 2.473613\n",
      "[Iteration 101 / 1304] TRAIN loss: 2.464539\n",
      "[Iteration 151 / 1304] TRAIN loss: 2.243926\n",
      "[Epoch 1 / 8] TRAIN acc: 16.828221\n"
     ]
    },
    {
     "name": "stderr",
     "output_type": "stream",
     "text": [
      "\r",
      " 12%|█▎        | 1/8 [03:12<22:26, 192.33s/it]"
     ]
    },
    {
     "name": "stdout",
     "output_type": "stream",
     "text": [
      "[Epoch 1 / 8] VAL acc: 5.010753\n",
      "[Iteration 201 / 1304] TRAIN loss: 2.224693\n",
      "[Iteration 251 / 1304] TRAIN loss: 2.038301\n",
      "[Iteration 301 / 1304] TRAIN loss: 2.132557\n",
      "[Epoch 2 / 8] TRAIN acc: 20.895706\n"
     ]
    },
    {
     "name": "stderr",
     "output_type": "stream",
     "text": [
      "\r",
      " 25%|██▌       | 2/8 [06:24<19:14, 192.37s/it]"
     ]
    },
    {
     "name": "stdout",
     "output_type": "stream",
     "text": [
      "[Epoch 2 / 8] VAL acc: 6.301075\n",
      "[Iteration 351 / 1304] TRAIN loss: 2.313041\n",
      "[Iteration 401 / 1304] TRAIN loss: 1.997122\n",
      "[Iteration 451 / 1304] TRAIN loss: 2.062857\n",
      "[Epoch 3 / 8] TRAIN acc: 24.619632\n"
     ]
    },
    {
     "name": "stderr",
     "output_type": "stream",
     "text": [
      "\r",
      " 38%|███▊      | 3/8 [09:37<16:01, 192.35s/it]"
     ]
    },
    {
     "name": "stdout",
     "output_type": "stream",
     "text": [
      "[Epoch 3 / 8] VAL acc: 4.204301\n",
      "[Iteration 501 / 1304] TRAIN loss: 2.214622\n",
      "[Iteration 551 / 1304] TRAIN loss: 1.952983\n",
      "[Iteration 601 / 1304] TRAIN loss: 2.298342\n",
      "[Iteration 651 / 1304] TRAIN loss: 2.199616\n",
      "[Epoch 4 / 8] TRAIN acc: 25.435583\n"
     ]
    },
    {
     "name": "stderr",
     "output_type": "stream",
     "text": [
      "\r",
      " 50%|█████     | 4/8 [12:49<12:49, 192.31s/it]"
     ]
    },
    {
     "name": "stdout",
     "output_type": "stream",
     "text": [
      "[Epoch 4 / 8] VAL acc: 6.989247\n",
      "[Iteration 701 / 1304] TRAIN loss: 1.947368\n",
      "[Iteration 751 / 1304] TRAIN loss: 2.016526\n",
      "[Iteration 801 / 1304] TRAIN loss: 2.053536\n",
      "[Epoch 5 / 8] TRAIN acc: 27.503067\n"
     ]
    },
    {
     "name": "stderr",
     "output_type": "stream",
     "text": [
      "\r",
      " 62%|██████▎   | 5/8 [16:01<09:36, 192.32s/it]"
     ]
    },
    {
     "name": "stdout",
     "output_type": "stream",
     "text": [
      "[Epoch 5 / 8] VAL acc: 6.913978\n",
      "[Iteration 851 / 1304] TRAIN loss: 1.915232\n",
      "[Iteration 901 / 1304] TRAIN loss: 1.916009\n",
      "[Iteration 951 / 1304] TRAIN loss: 1.935730\n",
      "[Epoch 6 / 8] TRAIN acc: 27.993865\n"
     ]
    },
    {
     "name": "stderr",
     "output_type": "stream",
     "text": [
      "\r",
      " 75%|███████▌  | 6/8 [19:13<06:24, 192.30s/it]"
     ]
    },
    {
     "name": "stdout",
     "output_type": "stream",
     "text": [
      "[Epoch 6 / 8] VAL acc: 7.215054\n",
      "[Iteration 1001 / 1304] TRAIN loss: 2.022921\n",
      "[Iteration 1051 / 1304] TRAIN loss: 1.610909\n",
      "[Iteration 1101 / 1304] TRAIN loss: 1.889718\n",
      "[Epoch 7 / 8] TRAIN acc: 29.276074\n"
     ]
    },
    {
     "name": "stderr",
     "output_type": "stream",
     "text": [
      "\r",
      " 88%|████████▊ | 7/8 [22:26<03:12, 192.32s/it]"
     ]
    },
    {
     "name": "stdout",
     "output_type": "stream",
     "text": [
      "[Epoch 7 / 8] VAL acc: 6.032258\n",
      "[Iteration 1151 / 1304] TRAIN loss: 1.802484\n",
      "[Iteration 1201 / 1304] TRAIN loss: 1.804377\n",
      "[Iteration 1251 / 1304] TRAIN loss: 1.896073\n",
      "[Iteration 1301 / 1304] TRAIN loss: 1.749987\n",
      "[Epoch 8 / 8] TRAIN acc: 30.423313\n"
     ]
    },
    {
     "name": "stderr",
     "output_type": "stream",
     "text": [
      "100%|██████████| 8/8 [25:38<00:00, 192.29s/it]\n",
      "  0%|          | 0/124 [00:00<?, ?it/s]"
     ]
    },
    {
     "name": "stdout",
     "output_type": "stream",
     "text": [
      "[Epoch 8 / 8] VAL acc: 7.602151\n",
      "Trained in 1538 seconds.\n",
      "FINISH.\n"
     ]
    },
    {
     "name": "stderr",
     "output_type": "stream",
     "text": [
      "100%|██████████| 124/124 [00:19<00:00,  6.30it/s]\n",
      "  0%|          | 5/12386 [00:00<04:13, 48.82it/s]"
     ]
    },
    {
     "name": "stdout",
     "output_type": "stream",
     "text": [
      "0.397149771444\n",
      "submissions/res18_0.39715_MHPEPCC.csv\n",
      "'age'\n",
      "'gender'\n",
      "'view_position'\n",
      "'image_name'\n"
     ]
    },
    {
     "name": "stderr",
     "output_type": "stream",
     "text": [
      "100%|██████████| 12386/12386 [03:33<00:00, 57.92it/s]\n"
     ]
    },
    {
     "name": "stdout",
     "output_type": "stream",
     "text": [
      "   41 | 29m51s | \u001b[35m   0.39715\u001b[0m | \u001b[32m     80.0000\u001b[0m | \u001b[32m   0.5000\u001b[0m | \u001b[32m    1.0000\u001b[0m | \u001b[32m  -3.0000\u001b[0m | \u001b[32m      8.0000\u001b[0m | \u001b[32m             10.0000\u001b[0m | \u001b[32m           -6.0000\u001b[0m | \n",
      "weights: [0.079789581891864733, 0.064757278350021791, 0.021985008591674442, 0.046819434893280693, 0.034285715181341145, 0.045617096211309868, 0.033286498891162593, 0.084368991559831519, 0.1984126984126984, 0.11696554459257208, 0.058902009005553535, 0.040380819765943078, 0.063327882303826827, 0.071626475434638417]\n",
      "equivalent_num:\n",
      "24.1762433132\n",
      "29.788348041\n",
      "87.7421692894\n",
      "41.2011027061\n",
      "56.2628586126\n",
      "42.2870481879\n",
      "57.9517945695\n",
      "22.8639967127\n",
      "9.72222222222\n",
      "16.4921417876\n",
      "32.7495170071\n",
      "47.7705097831\n",
      "30.4607113881\n",
      "26.9315547634\n"
     ]
    },
    {
     "name": "stderr",
     "output_type": "stream",
     "text": [
      "\r",
      "  0%|          | 0/8 [00:00<?, ?it/s]"
     ]
    },
    {
     "name": "stdout",
     "output_type": "stream",
     "text": [
      "START TRAIN.\n",
      "[Iteration 1 / 1304] TRAIN loss: 2.716035\n",
      "[Iteration 51 / 1304] TRAIN loss: 2.645079\n",
      "[Iteration 101 / 1304] TRAIN loss: 2.703603\n",
      "[Iteration 151 / 1304] TRAIN loss: 2.723107\n",
      "[Epoch 1 / 8] TRAIN acc: 7.533742\n"
     ]
    },
    {
     "name": "stderr",
     "output_type": "stream",
     "text": [
      "\r",
      " 12%|█▎        | 1/8 [03:12<22:25, 192.17s/it]"
     ]
    },
    {
     "name": "stdout",
     "output_type": "stream",
     "text": [
      "[Epoch 1 / 8] VAL acc: 1.967742\n",
      "[Iteration 201 / 1304] TRAIN loss: 2.636741\n",
      "[Iteration 251 / 1304] TRAIN loss: 2.681566\n",
      "[Iteration 301 / 1304] TRAIN loss: 2.678431\n",
      "[Epoch 2 / 8] TRAIN acc: 8.766871\n"
     ]
    },
    {
     "name": "stderr",
     "output_type": "stream",
     "text": [
      "\r",
      " 25%|██▌       | 2/8 [06:24<19:12, 192.13s/it]"
     ]
    },
    {
     "name": "stdout",
     "output_type": "stream",
     "text": [
      "[Epoch 2 / 8] VAL acc: 2.505376\n",
      "[Iteration 351 / 1304] TRAIN loss: 2.600102\n",
      "[Iteration 401 / 1304] TRAIN loss: 2.735387\n",
      "[Iteration 451 / 1304] TRAIN loss: 2.520744\n",
      "[Epoch 3 / 8] TRAIN acc: 10.165644\n"
     ]
    },
    {
     "name": "stderr",
     "output_type": "stream",
     "text": [
      "\r",
      " 38%|███▊      | 3/8 [09:36<16:01, 192.24s/it]"
     ]
    },
    {
     "name": "stdout",
     "output_type": "stream",
     "text": [
      "[Epoch 3 / 8] VAL acc: 3.021505\n",
      "[Iteration 501 / 1304] TRAIN loss: 2.648175\n",
      "[Iteration 551 / 1304] TRAIN loss: 2.541901\n",
      "[Iteration 601 / 1304] TRAIN loss: 2.414858\n",
      "[Iteration 651 / 1304] TRAIN loss: 2.412974\n",
      "[Epoch 4 / 8] TRAIN acc: 11.423313\n"
     ]
    },
    {
     "name": "stderr",
     "output_type": "stream",
     "text": [
      "\r",
      " 50%|█████     | 4/8 [12:49<12:49, 192.32s/it]"
     ]
    },
    {
     "name": "stdout",
     "output_type": "stream",
     "text": [
      "[Epoch 4 / 8] VAL acc: 3.526882\n",
      "[Iteration 701 / 1304] TRAIN loss: 2.457737\n",
      "[Iteration 751 / 1304] TRAIN loss: 2.503017\n",
      "[Iteration 801 / 1304] TRAIN loss: 2.509288\n",
      "[Epoch 5 / 8] TRAIN acc: 12.582822\n"
     ]
    },
    {
     "name": "stderr",
     "output_type": "stream",
     "text": [
      "\r",
      " 62%|██████▎   | 5/8 [16:01<09:36, 192.30s/it]"
     ]
    },
    {
     "name": "stdout",
     "output_type": "stream",
     "text": [
      "[Epoch 5 / 8] VAL acc: 3.677419\n",
      "[Iteration 851 / 1304] TRAIN loss: 2.415105\n",
      "[Iteration 901 / 1304] TRAIN loss: 2.544779\n",
      "[Iteration 951 / 1304] TRAIN loss: 2.396267\n",
      "[Epoch 6 / 8] TRAIN acc: 13.773006\n"
     ]
    },
    {
     "name": "stderr",
     "output_type": "stream",
     "text": [
      "\r",
      " 75%|███████▌  | 6/8 [19:13<06:24, 192.32s/it]"
     ]
    },
    {
     "name": "stdout",
     "output_type": "stream",
     "text": [
      "[Epoch 6 / 8] VAL acc: 3.946237\n",
      "[Iteration 1001 / 1304] TRAIN loss: 2.583248\n",
      "[Iteration 1051 / 1304] TRAIN loss: 2.578652\n",
      "[Iteration 1101 / 1304] TRAIN loss: 2.504853\n",
      "[Epoch 7 / 8] TRAIN acc: 15.006135\n"
     ]
    },
    {
     "name": "stderr",
     "output_type": "stream",
     "text": [
      "\r",
      " 88%|████████▊ | 7/8 [22:26<03:12, 192.34s/it]"
     ]
    },
    {
     "name": "stdout",
     "output_type": "stream",
     "text": [
      "[Epoch 7 / 8] VAL acc: 4.268817\n",
      "[Iteration 1151 / 1304] TRAIN loss: 2.496801\n",
      "[Iteration 1201 / 1304] TRAIN loss: 2.475698\n",
      "[Iteration 1251 / 1304] TRAIN loss: 2.464651\n",
      "[Iteration 1301 / 1304] TRAIN loss: 2.365294\n",
      "[Epoch 8 / 8] TRAIN acc: 15.024540\n"
     ]
    },
    {
     "name": "stderr",
     "output_type": "stream",
     "text": [
      "100%|██████████| 8/8 [25:38<00:00, 192.35s/it]\n",
      "  0%|          | 0/124 [00:00<?, ?it/s]"
     ]
    },
    {
     "name": "stdout",
     "output_type": "stream",
     "text": [
      "[Epoch 8 / 8] VAL acc: 4.709677\n",
      "Trained in 1538 seconds.\n",
      "FINISH.\n"
     ]
    },
    {
     "name": "stderr",
     "output_type": "stream",
     "text": [
      "100%|██████████| 124/124 [00:19<00:00,  6.32it/s]\n"
     ]
    },
    {
     "name": "stdout",
     "output_type": "stream",
     "text": [
      "0.229093842431\n",
      "   42 | 26m19s |    0.22909 |      80.0000 |    0.5000 |    10.0000 |   -7.0000 |       8.0000 |              10.0000 |            -6.0000 | \n",
      "weights: [0.079789581891864733, 0.064757278350021791, 0.021985008591674442, 0.046819434893280693, 0.034285715181341145, 0.045617096211309868, 0.033286498891162593, 0.084368991559831519, 0.1984126984126984, 0.11696554459257208, 0.058902009005553535, 0.040380819765943078, 0.063327882303826827, 0.071626475434638417]\n",
      "equivalent_num:\n",
      "24.1762433132\n",
      "29.788348041\n",
      "87.7421692894\n",
      "41.2011027061\n",
      "56.2628586126\n",
      "42.2870481879\n",
      "57.9517945695\n",
      "22.8639967127\n",
      "9.72222222222\n",
      "16.4921417876\n",
      "32.7495170071\n",
      "47.7705097831\n",
      "30.4607113881\n",
      "26.9315547634\n"
     ]
    },
    {
     "name": "stderr",
     "output_type": "stream",
     "text": [
      "\r",
      "  0%|          | 0/8 [00:00<?, ?it/s]"
     ]
    },
    {
     "name": "stdout",
     "output_type": "stream",
     "text": [
      "START TRAIN.\n",
      "[Iteration 1 / 1800] TRAIN loss: 2.796046\n",
      "[Iteration 51 / 1800] TRAIN loss: 2.677769\n",
      "[Iteration 101 / 1800] TRAIN loss: 2.591127\n",
      "[Iteration 151 / 1800] TRAIN loss: 2.597890\n",
      "[Iteration 201 / 1800] TRAIN loss: 2.625548\n",
      "[Epoch 1 / 8] TRAIN acc: 8.484444\n"
     ]
    },
    {
     "name": "stderr",
     "output_type": "stream",
     "text": [
      "\r",
      " 12%|█▎        | 1/8 [03:09<22:06, 189.51s/it]"
     ]
    },
    {
     "name": "stdout",
     "output_type": "stream",
     "text": [
      "[Epoch 1 / 8] VAL acc: 6.053763\n",
      "[Iteration 251 / 1800] TRAIN loss: 2.625244\n",
      "[Iteration 301 / 1800] TRAIN loss: 2.614695\n",
      "[Iteration 351 / 1800] TRAIN loss: 2.624411\n",
      "[Iteration 401 / 1800] TRAIN loss: 2.614285\n",
      "[Epoch 2 / 8] TRAIN acc: 9.577778\n"
     ]
    },
    {
     "name": "stderr",
     "output_type": "stream",
     "text": [
      "\r",
      " 25%|██▌       | 2/8 [06:14<18:42, 187.10s/it]"
     ]
    },
    {
     "name": "stdout",
     "output_type": "stream",
     "text": [
      "[Epoch 2 / 8] VAL acc: 6.053763\n",
      "[Iteration 451 / 1800] TRAIN loss: 2.620080\n",
      "[Iteration 501 / 1800] TRAIN loss: 2.626073\n",
      "[Iteration 551 / 1800] TRAIN loss: 2.629226\n",
      "[Iteration 601 / 1800] TRAIN loss: 2.623768\n",
      "[Iteration 651 / 1800] TRAIN loss: 2.615726\n",
      "[Epoch 3 / 8] TRAIN acc: 9.831111\n"
     ]
    },
    {
     "name": "stderr",
     "output_type": "stream",
     "text": [
      "\r",
      " 38%|███▊      | 3/8 [09:16<15:27, 185.57s/it]"
     ]
    },
    {
     "name": "stdout",
     "output_type": "stream",
     "text": [
      "[Epoch 3 / 8] VAL acc: 6.053763\n",
      "[Iteration 701 / 1800] TRAIN loss: 2.617239\n",
      "[Iteration 751 / 1800] TRAIN loss: 2.619866\n",
      "[Iteration 801 / 1800] TRAIN loss: 2.622319\n",
      "[Iteration 851 / 1800] TRAIN loss: 2.621319\n",
      "[Epoch 4 / 8] TRAIN acc: 9.791111\n"
     ]
    },
    {
     "name": "stderr",
     "output_type": "stream",
     "text": [
      "\r",
      " 50%|█████     | 4/8 [12:18<12:18, 184.51s/it]"
     ]
    },
    {
     "name": "stdout",
     "output_type": "stream",
     "text": [
      "[Epoch 4 / 8] VAL acc: 6.053763\n",
      "[Iteration 901 / 1800] TRAIN loss: 2.619593\n",
      "[Iteration 951 / 1800] TRAIN loss: 2.620963\n",
      "[Iteration 1001 / 1800] TRAIN loss: 2.623548\n",
      "[Iteration 1051 / 1800] TRAIN loss: 2.629932\n",
      "[Iteration 1101 / 1800] TRAIN loss: 2.625847\n",
      "[Epoch 5 / 8] TRAIN acc: 9.591111\n"
     ]
    },
    {
     "name": "stderr",
     "output_type": "stream",
     "text": [
      "\r",
      " 62%|██████▎   | 5/8 [15:18<09:10, 183.62s/it]"
     ]
    },
    {
     "name": "stdout",
     "output_type": "stream",
     "text": [
      "[Epoch 5 / 8] VAL acc: 6.053763\n",
      "[Iteration 1151 / 1800] TRAIN loss: 2.618955\n",
      "[Iteration 1201 / 1800] TRAIN loss: 2.613144\n",
      "[Iteration 1251 / 1800] TRAIN loss: 2.630192\n",
      "[Iteration 1301 / 1800] TRAIN loss: 2.624111\n",
      "[Epoch 6 / 8] TRAIN acc: 9.266667\n"
     ]
    },
    {
     "name": "stderr",
     "output_type": "stream",
     "text": [
      "\r",
      " 75%|███████▌  | 6/8 [18:17<06:05, 182.98s/it]"
     ]
    },
    {
     "name": "stdout",
     "output_type": "stream",
     "text": [
      "[Epoch 6 / 8] VAL acc: 6.053763\n",
      "[Iteration 1351 / 1800] TRAIN loss: 2.620473\n",
      "[Iteration 1401 / 1800] TRAIN loss: 2.626358\n",
      "[Iteration 1451 / 1800] TRAIN loss: 2.616567\n",
      "[Iteration 1501 / 1800] TRAIN loss: 2.623514\n",
      "[Iteration 1551 / 1800] TRAIN loss: 2.629341\n",
      "[Epoch 7 / 8] TRAIN acc: 9.151111\n"
     ]
    },
    {
     "name": "stderr",
     "output_type": "stream",
     "text": [
      "\r",
      " 88%|████████▊ | 7/8 [21:17<03:02, 182.48s/it]"
     ]
    },
    {
     "name": "stdout",
     "output_type": "stream",
     "text": [
      "[Epoch 7 / 8] VAL acc: 6.053763\n",
      "[Iteration 1601 / 1800] TRAIN loss: 2.617058\n",
      "[Iteration 1651 / 1800] TRAIN loss: 2.621233\n",
      "[Iteration 1701 / 1800] TRAIN loss: 2.618130\n",
      "[Iteration 1751 / 1800] TRAIN loss: 2.616515\n",
      "[Epoch 8 / 8] TRAIN acc: 9.297778\n"
     ]
    },
    {
     "name": "stderr",
     "output_type": "stream",
     "text": [
      "100%|██████████| 8/8 [24:15<00:00, 181.90s/it]\n",
      "  0%|          | 0/124 [00:00<?, ?it/s]"
     ]
    },
    {
     "name": "stdout",
     "output_type": "stream",
     "text": [
      "[Epoch 8 / 8] VAL acc: 6.053763\n",
      "Trained in 1455 seconds.\n",
      "FINISH.\n"
     ]
    },
    {
     "name": "stderr",
     "output_type": "stream",
     "text": [
      "100%|██████████| 124/124 [00:18<00:00,  6.78it/s]\n"
     ]
    },
    {
     "name": "stdout",
     "output_type": "stream",
     "text": [
      "0.315676257058\n",
      "   43 | 24m54s |    0.31568 |      58.7355 |    0.5000 |    10.0000 |   -3.0000 |       8.0000 |              10.0000 |            -1.0000 | \n",
      "weights: [0.079789581891864733, 0.064757278350021791, 0.021985008591674442, 0.046819434893280693, 0.034285715181341145, 0.045617096211309868, 0.033286498891162593, 0.084368991559831519, 0.1984126984126984, 0.11696554459257208, 0.058902009005553535, 0.040380819765943078, 0.063327882303826827, 0.071626475434638417]\n",
      "equivalent_num:\n",
      "24.1762433132\n",
      "29.788348041\n",
      "87.7421692894\n",
      "41.2011027061\n",
      "56.2628586126\n",
      "42.2870481879\n",
      "57.9517945695\n",
      "22.8639967127\n",
      "9.72222222222\n",
      "16.4921417876\n",
      "32.7495170071\n",
      "47.7705097831\n",
      "30.4607113881\n",
      "26.9315547634\n"
     ]
    },
    {
     "name": "stderr",
     "output_type": "stream",
     "text": [
      "\r",
      "  0%|          | 0/2 [00:00<?, ?it/s]"
     ]
    },
    {
     "name": "stdout",
     "output_type": "stream",
     "text": [
      "START TRAIN.\n",
      "[Iteration 1 / 326] TRAIN loss: 2.924285\n",
      "[Iteration 51 / 326] TRAIN loss: 2.508577\n",
      "[Iteration 101 / 326] TRAIN loss: 2.520223\n",
      "[Iteration 151 / 326] TRAIN loss: 2.568175\n",
      "[Epoch 1 / 2] TRAIN acc: 12.306748\n"
     ]
    },
    {
     "name": "stderr",
     "output_type": "stream",
     "text": [
      "\r",
      " 50%|█████     | 1/2 [03:10<03:10, 190.76s/it]"
     ]
    },
    {
     "name": "stdout",
     "output_type": "stream",
     "text": [
      "[Epoch 1 / 2] VAL acc: 2.774194\n",
      "[Iteration 201 / 326] TRAIN loss: 2.651479\n",
      "[Iteration 251 / 326] TRAIN loss: 2.514030\n",
      "[Iteration 301 / 326] TRAIN loss: 2.588898\n",
      "[Epoch 2 / 2] TRAIN acc: 13.208589\n"
     ]
    },
    {
     "name": "stderr",
     "output_type": "stream",
     "text": [
      "100%|██████████| 2/2 [06:19<00:00, 189.52s/it]\n",
      "  0%|          | 0/124 [00:00<?, ?it/s]"
     ]
    },
    {
     "name": "stdout",
     "output_type": "stream",
     "text": [
      "[Epoch 2 / 2] VAL acc: 6.053763\n",
      "Trained in 379 seconds.\n",
      "FINISH.\n"
     ]
    },
    {
     "name": "stderr",
     "output_type": "stream",
     "text": [
      "100%|██████████| 124/124 [00:19<00:00,  6.42it/s]\n"
     ]
    },
    {
     "name": "stdout",
     "output_type": "stream",
     "text": [
      "0.315676257058\n",
      "   44 | 07m00s |    0.31568 |      80.0000 |    0.5000 |    10.0000 |   -3.0000 |       2.0000 |               1.0000 |            -1.0000 | \n",
      "weights: [0.079789581891864733, 0.064757278350021791, 0.021985008591674442, 0.046819434893280693, 0.034285715181341145, 0.045617096211309868, 0.033286498891162593, 0.084368991559831519, 0.1984126984126984, 0.11696554459257208, 0.058902009005553535, 0.040380819765943078, 0.063327882303826827, 0.071626475434638417]\n",
      "equivalent_num:\n",
      "24.1762433132\n",
      "29.788348041\n",
      "87.7421692894\n",
      "41.2011027061\n",
      "56.2628586126\n",
      "42.2870481879\n",
      "57.9517945695\n",
      "22.8639967127\n",
      "9.72222222222\n",
      "16.4921417876\n",
      "32.7495170071\n",
      "47.7705097831\n",
      "30.4607113881\n",
      "26.9315547634\n"
     ]
    },
    {
     "name": "stderr",
     "output_type": "stream",
     "text": [
      "\r",
      "  0%|          | 0/8 [00:00<?, ?it/s]"
     ]
    },
    {
     "name": "stdout",
     "output_type": "stream",
     "text": [
      "START TRAIN.\n",
      "[Iteration 1 / 1968] TRAIN loss: 2.749930\n",
      "[Iteration 51 / 1968] TRAIN loss: 2.864356\n",
      "[Iteration 101 / 1968] TRAIN loss: 2.614216\n",
      "[Iteration 151 / 1968] TRAIN loss: 2.859819\n",
      "[Iteration 201 / 1968] TRAIN loss: 2.786605\n",
      "[Epoch 1 / 8] TRAIN acc: 4.902439\n"
     ]
    },
    {
     "name": "stderr",
     "output_type": "stream",
     "text": [
      "\r",
      " 12%|█▎        | 1/8 [03:26<24:03, 206.21s/it]"
     ]
    },
    {
     "name": "stdout",
     "output_type": "stream",
     "text": [
      "[Epoch 1 / 8] VAL acc: 1.881720\n",
      "[Iteration 251 / 1968] TRAIN loss: 2.848493\n",
      "[Iteration 301 / 1968] TRAIN loss: 2.669553\n",
      "[Iteration 351 / 1968] TRAIN loss: 2.653900\n",
      "[Iteration 401 / 1968] TRAIN loss: 2.918414\n",
      "[Iteration 451 / 1968] TRAIN loss: 2.556402\n",
      "[Epoch 2 / 8] TRAIN acc: 5.516260\n"
     ]
    },
    {
     "name": "stderr",
     "output_type": "stream",
     "text": [
      "\r",
      " 25%|██▌       | 2/8 [06:52<20:37, 206.26s/it]"
     ]
    },
    {
     "name": "stdout",
     "output_type": "stream",
     "text": [
      "[Epoch 2 / 8] VAL acc: 2.182796\n",
      "[Iteration 501 / 1968] TRAIN loss: 2.749493\n",
      "[Iteration 551 / 1968] TRAIN loss: 2.688284\n",
      "[Iteration 601 / 1968] TRAIN loss: 2.677195\n",
      "[Iteration 651 / 1968] TRAIN loss: 2.582755\n",
      "[Iteration 701 / 1968] TRAIN loss: 2.762532\n",
      "[Epoch 3 / 8] TRAIN acc: 6.231707\n"
     ]
    },
    {
     "name": "stderr",
     "output_type": "stream",
     "text": [
      "\r",
      " 38%|███▊      | 3/8 [10:18<17:11, 206.29s/it]"
     ]
    },
    {
     "name": "stdout",
     "output_type": "stream",
     "text": [
      "[Epoch 3 / 8] VAL acc: 2.602151\n",
      "[Iteration 751 / 1968] TRAIN loss: 2.578659\n",
      "[Iteration 801 / 1968] TRAIN loss: 2.496365\n",
      "[Iteration 851 / 1968] TRAIN loss: 2.672813\n",
      "[Iteration 901 / 1968] TRAIN loss: 2.463166\n",
      "[Iteration 951 / 1968] TRAIN loss: 2.528435\n",
      "[Epoch 4 / 8] TRAIN acc: 7.670732\n"
     ]
    },
    {
     "name": "stderr",
     "output_type": "stream",
     "text": [
      "\r",
      " 50%|█████     | 4/8 [13:45<13:45, 206.28s/it]"
     ]
    },
    {
     "name": "stdout",
     "output_type": "stream",
     "text": [
      "[Epoch 4 / 8] VAL acc: 2.967742\n",
      "[Iteration 1001 / 1968] TRAIN loss: 2.464921\n",
      "[Iteration 1051 / 1968] TRAIN loss: 2.719531\n",
      "[Iteration 1101 / 1968] TRAIN loss: 2.435955\n",
      "[Iteration 1151 / 1968] TRAIN loss: 2.477405\n",
      "[Iteration 1201 / 1968] TRAIN loss: 2.543262\n",
      "[Epoch 5 / 8] TRAIN acc: 7.910569\n"
     ]
    },
    {
     "name": "stderr",
     "output_type": "stream",
     "text": [
      "\r",
      " 62%|██████▎   | 5/8 [17:11<10:18, 206.26s/it]"
     ]
    },
    {
     "name": "stdout",
     "output_type": "stream",
     "text": [
      "[Epoch 5 / 8] VAL acc: 3.268817\n",
      "[Iteration 1251 / 1968] TRAIN loss: 2.546700\n",
      "[Iteration 1301 / 1968] TRAIN loss: 2.395487\n",
      "[Iteration 1351 / 1968] TRAIN loss: 2.480195\n",
      "[Iteration 1401 / 1968] TRAIN loss: 2.399565\n",
      "[Iteration 1451 / 1968] TRAIN loss: 2.424686\n",
      "[Epoch 6 / 8] TRAIN acc: 9.170732\n"
     ]
    },
    {
     "name": "stderr",
     "output_type": "stream",
     "text": [
      "\r",
      " 75%|███████▌  | 6/8 [20:37<06:52, 206.29s/it]"
     ]
    },
    {
     "name": "stdout",
     "output_type": "stream",
     "text": [
      "[Epoch 6 / 8] VAL acc: 4.000000\n",
      "[Iteration 1501 / 1968] TRAIN loss: 2.546981\n",
      "[Iteration 1551 / 1968] TRAIN loss: 2.510645\n",
      "[Iteration 1601 / 1968] TRAIN loss: 2.550541\n",
      "[Iteration 1651 / 1968] TRAIN loss: 2.345297\n",
      "[Iteration 1701 / 1968] TRAIN loss: 2.382406\n",
      "[Epoch 7 / 8] TRAIN acc: 9.784553\n"
     ]
    },
    {
     "name": "stderr",
     "output_type": "stream",
     "text": [
      "\r",
      " 88%|████████▊ | 7/8 [24:04<03:26, 206.30s/it]"
     ]
    },
    {
     "name": "stdout",
     "output_type": "stream",
     "text": [
      "[Epoch 7 / 8] VAL acc: 4.569892\n",
      "[Iteration 1751 / 1968] TRAIN loss: 2.500576\n",
      "[Iteration 1801 / 1968] TRAIN loss: 2.430603\n",
      "[Iteration 1851 / 1968] TRAIN loss: 2.357278\n",
      "[Iteration 1901 / 1968] TRAIN loss: 2.246817\n",
      "[Iteration 1951 / 1968] TRAIN loss: 2.267628\n",
      "[Epoch 8 / 8] TRAIN acc: 10.691057\n"
     ]
    },
    {
     "name": "stderr",
     "output_type": "stream",
     "text": [
      "100%|██████████| 8/8 [27:30<00:00, 206.29s/it]\n",
      "  0%|          | 0/124 [00:00<?, ?it/s]"
     ]
    },
    {
     "name": "stdout",
     "output_type": "stream",
     "text": [
      "[Epoch 8 / 8] VAL acc: 4.924731\n",
      "Trained in 1650 seconds.\n",
      "FINISH.\n"
     ]
    },
    {
     "name": "stderr",
     "output_type": "stream",
     "text": [
      "100%|██████████| 124/124 [00:19<00:00,  6.32it/s]\n"
     ]
    },
    {
     "name": "stdout",
     "output_type": "stream",
     "text": [
      "0.239849421888\n",
      "   45 | 28m11s |    0.23985 |      53.3317 |    0.5000 |    10.0000 |   -7.0000 |       8.0000 |              10.0000 |            -6.0000 | \n",
      "weights: [0.079789581891864733, 0.064757278350021791, 0.021985008591674442, 0.046819434893280693, 0.034285715181341145, 0.045617096211309868, 0.033286498891162593, 0.084368991559831519, 0.1984126984126984, 0.11696554459257208, 0.058902009005553535, 0.040380819765943078, 0.063327882303826827, 0.071626475434638417]\n",
      "equivalent_num:\n",
      "24.1762433132\n",
      "29.788348041\n",
      "87.7421692894\n",
      "41.2011027061\n",
      "56.2628586126\n",
      "42.2870481879\n",
      "57.9517945695\n",
      "22.8639967127\n",
      "9.72222222222\n",
      "16.4921417876\n",
      "32.7495170071\n",
      "47.7705097831\n",
      "30.4607113881\n",
      "26.9315547634\n"
     ]
    },
    {
     "name": "stderr",
     "output_type": "stream",
     "text": [
      "\r",
      "  0%|          | 0/8 [00:00<?, ?it/s]"
     ]
    },
    {
     "name": "stdout",
     "output_type": "stream",
     "text": [
      "START TRAIN.\n",
      "[Iteration 1 / 2816] TRAIN loss: 2.877523\n",
      "[Iteration 51 / 2816] TRAIN loss: 2.757974\n",
      "[Iteration 101 / 2816] TRAIN loss: 3.226888\n",
      "[Iteration 151 / 2816] TRAIN loss: 2.824910\n",
      "[Iteration 201 / 2816] TRAIN loss: 3.080658\n",
      "[Iteration 251 / 2816] TRAIN loss: 3.049436\n",
      "[Iteration 301 / 2816] TRAIN loss: 2.853737\n",
      "[Iteration 351 / 2816] TRAIN loss: 2.884550\n",
      "[Epoch 1 / 8] TRAIN acc: 1.926136\n"
     ]
    },
    {
     "name": "stderr",
     "output_type": "stream",
     "text": [
      "\r",
      " 12%|█▎        | 1/8 [03:46<26:28, 226.87s/it]"
     ]
    },
    {
     "name": "stdout",
     "output_type": "stream",
     "text": [
      "[Epoch 1 / 8] VAL acc: 0.752688\n",
      "[Iteration 401 / 2816] TRAIN loss: 2.909523\n",
      "[Iteration 451 / 2816] TRAIN loss: 3.011495\n",
      "[Iteration 501 / 2816] TRAIN loss: 2.858278\n",
      "[Iteration 551 / 2816] TRAIN loss: 2.754256\n",
      "[Iteration 601 / 2816] TRAIN loss: 2.779955\n",
      "[Iteration 651 / 2816] TRAIN loss: 2.769539\n",
      "[Iteration 701 / 2816] TRAIN loss: 2.748046\n",
      "[Epoch 2 / 8] TRAIN acc: 1.960227\n"
     ]
    },
    {
     "name": "stderr",
     "output_type": "stream",
     "text": [
      "\r",
      " 25%|██▌       | 2/8 [07:34<22:43, 227.22s/it]"
     ]
    },
    {
     "name": "stdout",
     "output_type": "stream",
     "text": [
      "[Epoch 2 / 8] VAL acc: 0.709677\n",
      "[Iteration 751 / 2816] TRAIN loss: 2.749820\n",
      "[Iteration 801 / 2816] TRAIN loss: 2.913378\n",
      "[Iteration 851 / 2816] TRAIN loss: 2.769352\n",
      "[Iteration 901 / 2816] TRAIN loss: 2.733679\n",
      "[Iteration 951 / 2816] TRAIN loss: 2.930993\n",
      "[Iteration 1001 / 2816] TRAIN loss: 2.884514\n",
      "[Iteration 1051 / 2816] TRAIN loss: 2.901525\n",
      "[Epoch 3 / 8] TRAIN acc: 2.008523\n"
     ]
    },
    {
     "name": "stderr",
     "output_type": "stream",
     "text": [
      "\r",
      " 38%|███▊      | 3/8 [11:21<18:56, 227.32s/it]"
     ]
    },
    {
     "name": "stdout",
     "output_type": "stream",
     "text": [
      "[Epoch 3 / 8] VAL acc: 0.795699\n",
      "[Iteration 1101 / 2816] TRAIN loss: 2.892577\n",
      "[Iteration 1151 / 2816] TRAIN loss: 2.794649\n",
      "[Iteration 1201 / 2816] TRAIN loss: 2.912443\n",
      "[Iteration 1251 / 2816] TRAIN loss: 2.827948\n",
      "[Iteration 1301 / 2816] TRAIN loss: 2.908063\n",
      "[Iteration 1351 / 2816] TRAIN loss: 2.945150\n",
      "[Iteration 1401 / 2816] TRAIN loss: 2.737239\n",
      "[Epoch 4 / 8] TRAIN acc: 2.164773\n"
     ]
    },
    {
     "name": "stderr",
     "output_type": "stream",
     "text": [
      "\r",
      " 50%|█████     | 4/8 [15:09<15:09, 227.43s/it]"
     ]
    },
    {
     "name": "stdout",
     "output_type": "stream",
     "text": [
      "[Epoch 4 / 8] VAL acc: 0.741935\n",
      "[Iteration 1451 / 2816] TRAIN loss: 2.891848\n",
      "[Iteration 1501 / 2816] TRAIN loss: 2.778817\n",
      "[Iteration 1551 / 2816] TRAIN loss: 2.859091\n",
      "[Iteration 1601 / 2816] TRAIN loss: 2.777389\n",
      "[Iteration 1651 / 2816] TRAIN loss: 2.864353\n",
      "[Iteration 1701 / 2816] TRAIN loss: 2.781959\n",
      "[Iteration 1751 / 2816] TRAIN loss: 2.840575\n",
      "[Epoch 5 / 8] TRAIN acc: 2.196023\n"
     ]
    },
    {
     "name": "stderr",
     "output_type": "stream",
     "text": [
      "\r",
      " 62%|██████▎   | 5/8 [18:57<11:22, 227.42s/it]"
     ]
    },
    {
     "name": "stdout",
     "output_type": "stream",
     "text": [
      "[Epoch 5 / 8] VAL acc: 0.795699\n",
      "[Iteration 1801 / 2816] TRAIN loss: 2.787541\n",
      "[Iteration 1851 / 2816] TRAIN loss: 2.807020\n",
      "[Iteration 1901 / 2816] TRAIN loss: 2.748183\n",
      "[Iteration 1951 / 2816] TRAIN loss: 2.588824\n",
      "[Iteration 2001 / 2816] TRAIN loss: 2.785474\n",
      "[Iteration 2051 / 2816] TRAIN loss: 2.777319\n",
      "[Iteration 2101 / 2816] TRAIN loss: 2.877652\n",
      "[Epoch 6 / 8] TRAIN acc: 2.392045\n"
     ]
    },
    {
     "name": "stderr",
     "output_type": "stream",
     "text": [
      "\r",
      " 75%|███████▌  | 6/8 [22:44<07:34, 227.48s/it]"
     ]
    },
    {
     "name": "stdout",
     "output_type": "stream",
     "text": [
      "[Epoch 6 / 8] VAL acc: 0.870968\n",
      "[Iteration 2151 / 2816] TRAIN loss: 2.813486\n",
      "[Iteration 2201 / 2816] TRAIN loss: 2.814097\n",
      "[Iteration 2251 / 2816] TRAIN loss: 2.839028\n",
      "[Iteration 2301 / 2816] TRAIN loss: 2.749151\n",
      "[Iteration 2351 / 2816] TRAIN loss: 2.887081\n",
      "[Iteration 2401 / 2816] TRAIN loss: 2.873501\n",
      "[Iteration 2451 / 2816] TRAIN loss: 2.673079\n",
      "[Epoch 7 / 8] TRAIN acc: 2.346591\n"
     ]
    },
    {
     "name": "stderr",
     "output_type": "stream",
     "text": [
      "\r",
      " 88%|████████▊ | 7/8 [26:32<03:47, 227.50s/it]"
     ]
    },
    {
     "name": "stdout",
     "output_type": "stream",
     "text": [
      "[Epoch 7 / 8] VAL acc: 0.849462\n",
      "[Iteration 2501 / 2816] TRAIN loss: 2.928086\n",
      "[Iteration 2551 / 2816] TRAIN loss: 2.844368\n",
      "[Iteration 2601 / 2816] TRAIN loss: 2.696262\n",
      "[Iteration 2651 / 2816] TRAIN loss: 2.839200\n",
      "[Iteration 2701 / 2816] TRAIN loss: 2.820844\n",
      "[Iteration 2751 / 2816] TRAIN loss: 2.709200\n",
      "[Iteration 2801 / 2816] TRAIN loss: 2.799941\n",
      "[Epoch 8 / 8] TRAIN acc: 2.488636\n"
     ]
    },
    {
     "name": "stderr",
     "output_type": "stream",
     "text": [
      "100%|██████████| 8/8 [30:20<00:00, 227.50s/it]\n",
      "  0%|          | 0/124 [00:00<?, ?it/s]"
     ]
    },
    {
     "name": "stdout",
     "output_type": "stream",
     "text": [
      "[Epoch 8 / 8] VAL acc: 0.924731\n",
      "Trained in 1820 seconds.\n",
      "FINISH.\n"
     ]
    },
    {
     "name": "stderr",
     "output_type": "stream",
     "text": [
      "100%|██████████| 124/124 [00:19<00:00,  6.31it/s]\n"
     ]
    },
    {
     "name": "stdout",
     "output_type": "stream",
     "text": [
      "0.045980102178\n",
      "   46 | 31m01s |    0.04598 |      37.0402 |    0.5000 |     1.0000 |   -7.0000 |       8.0000 |               1.0000 |            -6.0000 | \n",
      "weights: [0.079789581891864733, 0.064757278350021791, 0.021985008591674442, 0.046819434893280693, 0.034285715181341145, 0.045617096211309868, 0.033286498891162593, 0.084368991559831519, 0.1984126984126984, 0.11696554459257208, 0.058902009005553535, 0.040380819765943078, 0.063327882303826827, 0.071626475434638417]\n",
      "equivalent_num:\n",
      "24.1762433132\n",
      "29.788348041\n",
      "87.7421692894\n",
      "41.2011027061\n",
      "56.2628586126\n",
      "42.2870481879\n",
      "57.9517945695\n",
      "22.8639967127\n",
      "9.72222222222\n",
      "16.4921417876\n",
      "32.7495170071\n",
      "47.7705097831\n",
      "30.4607113881\n",
      "26.9315547634\n"
     ]
    },
    {
     "name": "stderr",
     "output_type": "stream",
     "text": [
      "\r",
      "  0%|          | 0/8 [00:00<?, ?it/s]"
     ]
    },
    {
     "name": "stdout",
     "output_type": "stream",
     "text": [
      "START TRAIN.\n",
      "[Iteration 1 / 2080] TRAIN loss: 2.853017\n",
      "[Iteration 51 / 2080] TRAIN loss: 2.601931\n",
      "[Iteration 101 / 2080] TRAIN loss: 2.718825\n",
      "[Iteration 151 / 2080] TRAIN loss: 2.564621\n",
      "[Iteration 201 / 2080] TRAIN loss: 2.612696\n",
      "[Iteration 251 / 2080] TRAIN loss: 2.365001\n",
      "[Epoch 1 / 8] TRAIN acc: 7.811538\n"
     ]
    },
    {
     "name": "stderr",
     "output_type": "stream",
     "text": [
      "\r",
      " 12%|█▎        | 1/8 [03:29<24:26, 209.54s/it]"
     ]
    },
    {
     "name": "stdout",
     "output_type": "stream",
     "text": [
      "[Epoch 1 / 8] VAL acc: 5.139785\n",
      "[Iteration 301 / 2080] TRAIN loss: 2.493583\n",
      "[Iteration 351 / 2080] TRAIN loss: 2.528234\n",
      "[Iteration 401 / 2080] TRAIN loss: 2.650807\n",
      "[Iteration 451 / 2080] TRAIN loss: 2.487664\n",
      "[Iteration 501 / 2080] TRAIN loss: 2.480467\n",
      "[Epoch 2 / 8] TRAIN acc: 8.350000\n"
     ]
    },
    {
     "name": "stderr",
     "output_type": "stream",
     "text": [
      "\r",
      " 25%|██▌       | 2/8 [06:57<20:52, 208.83s/it]"
     ]
    },
    {
     "name": "stdout",
     "output_type": "stream",
     "text": [
      "[Epoch 2 / 8] VAL acc: 6.053763\n",
      "[Iteration 551 / 2080] TRAIN loss: 2.545176\n",
      "[Iteration 601 / 2080] TRAIN loss: 2.545933\n",
      "[Iteration 651 / 2080] TRAIN loss: 2.567440\n",
      "[Iteration 701 / 2080] TRAIN loss: 2.670525\n",
      "[Iteration 751 / 2080] TRAIN loss: 2.528456\n",
      "[Epoch 3 / 8] TRAIN acc: 8.661538\n"
     ]
    },
    {
     "name": "stderr",
     "output_type": "stream",
     "text": [
      "\r",
      " 38%|███▊      | 3/8 [10:21<17:15, 207.17s/it]"
     ]
    },
    {
     "name": "stdout",
     "output_type": "stream",
     "text": [
      "[Epoch 3 / 8] VAL acc: 6.053763\n",
      "[Iteration 801 / 2080] TRAIN loss: 2.529754\n",
      "[Iteration 851 / 2080] TRAIN loss: 2.461973\n",
      "[Iteration 901 / 2080] TRAIN loss: 2.426894\n",
      "[Iteration 951 / 2080] TRAIN loss: 2.531254\n",
      "[Iteration 1001 / 2080] TRAIN loss: 2.567252\n",
      "[Epoch 4 / 8] TRAIN acc: 8.280769\n"
     ]
    },
    {
     "name": "stderr",
     "output_type": "stream",
     "text": [
      "\r",
      " 50%|█████     | 4/8 [13:43<13:43, 205.87s/it]"
     ]
    },
    {
     "name": "stdout",
     "output_type": "stream",
     "text": [
      "[Epoch 4 / 8] VAL acc: 6.053763\n",
      "[Iteration 1051 / 2080] TRAIN loss: 2.581807\n",
      "[Iteration 1101 / 2080] TRAIN loss: 2.387651\n",
      "[Iteration 1151 / 2080] TRAIN loss: 2.468727\n",
      "[Iteration 1201 / 2080] TRAIN loss: 2.420586\n",
      "[Iteration 1251 / 2080] TRAIN loss: 2.451791\n",
      "[Epoch 5 / 8] TRAIN acc: 8.573077\n"
     ]
    },
    {
     "name": "stderr",
     "output_type": "stream",
     "text": [
      "\r",
      " 62%|██████▎   | 5/8 [17:05<10:15, 205.03s/it]"
     ]
    },
    {
     "name": "stdout",
     "output_type": "stream",
     "text": [
      "[Epoch 5 / 8] VAL acc: 6.053763\n",
      "[Iteration 1301 / 2080] TRAIN loss: 2.548244\n",
      "[Iteration 1351 / 2080] TRAIN loss: 2.597198\n",
      "[Iteration 1401 / 2080] TRAIN loss: 2.422828\n",
      "[Iteration 1451 / 2080] TRAIN loss: 2.355394\n",
      "[Iteration 1501 / 2080] TRAIN loss: 2.564695\n",
      "[Iteration 1551 / 2080] TRAIN loss: 2.569720\n",
      "[Epoch 6 / 8] TRAIN acc: 8.319231\n"
     ]
    },
    {
     "name": "stderr",
     "output_type": "stream",
     "text": [
      "\r",
      " 75%|███████▌  | 6/8 [20:25<06:48, 204.31s/it]"
     ]
    },
    {
     "name": "stdout",
     "output_type": "stream",
     "text": [
      "[Epoch 6 / 8] VAL acc: 6.053763\n",
      "[Iteration 1601 / 2080] TRAIN loss: 2.524887\n",
      "[Iteration 1651 / 2080] TRAIN loss: 2.467389\n",
      "[Iteration 1701 / 2080] TRAIN loss: 2.466964\n",
      "[Iteration 1751 / 2080] TRAIN loss: 2.494880\n",
      "[Iteration 1801 / 2080] TRAIN loss: 2.482602\n",
      "[Epoch 7 / 8] TRAIN acc: 8.330769\n"
     ]
    },
    {
     "name": "stderr",
     "output_type": "stream",
     "text": [
      "\r",
      " 88%|████████▊ | 7/8 [23:45<03:23, 203.66s/it]"
     ]
    },
    {
     "name": "stdout",
     "output_type": "stream",
     "text": [
      "[Epoch 7 / 8] VAL acc: 6.053763\n",
      "[Iteration 1851 / 2080] TRAIN loss: 2.472784\n",
      "[Iteration 1901 / 2080] TRAIN loss: 2.570481\n",
      "[Iteration 1951 / 2080] TRAIN loss: 2.497395\n",
      "[Iteration 2001 / 2080] TRAIN loss: 2.475941\n",
      "[Iteration 2051 / 2080] TRAIN loss: 2.559211\n",
      "[Epoch 8 / 8] TRAIN acc: 8.330769\n"
     ]
    },
    {
     "name": "stderr",
     "output_type": "stream",
     "text": [
      "100%|██████████| 8/8 [27:04<00:00, 203.03s/it]\n",
      "  0%|          | 0/124 [00:00<?, ?it/s]"
     ]
    },
    {
     "name": "stdout",
     "output_type": "stream",
     "text": [
      "[Epoch 8 / 8] VAL acc: 6.053763\n",
      "Trained in 1624 seconds.\n",
      "FINISH.\n"
     ]
    },
    {
     "name": "stderr",
     "output_type": "stream",
     "text": [
      "100%|██████████| 124/124 [00:18<00:00,  6.63it/s]\n"
     ]
    },
    {
     "name": "stdout",
     "output_type": "stream",
     "text": [
      "0.315676257058\n",
      "   47 | 27m44s |    0.31568 |      50.5510 |    0.5000 |     1.0000 |   -3.0000 |       8.0000 |               1.0000 |            -1.0000 | \n",
      "weights: [0.079789581891864733, 0.064757278350021791, 0.021985008591674442, 0.046819434893280693, 0.034285715181341145, 0.045617096211309868, 0.033286498891162593, 0.084368991559831519, 0.1984126984126984, 0.11696554459257208, 0.058902009005553535, 0.040380819765943078, 0.063327882303826827, 0.071626475434638417]\n",
      "equivalent_num:\n",
      "24.1762433132\n",
      "29.788348041\n",
      "87.7421692894\n",
      "41.2011027061\n",
      "56.2628586126\n",
      "42.2870481879\n",
      "57.9517945695\n",
      "22.8639967127\n",
      "9.72222222222\n",
      "16.4921417876\n",
      "32.7495170071\n",
      "47.7705097831\n",
      "30.4607113881\n",
      "26.9315547634\n"
     ]
    },
    {
     "name": "stderr",
     "output_type": "stream",
     "text": [
      "\r",
      "  0%|          | 0/8 [00:00<?, ?it/s]"
     ]
    },
    {
     "name": "stdout",
     "output_type": "stream",
     "text": [
      "START TRAIN.\n",
      "[Iteration 1 / 1864] TRAIN loss: 2.840380\n",
      "[Iteration 51 / 1864] TRAIN loss: 2.699806\n",
      "[Iteration 101 / 1864] TRAIN loss: 2.750433\n",
      "[Iteration 151 / 1864] TRAIN loss: 2.608686\n",
      "[Iteration 201 / 1864] TRAIN loss: 2.623842\n",
      "[Epoch 1 / 8] TRAIN acc: 4.605150\n"
     ]
    },
    {
     "name": "stderr",
     "output_type": "stream",
     "text": [
      "\r",
      " 12%|█▎        | 1/8 [03:19<23:18, 199.79s/it]"
     ]
    },
    {
     "name": "stdout",
     "output_type": "stream",
     "text": [
      "[Epoch 1 / 8] VAL acc: 2.118280\n",
      "[Iteration 251 / 1864] TRAIN loss: 2.632346\n",
      "[Iteration 301 / 1864] TRAIN loss: 2.581642\n",
      "[Iteration 351 / 1864] TRAIN loss: 2.558228\n",
      "[Iteration 401 / 1864] TRAIN loss: 2.704776\n",
      "[Iteration 451 / 1864] TRAIN loss: 2.560127\n",
      "[Epoch 2 / 8] TRAIN acc: 5.484979\n"
     ]
    },
    {
     "name": "stderr",
     "output_type": "stream",
     "text": [
      "\r",
      " 25%|██▌       | 2/8 [06:39<19:59, 199.86s/it]"
     ]
    },
    {
     "name": "stdout",
     "output_type": "stream",
     "text": [
      "[Epoch 2 / 8] VAL acc: 2.559140\n",
      "[Iteration 501 / 1864] TRAIN loss: 2.647004\n",
      "[Iteration 551 / 1864] TRAIN loss: 2.625308\n",
      "[Iteration 601 / 1864] TRAIN loss: 2.504933\n",
      "[Iteration 651 / 1864] TRAIN loss: 2.485207\n",
      "[Epoch 3 / 8] TRAIN acc: 6.201717\n"
     ]
    },
    {
     "name": "stderr",
     "output_type": "stream",
     "text": [
      "\r",
      " 38%|███▊      | 3/8 [09:59<16:39, 199.89s/it]"
     ]
    },
    {
     "name": "stdout",
     "output_type": "stream",
     "text": [
      "[Epoch 3 / 8] VAL acc: 3.118280\n",
      "[Iteration 701 / 1864] TRAIN loss: 2.646722\n",
      "[Iteration 751 / 1864] TRAIN loss: 2.527559\n",
      "[Iteration 801 / 1864] TRAIN loss: 2.628661\n",
      "[Iteration 851 / 1864] TRAIN loss: 2.562392\n",
      "[Iteration 901 / 1864] TRAIN loss: 2.584357\n",
      "[Epoch 4 / 8] TRAIN acc: 7.128755\n"
     ]
    },
    {
     "name": "stderr",
     "output_type": "stream",
     "text": [
      "\r",
      " 50%|█████     | 4/8 [13:19<13:19, 199.98s/it]"
     ]
    },
    {
     "name": "stdout",
     "output_type": "stream",
     "text": [
      "[Epoch 4 / 8] VAL acc: 3.397849\n",
      "[Iteration 951 / 1864] TRAIN loss: 2.622127\n",
      "[Iteration 1001 / 1864] TRAIN loss: 2.503228\n",
      "[Iteration 1051 / 1864] TRAIN loss: 2.527330\n",
      "[Iteration 1101 / 1864] TRAIN loss: 2.413007\n",
      "[Iteration 1151 / 1864] TRAIN loss: 2.587038\n",
      "[Epoch 5 / 8] TRAIN acc: 7.669528\n"
     ]
    },
    {
     "name": "stderr",
     "output_type": "stream",
     "text": [
      "\r",
      " 62%|██████▎   | 5/8 [16:40<10:00, 200.03s/it]"
     ]
    },
    {
     "name": "stdout",
     "output_type": "stream",
     "text": [
      "[Epoch 5 / 8] VAL acc: 3.967742\n",
      "[Iteration 1201 / 1864] TRAIN loss: 2.512255\n",
      "[Iteration 1251 / 1864] TRAIN loss: 2.573783\n",
      "[Iteration 1301 / 1864] TRAIN loss: 2.377671\n",
      "[Iteration 1351 / 1864] TRAIN loss: 2.413652\n",
      "[Epoch 6 / 8] TRAIN acc: 8.635193\n"
     ]
    },
    {
     "name": "stderr",
     "output_type": "stream",
     "text": [
      "\r",
      " 75%|███████▌  | 6/8 [20:00<06:40, 200.05s/it]"
     ]
    },
    {
     "name": "stdout",
     "output_type": "stream",
     "text": [
      "[Epoch 6 / 8] VAL acc: 4.322581\n",
      "[Iteration 1401 / 1864] TRAIN loss: 2.479025\n",
      "[Iteration 1451 / 1864] TRAIN loss: 2.507969\n",
      "[Iteration 1501 / 1864] TRAIN loss: 2.434412\n",
      "[Iteration 1551 / 1864] TRAIN loss: 2.472140\n",
      "[Iteration 1601 / 1864] TRAIN loss: 2.587803\n",
      "[Epoch 7 / 8] TRAIN acc: 9.369099\n"
     ]
    },
    {
     "name": "stderr",
     "output_type": "stream",
     "text": [
      "\r",
      " 88%|████████▊ | 7/8 [23:20<03:20, 200.05s/it]"
     ]
    },
    {
     "name": "stdout",
     "output_type": "stream",
     "text": [
      "[Epoch 7 / 8] VAL acc: 4.580645\n",
      "[Iteration 1651 / 1864] TRAIN loss: 2.377363\n",
      "[Iteration 1701 / 1864] TRAIN loss: 2.450036\n",
      "[Iteration 1751 / 1864] TRAIN loss: 2.471937\n",
      "[Iteration 1801 / 1864] TRAIN loss: 2.457993\n",
      "[Iteration 1851 / 1864] TRAIN loss: 2.430569\n",
      "[Epoch 8 / 8] TRAIN acc: 10.107296\n"
     ]
    },
    {
     "name": "stderr",
     "output_type": "stream",
     "text": [
      "100%|██████████| 8/8 [26:40<00:00, 200.07s/it]\n",
      "  0%|          | 0/124 [00:00<?, ?it/s]"
     ]
    },
    {
     "name": "stdout",
     "output_type": "stream",
     "text": [
      "[Epoch 8 / 8] VAL acc: 4.978495\n",
      "Trained in 1600 seconds.\n",
      "FINISH.\n"
     ]
    },
    {
     "name": "stderr",
     "output_type": "stream",
     "text": [
      "100%|██████████| 124/124 [00:19<00:00,  6.33it/s]\n"
     ]
    },
    {
     "name": "stdout",
     "output_type": "stream",
     "text": [
      "0.246302769562\n",
      "   48 | 27m22s |    0.24630 |      56.2036 |    0.5000 |    10.0000 |   -7.0000 |       8.0000 |               1.0000 |            -1.0000 | \n",
      "weights: [0.079789581891864733, 0.064757278350021791, 0.021985008591674442, 0.046819434893280693, 0.034285715181341145, 0.045617096211309868, 0.033286498891162593, 0.084368991559831519, 0.1984126984126984, 0.11696554459257208, 0.058902009005553535, 0.040380819765943078, 0.063327882303826827, 0.071626475434638417]\n",
      "equivalent_num:\n",
      "24.1762433132\n",
      "29.788348041\n",
      "87.7421692894\n",
      "41.2011027061\n",
      "56.2628586126\n",
      "42.2870481879\n",
      "57.9517945695\n",
      "22.8639967127\n",
      "9.72222222222\n",
      "16.4921417876\n",
      "32.7495170071\n",
      "47.7705097831\n",
      "30.4607113881\n",
      "26.9315547634\n"
     ]
    },
    {
     "name": "stderr",
     "output_type": "stream",
     "text": [
      "\r",
      "  0%|          | 0/8 [00:00<?, ?it/s]"
     ]
    },
    {
     "name": "stdout",
     "output_type": "stream",
     "text": [
      "START TRAIN.\n",
      "[Iteration 1 / 1512] TRAIN loss: 2.933723\n",
      "[Iteration 51 / 1512] TRAIN loss: 2.886876\n",
      "[Iteration 101 / 1512] TRAIN loss: 2.885512\n",
      "[Iteration 151 / 1512] TRAIN loss: 2.855857\n",
      "[Epoch 1 / 8] TRAIN acc: 3.232804\n"
     ]
    },
    {
     "name": "stderr",
     "output_type": "stream",
     "text": [
      "\r",
      " 12%|█▎        | 1/8 [03:22<23:39, 202.82s/it]"
     ]
    },
    {
     "name": "stdout",
     "output_type": "stream",
     "text": [
      "[Epoch 1 / 8] VAL acc: 0.720430\n",
      "[Iteration 201 / 1512] TRAIN loss: 2.925048\n",
      "[Iteration 251 / 1512] TRAIN loss: 2.923164\n",
      "[Iteration 301 / 1512] TRAIN loss: 2.819281\n",
      "[Iteration 351 / 1512] TRAIN loss: 2.845960\n",
      "[Epoch 2 / 8] TRAIN acc: 3.597884\n"
     ]
    },
    {
     "name": "stderr",
     "output_type": "stream",
     "text": [
      "\r",
      " 25%|██▌       | 2/8 [06:45<20:16, 202.73s/it]"
     ]
    },
    {
     "name": "stdout",
     "output_type": "stream",
     "text": [
      "[Epoch 2 / 8] VAL acc: 0.774194\n",
      "[Iteration 401 / 1512] TRAIN loss: 2.866838\n",
      "[Iteration 451 / 1512] TRAIN loss: 2.769042\n",
      "[Iteration 501 / 1512] TRAIN loss: 2.845814\n",
      "[Iteration 551 / 1512] TRAIN loss: 2.833299\n",
      "[Epoch 3 / 8] TRAIN acc: 3.264550\n"
     ]
    },
    {
     "name": "stderr",
     "output_type": "stream",
     "text": [
      "\r",
      " 38%|███▊      | 3/8 [10:08<16:53, 202.79s/it]"
     ]
    },
    {
     "name": "stdout",
     "output_type": "stream",
     "text": [
      "[Epoch 3 / 8] VAL acc: 0.817204\n",
      "[Iteration 601 / 1512] TRAIN loss: 2.813119\n",
      "[Iteration 651 / 1512] TRAIN loss: 2.897226\n",
      "[Iteration 701 / 1512] TRAIN loss: 2.785758\n",
      "[Iteration 751 / 1512] TRAIN loss: 2.727044\n",
      "[Epoch 4 / 8] TRAIN acc: 3.354497\n"
     ]
    },
    {
     "name": "stderr",
     "output_type": "stream",
     "text": [
      "\r",
      " 50%|█████     | 4/8 [13:31<13:31, 202.80s/it]"
     ]
    },
    {
     "name": "stdout",
     "output_type": "stream",
     "text": [
      "[Epoch 4 / 8] VAL acc: 0.795699\n",
      "[Iteration 801 / 1512] TRAIN loss: 2.772817\n",
      "[Iteration 851 / 1512] TRAIN loss: 2.802583\n",
      "[Iteration 901 / 1512] TRAIN loss: 2.809332\n",
      "[Epoch 5 / 8] TRAIN acc: 3.455026\n"
     ]
    },
    {
     "name": "stderr",
     "output_type": "stream",
     "text": [
      "\r",
      " 62%|██████▎   | 5/8 [16:53<10:08, 202.79s/it]"
     ]
    },
    {
     "name": "stdout",
     "output_type": "stream",
     "text": [
      "[Epoch 5 / 8] VAL acc: 0.784946\n",
      "[Iteration 951 / 1512] TRAIN loss: 2.905558\n",
      "[Iteration 1001 / 1512] TRAIN loss: 2.827136\n",
      "[Iteration 1051 / 1512] TRAIN loss: 2.829881\n",
      "[Iteration 1101 / 1512] TRAIN loss: 2.830626\n",
      "[Epoch 6 / 8] TRAIN acc: 3.523810\n"
     ]
    },
    {
     "name": "stderr",
     "output_type": "stream",
     "text": [
      "\r",
      " 75%|███████▌  | 6/8 [20:16<06:45, 202.78s/it]"
     ]
    },
    {
     "name": "stdout",
     "output_type": "stream",
     "text": [
      "[Epoch 6 / 8] VAL acc: 0.827957\n",
      "[Iteration 1151 / 1512] TRAIN loss: 2.901762\n",
      "[Iteration 1201 / 1512] TRAIN loss: 2.945080\n",
      "[Iteration 1251 / 1512] TRAIN loss: 2.751750\n",
      "[Iteration 1301 / 1512] TRAIN loss: 2.725763\n",
      "[Epoch 7 / 8] TRAIN acc: 3.835979\n"
     ]
    },
    {
     "name": "stderr",
     "output_type": "stream",
     "text": [
      "\r",
      " 88%|████████▊ | 7/8 [23:39<03:22, 202.78s/it]"
     ]
    },
    {
     "name": "stdout",
     "output_type": "stream",
     "text": [
      "[Epoch 7 / 8] VAL acc: 0.903226\n",
      "[Iteration 1351 / 1512] TRAIN loss: 2.862309\n",
      "[Iteration 1401 / 1512] TRAIN loss: 2.770344\n",
      "[Iteration 1451 / 1512] TRAIN loss: 2.807592\n",
      "[Iteration 1501 / 1512] TRAIN loss: 2.682711\n",
      "[Epoch 8 / 8] TRAIN acc: 4.068783\n"
     ]
    },
    {
     "name": "stderr",
     "output_type": "stream",
     "text": [
      "100%|██████████| 8/8 [27:02<00:00, 202.77s/it]\n",
      "  0%|          | 0/124 [00:00<?, ?it/s]"
     ]
    },
    {
     "name": "stdout",
     "output_type": "stream",
     "text": [
      "[Epoch 8 / 8] VAL acc: 0.989247\n",
      "Trained in 1622 seconds.\n",
      "FINISH.\n"
     ]
    },
    {
     "name": "stderr",
     "output_type": "stream",
     "text": [
      "100%|██████████| 124/124 [00:19<00:00,  6.32it/s]\n"
     ]
    },
    {
     "name": "stdout",
     "output_type": "stream",
     "text": [
      "0.0392578650175\n",
      "   49 | 27m43s |    0.03926 |      69.6098 |    0.5000 |     1.0000 |   -7.0000 |       8.0000 |              10.0000 |            -6.0000 | \n",
      "weights: [0.079789581891864733, 0.064757278350021791, 0.021985008591674442, 0.046819434893280693, 0.034285715181341145, 0.045617096211309868, 0.033286498891162593, 0.084368991559831519, 0.1984126984126984, 0.11696554459257208, 0.058902009005553535, 0.040380819765943078, 0.063327882303826827, 0.071626475434638417]\n",
      "equivalent_num:\n",
      "24.1762433132\n",
      "29.788348041\n",
      "87.7421692894\n",
      "41.2011027061\n",
      "56.2628586126\n",
      "42.2870481879\n",
      "57.9517945695\n",
      "22.8639967127\n",
      "9.72222222222\n",
      "16.4921417876\n",
      "32.7495170071\n",
      "47.7705097831\n",
      "30.4607113881\n",
      "26.9315547634\n"
     ]
    },
    {
     "name": "stderr",
     "output_type": "stream",
     "text": [
      "\r",
      "  0%|          | 0/8 [00:00<?, ?it/s]"
     ]
    },
    {
     "name": "stdout",
     "output_type": "stream",
     "text": [
      "START TRAIN.\n",
      "[Iteration 1 / 1304] TRAIN loss: 2.936204\n",
      "[Iteration 51 / 1304] TRAIN loss: 2.527869\n",
      "[Iteration 101 / 1304] TRAIN loss: 2.625435\n",
      "[Iteration 151 / 1304] TRAIN loss: 2.532937\n",
      "[Epoch 1 / 8] TRAIN acc: 12.288344\n"
     ]
    },
    {
     "name": "stderr",
     "output_type": "stream",
     "text": [
      "\r",
      " 12%|█▎        | 1/8 [03:10<22:12, 190.31s/it]"
     ]
    },
    {
     "name": "stdout",
     "output_type": "stream",
     "text": [
      "[Epoch 1 / 8] VAL acc: 6.053763\n",
      "[Iteration 201 / 1304] TRAIN loss: 2.536219\n",
      "[Iteration 251 / 1304] TRAIN loss: 2.423608\n",
      "[Iteration 301 / 1304] TRAIN loss: 2.539043\n",
      "[Epoch 2 / 8] TRAIN acc: 13.435583\n"
     ]
    },
    {
     "name": "stderr",
     "output_type": "stream",
     "text": [
      "\r",
      " 25%|██▌       | 2/8 [06:18<18:54, 189.16s/it]"
     ]
    },
    {
     "name": "stdout",
     "output_type": "stream",
     "text": [
      "[Epoch 2 / 8] VAL acc: 6.053763\n",
      "[Iteration 351 / 1304] TRAIN loss: 2.493863\n",
      "[Iteration 401 / 1304] TRAIN loss: 2.585618\n",
      "[Iteration 451 / 1304] TRAIN loss: 2.608521\n",
      "[Epoch 3 / 8] TRAIN acc: 13.184049\n"
     ]
    },
    {
     "name": "stderr",
     "output_type": "stream",
     "text": [
      "\r",
      " 38%|███▊      | 3/8 [09:24<15:40, 188.00s/it]"
     ]
    },
    {
     "name": "stdout",
     "output_type": "stream",
     "text": [
      "[Epoch 3 / 8] VAL acc: 6.053763\n",
      "[Iteration 501 / 1304] TRAIN loss: 2.606111\n",
      "[Iteration 551 / 1304] TRAIN loss: 2.618688\n",
      "[Iteration 601 / 1304] TRAIN loss: 2.602557\n",
      "[Iteration 651 / 1304] TRAIN loss: 2.616072\n",
      "[Epoch 4 / 8] TRAIN acc: 12.987730\n"
     ]
    },
    {
     "name": "stderr",
     "output_type": "stream",
     "text": [
      "\r",
      " 50%|█████     | 4/8 [12:27<12:27, 186.87s/it]"
     ]
    },
    {
     "name": "stdout",
     "output_type": "stream",
     "text": [
      "[Epoch 4 / 8] VAL acc: 6.053763\n",
      "[Iteration 701 / 1304] TRAIN loss: 2.602102\n",
      "[Iteration 751 / 1304] TRAIN loss: 2.595057\n",
      "[Iteration 801 / 1304] TRAIN loss: 2.609938\n",
      "[Epoch 5 / 8] TRAIN acc: 13.319018\n"
     ]
    },
    {
     "name": "stderr",
     "output_type": "stream",
     "text": [
      "\r",
      " 62%|██████▎   | 5/8 [15:29<09:17, 185.93s/it]"
     ]
    },
    {
     "name": "stdout",
     "output_type": "stream",
     "text": [
      "[Epoch 5 / 8] VAL acc: 6.053763\n",
      "[Iteration 851 / 1304] TRAIN loss: 2.595655\n",
      "[Iteration 901 / 1304] TRAIN loss: 2.595224\n",
      "[Iteration 951 / 1304] TRAIN loss: 2.597667\n",
      "[Epoch 6 / 8] TRAIN acc: 13.104294\n"
     ]
    },
    {
     "name": "stderr",
     "output_type": "stream",
     "text": [
      "\r",
      " 75%|███████▌  | 6/8 [18:30<06:10, 185.05s/it]"
     ]
    },
    {
     "name": "stdout",
     "output_type": "stream",
     "text": [
      "[Epoch 6 / 8] VAL acc: 6.053763\n",
      "[Iteration 1001 / 1304] TRAIN loss: 2.609674\n",
      "[Iteration 1051 / 1304] TRAIN loss: 2.598130\n",
      "[Iteration 1101 / 1304] TRAIN loss: 2.627876\n",
      "[Epoch 7 / 8] TRAIN acc: 12.742331\n"
     ]
    },
    {
     "name": "stderr",
     "output_type": "stream",
     "text": [
      "\r",
      " 88%|████████▊ | 7/8 [21:29<03:04, 184.19s/it]"
     ]
    },
    {
     "name": "stdout",
     "output_type": "stream",
     "text": [
      "[Epoch 7 / 8] VAL acc: 6.053763\n",
      "[Iteration 1151 / 1304] TRAIN loss: 2.610368\n",
      "[Iteration 1201 / 1304] TRAIN loss: 2.590431\n",
      "[Iteration 1251 / 1304] TRAIN loss: 2.583496\n",
      "[Iteration 1301 / 1304] TRAIN loss: 2.578953\n",
      "[Epoch 8 / 8] TRAIN acc: 13.582822\n"
     ]
    },
    {
     "name": "stderr",
     "output_type": "stream",
     "text": [
      "100%|██████████| 8/8 [24:27<00:00, 183.50s/it]\n",
      "  0%|          | 0/124 [00:00<?, ?it/s]"
     ]
    },
    {
     "name": "stdout",
     "output_type": "stream",
     "text": [
      "[Epoch 8 / 8] VAL acc: 6.053763\n",
      "Trained in 1468 seconds.\n",
      "FINISH.\n"
     ]
    },
    {
     "name": "stderr",
     "output_type": "stream",
     "text": [
      "100%|██████████| 124/124 [00:18<00:00,  6.62it/s]\n"
     ]
    },
    {
     "name": "stdout",
     "output_type": "stream",
     "text": [
      "0.315676257058\n",
      "   50 | 25m09s |    0.31568 |      80.0000 |    0.5000 |     5.8920 |   -3.0000 |       8.0000 |               4.3528 |            -1.0000 | \n",
      "weights: [0.079789581891864733, 0.064757278350021791, 0.021985008591674442, 0.046819434893280693, 0.034285715181341145, 0.045617096211309868, 0.033286498891162593, 0.084368991559831519, 0.1984126984126984, 0.11696554459257208, 0.058902009005553535, 0.040380819765943078, 0.063327882303826827, 0.071626475434638417]\n",
      "equivalent_num:\n",
      "24.1762433132\n",
      "29.788348041\n",
      "87.7421692894\n",
      "41.2011027061\n",
      "56.2628586126\n",
      "42.2870481879\n",
      "57.9517945695\n",
      "22.8639967127\n",
      "9.72222222222\n",
      "16.4921417876\n",
      "32.7495170071\n",
      "47.7705097831\n",
      "30.4607113881\n",
      "26.9315547634\n"
     ]
    },
    {
     "name": "stderr",
     "output_type": "stream",
     "text": [
      "\r",
      "  0%|          | 0/2 [00:00<?, ?it/s]"
     ]
    },
    {
     "name": "stdout",
     "output_type": "stream",
     "text": [
      "START TRAIN.\n",
      "[Iteration 1 / 532] TRAIN loss: 2.713917\n",
      "[Iteration 51 / 532] TRAIN loss: 2.497702\n",
      "[Iteration 101 / 532] TRAIN loss: 2.303558\n",
      "[Iteration 151 / 532] TRAIN loss: 2.278219\n",
      "[Iteration 201 / 532] TRAIN loss: 2.416378\n",
      "[Iteration 251 / 532] TRAIN loss: 2.264048\n",
      "[Epoch 1 / 2] TRAIN acc: 8.759398\n"
     ]
    },
    {
     "name": "stderr",
     "output_type": "stream",
     "text": [
      "\r",
      " 50%|█████     | 1/2 [03:32<03:32, 212.90s/it]"
     ]
    },
    {
     "name": "stdout",
     "output_type": "stream",
     "text": [
      "[Epoch 1 / 2] VAL acc: 3.602151\n",
      "[Iteration 301 / 532] TRAIN loss: 2.389290\n",
      "[Iteration 351 / 532] TRAIN loss: 2.126084\n",
      "[Iteration 401 / 532] TRAIN loss: 2.163313\n",
      "[Iteration 451 / 532] TRAIN loss: 2.248461\n",
      "[Iteration 501 / 532] TRAIN loss: 2.231871\n",
      "[Epoch 2 / 2] TRAIN acc: 12.109023\n"
     ]
    },
    {
     "name": "stderr",
     "output_type": "stream",
     "text": [
      "100%|██████████| 2/2 [07:06<00:00, 213.01s/it]\n",
      "  0%|          | 0/124 [00:00<?, ?it/s]"
     ]
    },
    {
     "name": "stdout",
     "output_type": "stream",
     "text": [
      "[Epoch 2 / 2] VAL acc: 6.344086\n",
      "Trained in 426 seconds.\n",
      "FINISH.\n"
     ]
    },
    {
     "name": "stderr",
     "output_type": "stream",
     "text": [
      "100%|██████████| 124/124 [00:19<00:00,  6.28it/s]\n",
      "  0%|          | 4/12386 [00:00<05:26, 37.92it/s]"
     ]
    },
    {
     "name": "stdout",
     "output_type": "stream",
     "text": [
      "0.328851841893\n",
      "submissions/res18_0.32885_TROGVAO.csv\n",
      "'age'\n",
      "'gender'\n",
      "'view_position'\n",
      "'image_name'\n"
     ]
    },
    {
     "name": "stderr",
     "output_type": "stream",
     "text": [
      "100%|██████████| 12386/12386 [03:33<00:00, 58.01it/s]\n"
     ]
    },
    {
     "name": "stdout",
     "output_type": "stream",
     "text": [
      "   51 | 11m22s |    0.32885 |      49.6150 |    0.5000 |     1.0000 |   -3.0000 |       2.0000 |               1.0000 |            -6.0000 | \n",
      "weights: [0.079789581891864733, 0.064757278350021791, 0.021985008591674442, 0.046819434893280693, 0.034285715181341145, 0.045617096211309868, 0.033286498891162593, 0.084368991559831519, 0.1984126984126984, 0.11696554459257208, 0.058902009005553535, 0.040380819765943078, 0.063327882303826827, 0.071626475434638417]\n",
      "equivalent_num:\n",
      "24.1762433132\n",
      "29.788348041\n",
      "87.7421692894\n",
      "41.2011027061\n",
      "56.2628586126\n",
      "42.2870481879\n",
      "57.9517945695\n",
      "22.8639967127\n",
      "9.72222222222\n",
      "16.4921417876\n",
      "32.7495170071\n",
      "47.7705097831\n",
      "30.4607113881\n",
      "26.9315547634\n"
     ]
    },
    {
     "name": "stderr",
     "output_type": "stream",
     "text": [
      "\r",
      "  0%|          | 0/8 [00:00<?, ?it/s]"
     ]
    },
    {
     "name": "stdout",
     "output_type": "stream",
     "text": [
      "START TRAIN.\n",
      "[Iteration 1 / 2976] TRAIN loss: 2.926177\n",
      "[Iteration 51 / 2976] TRAIN loss: 2.716258\n",
      "[Iteration 101 / 2976] TRAIN loss: 2.832576\n",
      "[Iteration 151 / 2976] TRAIN loss: 3.017961\n",
      "[Iteration 201 / 2976] TRAIN loss: 2.849473\n",
      "[Iteration 251 / 2976] TRAIN loss: 2.839033\n",
      "[Iteration 301 / 2976] TRAIN loss: 2.836803\n",
      "[Iteration 351 / 2976] TRAIN loss: 2.853112\n",
      "[Epoch 1 / 8] TRAIN acc: 1.956989\n"
     ]
    },
    {
     "name": "stderr",
     "output_type": "stream",
     "text": [
      "\r",
      " 12%|█▎        | 1/8 [03:49<26:48, 229.76s/it]"
     ]
    },
    {
     "name": "stdout",
     "output_type": "stream",
     "text": [
      "[Epoch 1 / 8] VAL acc: 0.946237\n",
      "[Iteration 401 / 2976] TRAIN loss: 2.663464\n",
      "[Iteration 451 / 2976] TRAIN loss: 2.863259\n",
      "[Iteration 501 / 2976] TRAIN loss: 2.687527\n",
      "[Iteration 551 / 2976] TRAIN loss: 2.734118\n",
      "[Iteration 601 / 2976] TRAIN loss: 2.773136\n",
      "[Iteration 651 / 2976] TRAIN loss: 2.836179\n",
      "[Iteration 701 / 2976] TRAIN loss: 2.754761\n",
      "[Epoch 2 / 8] TRAIN acc: 2.239247\n"
     ]
    },
    {
     "name": "stderr",
     "output_type": "stream",
     "text": [
      "\r",
      " 25%|██▌       | 2/8 [07:39<22:58, 229.82s/it]"
     ]
    },
    {
     "name": "stdout",
     "output_type": "stream",
     "text": [
      "[Epoch 2 / 8] VAL acc: 1.387097\n",
      "[Iteration 751 / 2976] TRAIN loss: 2.672492\n",
      "[Iteration 801 / 2976] TRAIN loss: 2.584514\n",
      "[Iteration 851 / 2976] TRAIN loss: 2.622488\n",
      "[Iteration 901 / 2976] TRAIN loss: 2.766442\n",
      "[Iteration 951 / 2976] TRAIN loss: 2.604731\n",
      "[Iteration 1001 / 2976] TRAIN loss: 2.656997\n",
      "[Iteration 1051 / 2976] TRAIN loss: 2.629233\n",
      "[Iteration 1101 / 2976] TRAIN loss: 2.754877\n",
      "[Epoch 3 / 8] TRAIN acc: 2.540323\n"
     ]
    },
    {
     "name": "stderr",
     "output_type": "stream",
     "text": [
      "\r",
      " 38%|███▊      | 3/8 [11:29<19:09, 229.86s/it]"
     ]
    },
    {
     "name": "stdout",
     "output_type": "stream",
     "text": [
      "[Epoch 3 / 8] VAL acc: 2.096774\n",
      "[Iteration 1151 / 2976] TRAIN loss: 2.673814\n",
      "[Iteration 1201 / 2976] TRAIN loss: 2.643372\n",
      "[Iteration 1251 / 2976] TRAIN loss: 2.646822\n",
      "[Iteration 1301 / 2976] TRAIN loss: 2.657378\n",
      "[Iteration 1351 / 2976] TRAIN loss: 2.484436\n",
      "[Iteration 1401 / 2976] TRAIN loss: 2.760913\n",
      "[Iteration 1451 / 2976] TRAIN loss: 2.527517\n",
      "[Epoch 4 / 8] TRAIN acc: 3.252688\n"
     ]
    },
    {
     "name": "stderr",
     "output_type": "stream",
     "text": [
      "\r",
      " 50%|█████     | 4/8 [15:19<15:19, 229.89s/it]"
     ]
    },
    {
     "name": "stdout",
     "output_type": "stream",
     "text": [
      "[Epoch 4 / 8] VAL acc: 2.580645\n",
      "[Iteration 1501 / 2976] TRAIN loss: 2.628929\n",
      "[Iteration 1551 / 2976] TRAIN loss: 2.701465\n",
      "[Iteration 1601 / 2976] TRAIN loss: 2.733912\n",
      "[Iteration 1651 / 2976] TRAIN loss: 2.465058\n",
      "[Iteration 1701 / 2976] TRAIN loss: 2.723598\n",
      "[Iteration 1751 / 2976] TRAIN loss: 2.632068\n",
      "[Iteration 1801 / 2976] TRAIN loss: 2.638554\n",
      "[Iteration 1851 / 2976] TRAIN loss: 2.417910\n",
      "[Epoch 5 / 8] TRAIN acc: 3.905914\n"
     ]
    },
    {
     "name": "stderr",
     "output_type": "stream",
     "text": [
      "\r",
      " 62%|██████▎   | 5/8 [19:09<11:29, 229.92s/it]"
     ]
    },
    {
     "name": "stdout",
     "output_type": "stream",
     "text": [
      "[Epoch 5 / 8] VAL acc: 3.387097\n",
      "[Iteration 1901 / 2976] TRAIN loss: 2.546787\n",
      "[Iteration 1951 / 2976] TRAIN loss: 2.529659\n",
      "[Iteration 2001 / 2976] TRAIN loss: 2.605419\n",
      "[Iteration 2051 / 2976] TRAIN loss: 2.625718\n",
      "[Iteration 2101 / 2976] TRAIN loss: 2.439543\n",
      "[Iteration 2151 / 2976] TRAIN loss: 2.618793\n",
      "[Iteration 2201 / 2976] TRAIN loss: 2.516695\n",
      "[Epoch 6 / 8] TRAIN acc: 4.370968\n"
     ]
    },
    {
     "name": "stderr",
     "output_type": "stream",
     "text": [
      "\r",
      " 75%|███████▌  | 6/8 [22:59<07:39, 229.94s/it]"
     ]
    },
    {
     "name": "stdout",
     "output_type": "stream",
     "text": [
      "[Epoch 6 / 8] VAL acc: 4.021505\n",
      "[Iteration 2251 / 2976] TRAIN loss: 2.580387\n",
      "[Iteration 2301 / 2976] TRAIN loss: 2.611610\n",
      "[Iteration 2351 / 2976] TRAIN loss: 2.380524\n",
      "[Iteration 2401 / 2976] TRAIN loss: 2.455646\n",
      "[Iteration 2451 / 2976] TRAIN loss: 2.609852\n",
      "[Iteration 2501 / 2976] TRAIN loss: 2.635267\n",
      "[Iteration 2551 / 2976] TRAIN loss: 2.665524\n",
      "[Iteration 2601 / 2976] TRAIN loss: 2.462999\n",
      "[Epoch 7 / 8] TRAIN acc: 4.688172\n"
     ]
    },
    {
     "name": "stderr",
     "output_type": "stream",
     "text": [
      "\r",
      " 88%|████████▊ | 7/8 [26:49<03:49, 229.91s/it]"
     ]
    },
    {
     "name": "stdout",
     "output_type": "stream",
     "text": [
      "[Epoch 7 / 8] VAL acc: 4.365591\n",
      "[Iteration 2651 / 2976] TRAIN loss: 2.622937\n",
      "[Iteration 2701 / 2976] TRAIN loss: 2.498664\n",
      "[Iteration 2751 / 2976] TRAIN loss: 2.481739\n",
      "[Iteration 2801 / 2976] TRAIN loss: 2.501252\n",
      "[Iteration 2851 / 2976] TRAIN loss: 2.655917\n",
      "[Iteration 2901 / 2976] TRAIN loss: 2.563111\n",
      "[Iteration 2951 / 2976] TRAIN loss: 2.565606\n",
      "[Epoch 8 / 8] TRAIN acc: 5.142473\n"
     ]
    },
    {
     "name": "stderr",
     "output_type": "stream",
     "text": [
      "100%|██████████| 8/8 [30:39<00:00, 229.93s/it]\n",
      "  0%|          | 0/124 [00:00<?, ?it/s]"
     ]
    },
    {
     "name": "stdout",
     "output_type": "stream",
     "text": [
      "[Epoch 8 / 8] VAL acc: 4.666667\n",
      "Trained in 1839 seconds.\n",
      "FINISH.\n"
     ]
    },
    {
     "name": "stderr",
     "output_type": "stream",
     "text": [
      "100%|██████████| 124/124 [00:19<00:00,  6.33it/s]\n"
     ]
    },
    {
     "name": "stdout",
     "output_type": "stream",
     "text": [
      "0.237698305996\n",
      "   52 | 31m24s |    0.23770 |      35.2142 |    0.5000 |    10.0000 |   -7.0000 |       8.0000 |              10.0000 |            -1.0000 | \n",
      "weights: [0.079789581891864733, 0.064757278350021791, 0.021985008591674442, 0.046819434893280693, 0.034285715181341145, 0.045617096211309868, 0.033286498891162593, 0.084368991559831519, 0.1984126984126984, 0.11696554459257208, 0.058902009005553535, 0.040380819765943078, 0.063327882303826827, 0.071626475434638417]\n",
      "equivalent_num:\n",
      "24.1762433132\n",
      "29.788348041\n",
      "87.7421692894\n",
      "41.2011027061\n",
      "56.2628586126\n",
      "42.2870481879\n",
      "57.9517945695\n",
      "22.8639967127\n",
      "9.72222222222\n",
      "16.4921417876\n",
      "32.7495170071\n",
      "47.7705097831\n",
      "30.4607113881\n",
      "26.9315547634\n"
     ]
    },
    {
     "name": "stderr",
     "output_type": "stream",
     "text": [
      "\r",
      "  0%|          | 0/2 [00:00<?, ?it/s]"
     ]
    },
    {
     "name": "stdout",
     "output_type": "stream",
     "text": [
      "START TRAIN.\n",
      "[Iteration 1 / 358] TRAIN loss: 2.871100\n",
      "[Iteration 51 / 358] TRAIN loss: 2.557522\n",
      "[Iteration 101 / 358] TRAIN loss: 2.502485\n",
      "[Iteration 151 / 358] TRAIN loss: 2.582871\n",
      "[Epoch 1 / 2] TRAIN acc: 12.206704\n"
     ]
    },
    {
     "name": "stderr",
     "output_type": "stream",
     "text": [
      "\r",
      " 50%|█████     | 1/2 [03:15<03:15, 195.89s/it]"
     ]
    },
    {
     "name": "stdout",
     "output_type": "stream",
     "text": [
      "[Epoch 1 / 2] VAL acc: 6.118280\n",
      "[Iteration 201 / 358] TRAIN loss: 2.475075\n",
      "[Iteration 251 / 358] TRAIN loss: 2.545213\n",
      "[Iteration 301 / 358] TRAIN loss: 2.558999\n",
      "[Iteration 351 / 358] TRAIN loss: 2.423166\n",
      "[Epoch 2 / 2] TRAIN acc: 11.681564\n"
     ]
    },
    {
     "name": "stderr",
     "output_type": "stream",
     "text": [
      "100%|██████████| 2/2 [06:32<00:00, 196.04s/it]\n",
      "  0%|          | 0/124 [00:00<?, ?it/s]"
     ]
    },
    {
     "name": "stdout",
     "output_type": "stream",
     "text": [
      "[Epoch 2 / 2] VAL acc: 0.741935\n",
      "Trained in 392 seconds.\n",
      "FINISH.\n"
     ]
    },
    {
     "name": "stderr",
     "output_type": "stream",
     "text": [
      "100%|██████████| 124/124 [00:19<00:00,  6.34it/s]\n"
     ]
    },
    {
     "name": "stdout",
     "output_type": "stream",
     "text": [
      "0.0338800752891\n",
      "   53 | 07m16s |    0.03388 |      73.8918 |    0.5000 |    10.0000 |   -3.0000 |       2.0000 |               4.7258 |            -6.0000 | \n",
      "weights: [0.079789581891864733, 0.064757278350021791, 0.021985008591674442, 0.046819434893280693, 0.034285715181341145, 0.045617096211309868, 0.033286498891162593, 0.084368991559831519, 0.1984126984126984, 0.11696554459257208, 0.058902009005553535, 0.040380819765943078, 0.063327882303826827, 0.071626475434638417]\n",
      "equivalent_num:\n",
      "24.1762433132\n",
      "29.788348041\n",
      "87.7421692894\n",
      "41.2011027061\n",
      "56.2628586126\n",
      "42.2870481879\n",
      "57.9517945695\n",
      "22.8639967127\n",
      "9.72222222222\n",
      "16.4921417876\n",
      "32.7495170071\n",
      "47.7705097831\n",
      "30.4607113881\n",
      "26.9315547634\n"
     ]
    },
    {
     "name": "stderr",
     "output_type": "stream",
     "text": [
      "\r",
      "  0%|          | 0/2 [00:00<?, ?it/s]"
     ]
    },
    {
     "name": "stdout",
     "output_type": "stream",
     "text": [
      "START TRAIN.\n",
      "[Iteration 1 / 744] TRAIN loss: 2.759668\n",
      "[Iteration 51 / 744] TRAIN loss: 2.718079\n",
      "[Iteration 101 / 744] TRAIN loss: 2.761475\n",
      "[Iteration 151 / 744] TRAIN loss: 2.822427\n",
      "[Iteration 201 / 744] TRAIN loss: 2.634541\n",
      "[Iteration 251 / 744] TRAIN loss: 2.647817\n",
      "[Iteration 301 / 744] TRAIN loss: 2.794423\n",
      "[Iteration 351 / 744] TRAIN loss: 2.725320\n",
      "[Epoch 1 / 2] TRAIN acc: 3.043011\n"
     ]
    },
    {
     "name": "stderr",
     "output_type": "stream",
     "text": [
      "\r",
      " 50%|█████     | 1/2 [03:49<03:49, 229.79s/it]"
     ]
    },
    {
     "name": "stdout",
     "output_type": "stream",
     "text": [
      "[Epoch 1 / 2] VAL acc: 1.645161\n",
      "[Iteration 401 / 744] TRAIN loss: 2.679248\n",
      "[Iteration 451 / 744] TRAIN loss: 2.648405\n",
      "[Iteration 501 / 744] TRAIN loss: 2.622103\n",
      "[Iteration 551 / 744] TRAIN loss: 2.673801\n",
      "[Iteration 601 / 744] TRAIN loss: 2.799359\n",
      "[Iteration 651 / 744] TRAIN loss: 2.813578\n",
      "[Iteration 701 / 744] TRAIN loss: 2.703411\n",
      "[Epoch 2 / 2] TRAIN acc: 3.642473\n"
     ]
    },
    {
     "name": "stderr",
     "output_type": "stream",
     "text": [
      "100%|██████████| 2/2 [07:39<00:00, 229.87s/it]\n",
      "  0%|          | 0/124 [00:00<?, ?it/s]"
     ]
    },
    {
     "name": "stdout",
     "output_type": "stream",
     "text": [
      "[Epoch 2 / 2] VAL acc: 2.096774\n",
      "Trained in 459 seconds.\n",
      "FINISH.\n"
     ]
    },
    {
     "name": "stderr",
     "output_type": "stream",
     "text": [
      "100%|██████████| 124/124 [00:19<00:00,  6.30it/s]\n"
     ]
    },
    {
     "name": "stdout",
     "output_type": "stream",
     "text": [
      "0.127453616564\n",
      "   54 | 08m23s |    0.12745 |      35.3713 |    0.5000 |    10.0000 |   -7.0000 |       2.0000 |               1.0000 |            -1.0000 | \n",
      "weights: [0.079789581891864733, 0.064757278350021791, 0.021985008591674442, 0.046819434893280693, 0.034285715181341145, 0.045617096211309868, 0.033286498891162593, 0.084368991559831519, 0.1984126984126984, 0.11696554459257208, 0.058902009005553535, 0.040380819765943078, 0.063327882303826827, 0.071626475434638417]\n",
      "equivalent_num:\n",
      "24.1762433132\n",
      "29.788348041\n",
      "87.7421692894\n",
      "41.2011027061\n",
      "56.2628586126\n",
      "42.2870481879\n",
      "57.9517945695\n",
      "22.8639967127\n",
      "9.72222222222\n",
      "16.4921417876\n",
      "32.7495170071\n",
      "47.7705097831\n",
      "30.4607113881\n",
      "26.9315547634\n"
     ]
    },
    {
     "name": "stderr",
     "output_type": "stream",
     "text": [
      "\r",
      "  0%|          | 0/8 [00:00<?, ?it/s]"
     ]
    },
    {
     "name": "stdout",
     "output_type": "stream",
     "text": [
      "START TRAIN.\n",
      "[Iteration 1 / 2424] TRAIN loss: 2.602543\n",
      "[Iteration 51 / 2424] TRAIN loss: 2.631248\n",
      "[Iteration 101 / 2424] TRAIN loss: 2.865063\n",
      "[Iteration 151 / 2424] TRAIN loss: 2.748008\n",
      "[Iteration 201 / 2424] TRAIN loss: 2.692741\n",
      "[Iteration 251 / 2424] TRAIN loss: 2.672506\n",
      "[Iteration 301 / 2424] TRAIN loss: 2.682097\n",
      "[Epoch 1 / 8] TRAIN acc: 3.042904\n"
     ]
    },
    {
     "name": "stderr",
     "output_type": "stream",
     "text": [
      "\r",
      " 12%|█▎        | 1/8 [03:37<25:23, 217.63s/it]"
     ]
    },
    {
     "name": "stdout",
     "output_type": "stream",
     "text": [
      "[Epoch 1 / 8] VAL acc: 1.516129\n",
      "[Iteration 351 / 2424] TRAIN loss: 2.652355\n",
      "[Iteration 401 / 2424] TRAIN loss: 2.708781\n",
      "[Iteration 451 / 2424] TRAIN loss: 2.686298\n",
      "[Iteration 501 / 2424] TRAIN loss: 2.645804\n",
      "[Iteration 551 / 2424] TRAIN loss: 2.754440\n",
      "[Iteration 601 / 2424] TRAIN loss: 2.654682\n",
      "[Epoch 2 / 8] TRAIN acc: 3.089109\n"
     ]
    },
    {
     "name": "stderr",
     "output_type": "stream",
     "text": [
      "\r",
      " 25%|██▌       | 2/8 [07:15<21:46, 217.79s/it]"
     ]
    },
    {
     "name": "stdout",
     "output_type": "stream",
     "text": [
      "[Epoch 2 / 8] VAL acc: 1.537634\n",
      "[Iteration 651 / 2424] TRAIN loss: 2.681169\n",
      "[Iteration 701 / 2424] TRAIN loss: 2.575127\n",
      "[Iteration 751 / 2424] TRAIN loss: 2.861778\n",
      "[Iteration 801 / 2424] TRAIN loss: 2.654299\n",
      "[Iteration 851 / 2424] TRAIN loss: 2.771154\n",
      "[Iteration 901 / 2424] TRAIN loss: 2.651522\n",
      "[Epoch 3 / 8] TRAIN acc: 3.135314\n"
     ]
    },
    {
     "name": "stderr",
     "output_type": "stream",
     "text": [
      "\r",
      " 38%|███▊      | 3/8 [10:53<18:09, 217.89s/it]"
     ]
    },
    {
     "name": "stdout",
     "output_type": "stream",
     "text": [
      "[Epoch 3 / 8] VAL acc: 1.516129\n",
      "[Iteration 951 / 2424] TRAIN loss: 2.678198\n",
      "[Iteration 1001 / 2424] TRAIN loss: 2.682202\n",
      "[Iteration 1051 / 2424] TRAIN loss: 2.755430\n",
      "[Iteration 1101 / 2424] TRAIN loss: 2.567806\n",
      "[Iteration 1151 / 2424] TRAIN loss: 2.722763\n",
      "[Iteration 1201 / 2424] TRAIN loss: 2.662814\n",
      "[Epoch 4 / 8] TRAIN acc: 3.102310\n"
     ]
    },
    {
     "name": "stderr",
     "output_type": "stream",
     "text": [
      "\r",
      " 50%|█████     | 4/8 [14:31<14:31, 217.94s/it]"
     ]
    },
    {
     "name": "stdout",
     "output_type": "stream",
     "text": [
      "[Epoch 4 / 8] VAL acc: 1.623656\n",
      "[Iteration 1251 / 2424] TRAIN loss: 2.728133\n",
      "[Iteration 1301 / 2424] TRAIN loss: 2.809321\n",
      "[Iteration 1351 / 2424] TRAIN loss: 2.635639\n",
      "[Iteration 1401 / 2424] TRAIN loss: 2.721706\n",
      "[Iteration 1451 / 2424] TRAIN loss: 2.749979\n",
      "[Iteration 1501 / 2424] TRAIN loss: 2.645045\n",
      "[Epoch 5 / 8] TRAIN acc: 3.382838\n"
     ]
    },
    {
     "name": "stderr",
     "output_type": "stream",
     "text": [
      "\r",
      " 62%|██████▎   | 5/8 [18:09<10:53, 217.99s/it]"
     ]
    },
    {
     "name": "stdout",
     "output_type": "stream",
     "text": [
      "[Epoch 5 / 8] VAL acc: 1.591398\n",
      "[Iteration 1551 / 2424] TRAIN loss: 2.699441\n",
      "[Iteration 1601 / 2424] TRAIN loss: 2.708267\n",
      "[Iteration 1651 / 2424] TRAIN loss: 2.743096\n",
      "[Iteration 1701 / 2424] TRAIN loss: 2.672343\n",
      "[Iteration 1751 / 2424] TRAIN loss: 2.690572\n",
      "[Iteration 1801 / 2424] TRAIN loss: 2.681288\n",
      "[Epoch 6 / 8] TRAIN acc: 3.336634\n"
     ]
    },
    {
     "name": "stderr",
     "output_type": "stream",
     "text": [
      "\r",
      " 75%|███████▌  | 6/8 [21:47<07:15, 217.96s/it]"
     ]
    },
    {
     "name": "stdout",
     "output_type": "stream",
     "text": [
      "[Epoch 6 / 8] VAL acc: 1.666667\n",
      "[Iteration 1851 / 2424] TRAIN loss: 2.670452\n",
      "[Iteration 1901 / 2424] TRAIN loss: 2.783732\n",
      "[Iteration 1951 / 2424] TRAIN loss: 2.791209\n",
      "[Iteration 2001 / 2424] TRAIN loss: 2.726537\n",
      "[Iteration 2051 / 2424] TRAIN loss: 2.698045\n",
      "[Iteration 2101 / 2424] TRAIN loss: 2.714332\n",
      "[Epoch 7 / 8] TRAIN acc: 3.231023\n"
     ]
    },
    {
     "name": "stderr",
     "output_type": "stream",
     "text": [
      "\r",
      " 88%|████████▊ | 7/8 [25:25<03:37, 217.95s/it]"
     ]
    },
    {
     "name": "stdout",
     "output_type": "stream",
     "text": [
      "[Epoch 7 / 8] VAL acc: 1.688172\n",
      "[Iteration 2151 / 2424] TRAIN loss: 2.727952\n"
     ]
    }
   ],
   "source": [
    "bo.maximize(init_points=2, n_iter=1000, acq='ucb', kappa=5)"
   ]
  },
  {
   "cell_type": "code",
   "execution_count": null,
   "metadata": {
    "collapsed": true
   },
   "outputs": [],
   "source": []
  }
 ],
 "metadata": {
  "kernelspec": {
   "display_name": "Python 3",
   "language": "python",
   "name": "python3"
  },
  "language_info": {
   "codemirror_mode": {
    "name": "ipython",
    "version": 3
   },
   "file_extension": ".py",
   "mimetype": "text/x-python",
   "name": "python",
   "nbconvert_exporter": "python",
   "pygments_lexer": "ipython3",
   "version": "3.6.3"
  }
 },
 "nbformat": 4,
 "nbformat_minor": 1
}
