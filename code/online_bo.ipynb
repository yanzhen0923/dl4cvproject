{
 "cells": [
  {
   "cell_type": "markdown",
   "metadata": {},
   "source": [
    "Image classification with CNNs\n",
    "================\n",
    "\n",
    "The goal of this exercise is to implement a specific CNN architecture with PyTorch and train it on the CIFAR-10 image classification dataset. We will start by introducing the dataset and then implement a `nn.Module` and a useful `Solver` class. Seperating the model from the actual training has proven itself as a sensible design decision. By the end of this exercise you should have succesfully trained your (possible) first CNN model and have a boilerplate `Solver` class which you can reuse for the next exercise and your future research projects.\n",
    "\n",
    "For an inspiration on how to implement a model or the solver class you can have a look at [these](https://github.com/pytorch/examples) PyTorch examples."
   ]
  },
  {
   "cell_type": "code",
   "execution_count": 1,
   "metadata": {},
   "outputs": [],
   "source": [
    "import numpy as np\n",
    "import os\n",
    "from random import choice\n",
    "from string import ascii_uppercase\n",
    "import matplotlib.pyplot as plt\n",
    "import torch\n",
    "from torch.autograd import Variable\n",
    "from yz.data_utils import get_Cancer_datasets\n",
    "from yz.solver import Solver\n",
    "from yz.data_utils import get_balanced_weights\n",
    "from torchvision import models\n",
    "import torch.nn as nn\n",
    "import pandas as pd\n",
    "from bayes_opt import BayesianOptimization\n",
    "\n",
    "csv_full_name = '~/dl4cvproject/data/train.csv'\n",
    "img_folder_full_name = '~/dl4cvproject/data/train256'\n",
    "csv_full_name = os.path.expanduser(csv_full_name)\n",
    "img_folder_full_name = os.path.expanduser(img_folder_full_name)\n",
    "\n",
    "csv_full_name_test = '~/dl4cvproject/data/test.csv'\n",
    "img_folder_full_name_test = '~/dl4cvproject/data/test256'\n",
    "csv_full_name_test = os.path.expanduser(csv_full_name_test)\n",
    "img_folder_full_name_test = os.path.expanduser(img_folder_full_name_test)\n",
    "\n",
    "%matplotlib inline\n",
    "plt.rcParams['figure.figsize'] = (10.0, 8.0) # set default size of plots\n",
    "plt.rcParams['image.interpolation'] = 'nearest'\n",
    "plt.rcParams['image.cmap'] = 'gray'\n",
    "\n",
    "# for auto-reloading external modules\n",
    "# see http://stackoverflow.com/questions/1907993/autoreload-of-modules-in-ipython\n",
    "%load_ext autoreload\n",
    "%autoreload 2"
   ]
  },
  {
   "cell_type": "code",
   "execution_count": 2,
   "metadata": {
    "scrolled": true
   },
   "outputs": [
    {
     "name": "stderr",
     "output_type": "stream",
     "text": [
      "100%|█████████▉| 18563/18577 [00:47<00:00, 390.82it/s]"
     ]
    },
    {
     "name": "stdout",
     "output_type": "stream",
     "text": [
      "transforming...\n"
     ]
    },
    {
     "name": "stderr",
     "output_type": "stream",
     "text": [
      "\n",
      "  0%|          | 0/18577 [00:00<?, ?it/s]\u001b[A\n",
      "100%|██████████| 18577/18577 [00:00<00:00, 1670259.07it/s]\u001b[A"
     ]
    },
    {
     "name": "stdout",
     "output_type": "stream",
     "text": [
      "Done transforming...\n",
      "Getting labels\n",
      "submasking...\n",
      "num_training:13000\n"
     ]
    },
    {
     "name": "stderr",
     "output_type": "stream",
     "text": [
      "\n",
      "  0%|          | 0/12386 [00:00<?, ?it/s]\u001b[A\n",
      "  0%|          | 44/12386 [00:00<00:28, 436.44it/s]\u001b[A"
     ]
    },
    {
     "name": "stdout",
     "output_type": "stream",
     "text": [
      "OK...\n"
     ]
    },
    {
     "name": "stderr",
     "output_type": "stream",
     "text": [
      "\n",
      "  1%|          | 88/12386 [00:00<00:28, 433.14it/s]\u001b[A\n",
      "  1%|          | 132/12386 [00:00<00:28, 434.28it/s]\u001b[A\n",
      "  1%|▏         | 175/12386 [00:00<00:28, 431.65it/s]\u001b[A\n",
      "  2%|▏         | 218/12386 [00:00<00:28, 429.78it/s]\u001b[A\n",
      "  2%|▏         | 260/12386 [00:00<00:28, 428.04it/s]\u001b[A\n",
      "  2%|▏         | 299/12386 [00:00<00:28, 422.57it/s]\u001b[A\n",
      "  3%|▎         | 337/12386 [00:00<00:29, 413.63it/s]\u001b[A\n",
      "  3%|▎         | 375/12386 [00:00<00:29, 406.75it/s]\u001b[A\n",
      "  3%|▎         | 412/12386 [00:01<00:29, 403.11it/s]\u001b[A\n",
      "  4%|▎         | 449/12386 [00:01<00:30, 395.75it/s]\u001b[A\n",
      "  4%|▍         | 488/12386 [00:01<00:30, 394.74it/s]\u001b[A\n",
      "  4%|▍         | 527/12386 [00:01<00:30, 393.74it/s]\u001b[A\n",
      "  5%|▍         | 565/12386 [00:01<00:30, 392.69it/s]\u001b[A\n",
      "  5%|▍         | 608/12386 [00:01<00:29, 395.01it/s]\u001b[A\n",
      "  5%|▌         | 647/12386 [00:01<00:29, 394.66it/s]\u001b[A\n",
      "  6%|▌         | 686/12386 [00:01<00:29, 392.19it/s]\u001b[A\n",
      "  6%|▌         | 728/12386 [00:01<00:29, 393.33it/s]\u001b[A\n",
      "  6%|▌         | 768/12386 [00:01<00:29, 393.28it/s]\u001b[A\n",
      "  7%|▋         | 810/12386 [00:02<00:29, 394.20it/s]\u001b[A\n",
      "  7%|▋         | 854/12386 [00:02<00:29, 396.13it/s]\u001b[A\n",
      "  7%|▋         | 896/12386 [00:02<00:28, 396.91it/s]\u001b[A\n",
      "  8%|▊         | 938/12386 [00:02<00:28, 397.76it/s]\u001b[A\n",
      "  8%|▊         | 980/12386 [00:02<00:28, 397.88it/s]\u001b[A\n",
      "  8%|▊         | 1021/12386 [00:02<00:28, 398.22it/s]\u001b[A\n",
      "  9%|▊         | 1062/12386 [00:02<00:28, 396.38it/s]\u001b[A\n",
      "  9%|▉         | 1105/12386 [00:02<00:28, 397.43it/s]\u001b[A\n",
      "  9%|▉         | 1146/12386 [00:02<00:28, 396.79it/s]\u001b[A\n",
      " 10%|▉         | 1187/12386 [00:02<00:28, 397.09it/s]\u001b[A\n",
      " 10%|▉         | 1227/12386 [00:03<00:28, 393.42it/s]\u001b[A\n",
      " 10%|█         | 1268/12386 [00:03<00:28, 393.58it/s]\u001b[A\n",
      " 11%|█         | 1307/12386 [00:03<00:28, 393.25it/s]\u001b[A\n",
      " 11%|█         | 1347/12386 [00:03<00:28, 393.23it/s]\u001b[A\n",
      " 11%|█         | 1386/12386 [00:03<00:28, 392.77it/s]\u001b[A\n",
      " 12%|█▏        | 1425/12386 [00:03<00:27, 392.24it/s]\u001b[A\n",
      " 12%|█▏        | 1463/12386 [00:03<00:28, 389.03it/s]\u001b[A\n",
      " 12%|█▏        | 1499/12386 [00:03<00:28, 388.05it/s]\u001b[A\n",
      " 12%|█▏        | 1535/12386 [00:03<00:28, 387.27it/s]\u001b[A\n",
      " 13%|█▎        | 1571/12386 [00:04<00:28, 381.23it/s]\u001b[A\n",
      " 13%|█▎        | 1603/12386 [00:04<00:28, 377.78it/s]\u001b[A\n",
      " 13%|█▎        | 1637/12386 [00:04<00:28, 376.87it/s]\u001b[A\n",
      " 13%|█▎        | 1671/12386 [00:04<00:28, 375.65it/s]\u001b[A\n",
      " 14%|█▎        | 1703/12386 [00:04<00:28, 373.98it/s]\u001b[A\n",
      " 14%|█▍        | 1735/12386 [00:04<00:28, 372.08it/s]\u001b[A\n",
      " 14%|█▍        | 1769/12386 [00:04<00:28, 371.35it/s]\u001b[A\n",
      " 15%|█▍        | 1805/12386 [00:04<00:28, 371.01it/s]\u001b[A\n",
      " 15%|█▍        | 1840/12386 [00:04<00:28, 370.57it/s]\u001b[A\n",
      " 15%|█▌        | 1880/12386 [00:05<00:28, 371.05it/s]\u001b[A\n",
      " 15%|█▌        | 1916/12386 [00:05<00:28, 368.84it/s]\u001b[A\n",
      " 16%|█▌        | 1952/12386 [00:05<00:28, 368.51it/s]\u001b[A\n",
      " 16%|█▌        | 1993/12386 [00:05<00:28, 369.19it/s]\u001b[A\n",
      " 16%|█▋        | 2031/12386 [00:05<00:28, 369.32it/s]\u001b[A\n",
      " 17%|█▋        | 2068/12386 [00:05<00:28, 367.78it/s]\u001b[A\n",
      " 17%|█▋        | 2103/12386 [00:05<00:28, 366.85it/s]\u001b[A\n",
      " 17%|█▋        | 2137/12386 [00:05<00:27, 366.41it/s]\u001b[A\n",
      " 18%|█▊        | 2177/12386 [00:05<00:27, 366.81it/s]\u001b[A\n",
      " 18%|█▊        | 2213/12386 [00:06<00:27, 366.68it/s]\u001b[A\n",
      " 18%|█▊        | 2249/12386 [00:06<00:27, 366.39it/s]\u001b[A\n",
      " 18%|█▊        | 2289/12386 [00:06<00:27, 366.84it/s]\u001b[A\n",
      " 19%|█▉        | 2327/12386 [00:06<00:27, 366.97it/s]\u001b[A\n",
      " 19%|█▉        | 2366/12386 [00:06<00:27, 367.19it/s]\u001b[A\n",
      " 19%|█▉        | 2405/12386 [00:06<00:27, 367.54it/s]\u001b[A\n",
      " 20%|█▉        | 2443/12386 [00:06<00:27, 367.43it/s]\u001b[A\n",
      " 20%|██        | 2481/12386 [00:06<00:27, 366.37it/s]\u001b[A\n",
      " 20%|██        | 2518/12386 [00:06<00:26, 366.33it/s]\u001b[A\n",
      " 21%|██        | 2557/12386 [00:06<00:26, 366.56it/s]\u001b[A\n",
      " 21%|██        | 2595/12386 [00:07<00:26, 366.61it/s]\u001b[A\n",
      " 21%|██        | 2632/12386 [00:07<00:26, 366.39it/s]\u001b[A\n",
      " 22%|██▏       | 2673/12386 [00:07<00:26, 366.93it/s]\u001b[A\n",
      " 22%|██▏       | 2713/12386 [00:07<00:26, 367.33it/s]\u001b[A\n",
      " 22%|██▏       | 2752/12386 [00:07<00:26, 366.85it/s]\u001b[A\n",
      " 23%|██▎       | 2789/12386 [00:07<00:26, 366.86it/s]\u001b[A\n",
      " 23%|██▎       | 2832/12386 [00:07<00:25, 367.58it/s]\u001b[A\n",
      " 23%|██▎       | 2871/12386 [00:07<00:25, 367.31it/s]\u001b[A\n",
      " 24%|██▎       | 2911/12386 [00:07<00:25, 367.62it/s]\u001b[A\n",
      " 24%|██▍       | 2953/12386 [00:08<00:25, 368.20it/s]\u001b[A\n",
      " 24%|██▍       | 2992/12386 [00:08<00:25, 368.22it/s]\u001b[A\n",
      " 24%|██▍       | 3031/12386 [00:08<00:25, 368.29it/s]\u001b[A\n",
      " 25%|██▍       | 3070/12386 [00:08<00:25, 368.50it/s]\u001b[A\n",
      " 25%|██▌       | 3112/12386 [00:08<00:25, 369.06it/s]\u001b[A\n",
      " 25%|██▌       | 3152/12386 [00:08<00:25, 369.35it/s]\u001b[A\n",
      " 26%|██▌       | 3192/12386 [00:08<00:24, 369.50it/s]\u001b[A\n",
      " 26%|██▌       | 3232/12386 [00:08<00:24, 369.76it/s]\u001b[A\n",
      "100%|█████████▉| 18563/18577 [01:00<00:00, 309.09it/s][A\n",
      "Exception in thread Thread-4:\n",
      "Traceback (most recent call last):\n",
      "  File \"/home/hpc/pr92no/ga42cih2/anaconda3/lib/python3.6/threading.py\", line 916, in _bootstrap_inner\n",
      "    self.run()\n",
      "  File \"/home/hpc/pr92no/ga42cih2/anaconda3/lib/python3.6/site-packages/tqdm/_tqdm.py\", line 144, in run\n",
      "    for instance in self.tqdm_cls._instances:\n",
      "  File \"/home/hpc/pr92no/ga42cih2/anaconda3/lib/python3.6/_weakrefset.py\", line 60, in __iter__\n",
      "    for itemref in self.data:\n",
      "RuntimeError: Set changed size during iteration\n",
      "\n",
      "100%|██████████| 12386/12386 [00:31<00:00, 387.09it/s]\n"
     ]
    },
    {
     "name": "stdout",
     "output_type": "stream",
     "text": [
      "transforming...\n",
      "Done transforming...\n",
      "Train size: 13000\n",
      "Val size: 1857\n",
      "Test size: 3720\n",
      "upload size: {} 12386\n"
     ]
    }
   ],
   "source": [
    "train_data, val_data, test_data, train_label_list = get_Cancer_datasets(csv_full_name=csv_full_name,img_folder_full_name=img_folder_full_name)\n",
    "test_X, csv_test = get_Cancer_datasets(csv_full_name=csv_full_name_test,img_folder_full_name=img_folder_full_name_test, mode='upload')\n",
    "print(\"Train size: %i\" % len(train_data))\n",
    "print(\"Val size: %i\" % len(val_data))\n",
    "print(\"Test size: %i\" % len(test_data))\n",
    "print(\"upload size: {}\", len(test_X))"
   ]
  },
  {
   "cell_type": "code",
   "execution_count": 3,
   "metadata": {},
   "outputs": [
    {
     "name": "stdout",
     "output_type": "stream",
     "text": [
      "Cuda not available :(---(\n"
     ]
    }
   ],
   "source": [
    "if torch.cuda.is_available():\n",
    "    print('Cuda available')\n",
    "else:\n",
    "    print('Cuda not available :(---(')"
   ]
  },
  {
   "cell_type": "code",
   "execution_count": 4,
   "metadata": {
    "collapsed": true,
    "scrolled": true
   },
   "outputs": [],
   "source": [
    "def target(factor, batch_size, lr_const, lr_exp, weight_decay_const, weight_decay_exp, num_epochs):\n",
    "\n",
    "    batch_size = int(batch_size)\n",
    "    num_epochs = int(num_epochs)\n",
    "    lr_const = int(lr_const)\n",
    "    weight_decay_const = int(weight_decay_const)\n",
    "    \n",
    "    #training\n",
    "    weights = get_balanced_weights(label_list=train_label_list, num_classes=14, factor=factor)\n",
    "    sampler = torch.utils.data.sampler.WeightedRandomSampler(weights, len(weights))\n",
    "    train_loader = torch.utils.data.DataLoader(train_data, batch_size=batch_size, shuffle=False, sampler=sampler, num_workers=8)\n",
    "    val_loader = torch.utils.data.DataLoader(val_data, batch_size=batch_size, shuffle=False, num_workers=8)\n",
    "    \n",
    "    model = models.resnet18(pretrained=True)\n",
    "    in_features = model.fc.in_features\n",
    "    model.fc = nn.Linear(in_features, 14)\n",
    "\n",
    "    lr = lr_const * np.power(10, lr_exp)\n",
    "    weigth_decay = weight_decay_const * np.power(10, weight_decay_exp)    \n",
    "    solver = Solver(optim_args={\"lr\":lr, \"weight_decay\":weigth_decay})\n",
    "    solver.train(model, train_loader, val_loader, log_nth=1, num_epochs=num_epochs)\n",
    "    \n",
    "    #compute local prediction acc\n",
    "    test_loader = torch.utils.data.DataLoader(test_data, batch_size=30, shuffle=False, num_workers=8)\n",
    "    scores = []\n",
    "    for inputs, target in tqdm(test_loader):\n",
    "        inputs, targets = Variable(inputs), Variable(target)\n",
    "        if torch.cuda.is_available:\n",
    "            inputs, targets = inputs.cuda(), targets.cuda()\n",
    "        outputs = model(inputs)\n",
    "        _, preds = torch.max(outputs, 1)\n",
    "        scores.extend((preds == targets).data.cpu().numpy())\n",
    "        \n",
    "    test_acc = np.mean(scores)\n",
    "    \n",
    "    ## generate submission file: submissions/res18_acc_randomsuffix.csv\n",
    "    try:\n",
    "        del csv_test['age']\n",
    "    except KeyError as e:\n",
    "        print(e)\n",
    "    try:\n",
    "        del csv_test['gender']\n",
    "    except KeyError as e:\n",
    "        print(e)\n",
    "    try:\n",
    "        del csv_test['view_position']\n",
    "    except KeyError as e:\n",
    "        print(e)\n",
    "    try:\n",
    "        del csv_test['image_name']\n",
    "    except KeyError as e:\n",
    "        print(e)\n",
    "    try:\n",
    "        del csv_test['detected']\n",
    "    except KeyError as e:\n",
    "        print(e)\n",
    "        \n",
    "    pred_set = set()\n",
    "    for i in tqdm(range(len(test_X))):\n",
    "        tmp_pred_list = [0] * 14\n",
    "        inputs = test_X[i]\n",
    "        inputs = Variable(inputs.unsqueeze(0))\n",
    "        if torch.cuda.is_available:\n",
    "            inputs = inputs.cuda()\n",
    "        for trial in range(1):\n",
    "            outputs = model(inputs)\n",
    "            _, preds = torch.max(outputs, 1)\n",
    "            int_label = preds.data.cpu().numpy().tolist()[0]\n",
    "            tmp_pred_list[int_label] += 1\n",
    "        \n",
    "        pred = tmp_pred_list.index(max(tmp_pred_list))\n",
    "        str_pred = 'class_' + str(pred + 1)\n",
    "        detected.append(str_pred)\n",
    "    \n",
    "    file_name = 'submissions/res18_' + '{:.5f}'.format(test_acc) + '_' + ''.join(choice(ascii_uppercase) for i in range(7)) + '.csv'\n",
    "    csv_test['detected'] = pd.Series(detected)\n",
    "    csv_test.to_csv(file_name, index=False)\n",
    "    \n",
    "    return test_acc\n",
    "\n",
    "    "
   ]
  },
  {
   "cell_type": "markdown",
   "metadata": {},
   "source": [
    "## Bayesian Optimization"
   ]
  },
  {
   "cell_type": "code",
   "execution_count": 5,
   "metadata": {
    "collapsed": true
   },
   "outputs": [],
   "source": [
    "bo = BayesianOptimization(target, {'factor':(0.5, 1), 'batch_size':(40, 100),\n",
    "                                   'lr_const':(1, 10), 'lr_exp':(-3, -7),\n",
    "                                   'weight_decay_const':(1, 10), 'weight_decay_exp':(-1, -6),\n",
    "                                   'num_epochs':(1,2)})"
   ]
  },
  {
   "cell_type": "code",
   "execution_count": 6,
   "metadata": {
    "scrolled": true
   },
   "outputs": [
    {
     "name": "stdout",
     "output_type": "stream",
     "text": [
      "\u001b[31mInitialization\u001b[0m\n",
      "\u001b[94m--------------------------------------------------------------------------------------------------------------------------------------------\u001b[0m\n",
      " Step |   Time |      Value |   batch_size |    factor |   lr_const |    lr_exp |   num_epochs |   weight_decay_const |   weight_decay_exp | \n",
      "weights: [0.058539683853059743, 0.046447823506344618, 0.014026381600760134, 0.032421512927313781, 0.022953674618201931, 0.031499957690940307, 0.022213382799792878, 0.062275084880815082, 0.16067922500953394, 0.089447635120552843, 0.041816266520847266, 0.027518030283374639, 0.045312804726346412, 0.051939374156584117]\n",
      "equivalent_num:\n",
      "17.7375242075\n",
      "21.3659988129\n",
      "55.9792889686\n",
      "28.530931376\n",
      "37.6669800485\n",
      "29.2004607795\n",
      "38.6734994544\n",
      "16.8765480027\n",
      "7.87328202547\n",
      "12.612116552\n",
      "23.2498441856\n",
      "32.5538298252\n",
      "21.7954590734\n",
      "19.5292046829\n"
     ]
    },
    {
     "name": "stderr",
     "output_type": "stream",
     "text": [
      "\r",
      "  0%|          | 0/1 [00:00<?, ?it/s]"
     ]
    },
    {
     "name": "stdout",
     "output_type": "stream",
     "text": [
      "START TRAIN.\n",
      "[Iteration 1 / 184] TRAIN loss: 2.955218\n",
      "[Iteration 2 / 184] TRAIN loss: 3.091810\n",
      "[Iteration 3 / 184] TRAIN loss: 3.658175\n",
      "[Iteration 4 / 184] TRAIN loss: 3.483354\n",
      "[Iteration 5 / 184] TRAIN loss: 3.091158\n",
      "[Iteration 6 / 184] TRAIN loss: 2.994924\n",
      "[Iteration 7 / 184] TRAIN loss: 2.903262\n",
      "[Iteration 8 / 184] TRAIN loss: 2.845353\n",
      "[Iteration 9 / 184] TRAIN loss: 2.687860\n",
      "[Iteration 10 / 184] TRAIN loss: 2.663827\n",
      "[Iteration 11 / 184] TRAIN loss: 2.738294\n",
      "[Iteration 12 / 184] TRAIN loss: 2.464789\n",
      "[Iteration 13 / 184] TRAIN loss: 2.865408\n"
     ]
    },
    {
     "name": "stderr",
     "output_type": "stream",
     "text": [
      "Process Process-8:\n",
      "Process Process-6:\n",
      "Process Process-5:\n",
      "Process Process-4:\n",
      "Process Process-3:\n",
      "Process Process-1:\n",
      "Process Process-7:\n",
      "Process Process-2:\n",
      "Traceback (most recent call last):\n",
      "Traceback (most recent call last):\n",
      "Traceback (most recent call last):\n",
      "Traceback (most recent call last):\n",
      "Traceback (most recent call last):\n",
      "Traceback (most recent call last):\n",
      "  File \"/home/hpc/pr92no/ga42cih2/anaconda3/lib/python3.6/multiprocessing/process.py\", line 258, in _bootstrap\n",
      "    self.run()\n",
      "Traceback (most recent call last):\n",
      "  File \"/home/hpc/pr92no/ga42cih2/anaconda3/lib/python3.6/multiprocessing/process.py\", line 258, in _bootstrap\n",
      "    self.run()\n",
      "  File \"/home/hpc/pr92no/ga42cih2/anaconda3/lib/python3.6/multiprocessing/process.py\", line 258, in _bootstrap\n",
      "    self.run()\n",
      "  File \"/home/hpc/pr92no/ga42cih2/anaconda3/lib/python3.6/multiprocessing/process.py\", line 258, in _bootstrap\n",
      "    self.run()\n",
      "  File \"/home/hpc/pr92no/ga42cih2/anaconda3/lib/python3.6/multiprocessing/process.py\", line 258, in _bootstrap\n",
      "    self.run()\n",
      "  File \"/home/hpc/pr92no/ga42cih2/anaconda3/lib/python3.6/multiprocessing/process.py\", line 93, in run\n",
      "    self._target(*self._args, **self._kwargs)\n",
      "  File \"/home/hpc/pr92no/ga42cih2/anaconda3/lib/python3.6/multiprocessing/process.py\", line 258, in _bootstrap\n",
      "    self.run()\n",
      "  File \"/home/hpc/pr92no/ga42cih2/anaconda3/lib/python3.6/multiprocessing/process.py\", line 258, in _bootstrap\n",
      "    self.run()\n",
      "  File \"/home/hpc/pr92no/ga42cih2/anaconda3/lib/python3.6/multiprocessing/process.py\", line 93, in run\n",
      "    self._target(*self._args, **self._kwargs)\n",
      "  File \"/home/hpc/pr92no/ga42cih2/anaconda3/lib/python3.6/multiprocessing/process.py\", line 93, in run\n",
      "    self._target(*self._args, **self._kwargs)\n",
      "  File \"/home/hpc/pr92no/ga42cih2/anaconda3/lib/python3.6/multiprocessing/process.py\", line 93, in run\n",
      "    self._target(*self._args, **self._kwargs)\n",
      "  File \"/home/hpc/pr92no/ga42cih2/anaconda3/lib/python3.6/site-packages/torch/utils/data/dataloader.py\", line 36, in _worker_loop\n",
      "    r = index_queue.get()\n",
      "  File \"/home/hpc/pr92no/ga42cih2/anaconda3/lib/python3.6/multiprocessing/process.py\", line 93, in run\n",
      "    self._target(*self._args, **self._kwargs)\n",
      "  File \"/home/hpc/pr92no/ga42cih2/anaconda3/lib/python3.6/multiprocessing/process.py\", line 93, in run\n",
      "    self._target(*self._args, **self._kwargs)\n",
      "  File \"/home/hpc/pr92no/ga42cih2/anaconda3/lib/python3.6/multiprocessing/process.py\", line 93, in run\n",
      "    self._target(*self._args, **self._kwargs)\n",
      "  File \"/home/hpc/pr92no/ga42cih2/anaconda3/lib/python3.6/site-packages/torch/utils/data/dataloader.py\", line 36, in _worker_loop\n",
      "    r = index_queue.get()\n",
      "  File \"/home/hpc/pr92no/ga42cih2/anaconda3/lib/python3.6/site-packages/torch/utils/data/dataloader.py\", line 36, in _worker_loop\n",
      "    r = index_queue.get()\n",
      "  File \"/home/hpc/pr92no/ga42cih2/anaconda3/lib/python3.6/site-packages/torch/utils/data/dataloader.py\", line 36, in _worker_loop\n",
      "    r = index_queue.get()\n",
      "  File \"/home/hpc/pr92no/ga42cih2/anaconda3/lib/python3.6/site-packages/torch/utils/data/dataloader.py\", line 36, in _worker_loop\n",
      "    r = index_queue.get()\n",
      "  File \"/home/hpc/pr92no/ga42cih2/anaconda3/lib/python3.6/site-packages/torch/utils/data/dataloader.py\", line 36, in _worker_loop\n",
      "    r = index_queue.get()\n",
      "  File \"/home/hpc/pr92no/ga42cih2/anaconda3/lib/python3.6/multiprocessing/queues.py\", line 334, in get\n",
      "    with self._rlock:\n",
      "  File \"/home/hpc/pr92no/ga42cih2/anaconda3/lib/python3.6/multiprocessing/queues.py\", line 334, in get\n",
      "    with self._rlock:\n",
      "  File \"/home/hpc/pr92no/ga42cih2/anaconda3/lib/python3.6/multiprocessing/queues.py\", line 334, in get\n",
      "    with self._rlock:\n",
      "  File \"/home/hpc/pr92no/ga42cih2/anaconda3/lib/python3.6/multiprocessing/queues.py\", line 334, in get\n",
      "    with self._rlock:\n",
      "  File \"/home/hpc/pr92no/ga42cih2/anaconda3/lib/python3.6/multiprocessing/queues.py\", line 334, in get\n",
      "    with self._rlock:\n",
      "  File \"/home/hpc/pr92no/ga42cih2/anaconda3/lib/python3.6/site-packages/torch/utils/data/dataloader.py\", line 36, in _worker_loop\n",
      "    r = index_queue.get()\n",
      "  File \"/home/hpc/pr92no/ga42cih2/anaconda3/lib/python3.6/multiprocessing/queues.py\", line 334, in get\n",
      "    with self._rlock:\n",
      "  File \"/home/hpc/pr92no/ga42cih2/anaconda3/lib/python3.6/multiprocessing/synchronize.py\", line 96, in __enter__\n",
      "    return self._semlock.__enter__()\n",
      "  File \"/home/hpc/pr92no/ga42cih2/anaconda3/lib/python3.6/multiprocessing/synchronize.py\", line 96, in __enter__\n",
      "    return self._semlock.__enter__()\n",
      "  File \"/home/hpc/pr92no/ga42cih2/anaconda3/lib/python3.6/multiprocessing/synchronize.py\", line 96, in __enter__\n",
      "    return self._semlock.__enter__()\n",
      "  File \"/home/hpc/pr92no/ga42cih2/anaconda3/lib/python3.6/multiprocessing/synchronize.py\", line 96, in __enter__\n",
      "    return self._semlock.__enter__()\n",
      "  File \"/home/hpc/pr92no/ga42cih2/anaconda3/lib/python3.6/multiprocessing/synchronize.py\", line 96, in __enter__\n",
      "    return self._semlock.__enter__()\n",
      "  File \"/home/hpc/pr92no/ga42cih2/anaconda3/lib/python3.6/multiprocessing/synchronize.py\", line 96, in __enter__\n",
      "    return self._semlock.__enter__()\n",
      "  File \"/home/hpc/pr92no/ga42cih2/anaconda3/lib/python3.6/multiprocessing/queues.py\", line 334, in get\n",
      "    with self._rlock:\n",
      "KeyboardInterrupt\n",
      "KeyboardInterrupt\n",
      "KeyboardInterrupt\n",
      "KeyboardInterrupt\n",
      "KeyboardInterrupt\n",
      "KeyboardInterrupt\n",
      "  File \"/home/hpc/pr92no/ga42cih2/anaconda3/lib/python3.6/multiprocessing/synchronize.py\", line 96, in __enter__\n",
      "    return self._semlock.__enter__()\n",
      "KeyboardInterrupt\n",
      "Traceback (most recent call last):\n",
      "  File \"/home/hpc/pr92no/ga42cih2/anaconda3/lib/python3.6/multiprocessing/process.py\", line 258, in _bootstrap\n",
      "    self.run()\n",
      "  File \"/home/hpc/pr92no/ga42cih2/anaconda3/lib/python3.6/multiprocessing/process.py\", line 93, in run\n",
      "    self._target(*self._args, **self._kwargs)\n",
      "  File \"/home/hpc/pr92no/ga42cih2/anaconda3/lib/python3.6/site-packages/torch/utils/data/dataloader.py\", line 36, in _worker_loop\n",
      "    r = index_queue.get()\n",
      "  File \"/home/hpc/pr92no/ga42cih2/anaconda3/lib/python3.6/multiprocessing/queues.py\", line 335, in get\n",
      "    res = self._reader.recv_bytes()\n",
      "  File \"/home/hpc/pr92no/ga42cih2/anaconda3/lib/python3.6/multiprocessing/connection.py\", line 216, in recv_bytes\n",
      "    buf = self._recv_bytes(maxlength)\n",
      "  File \"/home/hpc/pr92no/ga42cih2/anaconda3/lib/python3.6/multiprocessing/connection.py\", line 407, in _recv_bytes\n",
      "    buf = self._recv(4)\n",
      "  File \"/home/hpc/pr92no/ga42cih2/anaconda3/lib/python3.6/multiprocessing/connection.py\", line 379, in _recv\n",
      "    chunk = read(handle, remaining)\n",
      "KeyboardInterrupt\n"
     ]
    },
    {
     "ename": "KeyboardInterrupt",
     "evalue": "",
     "output_type": "error",
     "traceback": [
      "\u001b[0;31m---------------------------------------------------------------------------\u001b[0m",
      "\u001b[0;31mKeyboardInterrupt\u001b[0m                         Traceback (most recent call last)",
      "\u001b[0;32m<ipython-input-6-67ed81bee3d0>\u001b[0m in \u001b[0;36m<module>\u001b[0;34m()\u001b[0m\n\u001b[0;32m----> 1\u001b[0;31m \u001b[0mbo\u001b[0m\u001b[0;34m.\u001b[0m\u001b[0mmaximize\u001b[0m\u001b[0;34m(\u001b[0m\u001b[0minit_points\u001b[0m\u001b[0;34m=\u001b[0m\u001b[0;36m2\u001b[0m\u001b[0;34m,\u001b[0m \u001b[0mn_iter\u001b[0m\u001b[0;34m=\u001b[0m\u001b[0;36m0\u001b[0m\u001b[0;34m,\u001b[0m \u001b[0macq\u001b[0m\u001b[0;34m=\u001b[0m\u001b[0;34m'ucb'\u001b[0m\u001b[0;34m,\u001b[0m \u001b[0mkappa\u001b[0m\u001b[0;34m=\u001b[0m\u001b[0;36m5\u001b[0m\u001b[0;34m)\u001b[0m\u001b[0;34m\u001b[0m\u001b[0m\n\u001b[0m",
      "\u001b[0;32m~/anaconda3/lib/python3.6/site-packages/bayes_opt/bayesian_optimization.py\u001b[0m in \u001b[0;36mmaximize\u001b[0;34m(self, init_points, n_iter, acq, kappa, xi, **gp_params)\u001b[0m\n\u001b[1;32m    268\u001b[0m             \u001b[0;32mif\u001b[0m \u001b[0mself\u001b[0m\u001b[0;34m.\u001b[0m\u001b[0mverbose\u001b[0m\u001b[0;34m:\u001b[0m\u001b[0;34m\u001b[0m\u001b[0m\n\u001b[1;32m    269\u001b[0m                 \u001b[0mself\u001b[0m\u001b[0;34m.\u001b[0m\u001b[0mplog\u001b[0m\u001b[0;34m.\u001b[0m\u001b[0mprint_header\u001b[0m\u001b[0;34m(\u001b[0m\u001b[0;34m)\u001b[0m\u001b[0;34m\u001b[0m\u001b[0m\n\u001b[0;32m--> 270\u001b[0;31m             \u001b[0mself\u001b[0m\u001b[0;34m.\u001b[0m\u001b[0minit\u001b[0m\u001b[0;34m(\u001b[0m\u001b[0minit_points\u001b[0m\u001b[0;34m)\u001b[0m\u001b[0;34m\u001b[0m\u001b[0m\n\u001b[0m\u001b[1;32m    271\u001b[0m \u001b[0;34m\u001b[0m\u001b[0m\n\u001b[1;32m    272\u001b[0m         \u001b[0my_max\u001b[0m \u001b[0;34m=\u001b[0m \u001b[0mself\u001b[0m\u001b[0;34m.\u001b[0m\u001b[0mY\u001b[0m\u001b[0;34m.\u001b[0m\u001b[0mmax\u001b[0m\u001b[0;34m(\u001b[0m\u001b[0;34m)\u001b[0m\u001b[0;34m\u001b[0m\u001b[0m\n",
      "\u001b[0;32m~/anaconda3/lib/python3.6/site-packages/bayes_opt/bayesian_optimization.py\u001b[0m in \u001b[0;36minit\u001b[0;34m(self, init_points)\u001b[0m\n\u001b[1;32m    111\u001b[0m         \u001b[0;32mfor\u001b[0m \u001b[0mx\u001b[0m \u001b[0;32min\u001b[0m \u001b[0mself\u001b[0m\u001b[0;34m.\u001b[0m\u001b[0minit_points\u001b[0m\u001b[0;34m:\u001b[0m\u001b[0;34m\u001b[0m\u001b[0m\n\u001b[1;32m    112\u001b[0m             \u001b[0mself\u001b[0m\u001b[0;34m.\u001b[0m\u001b[0mX\u001b[0m \u001b[0;34m=\u001b[0m \u001b[0mnp\u001b[0m\u001b[0;34m.\u001b[0m\u001b[0mvstack\u001b[0m\u001b[0;34m(\u001b[0m\u001b[0;34m(\u001b[0m\u001b[0mself\u001b[0m\u001b[0;34m.\u001b[0m\u001b[0mX\u001b[0m\u001b[0;34m,\u001b[0m \u001b[0mnp\u001b[0m\u001b[0;34m.\u001b[0m\u001b[0masarray\u001b[0m\u001b[0;34m(\u001b[0m\u001b[0mx\u001b[0m\u001b[0;34m)\u001b[0m\u001b[0;34m.\u001b[0m\u001b[0mreshape\u001b[0m\u001b[0;34m(\u001b[0m\u001b[0;34m(\u001b[0m\u001b[0;36m1\u001b[0m\u001b[0;34m,\u001b[0m \u001b[0;34m-\u001b[0m\u001b[0;36m1\u001b[0m\u001b[0;34m)\u001b[0m\u001b[0;34m)\u001b[0m\u001b[0;34m)\u001b[0m\u001b[0;34m)\u001b[0m\u001b[0;34m\u001b[0m\u001b[0m\n\u001b[0;32m--> 113\u001b[0;31m             \u001b[0mself\u001b[0m\u001b[0;34m.\u001b[0m\u001b[0mY\u001b[0m \u001b[0;34m=\u001b[0m \u001b[0mnp\u001b[0m\u001b[0;34m.\u001b[0m\u001b[0mappend\u001b[0m\u001b[0;34m(\u001b[0m\u001b[0mself\u001b[0m\u001b[0;34m.\u001b[0m\u001b[0mY\u001b[0m\u001b[0;34m,\u001b[0m \u001b[0mself\u001b[0m\u001b[0;34m.\u001b[0m\u001b[0mf\u001b[0m\u001b[0;34m(\u001b[0m\u001b[0;34m**\u001b[0m\u001b[0mdict\u001b[0m\u001b[0;34m(\u001b[0m\u001b[0mzip\u001b[0m\u001b[0;34m(\u001b[0m\u001b[0mself\u001b[0m\u001b[0;34m.\u001b[0m\u001b[0mkeys\u001b[0m\u001b[0;34m,\u001b[0m \u001b[0mx\u001b[0m\u001b[0;34m)\u001b[0m\u001b[0;34m)\u001b[0m\u001b[0;34m)\u001b[0m\u001b[0;34m)\u001b[0m\u001b[0;34m\u001b[0m\u001b[0m\n\u001b[0m\u001b[1;32m    114\u001b[0m \u001b[0;34m\u001b[0m\u001b[0m\n\u001b[1;32m    115\u001b[0m             \u001b[0;32mif\u001b[0m \u001b[0mself\u001b[0m\u001b[0;34m.\u001b[0m\u001b[0mverbose\u001b[0m\u001b[0;34m:\u001b[0m\u001b[0;34m\u001b[0m\u001b[0m\n",
      "\u001b[0;32m<ipython-input-4-ab8e2081d2ed>\u001b[0m in \u001b[0;36mtarget\u001b[0;34m(factor, batch_size, lr_const, lr_exp, weight_decay_const, weight_decay_exp, num_epochs)\u001b[0m\n\u001b[1;32m     19\u001b[0m     \u001b[0mweigth_decay\u001b[0m \u001b[0;34m=\u001b[0m \u001b[0mweight_decay_const\u001b[0m \u001b[0;34m*\u001b[0m \u001b[0mnp\u001b[0m\u001b[0;34m.\u001b[0m\u001b[0mpower\u001b[0m\u001b[0;34m(\u001b[0m\u001b[0;36m10\u001b[0m\u001b[0;34m,\u001b[0m \u001b[0mweight_decay_exp\u001b[0m\u001b[0;34m)\u001b[0m\u001b[0;34m\u001b[0m\u001b[0m\n\u001b[1;32m     20\u001b[0m     \u001b[0msolver\u001b[0m \u001b[0;34m=\u001b[0m \u001b[0mSolver\u001b[0m\u001b[0;34m(\u001b[0m\u001b[0moptim_args\u001b[0m\u001b[0;34m=\u001b[0m\u001b[0;34m{\u001b[0m\u001b[0;34m\"lr\"\u001b[0m\u001b[0;34m:\u001b[0m\u001b[0mlr\u001b[0m\u001b[0;34m,\u001b[0m \u001b[0;34m\"weight_decay\"\u001b[0m\u001b[0;34m:\u001b[0m\u001b[0mweigth_decay\u001b[0m\u001b[0;34m}\u001b[0m\u001b[0;34m)\u001b[0m\u001b[0;34m\u001b[0m\u001b[0m\n\u001b[0;32m---> 21\u001b[0;31m     \u001b[0msolver\u001b[0m\u001b[0;34m.\u001b[0m\u001b[0mtrain\u001b[0m\u001b[0;34m(\u001b[0m\u001b[0mmodel\u001b[0m\u001b[0;34m,\u001b[0m \u001b[0mtrain_loader\u001b[0m\u001b[0;34m,\u001b[0m \u001b[0mval_loader\u001b[0m\u001b[0;34m,\u001b[0m \u001b[0mlog_nth\u001b[0m\u001b[0;34m=\u001b[0m\u001b[0;36m1\u001b[0m\u001b[0;34m,\u001b[0m \u001b[0mnum_epochs\u001b[0m\u001b[0;34m=\u001b[0m\u001b[0mnum_epochs\u001b[0m\u001b[0;34m)\u001b[0m\u001b[0;34m\u001b[0m\u001b[0m\n\u001b[0m\u001b[1;32m     22\u001b[0m \u001b[0;34m\u001b[0m\u001b[0m\n\u001b[1;32m     23\u001b[0m     \u001b[0;31m#compute local prediction acc\u001b[0m\u001b[0;34m\u001b[0m\u001b[0;34m\u001b[0m\u001b[0m\n",
      "\u001b[0;32m~/dl4cvproject/code/yz/solver.py\u001b[0m in \u001b[0;36mtrain\u001b[0;34m(self, model, train_loader, val_loader, num_epochs, log_nth)\u001b[0m\n\u001b[1;32m    119\u001b[0m \u001b[0;34m\u001b[0m\u001b[0m\n\u001b[1;32m    120\u001b[0m                     \u001b[0;32mif\u001b[0m \u001b[0mphase\u001b[0m \u001b[0;34m==\u001b[0m \u001b[0;34m'train'\u001b[0m\u001b[0;34m:\u001b[0m\u001b[0;34m\u001b[0m\u001b[0m\n\u001b[0;32m--> 121\u001b[0;31m                         \u001b[0mloss\u001b[0m\u001b[0;34m.\u001b[0m\u001b[0mbackward\u001b[0m\u001b[0;34m(\u001b[0m\u001b[0;34m)\u001b[0m\u001b[0;34m\u001b[0m\u001b[0m\n\u001b[0m\u001b[1;32m    122\u001b[0m                         \u001b[0moptim\u001b[0m\u001b[0;34m.\u001b[0m\u001b[0mstep\u001b[0m\u001b[0;34m(\u001b[0m\u001b[0;34m)\u001b[0m\u001b[0;34m\u001b[0m\u001b[0m\n\u001b[1;32m    123\u001b[0m \u001b[0;34m\u001b[0m\u001b[0m\n",
      "\u001b[0;32m~/anaconda3/lib/python3.6/site-packages/torch/autograd/variable.py\u001b[0m in \u001b[0;36mbackward\u001b[0;34m(self, gradient, retain_graph, create_graph, retain_variables)\u001b[0m\n\u001b[1;32m    165\u001b[0m                 \u001b[0mVariable\u001b[0m\u001b[0;34m.\u001b[0m\u001b[0;34m\u001b[0m\u001b[0m\n\u001b[1;32m    166\u001b[0m         \"\"\"\n\u001b[0;32m--> 167\u001b[0;31m         \u001b[0mtorch\u001b[0m\u001b[0;34m.\u001b[0m\u001b[0mautograd\u001b[0m\u001b[0;34m.\u001b[0m\u001b[0mbackward\u001b[0m\u001b[0;34m(\u001b[0m\u001b[0mself\u001b[0m\u001b[0;34m,\u001b[0m \u001b[0mgradient\u001b[0m\u001b[0;34m,\u001b[0m \u001b[0mretain_graph\u001b[0m\u001b[0;34m,\u001b[0m \u001b[0mcreate_graph\u001b[0m\u001b[0;34m,\u001b[0m \u001b[0mretain_variables\u001b[0m\u001b[0;34m)\u001b[0m\u001b[0;34m\u001b[0m\u001b[0m\n\u001b[0m\u001b[1;32m    168\u001b[0m \u001b[0;34m\u001b[0m\u001b[0m\n\u001b[1;32m    169\u001b[0m     \u001b[0;32mdef\u001b[0m \u001b[0mregister_hook\u001b[0m\u001b[0;34m(\u001b[0m\u001b[0mself\u001b[0m\u001b[0;34m,\u001b[0m \u001b[0mhook\u001b[0m\u001b[0;34m)\u001b[0m\u001b[0;34m:\u001b[0m\u001b[0;34m\u001b[0m\u001b[0m\n",
      "\u001b[0;32m~/anaconda3/lib/python3.6/site-packages/torch/autograd/__init__.py\u001b[0m in \u001b[0;36mbackward\u001b[0;34m(variables, grad_variables, retain_graph, create_graph, retain_variables)\u001b[0m\n\u001b[1;32m     97\u001b[0m \u001b[0;34m\u001b[0m\u001b[0m\n\u001b[1;32m     98\u001b[0m     Variable._execution_engine.run_backward(\n\u001b[0;32m---> 99\u001b[0;31m         variables, grad_variables, retain_graph)\n\u001b[0m\u001b[1;32m    100\u001b[0m \u001b[0;34m\u001b[0m\u001b[0m\n\u001b[1;32m    101\u001b[0m \u001b[0;34m\u001b[0m\u001b[0m\n",
      "\u001b[0;31mKeyboardInterrupt\u001b[0m: "
     ]
    }
   ],
   "source": [
    "bo.maximize(init_points=2, n_iter=0, acq='ucb', kappa=5)"
   ]
  },
  {
   "cell_type": "code",
   "execution_count": null,
   "metadata": {
    "collapsed": true
   },
   "outputs": [],
   "source": []
  }
 ],
 "metadata": {
  "kernelspec": {
   "display_name": "Python 3",
   "language": "python",
   "name": "python3"
  },
  "language_info": {
   "codemirror_mode": {
    "name": "ipython",
    "version": 3
   },
   "file_extension": ".py",
   "mimetype": "text/x-python",
   "name": "python",
   "nbconvert_exporter": "python",
   "pygments_lexer": "ipython3",
   "version": "3.6.4"
  }
 },
 "nbformat": 4,
 "nbformat_minor": 1
}
